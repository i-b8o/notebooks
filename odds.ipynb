{
  "nbformat": 4,
  "nbformat_minor": 0,
  "metadata": {
    "colab": {
      "provenance": [],
      "collapsed_sections": []
    },
    "kernelspec": {
      "display_name": "Python 3",
      "name": "python3"
    },
    "widgets": {
      "application/vnd.jupyter.widget-state+json": {
        "a03c4b5debac4d61b3490560f1aa7e3d": {
          "model_module": "catboost-widget",
          "model_name": "CatboostWidgetModel",
          "state": {
            "_view_name": "CatboostWidgetView",
            "_dom_classes": [],
            "_model_name": "CatboostWidgetModel",
            "data": {
              "catboost_info": {
                "content": {
                  "data": {
                    "meta": {
                      "name": "experiment",
                      "parameters": "",
                      "test_metrics": [
                        {
                          "best_value": "Min",
                          "name": "Logloss"
                        }
                      ],
                      "learn_sets": [
                        "learn"
                      ],
                      "launch_mode": "Train",
                      "learn_metrics": [
                        {
                          "best_value": "Min",
                          "name": "Logloss"
                        }
                      ],
                      "iteration_count": 1000,
                      "test_sets": [
                        "test"
                      ]
                    },
                    "iterations": [
                      {
                        "test": [
                          0.6554477337
                        ],
                        "passed_time": 0.1623230437,
                        "iteration": 0,
                        "remaining_time": 162.1607207,
                        "learn": [
                          0.6556989003
                        ]
                      },
                      {
                        "test": [
                          0.6252697259
                        ],
                        "passed_time": 0.2543589815,
                        "iteration": 1,
                        "remaining_time": 126.9251318,
                        "learn": [
                          0.6257933462
                        ]
                      },
                      {
                        "test": [
                          0.6023242538
                        ],
                        "passed_time": 0.3344677499,
                        "iteration": 2,
                        "remaining_time": 111.1547822,
                        "learn": [
                          0.6033021631
                        ]
                      },
                      {
                        "test": [
                          0.5836171863
                        ],
                        "passed_time": 0.3963164226,
                        "iteration": 3,
                        "remaining_time": 98.68278923,
                        "learn": [
                          0.5849718114
                        ]
                      },
                      {
                        "test": [
                          0.566228271
                        ],
                        "passed_time": 0.4799311342,
                        "iteration": 4,
                        "remaining_time": 95.5062957,
                        "learn": [
                          0.5678536177
                        ]
                      },
                      {
                        "test": [
                          0.5541890625
                        ],
                        "passed_time": 0.5572669187,
                        "iteration": 5,
                        "remaining_time": 92.32055286,
                        "learn": [
                          0.555870682
                        ]
                      },
                      {
                        "test": [
                          0.5426041499
                        ],
                        "passed_time": 0.6490286655,
                        "iteration": 6,
                        "remaining_time": 92.06935212,
                        "learn": [
                          0.5443059888
                        ]
                      },
                      {
                        "test": [
                          0.534564846
                        ],
                        "passed_time": 0.6948397872,
                        "iteration": 7,
                        "remaining_time": 86.16013362,
                        "learn": [
                          0.5361814327
                        ]
                      },
                      {
                        "test": [
                          0.5271386847
                        ],
                        "passed_time": 0.7801813492,
                        "iteration": 8,
                        "remaining_time": 85.90663523,
                        "learn": [
                          0.5288560311
                        ]
                      },
                      {
                        "test": [
                          0.5209703992
                        ],
                        "passed_time": 0.8830082539,
                        "iteration": 9,
                        "remaining_time": 87.41781713,
                        "learn": [
                          0.5227068022
                        ]
                      },
                      {
                        "test": [
                          0.5158778245
                        ],
                        "passed_time": 0.9606725555,
                        "iteration": 10,
                        "remaining_time": 86.37319613,
                        "learn": [
                          0.5176546863
                        ]
                      },
                      {
                        "test": [
                          0.5108563941
                        ],
                        "passed_time": 1.040579724,
                        "iteration": 11,
                        "remaining_time": 85.67439724,
                        "learn": [
                          0.5127545015
                        ]
                      },
                      {
                        "test": [
                          0.5083044479
                        ],
                        "passed_time": 1.075651914,
                        "iteration": 12,
                        "remaining_time": 81.66680298,
                        "learn": [
                          0.510445852
                        ]
                      },
                      {
                        "test": [
                          0.5052714132
                        ],
                        "passed_time": 1.153011507,
                        "iteration": 13,
                        "remaining_time": 81.20495327,
                        "learn": [
                          0.5075323922
                        ]
                      },
                      {
                        "test": [
                          0.5029328214
                        ],
                        "passed_time": 1.231206222,
                        "iteration": 14,
                        "remaining_time": 80.84920858,
                        "learn": [
                          0.5051655426
                        ]
                      },
                      {
                        "test": [
                          0.5000220078
                        ],
                        "passed_time": 1.323958866,
                        "iteration": 15,
                        "remaining_time": 81.42347024,
                        "learn": [
                          0.5023123752
                        ]
                      },
                      {
                        "test": [
                          0.4977701149
                        ],
                        "passed_time": 1.396262439,
                        "iteration": 16,
                        "remaining_time": 80.73682223,
                        "learn": [
                          0.5002404898
                        ]
                      },
                      {
                        "test": [
                          0.4965004869
                        ],
                        "passed_time": 1.48300079,
                        "iteration": 17,
                        "remaining_time": 80.90593197,
                        "learn": [
                          0.4991066158
                        ]
                      },
                      {
                        "test": [
                          0.4949042288
                        ],
                        "passed_time": 1.558140224,
                        "iteration": 18,
                        "remaining_time": 80.44923998,
                        "learn": [
                          0.497465905
                        ]
                      },
                      {
                        "test": [
                          0.4937196294
                        ],
                        "passed_time": 1.631022237,
                        "iteration": 19,
                        "remaining_time": 79.92008959,
                        "learn": [
                          0.4963324443
                        ]
                      },
                      {
                        "test": [
                          0.4928560776
                        ],
                        "passed_time": 1.681053986,
                        "iteration": 20,
                        "remaining_time": 78.36913584,
                        "learn": [
                          0.4954697215
                        ]
                      },
                      {
                        "test": [
                          0.4921184123
                        ],
                        "passed_time": 1.76132415,
                        "iteration": 21,
                        "remaining_time": 78.29886448,
                        "learn": [
                          0.4947336066
                        ]
                      },
                      {
                        "test": [
                          0.4911632576
                        ],
                        "passed_time": 1.849716783,
                        "iteration": 22,
                        "remaining_time": 78.57275204,
                        "learn": [
                          0.4936885033
                        ]
                      },
                      {
                        "test": [
                          0.4902629608
                        ],
                        "passed_time": 1.934722268,
                        "iteration": 23,
                        "remaining_time": 78.67870557,
                        "learn": [
                          0.4927370341
                        ]
                      },
                      {
                        "test": [
                          0.4889961925
                        ],
                        "passed_time": 2.014680592,
                        "iteration": 24,
                        "remaining_time": 78.5725431,
                        "learn": [
                          0.4915840545
                        ]
                      },
                      {
                        "test": [
                          0.4877776909
                        ],
                        "passed_time": 2.075207211,
                        "iteration": 25,
                        "remaining_time": 77.74045476,
                        "learn": [
                          0.4905712651
                        ]
                      },
                      {
                        "test": [
                          0.4868349746
                        ],
                        "passed_time": 2.156156887,
                        "iteration": 26,
                        "remaining_time": 77.70150561,
                        "learn": [
                          0.4896059262
                        ]
                      },
                      {
                        "test": [
                          0.4856207818
                        ],
                        "passed_time": 2.223265697,
                        "iteration": 27,
                        "remaining_time": 77.17908064,
                        "learn": [
                          0.4885445089
                        ]
                      },
                      {
                        "test": [
                          0.4847338946
                        ],
                        "passed_time": 2.290486901,
                        "iteration": 28,
                        "remaining_time": 76.69182002,
                        "learn": [
                          0.487794026
                        ]
                      },
                      {
                        "test": [
                          0.4839409825
                        ],
                        "passed_time": 2.350710684,
                        "iteration": 29,
                        "remaining_time": 76.0063121,
                        "learn": [
                          0.4870673136
                        ]
                      },
                      {
                        "test": [
                          0.4832630339
                        ],
                        "passed_time": 2.403874148,
                        "iteration": 30,
                        "remaining_time": 75.14045322,
                        "learn": [
                          0.486487649
                        ]
                      },
                      {
                        "test": [
                          0.4824829409
                        ],
                        "passed_time": 2.474361042,
                        "iteration": 31,
                        "remaining_time": 74.84942151,
                        "learn": [
                          0.485748969
                        ]
                      },
                      {
                        "test": [
                          0.4820232505
                        ],
                        "passed_time": 2.537029018,
                        "iteration": 32,
                        "remaining_time": 74.34263819,
                        "learn": [
                          0.4853402936
                        ]
                      },
                      {
                        "test": [
                          0.4815734093
                        ],
                        "passed_time": 2.606989068,
                        "iteration": 33,
                        "remaining_time": 74.06915998,
                        "learn": [
                          0.4849473099
                        ]
                      },
                      {
                        "test": [
                          0.4807541203
                        ],
                        "passed_time": 2.709470868,
                        "iteration": 34,
                        "remaining_time": 74.70398251,
                        "learn": [
                          0.4841575779
                        ]
                      },
                      {
                        "test": [
                          0.4798126886
                        ],
                        "passed_time": 2.801579105,
                        "iteration": 35,
                        "remaining_time": 75.02006269,
                        "learn": [
                          0.4832959528
                        ]
                      },
                      {
                        "test": [
                          0.4793109203
                        ],
                        "passed_time": 2.889449001,
                        "iteration": 36,
                        "remaining_time": 75.20376723,
                        "learn": [
                          0.4827448706
                        ]
                      },
                      {
                        "test": [
                          0.4787543787
                        ],
                        "passed_time": 2.959899214,
                        "iteration": 37,
                        "remaining_time": 74.93218536,
                        "learn": [
                          0.4822790961
                        ]
                      },
                      {
                        "test": [
                          0.4782717123
                        ],
                        "passed_time": 3.037960736,
                        "iteration": 38,
                        "remaining_time": 74.85846838,
                        "learn": [
                          0.4818488882
                        ]
                      },
                      {
                        "test": [
                          0.4781524187
                        ],
                        "passed_time": 3.125612783,
                        "iteration": 39,
                        "remaining_time": 75.0147068,
                        "learn": [
                          0.4817070108
                        ]
                      },
                      {
                        "test": [
                          0.4776337006
                        ],
                        "passed_time": 3.204439211,
                        "iteration": 40,
                        "remaining_time": 74.95261472,
                        "learn": [
                          0.4812257214
                        ]
                      },
                      {
                        "test": [
                          0.4772948205
                        ],
                        "passed_time": 3.278168029,
                        "iteration": 41,
                        "remaining_time": 74.77345171,
                        "learn": [
                          0.4808650895
                        ]
                      },
                      {
                        "test": [
                          0.4770300081
                        ],
                        "passed_time": 3.337764383,
                        "iteration": 42,
                        "remaining_time": 74.28466314,
                        "learn": [
                          0.4806172817
                        ]
                      },
                      {
                        "test": [
                          0.4768188087
                        ],
                        "passed_time": 3.407309097,
                        "iteration": 43,
                        "remaining_time": 74.03153401,
                        "learn": [
                          0.4803237667
                        ]
                      },
                      {
                        "test": [
                          0.4765193034
                        ],
                        "passed_time": 3.481774316,
                        "iteration": 44,
                        "remaining_time": 73.89098826,
                        "learn": [
                          0.4800222444
                        ]
                      },
                      {
                        "test": [
                          0.4763910361
                        ],
                        "passed_time": 3.56601842,
                        "iteration": 45,
                        "remaining_time": 73.95612115,
                        "learn": [
                          0.4798456559
                        ]
                      },
                      {
                        "test": [
                          0.4762102187
                        ],
                        "passed_time": 3.632397965,
                        "iteration": 46,
                        "remaining_time": 73.65266512,
                        "learn": [
                          0.4796654515
                        ]
                      },
                      {
                        "test": [
                          0.4756277395
                        ],
                        "passed_time": 3.715562753,
                        "iteration": 47,
                        "remaining_time": 73.6919946,
                        "learn": [
                          0.4791608068
                        ]
                      },
                      {
                        "test": [
                          0.4752518053
                        ],
                        "passed_time": 3.785414408,
                        "iteration": 48,
                        "remaining_time": 73.46794086,
                        "learn": [
                          0.4787623014
                        ]
                      },
                      {
                        "test": [
                          0.474856295
                        ],
                        "passed_time": 3.865181883,
                        "iteration": 49,
                        "remaining_time": 73.43845578,
                        "learn": [
                          0.4783255901
                        ]
                      },
                      {
                        "test": [
                          0.4738345174
                        ],
                        "passed_time": 3.972240301,
                        "iteration": 50,
                        "remaining_time": 73.91482442,
                        "learn": [
                          0.4774980773
                        ]
                      },
                      {
                        "test": [
                          0.4735987625
                        ],
                        "passed_time": 4.046014983,
                        "iteration": 51,
                        "remaining_time": 73.76196546,
                        "learn": [
                          0.4772241035
                        ]
                      },
                      {
                        "test": [
                          0.4734421965
                        ],
                        "passed_time": 4.122077842,
                        "iteration": 52,
                        "remaining_time": 73.65297578,
                        "learn": [
                          0.4770800664
                        ]
                      },
                      {
                        "test": [
                          0.4732644995
                        ],
                        "passed_time": 4.190439353,
                        "iteration": 53,
                        "remaining_time": 73.41028941,
                        "learn": [
                          0.4769042281
                        ]
                      },
                      {
                        "test": [
                          0.4729294683
                        ],
                        "passed_time": 4.27580232,
                        "iteration": 54,
                        "remaining_time": 73.46605804,
                        "learn": [
                          0.4766023359
                        ]
                      },
                      {
                        "test": [
                          0.47239235
                        ],
                        "passed_time": 4.364498358,
                        "iteration": 55,
                        "remaining_time": 73.57297231,
                        "learn": [
                          0.4761360005
                        ]
                      },
                      {
                        "test": [
                          0.4723234477
                        ],
                        "passed_time": 4.43706686,
                        "iteration": 56,
                        "remaining_time": 73.40621139,
                        "learn": [
                          0.4759873102
                        ]
                      },
                      {
                        "test": [
                          0.4720387344
                        ],
                        "passed_time": 4.543176965,
                        "iteration": 57,
                        "remaining_time": 73.78746037,
                        "learn": [
                          0.475557597
                        ]
                      },
                      {
                        "test": [
                          0.4718316372
                        ],
                        "passed_time": 4.617077475,
                        "iteration": 58,
                        "remaining_time": 73.63847295,
                        "learn": [
                          0.4752786314
                        ]
                      },
                      {
                        "test": [
                          0.4716767908
                        ],
                        "passed_time": 4.696869656,
                        "iteration": 59,
                        "remaining_time": 73.58429127,
                        "learn": [
                          0.4751494558
                        ]
                      },
                      {
                        "test": [
                          0.4715009763
                        ],
                        "passed_time": 4.775784637,
                        "iteration": 60,
                        "remaining_time": 73.51576679,
                        "learn": [
                          0.4749753176
                        ]
                      },
                      {
                        "test": [
                          0.4713818978
                        ],
                        "passed_time": 4.847385297,
                        "iteration": 61,
                        "remaining_time": 73.33624853,
                        "learn": [
                          0.4748121362
                        ]
                      },
                      {
                        "test": [
                          0.4712869902
                        ],
                        "passed_time": 4.951199896,
                        "iteration": 62,
                        "remaining_time": 73.63927464,
                        "learn": [
                          0.4747026412
                        ]
                      },
                      {
                        "test": [
                          0.4711762396
                        ],
                        "passed_time": 5.029622634,
                        "iteration": 63,
                        "remaining_time": 73.55823102,
                        "learn": [
                          0.4744783361
                        ]
                      },
                      {
                        "test": [
                          0.4708983742
                        ],
                        "passed_time": 5.110976052,
                        "iteration": 64,
                        "remaining_time": 73.51942475,
                        "learn": [
                          0.4741712941
                        ]
                      },
                      {
                        "test": [
                          0.4707119428
                        ],
                        "passed_time": 5.172874947,
                        "iteration": 65,
                        "remaining_time": 73.20401818,
                        "learn": [
                          0.4739407246
                        ]
                      },
                      {
                        "test": [
                          0.4705383587
                        ],
                        "passed_time": 5.236677964,
                        "iteration": 66,
                        "remaining_time": 72.92269464,
                        "learn": [
                          0.4737821545
                        ]
                      },
                      {
                        "test": [
                          0.4704241333
                        ],
                        "passed_time": 5.311896377,
                        "iteration": 67,
                        "remaining_time": 72.80422681,
                        "learn": [
                          0.4736573451
                        ]
                      },
                      {
                        "test": [
                          0.470186699
                        ],
                        "passed_time": 5.383592932,
                        "iteration": 68,
                        "remaining_time": 72.63949303,
                        "learn": [
                          0.4733594397
                        ]
                      },
                      {
                        "test": [
                          0.4701744193
                        ],
                        "passed_time": 5.458558911,
                        "iteration": 69,
                        "remaining_time": 72.52085411,
                        "learn": [
                          0.4733202754
                        ]
                      },
                      {
                        "test": [
                          0.470037937
                        ],
                        "passed_time": 5.533439177,
                        "iteration": 70,
                        "remaining_time": 72.40232387,
                        "learn": [
                          0.4731154156
                        ]
                      },
                      {
                        "test": [
                          0.469940074
                        ],
                        "passed_time": 5.61525684,
                        "iteration": 71,
                        "remaining_time": 72.37442149,
                        "learn": [
                          0.4729792762
                        ]
                      },
                      {
                        "test": [
                          0.4698752597
                        ],
                        "passed_time": 5.686319841,
                        "iteration": 72,
                        "remaining_time": 72.20847251,
                        "learn": [
                          0.4728739593
                        ]
                      },
                      {
                        "test": [
                          0.469821344
                        ],
                        "passed_time": 5.762073073,
                        "iteration": 73,
                        "remaining_time": 72.10377927,
                        "learn": [
                          0.4728086216
                        ]
                      },
                      {
                        "test": [
                          0.4697687891
                        ],
                        "passed_time": 5.839040248,
                        "iteration": 74,
                        "remaining_time": 72.01482972,
                        "learn": [
                          0.4726471309
                        ]
                      },
                      {
                        "test": [
                          0.4697047913
                        ],
                        "passed_time": 5.921725072,
                        "iteration": 75,
                        "remaining_time": 71.99571008,
                        "learn": [
                          0.4725003157
                        ]
                      },
                      {
                        "test": [
                          0.4696744611
                        ],
                        "passed_time": 6.000163686,
                        "iteration": 76,
                        "remaining_time": 71.92404002,
                        "learn": [
                          0.4724550872
                        ]
                      },
                      {
                        "test": [
                          0.4695936759
                        ],
                        "passed_time": 6.075534171,
                        "iteration": 77,
                        "remaining_time": 71.81592955,
                        "learn": [
                          0.4723353809
                        ]
                      },
                      {
                        "test": [
                          0.4694435287
                        ],
                        "passed_time": 6.154629069,
                        "iteration": 78,
                        "remaining_time": 71.75206801,
                        "learn": [
                          0.4720965155
                        ]
                      },
                      {
                        "test": [
                          0.4693530913
                        ],
                        "passed_time": 6.215921095,
                        "iteration": 79,
                        "remaining_time": 71.48309259,
                        "learn": [
                          0.4720042787
                        ]
                      },
                      {
                        "test": [
                          0.4692759642
                        ],
                        "passed_time": 6.275338404,
                        "iteration": 80,
                        "remaining_time": 71.19797522,
                        "learn": [
                          0.4718949693
                        ]
                      },
                      {
                        "test": [
                          0.4690699949
                        ],
                        "passed_time": 6.367132639,
                        "iteration": 81,
                        "remaining_time": 71.28082637,
                        "learn": [
                          0.4716343575
                        ]
                      },
                      {
                        "test": [
                          0.4688136172
                        ],
                        "passed_time": 6.455113223,
                        "iteration": 82,
                        "remaining_time": 71.31733525,
                        "learn": [
                          0.4713554493
                        ]
                      },
                      {
                        "test": [
                          0.4687247874
                        ],
                        "passed_time": 6.519939209,
                        "iteration": 83,
                        "remaining_time": 71.0983847,
                        "learn": [
                          0.4712669034
                        ]
                      },
                      {
                        "test": [
                          0.4686593418
                        ],
                        "passed_time": 6.598633445,
                        "iteration": 84,
                        "remaining_time": 71.03234826,
                        "learn": [
                          0.4711813849
                        ]
                      },
                      {
                        "test": [
                          0.4686210732
                        ],
                        "passed_time": 6.679946511,
                        "iteration": 85,
                        "remaining_time": 70.99385013,
                        "learn": [
                          0.4710685104
                        ]
                      },
                      {
                        "test": [
                          0.4682654962
                        ],
                        "passed_time": 6.770208117,
                        "iteration": 86,
                        "remaining_time": 71.04827598,
                        "learn": [
                          0.4707770777
                        ]
                      },
                      {
                        "test": [
                          0.4681840373
                        ],
                        "passed_time": 6.839587318,
                        "iteration": 87,
                        "remaining_time": 70.88299584,
                        "learn": [
                          0.4706697832
                        ]
                      },
                      {
                        "test": [
                          0.4679926303
                        ],
                        "passed_time": 6.920807543,
                        "iteration": 88,
                        "remaining_time": 70.84107496,
                        "learn": [
                          0.4704530046
                        ]
                      },
                      {
                        "test": [
                          0.4677596842
                        ],
                        "passed_time": 7.025712669,
                        "iteration": 89,
                        "remaining_time": 71.03776143,
                        "learn": [
                          0.4701846591
                        ]
                      },
                      {
                        "test": [
                          0.4677444919
                        ],
                        "passed_time": 7.097819843,
                        "iteration": 90,
                        "remaining_time": 70.90020041,
                        "learn": [
                          0.4701594924
                        ]
                      },
                      {
                        "test": [
                          0.4676743888
                        ],
                        "passed_time": 7.173886388,
                        "iteration": 91,
                        "remaining_time": 70.80313957,
                        "learn": [
                          0.4700596436
                        ]
                      },
                      {
                        "test": [
                          0.4676436549
                        ],
                        "passed_time": 7.234936392,
                        "iteration": 92,
                        "remaining_time": 70.56007858,
                        "learn": [
                          0.4700100767
                        ]
                      },
                      {
                        "test": [
                          0.4674178252
                        ],
                        "passed_time": 7.317755708,
                        "iteration": 93,
                        "remaining_time": 70.53070927,
                        "learn": [
                          0.4697881507
                        ]
                      },
                      {
                        "test": [
                          0.4673678135
                        ],
                        "passed_time": 7.378603605,
                        "iteration": 94,
                        "remaining_time": 70.29090803,
                        "learn": [
                          0.469673122
                        ]
                      },
                      {
                        "test": [
                          0.4671277667
                        ],
                        "passed_time": 7.455172614,
                        "iteration": 95,
                        "remaining_time": 70.20287545,
                        "learn": [
                          0.4694110256
                        ]
                      },
                      {
                        "test": [
                          0.4670363026
                        ],
                        "passed_time": 7.518783707,
                        "iteration": 96,
                        "remaining_time": 69.99445039,
                        "learn": [
                          0.4691816174
                        ]
                      },
                      {
                        "test": [
                          0.4669807915
                        ],
                        "passed_time": 7.586968571,
                        "iteration": 97,
                        "remaining_time": 69.83107807,
                        "learn": [
                          0.4691153761
                        ]
                      },
                      {
                        "test": [
                          0.4668371277
                        ],
                        "passed_time": 7.675159045,
                        "iteration": 98,
                        "remaining_time": 69.85169999,
                        "learn": [
                          0.4689541731
                        ]
                      },
                      {
                        "test": [
                          0.4666194994
                        ],
                        "passed_time": 7.75734265,
                        "iteration": 99,
                        "remaining_time": 69.81608385,
                        "learn": [
                          0.4687440762
                        ]
                      },
                      {
                        "test": [
                          0.4664628289
                        ],
                        "passed_time": 7.843979879,
                        "iteration": 100,
                        "remaining_time": 69.81918724,
                        "learn": [
                          0.4684887054
                        ]
                      },
                      {
                        "test": [
                          0.4662329132
                        ],
                        "passed_time": 7.934831619,
                        "iteration": 101,
                        "remaining_time": 69.85763524,
                        "learn": [
                          0.4681312935
                        ]
                      },
                      {
                        "test": [
                          0.4657203361
                        ],
                        "passed_time": 8.03957549,
                        "iteration": 102,
                        "remaining_time": 70.01455548,
                        "learn": [
                          0.4676194033
                        ]
                      },
                      {
                        "test": [
                          0.4655963028
                        ],
                        "passed_time": 8.114359141,
                        "iteration": 103,
                        "remaining_time": 69.90832491,
                        "learn": [
                          0.4674736629
                        ]
                      },
                      {
                        "test": [
                          0.4654031483
                        ],
                        "passed_time": 8.199434161,
                        "iteration": 104,
                        "remaining_time": 69.890415,
                        "learn": [
                          0.4672362967
                        ]
                      },
                      {
                        "test": [
                          0.4653090782
                        ],
                        "passed_time": 8.278046147,
                        "iteration": 105,
                        "remaining_time": 69.81672883,
                        "learn": [
                          0.4670792987
                        ]
                      },
                      {
                        "test": [
                          0.465206867
                        ],
                        "passed_time": 8.353299668,
                        "iteration": 106,
                        "remaining_time": 69.71492153,
                        "learn": [
                          0.4669408408
                        ]
                      },
                      {
                        "test": [
                          0.46510212
                        ],
                        "passed_time": 8.434290166,
                        "iteration": 107,
                        "remaining_time": 69.66098915,
                        "learn": [
                          0.4668091115
                        ]
                      },
                      {
                        "test": [
                          0.4649782833
                        ],
                        "passed_time": 8.515149704,
                        "iteration": 108,
                        "remaining_time": 69.60548979,
                        "learn": [
                          0.4666196503
                        ]
                      },
                      {
                        "test": [
                          0.4647480522
                        ],
                        "passed_time": 8.608014573,
                        "iteration": 109,
                        "remaining_time": 69.64666336,
                        "learn": [
                          0.4663645185
                        ]
                      },
                      {
                        "test": [
                          0.4646221982
                        ],
                        "passed_time": 8.692872682,
                        "iteration": 110,
                        "remaining_time": 69.62129562,
                        "learn": [
                          0.4662336118
                        ]
                      },
                      {
                        "test": [
                          0.4642430496
                        ],
                        "passed_time": 8.783129701,
                        "iteration": 111,
                        "remaining_time": 69.6376712,
                        "learn": [
                          0.4657814605
                        ]
                      },
                      {
                        "test": [
                          0.4640912862
                        ],
                        "passed_time": 8.856924547,
                        "iteration": 112,
                        "remaining_time": 69.5229387,
                        "learn": [
                          0.4655953025
                        ]
                      },
                      {
                        "test": [
                          0.4638389067
                        ],
                        "passed_time": 8.944376633,
                        "iteration": 113,
                        "remaining_time": 69.51506751,
                        "learn": [
                          0.4653367573
                        ]
                      },
                      {
                        "test": [
                          0.4636388369
                        ],
                        "passed_time": 9.035189544,
                        "iteration": 114,
                        "remaining_time": 69.53167606,
                        "learn": [
                          0.4651045311
                        ]
                      },
                      {
                        "test": [
                          0.4635273474
                        ],
                        "passed_time": 9.111557505,
                        "iteration": 115,
                        "remaining_time": 69.43635202,
                        "learn": [
                          0.4650117911
                        ]
                      },
                      {
                        "test": [
                          0.463397736
                        ],
                        "passed_time": 9.185782509,
                        "iteration": 116,
                        "remaining_time": 69.3251791,
                        "learn": [
                          0.4648840412
                        ]
                      },
                      {
                        "test": [
                          0.4632977537
                        ],
                        "passed_time": 9.252037471,
                        "iteration": 117,
                        "remaining_time": 69.15505974,
                        "learn": [
                          0.4646863562
                        ]
                      },
                      {
                        "test": [
                          0.4633059407
                        ],
                        "passed_time": 9.339352819,
                        "iteration": 118,
                        "remaining_time": 69.14260364,
                        "learn": [
                          0.4646325745
                        ]
                      },
                      {
                        "test": [
                          0.46315949
                        ],
                        "passed_time": 9.399065459,
                        "iteration": 119,
                        "remaining_time": 68.92648004,
                        "learn": [
                          0.464416455
                        ]
                      },
                      {
                        "test": [
                          0.4630957073
                        ],
                        "passed_time": 9.473440084,
                        "iteration": 120,
                        "remaining_time": 68.81945317,
                        "learn": [
                          0.4642667769
                        ]
                      },
                      {
                        "test": [
                          0.4630269094
                        ],
                        "passed_time": 9.540168296,
                        "iteration": 121,
                        "remaining_time": 68.65793249,
                        "learn": [
                          0.4641607405
                        ]
                      },
                      {
                        "test": [
                          0.4628166478
                        ],
                        "passed_time": 9.606951986,
                        "iteration": 122,
                        "remaining_time": 68.49834871,
                        "learn": [
                          0.463969073
                        ]
                      },
                      {
                        "test": [
                          0.4627489757
                        ],
                        "passed_time": 9.671716298,
                        "iteration": 123,
                        "remaining_time": 68.32599579,
                        "learn": [
                          0.4638654689
                        ]
                      },
                      {
                        "test": [
                          0.4613107091
                        ],
                        "passed_time": 9.774587398,
                        "iteration": 124,
                        "remaining_time": 68.42211178,
                        "learn": [
                          0.4627576458
                        ]
                      },
                      {
                        "test": [
                          0.4611933071
                        ],
                        "passed_time": 9.86122053,
                        "iteration": 125,
                        "remaining_time": 68.40243447,
                        "learn": [
                          0.4626214084
                        ]
                      },
                      {
                        "test": [
                          0.4610816301
                        ],
                        "passed_time": 9.951343453,
                        "iteration": 126,
                        "remaining_time": 68.40569161,
                        "learn": [
                          0.4624923019
                        ]
                      },
                      {
                        "test": [
                          0.4610521697
                        ],
                        "passed_time": 10.03773948,
                        "iteration": 127,
                        "remaining_time": 68.38210021,
                        "learn": [
                          0.462371979
                        ]
                      },
                      {
                        "test": [
                          0.4609265252
                        ],
                        "passed_time": 10.12757264,
                        "iteration": 128,
                        "remaining_time": 68.38074237,
                        "learn": [
                          0.4622046944
                        ]
                      },
                      {
                        "test": [
                          0.4607700201
                        ],
                        "passed_time": 10.20589132,
                        "iteration": 129,
                        "remaining_time": 68.30096499,
                        "learn": [
                          0.4620030847
                        ]
                      },
                      {
                        "test": [
                          0.4607409171
                        ],
                        "passed_time": 10.2796928,
                        "iteration": 130,
                        "remaining_time": 68.19124459,
                        "learn": [
                          0.4617384975
                        ]
                      },
                      {
                        "test": [
                          0.4603556664
                        ],
                        "passed_time": 10.3639097,
                        "iteration": 131,
                        "remaining_time": 68.1505577,
                        "learn": [
                          0.4613362673
                        ]
                      },
                      {
                        "test": [
                          0.460379724
                        ],
                        "passed_time": 10.4435199,
                        "iteration": 132,
                        "remaining_time": 68.07918613,
                        "learn": [
                          0.4612703514
                        ]
                      },
                      {
                        "test": [
                          0.4603276375
                        ],
                        "passed_time": 10.52008655,
                        "iteration": 133,
                        "remaining_time": 67.988022,
                        "learn": [
                          0.4611765497
                        ]
                      },
                      {
                        "test": [
                          0.4601261261
                        ],
                        "passed_time": 10.5892282,
                        "iteration": 134,
                        "remaining_time": 67.84949921,
                        "learn": [
                          0.4608696786
                        ]
                      },
                      {
                        "test": [
                          0.4599945895
                        ],
                        "passed_time": 10.67379063,
                        "iteration": 135,
                        "remaining_time": 67.80996397,
                        "learn": [
                          0.4607019196
                        ]
                      },
                      {
                        "test": [
                          0.4599758241
                        ],
                        "passed_time": 10.74666992,
                        "iteration": 136,
                        "remaining_time": 67.69617619,
                        "learn": [
                          0.4605922452
                        ]
                      },
                      {
                        "test": [
                          0.4587679846
                        ],
                        "passed_time": 10.83630586,
                        "iteration": 137,
                        "remaining_time": 67.68764967,
                        "learn": [
                          0.4598199748
                        ]
                      },
                      {
                        "test": [
                          0.4586765576
                        ],
                        "passed_time": 10.91047316,
                        "iteration": 138,
                        "remaining_time": 67.5821395,
                        "learn": [
                          0.4596225309
                        ]
                      },
                      {
                        "test": [
                          0.4585230201
                        ],
                        "passed_time": 11.00743356,
                        "iteration": 139,
                        "remaining_time": 67.61709188,
                        "learn": [
                          0.4593806766
                        ]
                      },
                      {
                        "test": [
                          0.4585017144
                        ],
                        "passed_time": 11.09824324,
                        "iteration": 140,
                        "remaining_time": 67.6127017,
                        "learn": [
                          0.4593357925
                        ]
                      },
                      {
                        "test": [
                          0.4582369992
                        ],
                        "passed_time": 11.17614352,
                        "iteration": 141,
                        "remaining_time": 67.52909256,
                        "learn": [
                          0.4590014853
                        ]
                      },
                      {
                        "test": [
                          0.4581845205
                        ],
                        "passed_time": 11.25887974,
                        "iteration": 142,
                        "remaining_time": 67.47454503,
                        "learn": [
                          0.4588726969
                        ]
                      },
                      {
                        "test": [
                          0.4579151254
                        ],
                        "passed_time": 11.34898517,
                        "iteration": 143,
                        "remaining_time": 67.46341182,
                        "learn": [
                          0.4586191589
                        ]
                      },
                      {
                        "test": [
                          0.4578249869
                        ],
                        "passed_time": 11.42761328,
                        "iteration": 144,
                        "remaining_time": 67.38351276,
                        "learn": [
                          0.4584250519
                        ]
                      },
                      {
                        "test": [
                          0.4576994945
                        ],
                        "passed_time": 11.51756545,
                        "iteration": 145,
                        "remaining_time": 67.36986913,
                        "learn": [
                          0.4581689505
                        ]
                      },
                      {
                        "test": [
                          0.457498923
                        ],
                        "passed_time": 11.59665068,
                        "iteration": 146,
                        "remaining_time": 67.29212944,
                        "learn": [
                          0.4579267127
                        ]
                      },
                      {
                        "test": [
                          0.4574633782
                        ],
                        "passed_time": 11.68873882,
                        "iteration": 147,
                        "remaining_time": 67.28922616,
                        "learn": [
                          0.4577746431
                        ]
                      },
                      {
                        "test": [
                          0.4571983969
                        ],
                        "passed_time": 11.77778667,
                        "iteration": 148,
                        "remaining_time": 67.26776146,
                        "learn": [
                          0.4574990682
                        ]
                      },
                      {
                        "test": [
                          0.4570338228
                        ],
                        "passed_time": 11.85635215,
                        "iteration": 149,
                        "remaining_time": 67.18599551,
                        "learn": [
                          0.4572928939
                        ]
                      },
                      {
                        "test": [
                          0.4568846956
                        ],
                        "passed_time": 11.93152587,
                        "iteration": 150,
                        "remaining_time": 67.08520175,
                        "learn": [
                          0.4571113601
                        ]
                      },
                      {
                        "test": [
                          0.4568182101
                        ],
                        "passed_time": 12.0060954,
                        "iteration": 151,
                        "remaining_time": 66.98137434,
                        "learn": [
                          0.4569020402
                        ]
                      },
                      {
                        "test": [
                          0.4566845438
                        ],
                        "passed_time": 12.10240702,
                        "iteration": 152,
                        "remaining_time": 66.99829248,
                        "learn": [
                          0.45671746
                        ]
                      },
                      {
                        "test": [
                          0.4564519458
                        ],
                        "passed_time": 12.1897723,
                        "iteration": 153,
                        "remaining_time": 66.96459327,
                        "learn": [
                          0.456407982
                        ]
                      },
                      {
                        "test": [
                          0.456403486
                        ],
                        "passed_time": 12.25992051,
                        "iteration": 154,
                        "remaining_time": 66.83634087,
                        "learn": [
                          0.4562811321
                        ]
                      },
                      {
                        "test": [
                          0.4563320325
                        ],
                        "passed_time": 12.33433742,
                        "iteration": 155,
                        "remaining_time": 66.73192807,
                        "learn": [
                          0.4560293123
                        ]
                      },
                      {
                        "test": [
                          0.4563245083
                        ],
                        "passed_time": 12.41835658,
                        "iteration": 156,
                        "remaining_time": 66.67945604,
                        "learn": [
                          0.4559791693
                        ]
                      },
                      {
                        "test": [
                          0.4562108089
                        ],
                        "passed_time": 12.49174401,
                        "iteration": 157,
                        "remaining_time": 66.56992692,
                        "learn": [
                          0.4558353088
                        ]
                      },
                      {
                        "test": [
                          0.4558346221
                        ],
                        "passed_time": 12.59448962,
                        "iteration": 158,
                        "remaining_time": 66.61613691,
                        "learn": [
                          0.4554463322
                        ]
                      },
                      {
                        "test": [
                          0.4557881692
                        ],
                        "passed_time": 12.67641126,
                        "iteration": 159,
                        "remaining_time": 66.5511591,
                        "learn": [
                          0.4553311452
                        ]
                      },
                      {
                        "test": [
                          0.4556893347
                        ],
                        "passed_time": 12.75532434,
                        "iteration": 160,
                        "remaining_time": 66.47029266,
                        "learn": [
                          0.4551010794
                        ]
                      },
                      {
                        "test": [
                          0.4555492045
                        ],
                        "passed_time": 12.84824315,
                        "iteration": 161,
                        "remaining_time": 66.46189973,
                        "learn": [
                          0.4548985705
                        ]
                      },
                      {
                        "test": [
                          0.4553479659
                        ],
                        "passed_time": 12.92719329,
                        "iteration": 162,
                        "remaining_time": 66.38074103,
                        "learn": [
                          0.4547138289
                        ]
                      },
                      {
                        "test": [
                          0.4552136974
                        ],
                        "passed_time": 13.02200958,
                        "iteration": 163,
                        "remaining_time": 66.38048785,
                        "learn": [
                          0.4545017285
                        ]
                      },
                      {
                        "test": [
                          0.455083526
                        ],
                        "passed_time": 13.12974565,
                        "iteration": 164,
                        "remaining_time": 66.4444704,
                        "learn": [
                          0.4543146774
                        ]
                      },
                      {
                        "test": [
                          0.4549304922
                        ],
                        "passed_time": 13.20579325,
                        "iteration": 165,
                        "remaining_time": 66.34717815,
                        "learn": [
                          0.4541002146
                        ]
                      },
                      {
                        "test": [
                          0.4548873315
                        ],
                        "passed_time": 13.28561759,
                        "iteration": 166,
                        "remaining_time": 66.26897873,
                        "learn": [
                          0.4539950974
                        ]
                      },
                      {
                        "test": [
                          0.4546790671
                        ],
                        "passed_time": 13.36712308,
                        "iteration": 167,
                        "remaining_time": 66.19908573,
                        "learn": [
                          0.4536510961
                        ]
                      },
                      {
                        "test": [
                          0.4545952285
                        ],
                        "passed_time": 13.4655263,
                        "iteration": 168,
                        "remaining_time": 66.21214411,
                        "learn": [
                          0.4534369428
                        ]
                      },
                      {
                        "test": [
                          0.4543286105
                        ],
                        "passed_time": 13.56511796,
                        "iteration": 169,
                        "remaining_time": 66.22969356,
                        "learn": [
                          0.4531195696
                        ]
                      },
                      {
                        "test": [
                          0.4542870346
                        ],
                        "passed_time": 13.6400603,
                        "iteration": 170,
                        "remaining_time": 66.1263742,
                        "learn": [
                          0.4529977069
                        ]
                      },
                      {
                        "test": [
                          0.4541769787
                        ],
                        "passed_time": 13.72149129,
                        "iteration": 171,
                        "remaining_time": 66.05462087,
                        "learn": [
                          0.4528523823
                        ]
                      },
                      {
                        "test": [
                          0.4540555303
                        ],
                        "passed_time": 13.81483071,
                        "iteration": 172,
                        "remaining_time": 66.03968206,
                        "learn": [
                          0.4526835456
                        ]
                      },
                      {
                        "test": [
                          0.4539547023
                        ],
                        "passed_time": 13.89765756,
                        "iteration": 173,
                        "remaining_time": 65.97393761,
                        "learn": [
                          0.4524639907
                        ]
                      },
                      {
                        "test": [
                          0.4537011115
                        ],
                        "passed_time": 14.00131702,
                        "iteration": 174,
                        "remaining_time": 66.00620879,
                        "learn": [
                          0.4521715628
                        ]
                      },
                      {
                        "test": [
                          0.4536782829
                        ],
                        "passed_time": 14.07847921,
                        "iteration": 175,
                        "remaining_time": 65.91287995,
                        "learn": [
                          0.4520572902
                        ]
                      },
                      {
                        "test": [
                          0.4534351632
                        ],
                        "passed_time": 14.17951032,
                        "iteration": 176,
                        "remaining_time": 65.93071749,
                        "learn": [
                          0.451839211
                        ]
                      },
                      {
                        "test": [
                          0.4533690958
                        ],
                        "passed_time": 14.26158069,
                        "iteration": 177,
                        "remaining_time": 65.85965913,
                        "learn": [
                          0.4517523941
                        ]
                      },
                      {
                        "test": [
                          0.4532851223
                        ],
                        "passed_time": 14.34755543,
                        "iteration": 178,
                        "remaining_time": 65.80638554,
                        "learn": [
                          0.4516083256
                        ]
                      },
                      {
                        "test": [
                          0.4530161351
                        ],
                        "passed_time": 14.43712674,
                        "iteration": 179,
                        "remaining_time": 65.76913294,
                        "learn": [
                          0.4513299319
                        ]
                      },
                      {
                        "test": [
                          0.4529742846
                        ],
                        "passed_time": 14.51311735,
                        "iteration": 180,
                        "remaining_time": 65.66985141,
                        "learn": [
                          0.4512667209
                        ]
                      },
                      {
                        "test": [
                          0.4528190573
                        ],
                        "passed_time": 14.60131545,
                        "iteration": 181,
                        "remaining_time": 65.62569252,
                        "learn": [
                          0.4510916657
                        ]
                      },
                      {
                        "test": [
                          0.4525012211
                        ],
                        "passed_time": 14.68662455,
                        "iteration": 182,
                        "remaining_time": 65.5681544,
                        "learn": [
                          0.4508760023
                        ]
                      },
                      {
                        "test": [
                          0.4524252029
                        ],
                        "passed_time": 14.777173,
                        "iteration": 183,
                        "remaining_time": 65.53354981,
                        "learn": [
                          0.450715421
                        ]
                      },
                      {
                        "test": [
                          0.4524213837
                        ],
                        "passed_time": 14.84606019,
                        "iteration": 184,
                        "remaining_time": 65.40291381,
                        "learn": [
                          0.4506839396
                        ]
                      },
                      {
                        "test": [
                          0.4524081906
                        ],
                        "passed_time": 14.92330368,
                        "iteration": 185,
                        "remaining_time": 65.30951182,
                        "learn": [
                          0.4506615936
                        ]
                      },
                      {
                        "test": [
                          0.4523367732
                        ],
                        "passed_time": 15.00948005,
                        "iteration": 186,
                        "remaining_time": 65.25511916,
                        "learn": [
                          0.4504611497
                        ]
                      },
                      {
                        "test": [
                          0.4522060419
                        ],
                        "passed_time": 15.08290731,
                        "iteration": 187,
                        "remaining_time": 65.14532307,
                        "learn": [
                          0.4502348009
                        ]
                      },
                      {
                        "test": [
                          0.4520570141
                        ],
                        "passed_time": 15.15835907,
                        "iteration": 188,
                        "remaining_time": 65.04459896,
                        "learn": [
                          0.4500686351
                        ]
                      },
                      {
                        "test": [
                          0.4520394789
                        ],
                        "passed_time": 15.25291569,
                        "iteration": 189,
                        "remaining_time": 65.02558793,
                        "learn": [
                          0.4499511621
                        ]
                      },
                      {
                        "test": [
                          0.4519510586
                        ],
                        "passed_time": 15.33673578,
                        "iteration": 190,
                        "remaining_time": 64.96031017,
                        "learn": [
                          0.44980237
                        ]
                      },
                      {
                        "test": [
                          0.4518019729
                        ],
                        "passed_time": 15.41997867,
                        "iteration": 191,
                        "remaining_time": 64.89241026,
                        "learn": [
                          0.4496771384
                        ]
                      },
                      {
                        "test": [
                          0.4514621802
                        ],
                        "passed_time": 15.51213935,
                        "iteration": 192,
                        "remaining_time": 64.86163967,
                        "learn": [
                          0.4493689893
                        ]
                      },
                      {
                        "test": [
                          0.4513265772
                        ],
                        "passed_time": 15.60117765,
                        "iteration": 193,
                        "remaining_time": 64.81726386,
                        "learn": [
                          0.4491445669
                        ]
                      },
                      {
                        "test": [
                          0.451321913
                        ],
                        "passed_time": 15.66258432,
                        "iteration": 194,
                        "remaining_time": 64.65836089,
                        "learn": [
                          0.4491237844
                        ]
                      },
                      {
                        "test": [
                          0.4513122079
                        ],
                        "passed_time": 15.75441737,
                        "iteration": 195,
                        "remaining_time": 64.6252631,
                        "learn": [
                          0.4489979386
                        ]
                      },
                      {
                        "test": [
                          0.4511655207
                        ],
                        "passed_time": 15.84162901,
                        "iteration": 196,
                        "remaining_time": 64.57273147,
                        "learn": [
                          0.4487994633
                        ]
                      },
                      {
                        "test": [
                          0.4511133821
                        ],
                        "passed_time": 15.9173699,
                        "iteration": 197,
                        "remaining_time": 64.47338718,
                        "learn": [
                          0.4487048744
                        ]
                      },
                      {
                        "test": [
                          0.4507863367
                        ],
                        "passed_time": 16.02398533,
                        "iteration": 198,
                        "remaining_time": 64.49855403,
                        "learn": [
                          0.4483846071
                        ]
                      },
                      {
                        "test": [
                          0.4503381942
                        ],
                        "passed_time": 16.1046733,
                        "iteration": 199,
                        "remaining_time": 64.41869321,
                        "learn": [
                          0.4480445255
                        ]
                      },
                      {
                        "test": [
                          0.4503128419
                        ],
                        "passed_time": 16.20442896,
                        "iteration": 200,
                        "remaining_time": 64.41462057,
                        "learn": [
                          0.4479349009
                        ]
                      },
                      {
                        "test": [
                          0.4502921495
                        ],
                        "passed_time": 16.28041734,
                        "iteration": 201,
                        "remaining_time": 64.31570812,
                        "learn": [
                          0.4477717078
                        ]
                      },
                      {
                        "test": [
                          0.4499688122
                        ],
                        "passed_time": 16.36732011,
                        "iteration": 202,
                        "remaining_time": 64.25987254,
                        "learn": [
                          0.4474597674
                        ]
                      },
                      {
                        "test": [
                          0.4499437901
                        ],
                        "passed_time": 16.44586953,
                        "iteration": 203,
                        "remaining_time": 64.17113797,
                        "learn": [
                          0.4473450283
                        ]
                      },
                      {
                        "test": [
                          0.4499472403
                        ],
                        "passed_time": 16.5051116,
                        "iteration": 204,
                        "remaining_time": 64.0076279,
                        "learn": [
                          0.4472726319
                        ]
                      },
                      {
                        "test": [
                          0.4496514135
                        ],
                        "passed_time": 16.58542608,
                        "iteration": 205,
                        "remaining_time": 63.926351,
                        "learn": [
                          0.4470193432
                        ]
                      },
                      {
                        "test": [
                          0.4494204994
                        ],
                        "passed_time": 16.67485406,
                        "iteration": 206,
                        "remaining_time": 63.87999645,
                        "learn": [
                          0.4467552133
                        ]
                      },
                      {
                        "test": [
                          0.44936746
                        ],
                        "passed_time": 16.74259586,
                        "iteration": 207,
                        "remaining_time": 63.75065347,
                        "learn": [
                          0.4466390241
                        ]
                      },
                      {
                        "test": [
                          0.4492607876
                        ],
                        "passed_time": 16.81579953,
                        "iteration": 208,
                        "remaining_time": 63.64257142,
                        "learn": [
                          0.4464114378
                        ]
                      },
                      {
                        "test": [
                          0.4492194026
                        ],
                        "passed_time": 16.88125619,
                        "iteration": 209,
                        "remaining_time": 63.50567804,
                        "learn": [
                          0.4463163422
                        ]
                      },
                      {
                        "test": [
                          0.449206584
                        ],
                        "passed_time": 16.95063366,
                        "iteration": 210,
                        "remaining_time": 63.38412304,
                        "learn": [
                          0.4462381004
                        ]
                      },
                      {
                        "test": [
                          0.4491444484
                        ],
                        "passed_time": 17.04577769,
                        "iteration": 211,
                        "remaining_time": 63.35883405,
                        "learn": [
                          0.4461496594
                        ]
                      },
                      {
                        "test": [
                          0.4491640416
                        ],
                        "passed_time": 17.10862748,
                        "iteration": 212,
                        "remaining_time": 63.21356727,
                        "learn": [
                          0.4461212692
                        ]
                      },
                      {
                        "test": [
                          0.4490774994
                        ],
                        "passed_time": 17.19025749,
                        "iteration": 213,
                        "remaining_time": 63.13804853,
                        "learn": [
                          0.4459072852
                        ]
                      },
                      {
                        "test": [
                          0.4490116875
                        ],
                        "passed_time": 17.3630507,
                        "iteration": 214,
                        "remaining_time": 63.39532465,
                        "learn": [
                          0.4457886323
                        ]
                      },
                      {
                        "test": [
                          0.4489073417
                        ],
                        "passed_time": 17.441119,
                        "iteration": 215,
                        "remaining_time": 63.30480231,
                        "learn": [
                          0.4456989507
                        ]
                      },
                      {
                        "test": [
                          0.4487866584
                        ],
                        "passed_time": 17.52410801,
                        "iteration": 216,
                        "remaining_time": 63.23215011,
                        "learn": [
                          0.4455300131
                        ]
                      },
                      {
                        "test": [
                          0.4487420312
                        ],
                        "passed_time": 17.59556638,
                        "iteration": 217,
                        "remaining_time": 63.11804087,
                        "learn": [
                          0.4454314691
                        ]
                      },
                      {
                        "test": [
                          0.4486091386
                        ],
                        "passed_time": 17.68568958,
                        "iteration": 218,
                        "remaining_time": 63.07088385,
                        "learn": [
                          0.4452311606
                        ]
                      },
                      {
                        "test": [
                          0.4485651863
                        ],
                        "passed_time": 17.77052912,
                        "iteration": 219,
                        "remaining_time": 63.00460323,
                        "learn": [
                          0.4450660261
                        ]
                      },
                      {
                        "test": [
                          0.4484826435
                        ],
                        "passed_time": 17.86410691,
                        "iteration": 220,
                        "remaining_time": 62.96895604,
                        "learn": [
                          0.4448417589
                        ]
                      },
                      {
                        "test": [
                          0.4483695759
                        ],
                        "passed_time": 17.94071817,
                        "iteration": 221,
                        "remaining_time": 62.87332764,
                        "learn": [
                          0.4446242966
                        ]
                      },
                      {
                        "test": [
                          0.4483185054
                        ],
                        "passed_time": 18.03773503,
                        "iteration": 222,
                        "remaining_time": 62.84896913,
                        "learn": [
                          0.4445291634
                        ]
                      },
                      {
                        "test": [
                          0.4480209239
                        ],
                        "passed_time": 18.12815118,
                        "iteration": 223,
                        "remaining_time": 62.80109515,
                        "learn": [
                          0.4442335888
                        ]
                      },
                      {
                        "test": [
                          0.4479809925
                        ],
                        "passed_time": 18.21061419,
                        "iteration": 224,
                        "remaining_time": 62.72544888,
                        "learn": [
                          0.444123276
                        ]
                      },
                      {
                        "test": [
                          0.4479678489
                        ],
                        "passed_time": 18.28066977,
                        "iteration": 225,
                        "remaining_time": 62.60724957,
                        "learn": [
                          0.4441085286
                        ]
                      },
                      {
                        "test": [
                          0.4477960552
                        ],
                        "passed_time": 18.39783423,
                        "iteration": 226,
                        "remaining_time": 62.64989365,
                        "learn": [
                          0.443877673
                        ]
                      },
                      {
                        "test": [
                          0.4477118836
                        ],
                        "passed_time": 18.47837234,
                        "iteration": 227,
                        "remaining_time": 62.56712037,
                        "learn": [
                          0.4437567581
                        ]
                      },
                      {
                        "test": [
                          0.4476597626
                        ],
                        "passed_time": 18.55685049,
                        "iteration": 228,
                        "remaining_time": 62.47743114,
                        "learn": [
                          0.4436863541
                        ]
                      },
                      {
                        "test": [
                          0.4473938984
                        ],
                        "passed_time": 18.64474803,
                        "iteration": 229,
                        "remaining_time": 62.41937383,
                        "learn": [
                          0.4434548877
                        ]
                      },
                      {
                        "test": [
                          0.4473003039
                        ],
                        "passed_time": 18.73105666,
                        "iteration": 230,
                        "remaining_time": 62.35576872,
                        "learn": [
                          0.4432955498
                        ]
                      },
                      {
                        "test": [
                          0.4468785657
                        ],
                        "passed_time": 18.82049304,
                        "iteration": 231,
                        "remaining_time": 62.30232179,
                        "learn": [
                          0.4428753641
                        ]
                      },
                      {
                        "test": [
                          0.4467127093
                        ],
                        "passed_time": 18.90083805,
                        "iteration": 232,
                        "remaining_time": 62.21863855,
                        "learn": [
                          0.4426241981
                        ]
                      },
                      {
                        "test": [
                          0.4466150353
                        ],
                        "passed_time": 18.98679724,
                        "iteration": 233,
                        "remaining_time": 62.1533619,
                        "learn": [
                          0.4424442453
                        ]
                      },
                      {
                        "test": [
                          0.4465423064
                        ],
                        "passed_time": 19.05733911,
                        "iteration": 234,
                        "remaining_time": 62.03772094,
                        "learn": [
                          0.4423951786
                        ]
                      },
                      {
                        "test": [
                          0.4464796834
                        ],
                        "passed_time": 19.14534392,
                        "iteration": 235,
                        "remaining_time": 61.97899473,
                        "learn": [
                          0.4422460982
                        ]
                      },
                      {
                        "test": [
                          0.4462770435
                        ],
                        "passed_time": 19.22642438,
                        "iteration": 236,
                        "remaining_time": 61.89772913,
                        "learn": [
                          0.4420681846
                        ]
                      },
                      {
                        "test": [
                          0.4453857285
                        ],
                        "passed_time": 19.34646456,
                        "iteration": 237,
                        "remaining_time": 61.94120165,
                        "learn": [
                          0.4414395578
                        ]
                      },
                      {
                        "test": [
                          0.4453917806
                        ],
                        "passed_time": 19.44029853,
                        "iteration": 238,
                        "remaining_time": 61.89986268,
                        "learn": [
                          0.4413038961
                        ]
                      },
                      {
                        "test": [
                          0.4453870523
                        ],
                        "passed_time": 19.50445689,
                        "iteration": 239,
                        "remaining_time": 61.7641135,
                        "learn": [
                          0.4412988019
                        ]
                      },
                      {
                        "test": [
                          0.4451240375
                        ],
                        "passed_time": 19.59503305,
                        "iteration": 240,
                        "remaining_time": 61.71215803,
                        "learn": [
                          0.4410194138
                        ]
                      },
                      {
                        "test": [
                          0.4450779617
                        ],
                        "passed_time": 19.6763628,
                        "iteration": 241,
                        "remaining_time": 61.63092151,
                        "learn": [
                          0.4409226643
                        ]
                      },
                      {
                        "test": [
                          0.4449767945
                        ],
                        "passed_time": 19.75110906,
                        "iteration": 242,
                        "remaining_time": 61.52917515,
                        "learn": [
                          0.4407918343
                        ]
                      },
                      {
                        "test": [
                          0.4449747462
                        ],
                        "passed_time": 19.82055812,
                        "iteration": 243,
                        "remaining_time": 61.41123746,
                        "learn": [
                          0.4407249381
                        ]
                      },
                      {
                        "test": [
                          0.444930314
                        ],
                        "passed_time": 19.89144737,
                        "iteration": 244,
                        "remaining_time": 61.29813373,
                        "learn": [
                          0.4405727682
                        ]
                      },
                      {
                        "test": [
                          0.4449068255
                        ],
                        "passed_time": 19.96819086,
                        "iteration": 245,
                        "remaining_time": 61.20331669,
                        "learn": [
                          0.440463226
                        ]
                      },
                      {
                        "test": [
                          0.4448883715
                        ],
                        "passed_time": 20.0339455,
                        "iteration": 246,
                        "remaining_time": 61.07514558,
                        "learn": [
                          0.4404225938
                        ]
                      },
                      {
                        "test": [
                          0.4446914703
                        ],
                        "passed_time": 20.1460357,
                        "iteration": 247,
                        "remaining_time": 61.08797922,
                        "learn": [
                          0.4401885198
                        ]
                      },
                      {
                        "test": [
                          0.4446500153
                        ],
                        "passed_time": 20.21764486,
                        "iteration": 248,
                        "remaining_time": 60.97771602,
                        "learn": [
                          0.4400947496
                        ]
                      },
                      {
                        "test": [
                          0.4445770161
                        ],
                        "passed_time": 20.28584475,
                        "iteration": 249,
                        "remaining_time": 60.85753426,
                        "learn": [
                          0.4400255981
                        ]
                      },
                      {
                        "test": [
                          0.4445238619
                        ],
                        "passed_time": 20.38355776,
                        "iteration": 250,
                        "remaining_time": 60.8258357,
                        "learn": [
                          0.4398447391
                        ]
                      },
                      {
                        "test": [
                          0.4444477864
                        ],
                        "passed_time": 20.46749598,
                        "iteration": 251,
                        "remaining_time": 60.75272617,
                        "learn": [
                          0.4397296084
                        ]
                      },
                      {
                        "test": [
                          0.4443772058
                        ],
                        "passed_time": 20.5378758,
                        "iteration": 252,
                        "remaining_time": 60.6394989,
                        "learn": [
                          0.4395510149
                        ]
                      },
                      {
                        "test": [
                          0.443430904
                        ],
                        "passed_time": 20.62883101,
                        "iteration": 253,
                        "remaining_time": 60.5870391,
                        "learn": [
                          0.4388584407
                        ]
                      },
                      {
                        "test": [
                          0.4433882727
                        ],
                        "passed_time": 20.70856764,
                        "iteration": 254,
                        "remaining_time": 60.50150154,
                        "learn": [
                          0.4387581438
                        ]
                      },
                      {
                        "test": [
                          0.4433262621
                        ],
                        "passed_time": 20.78438198,
                        "iteration": 255,
                        "remaining_time": 60.40461014,
                        "learn": [
                          0.4386403084
                        ]
                      },
                      {
                        "test": [
                          0.4430815325
                        ],
                        "passed_time": 20.87695303,
                        "iteration": 256,
                        "remaining_time": 60.35632723,
                        "learn": [
                          0.4384098071
                        ]
                      },
                      {
                        "test": [
                          0.4430618613
                        ],
                        "passed_time": 20.94910341,
                        "iteration": 257,
                        "remaining_time": 60.24897182,
                        "learn": [
                          0.4383893451
                        ]
                      },
                      {
                        "test": [
                          0.4430305011
                        ],
                        "passed_time": 21.02224134,
                        "iteration": 258,
                        "remaining_time": 60.14471364,
                        "learn": [
                          0.4383154362
                        ]
                      },
                      {
                        "test": [
                          0.4429654536
                        ],
                        "passed_time": 21.10770762,
                        "iteration": 259,
                        "remaining_time": 60.07578322,
                        "learn": [
                          0.4381932665
                        ]
                      },
                      {
                        "test": [
                          0.4429368902
                        ],
                        "passed_time": 21.16916977,
                        "iteration": 260,
                        "remaining_time": 59.93876037,
                        "learn": [
                          0.4381340997
                        ]
                      },
                      {
                        "test": [
                          0.4429524815
                        ],
                        "passed_time": 21.22200269,
                        "iteration": 261,
                        "remaining_time": 59.77800757,
                        "learn": [
                          0.4381137408
                        ]
                      },
                      {
                        "test": [
                          0.4428598897
                        ],
                        "passed_time": 21.3039417,
                        "iteration": 262,
                        "remaining_time": 59.69963891,
                        "learn": [
                          0.4379706855
                        ]
                      },
                      {
                        "test": [
                          0.4427699262
                        ],
                        "passed_time": 21.39923971,
                        "iteration": 263,
                        "remaining_time": 59.65848646,
                        "learn": [
                          0.4378458707
                        ]
                      },
                      {
                        "test": [
                          0.4427119527
                        ],
                        "passed_time": 21.48598742,
                        "iteration": 264,
                        "remaining_time": 59.59321039,
                        "learn": [
                          0.4377001591
                        ]
                      },
                      {
                        "test": [
                          0.4426396635
                        ],
                        "passed_time": 21.56621547,
                        "iteration": 265,
                        "remaining_time": 59.50978254,
                        "learn": [
                          0.4375635838
                        ]
                      },
                      {
                        "test": [
                          0.4426159433
                        ],
                        "passed_time": 21.64617374,
                        "iteration": 266,
                        "remaining_time": 59.42563803,
                        "learn": [
                          0.4374814245
                        ]
                      },
                      {
                        "test": [
                          0.442499101
                        ],
                        "passed_time": 21.72293125,
                        "iteration": 267,
                        "remaining_time": 59.33278236,
                        "learn": [
                          0.4372855324
                        ]
                      },
                      {
                        "test": [
                          0.4424736919
                        ],
                        "passed_time": 21.79006262,
                        "iteration": 268,
                        "remaining_time": 59.21388765,
                        "learn": [
                          0.4372539484
                        ]
                      },
                      {
                        "test": [
                          0.4424434734
                        ],
                        "passed_time": 21.86540511,
                        "iteration": 269,
                        "remaining_time": 59.11757678,
                        "learn": [
                          0.4371215804
                        ]
                      },
                      {
                        "test": [
                          0.4423503875
                        ],
                        "passed_time": 21.94732868,
                        "iteration": 270,
                        "remaining_time": 59.039124,
                        "learn": [
                          0.4369484683
                        ]
                      },
                      {
                        "test": [
                          0.4422443733
                        ],
                        "passed_time": 22.03049671,
                        "iteration": 271,
                        "remaining_time": 58.9639765,
                        "learn": [
                          0.4368256905
                        ]
                      },
                      {
                        "test": [
                          0.4421500979
                        ],
                        "passed_time": 22.11863278,
                        "iteration": 272,
                        "remaining_time": 58.9020001,
                        "learn": [
                          0.4366848519
                        ]
                      },
                      {
                        "test": [
                          0.4421346518
                        ],
                        "passed_time": 22.18821555,
                        "iteration": 273,
                        "remaining_time": 58.79067333,
                        "learn": [
                          0.4366157319
                        ]
                      },
                      {
                        "test": [
                          0.442003799
                        ],
                        "passed_time": 22.26044525,
                        "iteration": 274,
                        "remaining_time": 58.68662837,
                        "learn": [
                          0.4364976758
                        ]
                      },
                      {
                        "test": [
                          0.4419995385
                        ],
                        "passed_time": 22.32523008,
                        "iteration": 275,
                        "remaining_time": 58.56328472,
                        "learn": [
                          0.4364340508
                        ]
                      },
                      {
                        "test": [
                          0.4420156658
                        ],
                        "passed_time": 22.40278565,
                        "iteration": 276,
                        "remaining_time": 58.47369684,
                        "learn": [
                          0.4363836781
                        ]
                      },
                      {
                        "test": [
                          0.4419501036
                        ],
                        "passed_time": 22.48127434,
                        "iteration": 277,
                        "remaining_time": 58.38661898,
                        "learn": [
                          0.4362262807
                        ]
                      },
                      {
                        "test": [
                          0.4416645921
                        ],
                        "passed_time": 22.57163659,
                        "iteration": 278,
                        "remaining_time": 58.33028666,
                        "learn": [
                          0.4357965984
                        ]
                      },
                      {
                        "test": [
                          0.4415889625
                        ],
                        "passed_time": 22.66604824,
                        "iteration": 279,
                        "remaining_time": 58.28412404,
                        "learn": [
                          0.4356255437
                        ]
                      },
                      {
                        "test": [
                          0.4415926032
                        ],
                        "passed_time": 22.74388922,
                        "iteration": 280,
                        "remaining_time": 58.19521833,
                        "learn": [
                          0.4356209292
                        ]
                      },
                      {
                        "test": [
                          0.4415397466
                        ],
                        "passed_time": 22.82606949,
                        "iteration": 281,
                        "remaining_time": 58.11743935,
                        "learn": [
                          0.4354157013
                        ]
                      },
                      {
                        "test": [
                          0.441443205
                        ],
                        "passed_time": 22.90801131,
                        "iteration": 282,
                        "remaining_time": 58.03902511,
                        "learn": [
                          0.4352451805
                        ]
                      },
                      {
                        "test": [
                          0.4413436771
                        ],
                        "passed_time": 22.99431074,
                        "iteration": 283,
                        "remaining_time": 57.97157214,
                        "learn": [
                          0.4351170647
                        ]
                      },
                      {
                        "test": [
                          0.4412832341
                        ],
                        "passed_time": 23.08473462,
                        "iteration": 284,
                        "remaining_time": 57.91433421,
                        "learn": [
                          0.4350154317
                        ]
                      },
                      {
                        "test": [
                          0.4412741503
                        ],
                        "passed_time": 23.16399594,
                        "iteration": 285,
                        "remaining_time": 57.82899686,
                        "learn": [
                          0.4349464487
                        ]
                      },
                      {
                        "test": [
                          0.4411762109
                        ],
                        "passed_time": 23.25446551,
                        "iteration": 286,
                        "remaining_time": 57.77154672,
                        "learn": [
                          0.4347935083
                        ]
                      },
                      {
                        "test": [
                          0.4410267959
                        ],
                        "passed_time": 23.33665045,
                        "iteration": 287,
                        "remaining_time": 57.69338583,
                        "learn": [
                          0.4346351015
                        ]
                      },
                      {
                        "test": [
                          0.4410305261
                        ],
                        "passed_time": 23.42097272,
                        "iteration": 288,
                        "remaining_time": 57.62045537,
                        "learn": [
                          0.4346319367
                        ]
                      },
                      {
                        "test": [
                          0.440966507
                        ],
                        "passed_time": 23.50985,
                        "iteration": 289,
                        "remaining_time": 57.55859827,
                        "learn": [
                          0.4345022601
                        ]
                      },
                      {
                        "test": [
                          0.4409413429
                        ],
                        "passed_time": 23.59487617,
                        "iteration": 290,
                        "remaining_time": 57.48717253,
                        "learn": [
                          0.4344477017
                        ]
                      },
                      {
                        "test": [
                          0.4408488501
                        ],
                        "passed_time": 23.67875362,
                        "iteration": 291,
                        "remaining_time": 57.41286837,
                        "learn": [
                          0.4343381805
                        ]
                      },
                      {
                        "test": [
                          0.440518735
                        ],
                        "passed_time": 23.77983977,
                        "iteration": 292,
                        "remaining_time": 57.38002292,
                        "learn": [
                          0.4340905117
                        ]
                      },
                      {
                        "test": [
                          0.4405263836
                        ],
                        "passed_time": 23.85271412,
                        "iteration": 293,
                        "remaining_time": 57.27896655,
                        "learn": [
                          0.4340601586
                        ]
                      },
                      {
                        "test": [
                          0.4404885201
                        ],
                        "passed_time": 23.93049933,
                        "iteration": 294,
                        "remaining_time": 57.18983737,
                        "learn": [
                          0.4339871832
                        ]
                      },
                      {
                        "test": [
                          0.4404752351
                        ],
                        "passed_time": 24.00428648,
                        "iteration": 295,
                        "remaining_time": 57.09127594,
                        "learn": [
                          0.4339414256
                        ]
                      },
                      {
                        "test": [
                          0.44033957
                        ],
                        "passed_time": 24.07836845,
                        "iteration": 296,
                        "remaining_time": 56.9935792,
                        "learn": [
                          0.4337813501
                        ]
                      },
                      {
                        "test": [
                          0.4403246134
                        ],
                        "passed_time": 24.16456644,
                        "iteration": 297,
                        "remaining_time": 56.92458269,
                        "learn": [
                          0.4336708674
                        ]
                      },
                      {
                        "test": [
                          0.4401884696
                        ],
                        "passed_time": 24.2583063,
                        "iteration": 298,
                        "remaining_time": 56.8731529,
                        "learn": [
                          0.4334783261
                        ]
                      },
                      {
                        "test": [
                          0.4394372476
                        ],
                        "passed_time": 24.35283079,
                        "iteration": 299,
                        "remaining_time": 56.82327184,
                        "learn": [
                          0.4329468449
                        ]
                      },
                      {
                        "test": [
                          0.4393163935
                        ],
                        "passed_time": 24.44792703,
                        "iteration": 300,
                        "remaining_time": 56.7744219,
                        "learn": [
                          0.4327955891
                        ]
                      },
                      {
                        "test": [
                          0.4392509191
                        ],
                        "passed_time": 24.52157363,
                        "iteration": 301,
                        "remaining_time": 56.67569005,
                        "learn": [
                          0.4327061923
                        ]
                      },
                      {
                        "test": [
                          0.4391356409
                        ],
                        "passed_time": 24.61383283,
                        "iteration": 302,
                        "remaining_time": 56.61993889,
                        "learn": [
                          0.4325037292
                        ]
                      },
                      {
                        "test": [
                          0.4390525945
                        ],
                        "passed_time": 24.69721007,
                        "iteration": 303,
                        "remaining_time": 56.54361252,
                        "learn": [
                          0.4324284165
                        ]
                      },
                      {
                        "test": [
                          0.4389926723
                        ],
                        "passed_time": 24.78271441,
                        "iteration": 304,
                        "remaining_time": 56.47208693,
                        "learn": [
                          0.432241929
                        ]
                      },
                      {
                        "test": [
                          0.4389018944
                        ],
                        "passed_time": 24.85712923,
                        "iteration": 305,
                        "remaining_time": 56.37531924,
                        "learn": [
                          0.4321707978
                        ]
                      },
                      {
                        "test": [
                          0.4388713578
                        ],
                        "passed_time": 24.92861447,
                        "iteration": 306,
                        "remaining_time": 56.27208413,
                        "learn": [
                          0.4321071252
                        ]
                      },
                      {
                        "test": [
                          0.4387921809
                        ],
                        "passed_time": 25.00543553,
                        "iteration": 307,
                        "remaining_time": 56.18104345,
                        "learn": [
                          0.4319868126
                        ]
                      },
                      {
                        "test": [
                          0.4386147296
                        ],
                        "passed_time": 25.09010724,
                        "iteration": 308,
                        "remaining_time": 56.10765081,
                        "learn": [
                          0.4318252231
                        ]
                      },
                      {
                        "test": [
                          0.4385530091
                        ],
                        "passed_time": 25.16930561,
                        "iteration": 309,
                        "remaining_time": 56.02200281,
                        "learn": [
                          0.4317471103
                        ]
                      },
                      {
                        "test": [
                          0.4383471892
                        ],
                        "passed_time": 25.25552432,
                        "iteration": 310,
                        "remaining_time": 55.95194938,
                        "learn": [
                          0.4314905552
                        ]
                      },
                      {
                        "test": [
                          0.4382652443
                        ],
                        "passed_time": 25.3332824,
                        "iteration": 311,
                        "remaining_time": 55.86313556,
                        "learn": [
                          0.4313754282
                        ]
                      },
                      {
                        "test": [
                          0.4382269646
                        ],
                        "passed_time": 25.41704723,
                        "iteration": 312,
                        "remaining_time": 55.78757651,
                        "learn": [
                          0.4312678175
                        ]
                      },
                      {
                        "test": [
                          0.4381990114
                        ],
                        "passed_time": 25.51949261,
                        "iteration": 313,
                        "remaining_time": 55.75277685,
                        "learn": [
                          0.4312161039
                        ]
                      },
                      {
                        "test": [
                          0.4381957751
                        ],
                        "passed_time": 25.58226143,
                        "iteration": 314,
                        "remaining_time": 55.63126691,
                        "learn": [
                          0.4312149632
                        ]
                      },
                      {
                        "test": [
                          0.4380884077
                        ],
                        "passed_time": 25.67087766,
                        "iteration": 315,
                        "remaining_time": 55.56607695,
                        "learn": [
                          0.4310758933
                        ]
                      },
                      {
                        "test": [
                          0.4380848511
                        ],
                        "passed_time": 25.72670135,
                        "iteration": 316,
                        "remaining_time": 55.43008525,
                        "learn": [
                          0.4310355619
                        ]
                      },
                      {
                        "test": [
                          0.4380755185
                        ],
                        "passed_time": 25.80836082,
                        "iteration": 317,
                        "remaining_time": 55.35000655,
                        "learn": [
                          0.4309702995
                        ]
                      },
                      {
                        "test": [
                          0.4380558121
                        ],
                        "passed_time": 25.88703533,
                        "iteration": 318,
                        "remaining_time": 55.26354565,
                        "learn": [
                          0.4309004085
                        ]
                      },
                      {
                        "test": [
                          0.4379498556
                        ],
                        "passed_time": 25.98574431,
                        "iteration": 319,
                        "remaining_time": 55.21970667,
                        "learn": [
                          0.4307754535
                        ]
                      },
                      {
                        "test": [
                          0.4378893372
                        ],
                        "passed_time": 26.05790716,
                        "iteration": 320,
                        "remaining_time": 55.11937371,
                        "learn": [
                          0.430683962
                        ]
                      },
                      {
                        "test": [
                          0.4378143387
                        ],
                        "passed_time": 26.15356471,
                        "iteration": 321,
                        "remaining_time": 55.06868594,
                        "learn": [
                          0.4305503038
                        ]
                      },
                      {
                        "test": [
                          0.4377756937
                        ],
                        "passed_time": 26.23035241,
                        "iteration": 322,
                        "remaining_time": 54.97816899,
                        "learn": [
                          0.4304959528
                        ]
                      },
                      {
                        "test": [
                          0.4377713305
                        ],
                        "passed_time": 26.29720681,
                        "iteration": 323,
                        "remaining_time": 54.86701173,
                        "learn": [
                          0.4304810232
                        ]
                      },
                      {
                        "test": [
                          0.4377642235
                        ],
                        "passed_time": 26.3748425,
                        "iteration": 324,
                        "remaining_time": 54.77851904,
                        "learn": [
                          0.430435598
                        ]
                      },
                      {
                        "test": [
                          0.4377743673
                        ],
                        "passed_time": 26.48410724,
                        "iteration": 325,
                        "remaining_time": 54.75548551,
                        "learn": [
                          0.4304062786
                        ]
                      },
                      {
                        "test": [
                          0.4376545703
                        ],
                        "passed_time": 26.59724833,
                        "iteration": 326,
                        "remaining_time": 54.73990252,
                        "learn": [
                          0.430261762
                        ]
                      },
                      {
                        "test": [
                          0.4375722916
                        ],
                        "passed_time": 26.68232299,
                        "iteration": 327,
                        "remaining_time": 54.6662227,
                        "learn": [
                          0.4300698021
                        ]
                      },
                      {
                        "test": [
                          0.4375355784
                        ],
                        "passed_time": 26.77162572,
                        "iteration": 328,
                        "remaining_time": 54.60109683,
                        "learn": [
                          0.4299520569
                        ]
                      },
                      {
                        "test": [
                          0.4374282443
                        ],
                        "passed_time": 26.85080126,
                        "iteration": 329,
                        "remaining_time": 54.51526316,
                        "learn": [
                          0.4298036987
                        ]
                      },
                      {
                        "test": [
                          0.4372562139
                        ],
                        "passed_time": 26.93105789,
                        "iteration": 330,
                        "remaining_time": 54.43165476,
                        "learn": [
                          0.4296429993
                        ]
                      },
                      {
                        "test": [
                          0.4372308162
                        ],
                        "passed_time": 27.00039551,
                        "iteration": 331,
                        "remaining_time": 54.32609698,
                        "learn": [
                          0.4295686556
                        ]
                      },
                      {
                        "test": [
                          0.4372268767
                        ],
                        "passed_time": 27.06326752,
                        "iteration": 332,
                        "remaining_time": 54.20780612,
                        "learn": [
                          0.429553209
                        ]
                      },
                      {
                        "test": [
                          0.4372268759
                        ],
                        "passed_time": 27.15405541,
                        "iteration": 333,
                        "remaining_time": 54.14551169,
                        "learn": [
                          0.4294506857
                        ]
                      },
                      {
                        "test": [
                          0.4367525257
                        ],
                        "passed_time": 27.25552821,
                        "iteration": 334,
                        "remaining_time": 54.10425749,
                        "learn": [
                          0.4290437123
                        ]
                      },
                      {
                        "test": [
                          0.4367228524
                        ],
                        "passed_time": 27.33430522,
                        "iteration": 335,
                        "remaining_time": 54.01779365,
                        "learn": [
                          0.4289455795
                        ]
                      },
                      {
                        "test": [
                          0.4367471044
                        ],
                        "passed_time": 27.41348021,
                        "iteration": 336,
                        "remaining_time": 53.9321584,
                        "learn": [
                          0.4288458705
                        ]
                      },
                      {
                        "test": [
                          0.4367283252
                        ],
                        "passed_time": 27.53694751,
                        "iteration": 337,
                        "remaining_time": 53.9333114,
                        "learn": [
                          0.4287181731
                        ]
                      },
                      {
                        "test": [
                          0.436507086
                        ],
                        "passed_time": 27.63181742,
                        "iteration": 338,
                        "remaining_time": 53.87796849,
                        "learn": [
                          0.4285541294
                        ]
                      },
                      {
                        "test": [
                          0.4362700789
                        ],
                        "passed_time": 27.72151842,
                        "iteration": 339,
                        "remaining_time": 53.81235928,
                        "learn": [
                          0.4282995392
                        ]
                      },
                      {
                        "test": [
                          0.4362436506
                        ],
                        "passed_time": 27.80567245,
                        "iteration": 340,
                        "remaining_time": 53.73588899,
                        "learn": [
                          0.4282179646
                        ]
                      },
                      {
                        "test": [
                          0.4362130755
                        ],
                        "passed_time": 27.89280331,
                        "iteration": 341,
                        "remaining_time": 53.6651011,
                        "learn": [
                          0.4281098399
                        ]
                      },
                      {
                        "test": [
                          0.4362165238
                        ],
                        "passed_time": 27.98489153,
                        "iteration": 342,
                        "remaining_time": 53.60371352,
                        "learn": [
                          0.4280871246
                        ]
                      },
                      {
                        "test": [
                          0.4362133954
                        ],
                        "passed_time": 28.04853319,
                        "iteration": 343,
                        "remaining_time": 53.48790051,
                        "learn": [
                          0.4280830202
                        ]
                      },
                      {
                        "test": [
                          0.4361429152
                        ],
                        "passed_time": 28.13055233,
                        "iteration": 344,
                        "remaining_time": 53.4072805,
                        "learn": [
                          0.4280151329
                        ]
                      },
                      {
                        "test": [
                          0.4361130927
                        ],
                        "passed_time": 28.2199441,
                        "iteration": 345,
                        "remaining_time": 53.34058798,
                        "learn": [
                          0.42796645
                        ]
                      },
                      {
                        "test": [
                          0.4360366541
                        ],
                        "passed_time": 28.30437591,
                        "iteration": 346,
                        "remaining_time": 53.26443075,
                        "learn": [
                          0.4278810699
                        ]
                      },
                      {
                        "test": [
                          0.4359653623
                        ],
                        "passed_time": 28.38450457,
                        "iteration": 347,
                        "remaining_time": 53.18016374,
                        "learn": [
                          0.4277763434
                        ]
                      },
                      {
                        "test": [
                          0.4359661805
                        ],
                        "passed_time": 28.46399173,
                        "iteration": 348,
                        "remaining_time": 53.09472383,
                        "learn": [
                          0.4277237035
                        ]
                      },
                      {
                        "test": [
                          0.4359819677
                        ],
                        "passed_time": 28.58105431,
                        "iteration": 349,
                        "remaining_time": 53.07910086,
                        "learn": [
                          0.427675564
                        ]
                      },
                      {
                        "test": [
                          0.4358812837
                        ],
                        "passed_time": 28.66923866,
                        "iteration": 350,
                        "remaining_time": 53.00950396,
                        "learn": [
                          0.4275088042
                        ]
                      },
                      {
                        "test": [
                          0.4356583958
                        ],
                        "passed_time": 28.75273925,
                        "iteration": 351,
                        "remaining_time": 52.93117907,
                        "learn": [
                          0.4273088237
                        ]
                      },
                      {
                        "test": [
                          0.435662212
                        ],
                        "passed_time": 28.82585285,
                        "iteration": 352,
                        "remaining_time": 52.83378695,
                        "learn": [
                          0.4273036865
                        ]
                      },
                      {
                        "test": [
                          0.4355198433
                        ],
                        "passed_time": 28.93571265,
                        "iteration": 353,
                        "remaining_time": 52.80358862,
                        "learn": [
                          0.4271136296
                        ]
                      },
                      {
                        "test": [
                          0.4355266947
                        ],
                        "passed_time": 29.00819426,
                        "iteration": 354,
                        "remaining_time": 52.70502901,
                        "learn": [
                          0.4270800561
                        ]
                      },
                      {
                        "test": [
                          0.4355224201
                        ],
                        "passed_time": 29.08393927,
                        "iteration": 355,
                        "remaining_time": 52.61251936,
                        "learn": [
                          0.4269847961
                        ]
                      },
                      {
                        "test": [
                          0.4355193826
                        ],
                        "passed_time": 29.16828238,
                        "iteration": 356,
                        "remaining_time": 52.53558983,
                        "learn": [
                          0.426918021
                        ]
                      },
                      {
                        "test": [
                          0.435298695
                        ],
                        "passed_time": 29.27271097,
                        "iteration": 357,
                        "remaining_time": 52.49463811,
                        "learn": [
                          0.4266433312
                        ]
                      },
                      {
                        "test": [
                          0.4351547929
                        ],
                        "passed_time": 29.35364585,
                        "iteration": 358,
                        "remaining_time": 52.41138438,
                        "learn": [
                          0.4264828554
                        ]
                      },
                      {
                        "test": [
                          0.4351389273
                        ],
                        "passed_time": 29.43418072,
                        "iteration": 359,
                        "remaining_time": 52.32743239,
                        "learn": [
                          0.4264142821
                        ]
                      },
                      {
                        "test": [
                          0.4351297071
                        ],
                        "passed_time": 29.50116969,
                        "iteration": 360,
                        "remaining_time": 52.21952197,
                        "learn": [
                          0.4263891189
                        ]
                      },
                      {
                        "test": [
                          0.435065706
                        ],
                        "passed_time": 29.61102898,
                        "iteration": 361,
                        "remaining_time": 52.18739361,
                        "learn": [
                          0.4262655979
                        ]
                      },
                      {
                        "test": [
                          0.4349729492
                        ],
                        "passed_time": 29.69258524,
                        "iteration": 362,
                        "remaining_time": 52.10517024,
                        "learn": [
                          0.4261439902
                        ]
                      },
                      {
                        "test": [
                          0.4347892681
                        ],
                        "passed_time": 29.77531735,
                        "iteration": 363,
                        "remaining_time": 52.02500503,
                        "learn": [
                          0.4259323639
                        ]
                      },
                      {
                        "test": [
                          0.4348149984
                        ],
                        "passed_time": 29.8352761,
                        "iteration": 364,
                        "remaining_time": 51.90520637,
                        "learn": [
                          0.4258728387
                        ]
                      },
                      {
                        "test": [
                          0.4347676183
                        ],
                        "passed_time": 29.91549789,
                        "iteration": 365,
                        "remaining_time": 51.82083515,
                        "learn": [
                          0.4257702377
                        ]
                      },
                      {
                        "test": [
                          0.4346969613
                        ],
                        "passed_time": 29.9867492,
                        "iteration": 366,
                        "remaining_time": 51.72101429,
                        "learn": [
                          0.4256814865
                        ]
                      },
                      {
                        "test": [
                          0.4346674934
                        ],
                        "passed_time": 30.06267333,
                        "iteration": 367,
                        "remaining_time": 51.62937376,
                        "learn": [
                          0.4255435811
                        ]
                      },
                      {
                        "test": [
                          0.4346597571
                        ],
                        "passed_time": 30.13391099,
                        "iteration": 368,
                        "remaining_time": 51.52980444,
                        "learn": [
                          0.4255047186
                        ]
                      },
                      {
                        "test": [
                          0.4344068709
                        ],
                        "passed_time": 30.22856184,
                        "iteration": 369,
                        "remaining_time": 51.47025395,
                        "learn": [
                          0.4252920086
                        ]
                      },
                      {
                        "test": [
                          0.4343279275
                        ],
                        "passed_time": 30.30970679,
                        "iteration": 370,
                        "remaining_time": 51.3876161,
                        "learn": [
                          0.4252129112
                        ]
                      },
                      {
                        "test": [
                          0.4342595943
                        ],
                        "passed_time": 30.39859895,
                        "iteration": 371,
                        "remaining_time": 51.3180649,
                        "learn": [
                          0.4250977604
                        ]
                      },
                      {
                        "test": [
                          0.4342104938
                        ],
                        "passed_time": 30.48380757,
                        "iteration": 372,
                        "remaining_time": 51.24221809,
                        "learn": [
                          0.4250096273
                        ]
                      },
                      {
                        "test": [
                          0.4341271081
                        ],
                        "passed_time": 30.59306195,
                        "iteration": 373,
                        "remaining_time": 51.20656893,
                        "learn": [
                          0.4249003859
                        ]
                      },
                      {
                        "test": [
                          0.4340983005
                        ],
                        "passed_time": 30.66827814,
                        "iteration": 374,
                        "remaining_time": 51.11379691,
                        "learn": [
                          0.4248404563
                        ]
                      },
                      {
                        "test": [
                          0.4340930721
                        ],
                        "passed_time": 30.74208177,
                        "iteration": 375,
                        "remaining_time": 51.018774,
                        "learn": [
                          0.4248033745
                        ]
                      },
                      {
                        "test": [
                          0.4340231192
                        ],
                        "passed_time": 30.82654961,
                        "iteration": 376,
                        "remaining_time": 50.94148649,
                        "learn": [
                          0.4247025741
                        ]
                      },
                      {
                        "test": [
                          0.433910137
                        ],
                        "passed_time": 30.90934654,
                        "iteration": 377,
                        "remaining_time": 50.8614115,
                        "learn": [
                          0.4245245202
                        ]
                      },
                      {
                        "test": [
                          0.4339040877
                        ],
                        "passed_time": 30.99320934,
                        "iteration": 378,
                        "remaining_time": 50.78306861,
                        "learn": [
                          0.4244678667
                        ]
                      },
                      {
                        "test": [
                          0.4338403389
                        ],
                        "passed_time": 31.07527193,
                        "iteration": 379,
                        "remaining_time": 50.70175947,
                        "learn": [
                          0.4243794813
                        ]
                      },
                      {
                        "test": [
                          0.4338443348
                        ],
                        "passed_time": 31.15719443,
                        "iteration": 380,
                        "remaining_time": 50.62021877,
                        "learn": [
                          0.4243379685
                        ]
                      },
                      {
                        "test": [
                          0.4337950669
                        ],
                        "passed_time": 31.24842865,
                        "iteration": 381,
                        "remaining_time": 50.55374059,
                        "learn": [
                          0.4242118654
                        ]
                      },
                      {
                        "test": [
                          0.4337392507
                        ],
                        "passed_time": 31.32901832,
                        "iteration": 382,
                        "remaining_time": 50.46998513,
                        "learn": [
                          0.4240966224
                        ]
                      },
                      {
                        "test": [
                          0.4334984206
                        ],
                        "passed_time": 31.42184856,
                        "iteration": 383,
                        "remaining_time": 50.40588206,
                        "learn": [
                          0.4238525748
                        ]
                      },
                      {
                        "test": [
                          0.4334465976
                        ],
                        "passed_time": 31.50543254,
                        "iteration": 384,
                        "remaining_time": 50.32685978,
                        "learn": [
                          0.4237577415
                        ]
                      },
                      {
                        "test": [
                          0.4334263641
                        ],
                        "passed_time": 31.56844471,
                        "iteration": 385,
                        "remaining_time": 50.2150908,
                        "learn": [
                          0.4236977452
                        ]
                      },
                      {
                        "test": [
                          0.4334278204
                        ],
                        "passed_time": 31.66579534,
                        "iteration": 386,
                        "remaining_time": 50.15796522,
                        "learn": [
                          0.4236773235
                        ]
                      },
                      {
                        "test": [
                          0.4334140684
                        ],
                        "passed_time": 31.74457191,
                        "iteration": 387,
                        "remaining_time": 50.07133507,
                        "learn": [
                          0.4236328242
                        ]
                      },
                      {
                        "test": [
                          0.4333784692
                        ],
                        "passed_time": 31.81278113,
                        "iteration": 388,
                        "remaining_time": 49.96814723,
                        "learn": [
                          0.4235481229
                        ]
                      },
                      {
                        "test": [
                          0.4333473242
                        ],
                        "passed_time": 31.89105579,
                        "iteration": 389,
                        "remaining_time": 49.88088213,
                        "learn": [
                          0.4235082689
                        ]
                      },
                      {
                        "test": [
                          0.4332690845
                        ],
                        "passed_time": 31.9748296,
                        "iteration": 390,
                        "remaining_time": 49.80222821,
                        "learn": [
                          0.4234302587
                        ]
                      },
                      {
                        "test": [
                          0.433225179
                        ],
                        "passed_time": 32.0563015,
                        "iteration": 391,
                        "remaining_time": 49.71997784,
                        "learn": [
                          0.4233216019
                        ]
                      },
                      {
                        "test": [
                          0.4332177664
                        ],
                        "passed_time": 32.13961561,
                        "iteration": 392,
                        "remaining_time": 49.64057679,
                        "learn": [
                          0.423221929
                        ]
                      },
                      {
                        "test": [
                          0.4329940871
                        ],
                        "passed_time": 32.24255086,
                        "iteration": 393,
                        "remaining_time": 49.59133457,
                        "learn": [
                          0.4230270028
                        ]
                      },
                      {
                        "test": [
                          0.4328998939
                        ],
                        "passed_time": 32.33611348,
                        "iteration": 394,
                        "remaining_time": 49.52746496,
                        "learn": [
                          0.4228802071
                        ]
                      },
                      {
                        "test": [
                          0.4329044237
                        ],
                        "passed_time": 32.41166099,
                        "iteration": 395,
                        "remaining_time": 49.43596777,
                        "learn": [
                          0.422792648
                        ]
                      },
                      {
                        "test": [
                          0.4328972516
                        ],
                        "passed_time": 32.48587268,
                        "iteration": 396,
                        "remaining_time": 49.34252198,
                        "learn": [
                          0.4227406015
                        ]
                      },
                      {
                        "test": [
                          0.4325968036
                        ],
                        "passed_time": 32.58369902,
                        "iteration": 397,
                        "remaining_time": 49.28489148,
                        "learn": [
                          0.4224870833
                        ]
                      },
                      {
                        "test": [
                          0.432555798
                        ],
                        "passed_time": 32.69291211,
                        "iteration": 398,
                        "remaining_time": 49.24421097,
                        "learn": [
                          0.4223736156
                        ]
                      },
                      {
                        "test": [
                          0.4325586383
                        ],
                        "passed_time": 32.76011119,
                        "iteration": 399,
                        "remaining_time": 49.14016679,
                        "learn": [
                          0.4223689869
                        ]
                      },
                      {
                        "test": [
                          0.4325246741
                        ],
                        "passed_time": 32.84324234,
                        "iteration": 400,
                        "remaining_time": 49.06010514,
                        "learn": [
                          0.4222657333
                        ]
                      },
                      {
                        "test": [
                          0.4325031733
                        ],
                        "passed_time": 32.91320833,
                        "iteration": 401,
                        "remaining_time": 48.96044424,
                        "learn": [
                          0.4222189797
                        ]
                      },
                      {
                        "test": [
                          0.4324592412
                        ],
                        "passed_time": 32.9828608,
                        "iteration": 402,
                        "remaining_time": 48.86046625,
                        "learn": [
                          0.4220993447
                        ]
                      },
                      {
                        "test": [
                          0.4323133788
                        ],
                        "passed_time": 33.07904011,
                        "iteration": 403,
                        "remaining_time": 48.79977204,
                        "learn": [
                          0.4219193011
                        ]
                      },
                      {
                        "test": [
                          0.4322992742
                        ],
                        "passed_time": 33.15988741,
                        "iteration": 404,
                        "remaining_time": 48.71637779,
                        "learn": [
                          0.4218688991
                        ]
                      },
                      {
                        "test": [
                          0.4322296212
                        ],
                        "passed_time": 33.24924876,
                        "iteration": 405,
                        "remaining_time": 48.64545261,
                        "learn": [
                          0.4217370589
                        ]
                      },
                      {
                        "test": [
                          0.4322068461
                        ],
                        "passed_time": 33.33341615,
                        "iteration": 406,
                        "remaining_time": 48.56686923,
                        "learn": [
                          0.4216827386
                        ]
                      },
                      {
                        "test": [
                          0.431983993
                        ],
                        "passed_time": 33.41441613,
                        "iteration": 407,
                        "remaining_time": 48.48366262,
                        "learn": [
                          0.4214313868
                        ]
                      },
                      {
                        "test": [
                          0.4319193723
                        ],
                        "passed_time": 33.49204696,
                        "iteration": 408,
                        "remaining_time": 48.39559842,
                        "learn": [
                          0.4213719643
                        ]
                      },
                      {
                        "test": [
                          0.4319128048
                        ],
                        "passed_time": 33.58162036,
                        "iteration": 409,
                        "remaining_time": 48.32477077,
                        "learn": [
                          0.4213229214
                        ]
                      },
                      {
                        "test": [
                          0.4318421153
                        ],
                        "passed_time": 33.70114193,
                        "iteration": 410,
                        "remaining_time": 48.29677031,
                        "learn": [
                          0.4212464236
                        ]
                      },
                      {
                        "test": [
                          0.4317939599
                        ],
                        "passed_time": 33.77919482,
                        "iteration": 411,
                        "remaining_time": 48.20914212,
                        "learn": [
                          0.4211043103
                        ]
                      },
                      {
                        "test": [
                          0.4317827178
                        ],
                        "passed_time": 33.84744982,
                        "iteration": 412,
                        "remaining_time": 48.10763449,
                        "learn": [
                          0.4210301857
                        ]
                      },
                      {
                        "test": [
                          0.431760904
                        ],
                        "passed_time": 33.92828067,
                        "iteration": 413,
                        "remaining_time": 48.0240881,
                        "learn": [
                          0.4209383723
                        ]
                      },
                      {
                        "test": [
                          0.4317269003
                        ],
                        "passed_time": 33.99516822,
                        "iteration": 414,
                        "remaining_time": 47.92089979,
                        "learn": [
                          0.4208835969
                        ]
                      },
                      {
                        "test": [
                          0.4317004448
                        ],
                        "passed_time": 34.07149709,
                        "iteration": 415,
                        "remaining_time": 47.83114015,
                        "learn": [
                          0.4208077309
                        ]
                      },
                      {
                        "test": [
                          0.4315881966
                        ],
                        "passed_time": 34.1529716,
                        "iteration": 416,
                        "remaining_time": 47.74863895,
                        "learn": [
                          0.4206896679
                        ]
                      },
                      {
                        "test": [
                          0.4315482939
                        ],
                        "passed_time": 34.24219949,
                        "iteration": 417,
                        "remaining_time": 47.67693804,
                        "learn": [
                          0.4206508888
                        ]
                      },
                      {
                        "test": [
                          0.4314867389
                        ],
                        "passed_time": 34.33695396,
                        "iteration": 418,
                        "remaining_time": 47.61281683,
                        "learn": [
                          0.4205559311
                        ]
                      },
                      {
                        "test": [
                          0.4314500245
                        ],
                        "passed_time": 34.41948854,
                        "iteration": 419,
                        "remaining_time": 47.53167464,
                        "learn": [
                          0.4204842557
                        ]
                      },
                      {
                        "test": [
                          0.4314040454
                        ],
                        "passed_time": 34.4902649,
                        "iteration": 420,
                        "remaining_time": 47.43435482,
                        "learn": [
                          0.4204429021
                        ]
                      },
                      {
                        "test": [
                          0.4313789534
                        ],
                        "passed_time": 34.56454037,
                        "iteration": 421,
                        "remaining_time": 47.3419534,
                        "learn": [
                          0.4203461318
                        ]
                      },
                      {
                        "test": [
                          0.4313733146
                        ],
                        "passed_time": 34.62541308,
                        "iteration": 422,
                        "remaining_time": 47.23135543,
                        "learn": [
                          0.4202785227
                        ]
                      },
                      {
                        "test": [
                          0.4313015228
                        ],
                        "passed_time": 34.74478638,
                        "iteration": 423,
                        "remaining_time": 47.20046452,
                        "learn": [
                          0.420171226
                        ]
                      },
                      {
                        "test": [
                          0.4312594603
                        ],
                        "passed_time": 34.81716688,
                        "iteration": 424,
                        "remaining_time": 47.10557871,
                        "learn": [
                          0.4200680252
                        ]
                      },
                      {
                        "test": [
                          0.4311505072
                        ],
                        "passed_time": 34.90589017,
                        "iteration": 425,
                        "remaining_time": 47.03281915,
                        "learn": [
                          0.4198652572
                        ]
                      },
                      {
                        "test": [
                          0.4311407439
                        ],
                        "passed_time": 34.97753886,
                        "iteration": 426,
                        "remaining_time": 46.93707206,
                        "learn": [
                          0.4198248867
                        ]
                      },
                      {
                        "test": [
                          0.4308935843
                        ],
                        "passed_time": 35.06828966,
                        "iteration": 427,
                        "remaining_time": 46.86696655,
                        "learn": [
                          0.4195948084
                        ]
                      },
                      {
                        "test": [
                          0.4309163051
                        ],
                        "passed_time": 35.13254602,
                        "iteration": 428,
                        "remaining_time": 46.76150065,
                        "learn": [
                          0.4195404335
                        ]
                      },
                      {
                        "test": [
                          0.4309029544
                        ],
                        "passed_time": 35.20611947,
                        "iteration": 429,
                        "remaining_time": 46.66857697,
                        "learn": [
                          0.419514442
                        ]
                      },
                      {
                        "test": [
                          0.4308177295
                        ],
                        "passed_time": 35.28302304,
                        "iteration": 430,
                        "remaining_time": 46.58013946,
                        "learn": [
                          0.4193362038
                        ]
                      },
                      {
                        "test": [
                          0.4307215524
                        ],
                        "passed_time": 35.37957507,
                        "iteration": 431,
                        "remaining_time": 46.51758944,
                        "learn": [
                          0.4192161618
                        ]
                      },
                      {
                        "test": [
                          0.4301272975
                        ],
                        "passed_time": 35.46719035,
                        "iteration": 432,
                        "remaining_time": 46.44317997,
                        "learn": [
                          0.4188345236
                        ]
                      },
                      {
                        "test": [
                          0.4301039557
                        ],
                        "passed_time": 35.55057066,
                        "iteration": 433,
                        "remaining_time": 46.36318663,
                        "learn": [
                          0.4187616537
                        ]
                      },
                      {
                        "test": [
                          0.4301086025
                        ],
                        "passed_time": 35.62402783,
                        "iteration": 434,
                        "remaining_time": 46.27028902,
                        "learn": [
                          0.4187202414
                        ]
                      },
                      {
                        "test": [
                          0.4300488509
                        ],
                        "passed_time": 35.72641523,
                        "iteration": 435,
                        "remaining_time": 46.21490411,
                        "learn": [
                          0.4186263034
                        ]
                      },
                      {
                        "test": [
                          0.4300711472
                        ],
                        "passed_time": 35.83460971,
                        "iteration": 436,
                        "remaining_time": 46.16678551,
                        "learn": [
                          0.4185285124
                        ]
                      },
                      {
                        "test": [
                          0.430043868
                        ],
                        "passed_time": 35.91653963,
                        "iteration": 437,
                        "remaining_time": 46.0846924,
                        "learn": [
                          0.4184654835
                        ]
                      },
                      {
                        "test": [
                          0.4299966651
                        ],
                        "passed_time": 35.99275561,
                        "iteration": 438,
                        "remaining_time": 45.99529817,
                        "learn": [
                          0.4183748017
                        ]
                      },
                      {
                        "test": [
                          0.4300097824
                        ],
                        "passed_time": 36.0706012,
                        "iteration": 439,
                        "remaining_time": 45.90803789,
                        "learn": [
                          0.418366328
                        ]
                      },
                      {
                        "test": [
                          0.4299310816
                        ],
                        "passed_time": 36.16231834,
                        "iteration": 440,
                        "remaining_time": 45.83840352,
                        "learn": [
                          0.4182046994
                        ]
                      },
                      {
                        "test": [
                          0.4299318551
                        ],
                        "passed_time": 36.24831592,
                        "iteration": 441,
                        "remaining_time": 45.76144861,
                        "learn": [
                          0.4181495329
                        ]
                      },
                      {
                        "test": [
                          0.4299177223
                        ],
                        "passed_time": 36.34191352,
                        "iteration": 442,
                        "remaining_time": 45.69400864,
                        "learn": [
                          0.4180574262
                        ]
                      },
                      {
                        "test": [
                          0.4297994777
                        ],
                        "passed_time": 36.43062975,
                        "iteration": 443,
                        "remaining_time": 45.62033815,
                        "learn": [
                          0.417884074
                        ]
                      },
                      {
                        "test": [
                          0.4296384587
                        ],
                        "passed_time": 36.51673038,
                        "iteration": 444,
                        "remaining_time": 45.54333789,
                        "learn": [
                          0.417668708
                        ]
                      },
                      {
                        "test": [
                          0.4296352679
                        ],
                        "passed_time": 36.60289679,
                        "iteration": 445,
                        "remaining_time": 45.46637852,
                        "learn": [
                          0.4175953469
                        ]
                      },
                      {
                        "test": [
                          0.4295229583
                        ],
                        "passed_time": 36.68544157,
                        "iteration": 446,
                        "remaining_time": 45.38489751,
                        "learn": [
                          0.4174633173
                        ]
                      },
                      {
                        "test": [
                          0.4295134293
                        ],
                        "passed_time": 36.80180012,
                        "iteration": 447,
                        "remaining_time": 45.34507515,
                        "learn": [
                          0.4174193365
                        ]
                      },
                      {
                        "test": [
                          0.4295102564
                        ],
                        "passed_time": 36.87997615,
                        "iteration": 448,
                        "remaining_time": 45.25805536,
                        "learn": [
                          0.4173653541
                        ]
                      },
                      {
                        "test": [
                          0.4294474905
                        ],
                        "passed_time": 36.95745235,
                        "iteration": 449,
                        "remaining_time": 45.17021953,
                        "learn": [
                          0.4172443729
                        ]
                      },
                      {
                        "test": [
                          0.4293572302
                        ],
                        "passed_time": 37.05121578,
                        "iteration": 450,
                        "remaining_time": 45.10225602,
                        "learn": [
                          0.4170453347
                        ]
                      },
                      {
                        "test": [
                          0.4293676771
                        ],
                        "passed_time": 37.13666573,
                        "iteration": 451,
                        "remaining_time": 45.02409916,
                        "learn": [
                          0.4169870394
                        ]
                      },
                      {
                        "test": [
                          0.4292512521
                        ],
                        "passed_time": 37.21229477,
                        "iteration": 452,
                        "remaining_time": 44.9340513,
                        "learn": [
                          0.4168804251
                        ]
                      },
                      {
                        "test": [
                          0.4292590426
                        ],
                        "passed_time": 37.28913642,
                        "iteration": 453,
                        "remaining_time": 44.8455253,
                        "learn": [
                          0.4168525213
                        ]
                      },
                      {
                        "test": [
                          0.4292323825
                        ],
                        "passed_time": 37.37291104,
                        "iteration": 454,
                        "remaining_time": 44.76535498,
                        "learn": [
                          0.4167318839
                        ]
                      },
                      {
                        "test": [
                          0.4292194371
                        ],
                        "passed_time": 37.45547143,
                        "iteration": 455,
                        "remaining_time": 44.6837203,
                        "learn": [
                          0.416682615
                        ]
                      },
                      {
                        "test": [
                          0.4291526472
                        ],
                        "passed_time": 37.53533385,
                        "iteration": 456,
                        "remaining_time": 44.59887589,
                        "learn": [
                          0.4165666714
                        ]
                      },
                      {
                        "test": [
                          0.4291442791
                        ],
                        "passed_time": 37.60841343,
                        "iteration": 457,
                        "remaining_time": 44.50602638,
                        "learn": [
                          0.4164570044
                        ]
                      },
                      {
                        "test": [
                          0.4291413005
                        ],
                        "passed_time": 37.69068439,
                        "iteration": 458,
                        "remaining_time": 44.42409641,
                        "learn": [
                          0.4164023459
                        ]
                      },
                      {
                        "test": [
                          0.4290493771
                        ],
                        "passed_time": 37.80115303,
                        "iteration": 459,
                        "remaining_time": 44.37526661,
                        "learn": [
                          0.4163040788
                        ]
                      },
                      {
                        "test": [
                          0.4288825268
                        ],
                        "passed_time": 37.93094006,
                        "iteration": 460,
                        "remaining_time": 44.34875638,
                        "learn": [
                          0.4161540059
                        ]
                      },
                      {
                        "test": [
                          0.4287363911
                        ],
                        "passed_time": 38.01820623,
                        "iteration": 461,
                        "remaining_time": 44.27228344,
                        "learn": [
                          0.4160160035
                        ]
                      },
                      {
                        "test": [
                          0.4287172635
                        ],
                        "passed_time": 38.10991681,
                        "iteration": 462,
                        "remaining_time": 44.20091864,
                        "learn": [
                          0.4159543618
                        ]
                      },
                      {
                        "test": [
                          0.428687231
                        ],
                        "passed_time": 38.19161397,
                        "iteration": 463,
                        "remaining_time": 44.1178989,
                        "learn": [
                          0.4158450727
                        ]
                      },
                      {
                        "test": [
                          0.4285936274
                        ],
                        "passed_time": 38.27113155,
                        "iteration": 464,
                        "remaining_time": 44.03237716,
                        "learn": [
                          0.4156984529
                        ]
                      },
                      {
                        "test": [
                          0.4285536146
                        ],
                        "passed_time": 38.36108468,
                        "iteration": 465,
                        "remaining_time": 43.95883952,
                        "learn": [
                          0.4156191992
                        ]
                      },
                      {
                        "test": [
                          0.4285095266
                        ],
                        "passed_time": 38.44630169,
                        "iteration": 466,
                        "remaining_time": 43.87982613,
                        "learn": [
                          0.4155134056
                        ]
                      },
                      {
                        "test": [
                          0.428475593
                        ],
                        "passed_time": 38.53188903,
                        "iteration": 467,
                        "remaining_time": 43.80120719,
                        "learn": [
                          0.4154250215
                        ]
                      },
                      {
                        "test": [
                          0.428410813
                        ],
                        "passed_time": 38.60720037,
                        "iteration": 468,
                        "remaining_time": 43.71092408,
                        "learn": [
                          0.4153711821
                        ]
                      },
                      {
                        "test": [
                          0.4284056284
                        ],
                        "passed_time": 38.6833027,
                        "iteration": 469,
                        "remaining_time": 43.62159666,
                        "learn": [
                          0.4153421668
                        ]
                      },
                      {
                        "test": [
                          0.4284067644
                        ],
                        "passed_time": 38.74142412,
                        "iteration": 470,
                        "remaining_time": 43.51213027,
                        "learn": [
                          0.4153022967
                        ]
                      },
                      {
                        "test": [
                          0.4281781017
                        ],
                        "passed_time": 38.86359757,
                        "iteration": 471,
                        "remaining_time": 43.47453287,
                        "learn": [
                          0.4150909351
                        ]
                      },
                      {
                        "test": [
                          0.428062061
                        ],
                        "passed_time": 38.95315404,
                        "iteration": 472,
                        "remaining_time": 43.40023716,
                        "learn": [
                          0.4149609727
                        ]
                      },
                      {
                        "test": [
                          0.4280028487
                        ],
                        "passed_time": 39.03623089,
                        "iteration": 473,
                        "remaining_time": 43.3186866,
                        "learn": [
                          0.414869046
                        ]
                      },
                      {
                        "test": [
                          0.4279788735
                        ],
                        "passed_time": 39.11338178,
                        "iteration": 474,
                        "remaining_time": 43.23057986,
                        "learn": [
                          0.4148090265
                        ]
                      },
                      {
                        "test": [
                          0.427910723
                        ],
                        "passed_time": 39.19674794,
                        "iteration": 475,
                        "remaining_time": 43.14936118,
                        "learn": [
                          0.4146740229
                        ]
                      },
                      {
                        "test": [
                          0.4277956116
                        ],
                        "passed_time": 39.27652991,
                        "iteration": 476,
                        "remaining_time": 43.06420366,
                        "learn": [
                          0.414539742
                        ]
                      },
                      {
                        "test": [
                          0.4278029453
                        ],
                        "passed_time": 39.35912911,
                        "iteration": 477,
                        "remaining_time": 42.98214518,
                        "learn": [
                          0.4144432523
                        ]
                      },
                      {
                        "test": [
                          0.4277705847
                        ],
                        "passed_time": 39.44556669,
                        "iteration": 478,
                        "remaining_time": 42.90425938,
                        "learn": [
                          0.4143581178
                        ]
                      },
                      {
                        "test": [
                          0.4275986403
                        ],
                        "passed_time": 39.53115523,
                        "iteration": 479,
                        "remaining_time": 42.82541817,
                        "learn": [
                          0.4142299957
                        ]
                      },
                      {
                        "test": [
                          0.4275842334
                        ],
                        "passed_time": 39.60942957,
                        "iteration": 480,
                        "remaining_time": 42.73865686,
                        "learn": [
                          0.4141765498
                        ]
                      },
                      {
                        "test": [
                          0.4275420935
                        ],
                        "passed_time": 39.68767472,
                        "iteration": 481,
                        "remaining_time": 42.65189938,
                        "learn": [
                          0.4140748713
                        ]
                      },
                      {
                        "test": [
                          0.4274813166
                        ],
                        "passed_time": 39.77663677,
                        "iteration": 482,
                        "remaining_time": 42.57664847,
                        "learn": [
                          0.4139665238
                        ]
                      },
                      {
                        "test": [
                          0.4273832779
                        ],
                        "passed_time": 39.90357255,
                        "iteration": 483,
                        "remaining_time": 42.54182528,
                        "learn": [
                          0.4138441331
                        ]
                      },
                      {
                        "test": [
                          0.4273741047
                        ],
                        "passed_time": 39.98703753,
                        "iteration": 484,
                        "remaining_time": 42.46046253,
                        "learn": [
                          0.4137842159
                        ]
                      },
                      {
                        "test": [
                          0.4273599476
                        ],
                        "passed_time": 40.06367306,
                        "iteration": 485,
                        "remaining_time": 42.37186822,
                        "learn": [
                          0.4137378918
                        ]
                      },
                      {
                        "test": [
                          0.4273125452
                        ],
                        "passed_time": 40.15234301,
                        "iteration": 486,
                        "remaining_time": 42.29599993,
                        "learn": [
                          0.4136758266
                        ]
                      },
                      {
                        "test": [
                          0.4271915707
                        ],
                        "passed_time": 40.23107877,
                        "iteration": 487,
                        "remaining_time": 42.20965641,
                        "learn": [
                          0.4135343344
                        ]
                      },
                      {
                        "test": [
                          0.4271822953
                        ],
                        "passed_time": 40.31433924,
                        "iteration": 488,
                        "remaining_time": 42.12807229,
                        "learn": [
                          0.4134746922
                        ]
                      },
                      {
                        "test": [
                          0.4270796107
                        ],
                        "passed_time": 40.40292747,
                        "iteration": 489,
                        "remaining_time": 42.05202655,
                        "learn": [
                          0.4133396088
                        ]
                      },
                      {
                        "test": [
                          0.4270991713
                        ],
                        "passed_time": 40.48189826,
                        "iteration": 490,
                        "remaining_time": 41.96595971,
                        "learn": [
                          0.4132926106
                        ]
                      },
                      {
                        "test": [
                          0.4270845184
                        ],
                        "passed_time": 40.55123709,
                        "iteration": 491,
                        "remaining_time": 41.8699765,
                        "learn": [
                          0.4132627172
                        ]
                      },
                      {
                        "test": [
                          0.4270858117
                        ],
                        "passed_time": 40.61927682,
                        "iteration": 492,
                        "remaining_time": 41.77276541,
                        "learn": [
                          0.4132511705
                        ]
                      },
                      {
                        "test": [
                          0.427043819
                        ],
                        "passed_time": 40.71315622,
                        "iteration": 493,
                        "remaining_time": 41.70213977,
                        "learn": [
                          0.4131868547
                        ]
                      },
                      {
                        "test": [
                          0.4269582853
                        ],
                        "passed_time": 40.79634893,
                        "iteration": 494,
                        "remaining_time": 41.62051759,
                        "learn": [
                          0.4129874818
                        ]
                      },
                      {
                        "test": [
                          0.4269638837
                        ],
                        "passed_time": 40.89375084,
                        "iteration": 495,
                        "remaining_time": 41.55332747,
                        "learn": [
                          0.4129088426
                        ]
                      },
                      {
                        "test": [
                          0.4269261059
                        ],
                        "passed_time": 40.99678834,
                        "iteration": 496,
                        "remaining_time": 41.49171938,
                        "learn": [
                          0.4128577241
                        ]
                      },
                      {
                        "test": [
                          0.4268313543
                        ],
                        "passed_time": 41.07867053,
                        "iteration": 497,
                        "remaining_time": 41.40861969,
                        "learn": [
                          0.4126839622
                        ]
                      },
                      {
                        "test": [
                          0.426721483
                        ],
                        "passed_time": 41.16828617,
                        "iteration": 498,
                        "remaining_time": 41.33328932,
                        "learn": [
                          0.4125704409
                        ]
                      },
                      {
                        "test": [
                          0.4266120041
                        ],
                        "passed_time": 41.25673027,
                        "iteration": 499,
                        "remaining_time": 41.25673027,
                        "learn": [
                          0.412424892
                        ]
                      },
                      {
                        "test": [
                          0.4266115589
                        ],
                        "passed_time": 41.34150328,
                        "iteration": 500,
                        "remaining_time": 41.17646734,
                        "learn": [
                          0.4123956582
                        ]
                      },
                      {
                        "test": [
                          0.4265139132
                        ],
                        "passed_time": 41.40850835,
                        "iteration": 501,
                        "remaining_time": 41.07856007,
                        "learn": [
                          0.4122239148
                        ]
                      },
                      {
                        "test": [
                          0.42639626
                        ],
                        "passed_time": 41.50807936,
                        "iteration": 502,
                        "remaining_time": 41.01295316,
                        "learn": [
                          0.4120795238
                        ]
                      },
                      {
                        "test": [
                          0.4263631764
                        ],
                        "passed_time": 41.60378969,
                        "iteration": 503,
                        "remaining_time": 40.94341207,
                        "learn": [
                          0.4120250892
                        ]
                      },
                      {
                        "test": [
                          0.4262863275
                        ],
                        "passed_time": 41.69539314,
                        "iteration": 504,
                        "remaining_time": 40.86974179,
                        "learn": [
                          0.4118801457
                        ]
                      },
                      {
                        "test": [
                          0.4262795078
                        ],
                        "passed_time": 41.78089448,
                        "iteration": 505,
                        "remaining_time": 40.79004323,
                        "learn": [
                          0.4118134644
                        ]
                      },
                      {
                        "test": [
                          0.4260962677
                        ],
                        "passed_time": 41.8801031,
                        "iteration": 506,
                        "remaining_time": 40.72365055,
                        "learn": [
                          0.4116475705
                        ]
                      },
                      {
                        "test": [
                          0.4260555341
                        ],
                        "passed_time": 42.00583008,
                        "iteration": 507,
                        "remaining_time": 40.68281181,
                        "learn": [
                          0.4115581918
                        ]
                      },
                      {
                        "test": [
                          0.4260284788
                        ],
                        "passed_time": 42.08531427,
                        "iteration": 508,
                        "remaining_time": 40.59703204,
                        "learn": [
                          0.4114634228
                        ]
                      },
                      {
                        "test": [
                          0.42594962
                        ],
                        "passed_time": 42.18130235,
                        "iteration": 509,
                        "remaining_time": 40.52713363,
                        "learn": [
                          0.4113634113
                        ]
                      },
                      {
                        "test": [
                          0.4254201326
                        ],
                        "passed_time": 42.28842355,
                        "iteration": 510,
                        "remaining_time": 40.46778692,
                        "learn": [
                          0.4109660685
                        ]
                      },
                      {
                        "test": [
                          0.4253949581
                        ],
                        "passed_time": 42.37308539,
                        "iteration": 511,
                        "remaining_time": 40.38684701,
                        "learn": [
                          0.4108823118
                        ]
                      },
                      {
                        "test": [
                          0.4253069403
                        ],
                        "passed_time": 42.4496881,
                        "iteration": 512,
                        "remaining_time": 40.29824192,
                        "learn": [
                          0.4108044063
                        ]
                      },
                      {
                        "test": [
                          0.4251966156
                        ],
                        "passed_time": 42.5306407,
                        "iteration": 513,
                        "remaining_time": 40.21379646,
                        "learn": [
                          0.4107048685
                        ]
                      },
                      {
                        "test": [
                          0.4251679577
                        ],
                        "passed_time": 42.61275808,
                        "iteration": 514,
                        "remaining_time": 40.1304615,
                        "learn": [
                          0.4105782349
                        ]
                      },
                      {
                        "test": [
                          0.4251084564
                        ],
                        "passed_time": 42.69064086,
                        "iteration": 515,
                        "remaining_time": 40.04315926,
                        "learn": [
                          0.41045472
                        ]
                      },
                      {
                        "test": [
                          0.4248689078
                        ],
                        "passed_time": 42.78695351,
                        "iteration": 516,
                        "remaining_time": 39.97311131,
                        "learn": [
                          0.4102721887
                        ]
                      },
                      {
                        "test": [
                          0.4248112083
                        ],
                        "passed_time": 42.86979251,
                        "iteration": 517,
                        "remaining_time": 39.89042469,
                        "learn": [
                          0.4101947481
                        ]
                      },
                      {
                        "test": [
                          0.4248161248
                        ],
                        "passed_time": 42.96580733,
                        "iteration": 518,
                        "remaining_time": 39.81994861,
                        "learn": [
                          0.4101678806
                        ]
                      },
                      {
                        "test": [
                          0.4247471864
                        ],
                        "passed_time": 43.08164806,
                        "iteration": 519,
                        "remaining_time": 39.76767514,
                        "learn": [
                          0.4100170003
                        ]
                      },
                      {
                        "test": [
                          0.424686255
                        ],
                        "passed_time": 43.16426762,
                        "iteration": 520,
                        "remaining_time": 39.68461457,
                        "learn": [
                          0.4099214908
                        ]
                      },
                      {
                        "test": [
                          0.4245765055
                        ],
                        "passed_time": 43.24536767,
                        "iteration": 521,
                        "remaining_time": 39.60016426,
                        "learn": [
                          0.4097549383
                        ]
                      },
                      {
                        "test": [
                          0.4245537302
                        ],
                        "passed_time": 43.3308331,
                        "iteration": 522,
                        "remaining_time": 39.5197082,
                        "learn": [
                          0.4096712182
                        ]
                      },
                      {
                        "test": [
                          0.4245441084
                        ],
                        "passed_time": 43.4358538,
                        "iteration": 523,
                        "remaining_time": 39.45699696,
                        "learn": [
                          0.4096362825
                        ]
                      },
                      {
                        "test": [
                          0.4244435144
                        ],
                        "passed_time": 43.52570022,
                        "iteration": 524,
                        "remaining_time": 39.38039544,
                        "learn": [
                          0.4095114739
                        ]
                      },
                      {
                        "test": [
                          0.4244452786
                        ],
                        "passed_time": 43.60291379,
                        "iteration": 525,
                        "remaining_time": 39.29235957,
                        "learn": [
                          0.4094132345
                        ]
                      },
                      {
                        "test": [
                          0.4244097056
                        ],
                        "passed_time": 43.68014685,
                        "iteration": 526,
                        "remaining_time": 39.20438228,
                        "learn": [
                          0.4093292762
                        ]
                      },
                      {
                        "test": [
                          0.4244096327
                        ],
                        "passed_time": 43.76954603,
                        "iteration": 527,
                        "remaining_time": 39.12732145,
                        "learn": [
                          0.4092656406
                        ]
                      },
                      {
                        "test": [
                          0.4244127852
                        ],
                        "passed_time": 43.83493173,
                        "iteration": 528,
                        "remaining_time": 39.02883336,
                        "learn": [
                          0.4092217622
                        ]
                      },
                      {
                        "test": [
                          0.4243824784
                        ],
                        "passed_time": 43.91897835,
                        "iteration": 529,
                        "remaining_time": 38.94701854,
                        "learn": [
                          0.4091244455
                        ]
                      },
                      {
                        "test": [
                          0.4243940893
                        ],
                        "passed_time": 44.02993627,
                        "iteration": 530,
                        "remaining_time": 38.88896442,
                        "learn": [
                          0.4090645148
                        ]
                      },
                      {
                        "test": [
                          0.4243928001
                        ],
                        "passed_time": 44.10091792,
                        "iteration": 531,
                        "remaining_time": 38.79554434,
                        "learn": [
                          0.4090597635
                        ]
                      },
                      {
                        "test": [
                          0.4243822727
                        ],
                        "passed_time": 44.17178575,
                        "iteration": 532,
                        "remaining_time": 38.70210872,
                        "learn": [
                          0.40904517
                        ]
                      },
                      {
                        "test": [
                          0.4243449793
                        ],
                        "passed_time": 44.26045201,
                        "iteration": 533,
                        "remaining_time": 38.62428958,
                        "learn": [
                          0.4089671448
                        ]
                      },
                      {
                        "test": [
                          0.4242337056
                        ],
                        "passed_time": 44.32900617,
                        "iteration": 534,
                        "remaining_time": 38.52894929,
                        "learn": [
                          0.4088380952
                        ]
                      },
                      {
                        "test": [
                          0.4242089798
                        ],
                        "passed_time": 44.43228695,
                        "iteration": 535,
                        "remaining_time": 38.46377079,
                        "learn": [
                          0.4087584865
                        ]
                      },
                      {
                        "test": [
                          0.4241404251
                        ],
                        "passed_time": 44.51463948,
                        "iteration": 536,
                        "remaining_time": 38.38040611,
                        "learn": [
                          0.4086948813
                        ]
                      },
                      {
                        "test": [
                          0.4241365973
                        ],
                        "passed_time": 44.58046064,
                        "iteration": 537,
                        "remaining_time": 38.2828491,
                        "learn": [
                          0.4086904704
                        ]
                      },
                      {
                        "test": [
                          0.4240510527
                        ],
                        "passed_time": 44.65908168,
                        "iteration": 538,
                        "remaining_time": 38.19635743,
                        "learn": [
                          0.4086287189
                        ]
                      },
                      {
                        "test": [
                          0.4240408784
                        ],
                        "passed_time": 44.75834767,
                        "iteration": 539,
                        "remaining_time": 38.12748135,
                        "learn": [
                          0.4085776304
                        ]
                      },
                      {
                        "test": [
                          0.4240383928
                        ],
                        "passed_time": 44.83618284,
                        "iteration": 540,
                        "remaining_time": 38.04031039,
                        "learn": [
                          0.4085198018
                        ]
                      },
                      {
                        "test": [
                          0.4238993838
                        ],
                        "passed_time": 44.91720373,
                        "iteration": 541,
                        "remaining_time": 37.95586588,
                        "learn": [
                          0.4084062809
                        ]
                      },
                      {
                        "test": [
                          0.4239030876
                        ],
                        "passed_time": 44.97510093,
                        "iteration": 542,
                        "remaining_time": 37.8519726,
                        "learn": [
                          0.4084006456
                        ]
                      },
                      {
                        "test": [
                          0.4238549311
                        ],
                        "passed_time": 45.0943016,
                        "iteration": 543,
                        "remaining_time": 37.79963516,
                        "learn": [
                          0.4083150573
                        ]
                      },
                      {
                        "test": [
                          0.4238609729
                        ],
                        "passed_time": 45.16968934,
                        "iteration": 544,
                        "remaining_time": 37.71047459,
                        "learn": [
                          0.408270408
                        ]
                      },
                      {
                        "test": [
                          0.4238408048
                        ],
                        "passed_time": 45.24436944,
                        "iteration": 545,
                        "remaining_time": 37.62077605,
                        "learn": [
                          0.4082017613
                        ]
                      },
                      {
                        "test": [
                          0.4237810247
                        ],
                        "passed_time": 45.34150855,
                        "iteration": 546,
                        "remaining_time": 37.54973195,
                        "learn": [
                          0.4080399757
                        ]
                      },
                      {
                        "test": [
                          0.4237737912
                        ],
                        "passed_time": 45.4266142,
                        "iteration": 547,
                        "remaining_time": 37.46866718,
                        "learn": [
                          0.4080022182
                        ]
                      },
                      {
                        "test": [
                          0.4237731294
                        ],
                        "passed_time": 45.51500397,
                        "iteration": 548,
                        "remaining_time": 37.39028559,
                        "learn": [
                          0.4079201034
                        ]
                      },
                      {
                        "test": [
                          0.4237801845
                        ],
                        "passed_time": 45.58448531,
                        "iteration": 549,
                        "remaining_time": 37.29639708,
                        "learn": [
                          0.4078791315
                        ]
                      },
                      {
                        "test": [
                          0.4237754072
                        ],
                        "passed_time": 45.66860621,
                        "iteration": 550,
                        "remaining_time": 37.21452666,
                        "learn": [
                          0.4078504427
                        ]
                      },
                      {
                        "test": [
                          0.4237512487
                        ],
                        "passed_time": 45.74424515,
                        "iteration": 551,
                        "remaining_time": 37.12576418,
                        "learn": [
                          0.4078028417
                        ]
                      },
                      {
                        "test": [
                          0.4237352436
                        ],
                        "passed_time": 45.8282733,
                        "iteration": 552,
                        "remaining_time": 37.04383031,
                        "learn": [
                          0.4077845708
                        ]
                      },
                      {
                        "test": [
                          0.4237076832
                        ],
                        "passed_time": 45.90296269,
                        "iteration": 553,
                        "remaining_time": 36.95437069,
                        "learn": [
                          0.4077253167
                        ]
                      },
                      {
                        "test": [
                          0.4237122547
                        ],
                        "passed_time": 45.97455563,
                        "iteration": 554,
                        "remaining_time": 36.86248154,
                        "learn": [
                          0.4076463023
                        ]
                      },
                      {
                        "test": [
                          0.4232087242
                        ],
                        "passed_time": 46.11335089,
                        "iteration": 555,
                        "remaining_time": 36.82433056,
                        "learn": [
                          0.4072890605
                        ]
                      },
                      {
                        "test": [
                          0.4230663561
                        ],
                        "passed_time": 46.21341445,
                        "iteration": 556,
                        "remaining_time": 36.75501364,
                        "learn": [
                          0.407122613
                        ]
                      },
                      {
                        "test": [
                          0.4230489428
                        ],
                        "passed_time": 46.29028011,
                        "iteration": 557,
                        "remaining_time": 36.66721113,
                        "learn": [
                          0.4069945574
                        ]
                      },
                      {
                        "test": [
                          0.4230476591
                        ],
                        "passed_time": 46.35940336,
                        "iteration": 558,
                        "remaining_time": 36.57333968,
                        "learn": [
                          0.4069927018
                        ]
                      },
                      {
                        "test": [
                          0.4230186526
                        ],
                        "passed_time": 46.43499918,
                        "iteration": 559,
                        "remaining_time": 36.48464221,
                        "learn": [
                          0.4069250072
                        ]
                      },
                      {
                        "test": [
                          0.4229652999
                        ],
                        "passed_time": 46.52438217,
                        "iteration": 560,
                        "remaining_time": 36.40678034,
                        "learn": [
                          0.4068227554
                        ]
                      },
                      {
                        "test": [
                          0.422835291
                        ],
                        "passed_time": 46.61418992,
                        "iteration": 561,
                        "remaining_time": 36.32920852,
                        "learn": [
                          0.4066724854
                        ]
                      },
                      {
                        "test": [
                          0.422829196
                        ],
                        "passed_time": 46.69636645,
                        "iteration": 562,
                        "remaining_time": 36.24566988,
                        "learn": [
                          0.4066221048
                        ]
                      },
                      {
                        "test": [
                          0.4228346667
                        ],
                        "passed_time": 46.79131397,
                        "iteration": 563,
                        "remaining_time": 36.17200867,
                        "learn": [
                          0.4065831092
                        ]
                      },
                      {
                        "test": [
                          0.4227469274
                        ],
                        "passed_time": 46.88249821,
                        "iteration": 564,
                        "remaining_time": 36.09537473,
                        "learn": [
                          0.4064897539
                        ]
                      },
                      {
                        "test": [
                          0.422676716
                        ],
                        "passed_time": 46.96334108,
                        "iteration": 565,
                        "remaining_time": 36.01075977,
                        "learn": [
                          0.4063152095
                        ]
                      },
                      {
                        "test": [
                          0.4225036184
                        ],
                        "passed_time": 47.06072476,
                        "iteration": 566,
                        "remaining_time": 35.93878981,
                        "learn": [
                          0.4061271881
                        ]
                      },
                      {
                        "test": [
                          0.4225144617
                        ],
                        "passed_time": 47.17496838,
                        "iteration": 567,
                        "remaining_time": 35.87955342,
                        "learn": [
                          0.4060864798
                        ]
                      },
                      {
                        "test": [
                          0.4225188739
                        ],
                        "passed_time": 47.25447431,
                        "iteration": 568,
                        "remaining_time": 35.79381094,
                        "learn": [
                          0.4060606291
                        ]
                      },
                      {
                        "test": [
                          0.4224803194
                        ],
                        "passed_time": 47.33580114,
                        "iteration": 569,
                        "remaining_time": 35.70946402,
                        "learn": [
                          0.4059802639
                        ]
                      },
                      {
                        "test": [
                          0.4224886281
                        ],
                        "passed_time": 47.41410925,
                        "iteration": 570,
                        "remaining_time": 35.62285966,
                        "learn": [
                          0.4059379378
                        ]
                      },
                      {
                        "test": [
                          0.4224882526
                        ],
                        "passed_time": 47.47598056,
                        "iteration": 571,
                        "remaining_time": 35.52398546,
                        "learn": [
                          0.4059375869
                        ]
                      },
                      {
                        "test": [
                          0.4224322809
                        ],
                        "passed_time": 47.55450676,
                        "iteration": 572,
                        "remaining_time": 35.43765163,
                        "learn": [
                          0.405867392
                        ]
                      },
                      {
                        "test": [
                          0.4224394882
                        ],
                        "passed_time": 47.61452158,
                        "iteration": 573,
                        "remaining_time": 35.33760661,
                        "learn": [
                          0.4058447999
                        ]
                      },
                      {
                        "test": [
                          0.4223913987
                        ],
                        "passed_time": 47.70620326,
                        "iteration": 574,
                        "remaining_time": 35.26110675,
                        "learn": [
                          0.4057638615
                        ]
                      },
                      {
                        "test": [
                          0.4223801156
                        ],
                        "passed_time": 47.79008108,
                        "iteration": 575,
                        "remaining_time": 35.17880969,
                        "learn": [
                          0.4057072666
                        ]
                      },
                      {
                        "test": [
                          0.4223397757
                        ],
                        "passed_time": 47.87728837,
                        "iteration": 576,
                        "remaining_time": 35.09894798,
                        "learn": [
                          0.4056149788
                        ]
                      },
                      {
                        "test": [
                          0.4222978493
                        ],
                        "passed_time": 47.96838785,
                        "iteration": 577,
                        "remaining_time": 35.02190255,
                        "learn": [
                          0.4055024432
                        ]
                      },
                      {
                        "test": [
                          0.422265082
                        ],
                        "passed_time": 48.05199889,
                        "iteration": 578,
                        "remaining_time": 34.93936362,
                        "learn": [
                          0.405392228
                        ]
                      },
                      {
                        "test": [
                          0.4222630315
                        ],
                        "passed_time": 48.11148723,
                        "iteration": 579,
                        "remaining_time": 34.83935282,
                        "learn": [
                          0.4053494765
                        ]
                      },
                      {
                        "test": [
                          0.4222653238
                        ],
                        "passed_time": 48.2488109,
                        "iteration": 580,
                        "remaining_time": 34.79561406,
                        "learn": [
                          0.4052839199
                        ]
                      },
                      {
                        "test": [
                          0.4222601542
                        ],
                        "passed_time": 48.32990332,
                        "iteration": 581,
                        "remaining_time": 34.71116767,
                        "learn": [
                          0.4052424487
                        ]
                      },
                      {
                        "test": [
                          0.4221851938
                        ],
                        "passed_time": 48.43316272,
                        "iteration": 582,
                        "remaining_time": 34.64258809,
                        "learn": [
                          0.4050900943
                        ]
                      },
                      {
                        "test": [
                          0.4221654455
                        ],
                        "passed_time": 48.50123833,
                        "iteration": 583,
                        "remaining_time": 34.5488273,
                        "learn": [
                          0.4049822781
                        ]
                      },
                      {
                        "test": [
                          0.4221360483
                        ],
                        "passed_time": 48.58839264,
                        "iteration": 584,
                        "remaining_time": 34.4686888,
                        "learn": [
                          0.4049158441
                        ]
                      },
                      {
                        "test": [
                          0.4220393245
                        ],
                        "passed_time": 48.66523711,
                        "iteration": 585,
                        "remaining_time": 34.3812426,
                        "learn": [
                          0.4047977241
                        ]
                      },
                      {
                        "test": [
                          0.4218924976
                        ],
                        "passed_time": 48.75415014,
                        "iteration": 586,
                        "remaining_time": 34.30232369,
                        "learn": [
                          0.404578676
                        ]
                      },
                      {
                        "test": [
                          0.4217682287
                        ],
                        "passed_time": 48.82432503,
                        "iteration": 587,
                        "remaining_time": 34.21024135,
                        "learn": [
                          0.4044890556
                        ]
                      },
                      {
                        "test": [
                          0.4214186137
                        ],
                        "passed_time": 48.91882391,
                        "iteration": 588,
                        "remaining_time": 34.1352065,
                        "learn": [
                          0.4042206485
                        ]
                      },
                      {
                        "test": [
                          0.4214273393
                        ],
                        "passed_time": 48.99439363,
                        "iteration": 589,
                        "remaining_time": 34.04695151,
                        "learn": [
                          0.4041719404
                        ]
                      },
                      {
                        "test": [
                          0.4213963321
                        ],
                        "passed_time": 49.08154984,
                        "iteration": 590,
                        "remaining_time": 33.96675784,
                        "learn": [
                          0.4040415642
                        ]
                      },
                      {
                        "test": [
                          0.4214162637
                        ],
                        "passed_time": 49.16962659,
                        "iteration": 591,
                        "remaining_time": 33.88717508,
                        "learn": [
                          0.4039510849
                        ]
                      },
                      {
                        "test": [
                          0.4213628226
                        ],
                        "passed_time": 49.33861712,
                        "iteration": 592,
                        "remaining_time": 33.86309809,
                        "learn": [
                          0.4039230117
                        ]
                      },
                      {
                        "test": [
                          0.4213630439
                        ],
                        "passed_time": 49.41247058,
                        "iteration": 593,
                        "remaining_time": 33.77350683,
                        "learn": [
                          0.4038933666
                        ]
                      },
                      {
                        "test": [
                          0.4213535719
                        ],
                        "passed_time": 49.49942206,
                        "iteration": 594,
                        "remaining_time": 33.69288392,
                        "learn": [
                          0.4038529211
                        ]
                      },
                      {
                        "test": [
                          0.421361358
                        ],
                        "passed_time": 49.58419478,
                        "iteration": 595,
                        "remaining_time": 33.61076291,
                        "learn": [
                          0.4037567373
                        ]
                      },
                      {
                        "test": [
                          0.4211995877
                        ],
                        "passed_time": 49.66325888,
                        "iteration": 596,
                        "remaining_time": 33.52477944,
                        "learn": [
                          0.4036069566
                        ]
                      },
                      {
                        "test": [
                          0.4211259339
                        ],
                        "passed_time": 49.75005894,
                        "iteration": 597,
                        "remaining_time": 33.44401956,
                        "learn": [
                          0.4034800629
                        ]
                      },
                      {
                        "test": [
                          0.4209599604
                        ],
                        "passed_time": 49.84827813,
                        "iteration": 598,
                        "remaining_time": 33.37088402,
                        "learn": [
                          0.4033009185
                        ]
                      },
                      {
                        "test": [
                          0.4209496098
                        ],
                        "passed_time": 49.93057421,
                        "iteration": 599,
                        "remaining_time": 33.28704947,
                        "learn": [
                          0.4032333574
                        ]
                      },
                      {
                        "test": [
                          0.4209393482
                        ],
                        "passed_time": 50.00798738,
                        "iteration": 600,
                        "remaining_time": 33.19997831,
                        "learn": [
                          0.4032120888
                        ]
                      },
                      {
                        "test": [
                          0.4209154323
                        ],
                        "passed_time": 50.08639712,
                        "iteration": 601,
                        "remaining_time": 33.1135981,
                        "learn": [
                          0.4031689641
                        ]
                      },
                      {
                        "test": [
                          0.4208709841
                        ],
                        "passed_time": 50.17200837,
                        "iteration": 602,
                        "remaining_time": 33.03198561,
                        "learn": [
                          0.4030704272
                        ]
                      },
                      {
                        "test": [
                          0.4206767156
                        ],
                        "passed_time": 50.26657255,
                        "iteration": 603,
                        "remaining_time": 32.95622968,
                        "learn": [
                          0.4028999254
                        ]
                      },
                      {
                        "test": [
                          0.4206293651
                        ],
                        "passed_time": 50.38166074,
                        "iteration": 604,
                        "remaining_time": 32.89381156,
                        "learn": [
                          0.4027731896
                        ]
                      },
                      {
                        "test": [
                          0.4206162682
                        ],
                        "passed_time": 50.48248628,
                        "iteration": 605,
                        "remaining_time": 32.82194653,
                        "learn": [
                          0.4027137281
                        ]
                      },
                      {
                        "test": [
                          0.4205284769
                        ],
                        "passed_time": 50.56456999,
                        "iteration": 606,
                        "remaining_time": 32.73785174,
                        "learn": [
                          0.4025895527
                        ]
                      },
                      {
                        "test": [
                          0.4199851241
                        ],
                        "passed_time": 50.64943714,
                        "iteration": 607,
                        "remaining_time": 32.65555815,
                        "learn": [
                          0.4022455979
                        ]
                      },
                      {
                        "test": [
                          0.4199851625
                        ],
                        "passed_time": 50.71117131,
                        "iteration": 608,
                        "remaining_time": 32.55840391,
                        "learn": [
                          0.4022455852
                        ]
                      },
                      {
                        "test": [
                          0.419944568
                        ],
                        "passed_time": 50.79517291,
                        "iteration": 609,
                        "remaining_time": 32.47560235,
                        "learn": [
                          0.4021498307
                        ]
                      },
                      {
                        "test": [
                          0.419760673
                        ],
                        "passed_time": 50.89390131,
                        "iteration": 610,
                        "remaining_time": 32.40217285,
                        "learn": [
                          0.4019549559
                        ]
                      },
                      {
                        "test": [
                          0.4197533832
                        ],
                        "passed_time": 50.97595904,
                        "iteration": 611,
                        "remaining_time": 32.31809168,
                        "learn": [
                          0.4019172525
                        ]
                      },
                      {
                        "test": [
                          0.4196877566
                        ],
                        "passed_time": 51.05688744,
                        "iteration": 612,
                        "remaining_time": 32.23330414,
                        "learn": [
                          0.4018644285
                        ]
                      },
                      {
                        "test": [
                          0.4196470485
                        ],
                        "passed_time": 51.15088991,
                        "iteration": 613,
                        "remaining_time": 32.15674838,
                        "learn": [
                          0.4017666609
                        ]
                      },
                      {
                        "test": [
                          0.4196042544
                        ],
                        "passed_time": 51.23162824,
                        "iteration": 614,
                        "remaining_time": 32.07183231,
                        "learn": [
                          0.401718551
                        ]
                      },
                      {
                        "test": [
                          0.4195728575
                        ],
                        "passed_time": 51.36094391,
                        "iteration": 615,
                        "remaining_time": 32.01721179,
                        "learn": [
                          0.401631674
                        ]
                      },
                      {
                        "test": [
                          0.4195681827
                        ],
                        "passed_time": 51.43459266,
                        "iteration": 616,
                        "remaining_time": 31.92779415,
                        "learn": [
                          0.4015991941
                        ]
                      },
                      {
                        "test": [
                          0.4194605093
                        ],
                        "passed_time": 51.52815289,
                        "iteration": 617,
                        "remaining_time": 31.85073528,
                        "learn": [
                          0.4014457372
                        ]
                      },
                      {
                        "test": [
                          0.4195054052
                        ],
                        "passed_time": 51.59927876,
                        "iteration": 618,
                        "remaining_time": 31.75981455,
                        "learn": [
                          0.401404988
                        ]
                      },
                      {
                        "test": [
                          0.4194552543
                        ],
                        "passed_time": 51.67387176,
                        "iteration": 619,
                        "remaining_time": 31.67108269,
                        "learn": [
                          0.4013249765
                        ]
                      },
                      {
                        "test": [
                          0.4193728004
                        ],
                        "passed_time": 51.75463519,
                        "iteration": 620,
                        "remaining_time": 31.58616222,
                        "learn": [
                          0.4011944915
                        ]
                      },
                      {
                        "test": [
                          0.4193299954
                        ],
                        "passed_time": 51.83214651,
                        "iteration": 621,
                        "remaining_time": 31.49927875,
                        "learn": [
                          0.401141129
                        ]
                      },
                      {
                        "test": [
                          0.4193103481
                        ],
                        "passed_time": 51.91110353,
                        "iteration": 622,
                        "remaining_time": 31.41330021,
                        "learn": [
                          0.4010905079
                        ]
                      },
                      {
                        "test": [
                          0.4191295153
                        ],
                        "passed_time": 52.01115514,
                        "iteration": 623,
                        "remaining_time": 31.34005502,
                        "learn": [
                          0.4008946162
                        ]
                      },
                      {
                        "test": [
                          0.4190661055
                        ],
                        "passed_time": 52.09900175,
                        "iteration": 624,
                        "remaining_time": 31.25940105,
                        "learn": [
                          0.4007923841
                        ]
                      },
                      {
                        "test": [
                          0.419023778
                        ],
                        "passed_time": 52.18033569,
                        "iteration": 625,
                        "remaining_time": 31.17483314,
                        "learn": [
                          0.4007431691
                        ]
                      },
                      {
                        "test": [
                          0.4189538125
                        ],
                        "passed_time": 52.26960845,
                        "iteration": 626,
                        "remaining_time": 31.09499833,
                        "learn": [
                          0.4006225356
                        ]
                      },
                      {
                        "test": [
                          0.4188903653
                        ],
                        "passed_time": 52.38237267,
                        "iteration": 627,
                        "remaining_time": 31.02904878,
                        "learn": [
                          0.400471902
                        ]
                      },
                      {
                        "test": [
                          0.4188637928
                        ],
                        "passed_time": 52.48367117,
                        "iteration": 628,
                        "remaining_time": 30.95618761,
                        "learn": [
                          0.4004155192
                        ]
                      },
                      {
                        "test": [
                          0.4187422791
                        ],
                        "passed_time": 52.58238542,
                        "iteration": 629,
                        "remaining_time": 30.88171842,
                        "learn": [
                          0.4002972388
                        ]
                      },
                      {
                        "test": [
                          0.4187313892
                        ],
                        "passed_time": 52.66719318,
                        "iteration": 630,
                        "remaining_time": 30.79904007,
                        "learn": [
                          0.4002468866
                        ]
                      },
                      {
                        "test": [
                          0.4187512457
                        ],
                        "passed_time": 52.74848909,
                        "iteration": 631,
                        "remaining_time": 30.7143101,
                        "learn": [
                          0.4001724389
                        ]
                      },
                      {
                        "test": [
                          0.4186323538
                        ],
                        "passed_time": 52.82053751,
                        "iteration": 632,
                        "remaining_time": 30.62422949,
                        "learn": [
                          0.3999943147
                        ]
                      },
                      {
                        "test": [
                          0.418574495
                        ],
                        "passed_time": 52.90661491,
                        "iteration": 633,
                        "remaining_time": 30.54230451,
                        "learn": [
                          0.3998810002
                        ]
                      },
                      {
                        "test": [
                          0.4185125045
                        ],
                        "passed_time": 52.98712668,
                        "iteration": 634,
                        "remaining_time": 30.45716731,
                        "learn": [
                          0.3997656868
                        ]
                      },
                      {
                        "test": [
                          0.4184917058
                        ],
                        "passed_time": 53.0708553,
                        "iteration": 635,
                        "remaining_time": 30.37388574,
                        "learn": [
                          0.3996661364
                        ]
                      },
                      {
                        "test": [
                          0.4183649862
                        ],
                        "passed_time": 53.16545311,
                        "iteration": 636,
                        "remaining_time": 30.29679667,
                        "learn": [
                          0.3995371615
                        ]
                      },
                      {
                        "test": [
                          0.4182864365
                        ],
                        "passed_time": 53.24421243,
                        "iteration": 637,
                        "remaining_time": 30.21066599,
                        "learn": [
                          0.3994572904
                        ]
                      },
                      {
                        "test": [
                          0.4182828282
                        ],
                        "passed_time": 53.32377091,
                        "iteration": 638,
                        "remaining_time": 30.12500985,
                        "learn": [
                          0.3994225161
                        ]
                      },
                      {
                        "test": [
                          0.4182841406
                        ],
                        "passed_time": 53.42526963,
                        "iteration": 639,
                        "remaining_time": 30.05171417,
                        "learn": [
                          0.3993668907
                        ]
                      },
                      {
                        "test": [
                          0.4182391755
                        ],
                        "passed_time": 53.53029743,
                        "iteration": 640,
                        "remaining_time": 29.98030698,
                        "learn": [
                          0.3992939978
                        ]
                      },
                      {
                        "test": [
                          0.4182277529
                        ],
                        "passed_time": 53.61538251,
                        "iteration": 641,
                        "remaining_time": 29.89767436,
                        "learn": [
                          0.3992152881
                        ]
                      },
                      {
                        "test": [
                          0.4182351952
                        ],
                        "passed_time": 53.68546161,
                        "iteration": 642,
                        "remaining_time": 29.80670264,
                        "learn": [
                          0.3991784332
                        ]
                      },
                      {
                        "test": [
                          0.4182155961
                        ],
                        "passed_time": 53.76614281,
                        "iteration": 643,
                        "remaining_time": 29.72165658,
                        "learn": [
                          0.3990607172
                        ]
                      },
                      {
                        "test": [
                          0.4181018807
                        ],
                        "passed_time": 53.85367622,
                        "iteration": 644,
                        "remaining_time": 29.64039544,
                        "learn": [
                          0.3988749198
                        ]
                      },
                      {
                        "test": [
                          0.4180620283
                        ],
                        "passed_time": 53.93714058,
                        "iteration": 645,
                        "remaining_time": 29.55688508,
                        "learn": [
                          0.3987756248
                        ]
                      },
                      {
                        "test": [
                          0.4177605332
                        ],
                        "passed_time": 54.02666464,
                        "iteration": 646,
                        "remaining_time": 29.47668102,
                        "learn": [
                          0.3985247523
                        ]
                      },
                      {
                        "test": [
                          0.4177646945
                        ],
                        "passed_time": 54.09699253,
                        "iteration": 647,
                        "remaining_time": 29.38602063,
                        "learn": [
                          0.3984777207
                        ]
                      },
                      {
                        "test": [
                          0.4177628111
                        ],
                        "passed_time": 54.1699707,
                        "iteration": 648,
                        "remaining_time": 29.29685626,
                        "learn": [
                          0.3984650316
                        ]
                      },
                      {
                        "test": [
                          0.4176975697
                        ],
                        "passed_time": 54.25644716,
                        "iteration": 649,
                        "remaining_time": 29.21501001,
                        "learn": [
                          0.3983105514
                        ]
                      },
                      {
                        "test": [
                          0.4177043103
                        ],
                        "passed_time": 54.3310337,
                        "iteration": 650,
                        "remaining_time": 29.12677536,
                        "learn": [
                          0.3982832183
                        ]
                      },
                      {
                        "test": [
                          0.4177327252
                        ],
                        "passed_time": 54.41997394,
                        "iteration": 651,
                        "remaining_time": 29.04624376,
                        "learn": [
                          0.3982139429
                        ]
                      },
                      {
                        "test": [
                          0.4177113811
                        ],
                        "passed_time": 54.52772804,
                        "iteration": 652,
                        "remaining_time": 28.97568397,
                        "learn": [
                          0.3981713423
                        ]
                      },
                      {
                        "test": [
                          0.4176700764
                        ],
                        "passed_time": 54.63688836,
                        "iteration": 653,
                        "remaining_time": 28.90575439,
                        "learn": [
                          0.3981123635
                        ]
                      },
                      {
                        "test": [
                          0.4176326013
                        ],
                        "passed_time": 54.71888356,
                        "iteration": 654,
                        "remaining_time": 28.82139668,
                        "learn": [
                          0.3980325256
                        ]
                      },
                      {
                        "test": [
                          0.4176261074
                        ],
                        "passed_time": 54.7988087,
                        "iteration": 655,
                        "remaining_time": 28.73596066,
                        "learn": [
                          0.3979995668
                        ]
                      },
                      {
                        "test": [
                          0.4175540647
                        ],
                        "passed_time": 54.89423958,
                        "iteration": 656,
                        "remaining_time": 28.65863649,
                        "learn": [
                          0.3978617092
                        ]
                      },
                      {
                        "test": [
                          0.4175351917
                        ],
                        "passed_time": 54.9768299,
                        "iteration": 657,
                        "remaining_time": 28.57458332,
                        "learn": [
                          0.3978005215
                        ]
                      },
                      {
                        "test": [
                          0.4173552537
                        ],
                        "passed_time": 55.06933984,
                        "iteration": 658,
                        "remaining_time": 28.49566751,
                        "learn": [
                          0.3976137777
                        ]
                      },
                      {
                        "test": [
                          0.4173486486
                        ],
                        "passed_time": 55.1574031,
                        "iteration": 659,
                        "remaining_time": 28.41441978,
                        "learn": [
                          0.3975424914
                        ]
                      },
                      {
                        "test": [
                          0.417284152
                        ],
                        "passed_time": 55.24277011,
                        "iteration": 660,
                        "remaining_time": 28.33176863,
                        "learn": [
                          0.3974438929
                        ]
                      },
                      {
                        "test": [
                          0.4172318711
                        ],
                        "passed_time": 55.32391695,
                        "iteration": 661,
                        "remaining_time": 28.24695457,
                        "learn": [
                          0.3973629605
                        ]
                      },
                      {
                        "test": [
                          0.4172276257
                        ],
                        "passed_time": 55.39275436,
                        "iteration": 662,
                        "remaining_time": 28.15589475,
                        "learn": [
                          0.3973355025
                        ]
                      },
                      {
                        "test": [
                          0.417143566
                        ],
                        "passed_time": 55.52447919,
                        "iteration": 663,
                        "remaining_time": 28.09672441,
                        "learn": [
                          0.3972180699
                        ]
                      },
                      {
                        "test": [
                          0.4171316758
                        ],
                        "passed_time": 55.59421281,
                        "iteration": 664,
                        "remaining_time": 28.00610721,
                        "learn": [
                          0.3971459847
                        ]
                      },
                      {
                        "test": [
                          0.4170843186
                        ],
                        "passed_time": 55.69311269,
                        "iteration": 665,
                        "remaining_time": 27.93017964,
                        "learn": [
                          0.3969563548
                        ]
                      },
                      {
                        "test": [
                          0.4170843264
                        ],
                        "passed_time": 55.76947901,
                        "iteration": 666,
                        "remaining_time": 27.8429333,
                        "learn": [
                          0.3969530895
                        ]
                      },
                      {
                        "test": [
                          0.417119222
                        ],
                        "passed_time": 55.84716648,
                        "iteration": 667,
                        "remaining_time": 27.75637615,
                        "learn": [
                          0.3969055314
                        ]
                      },
                      {
                        "test": [
                          0.4170731181
                        ],
                        "passed_time": 55.9274797,
                        "iteration": 668,
                        "remaining_time": 27.67114466,
                        "learn": [
                          0.3968307903
                        ]
                      },
                      {
                        "test": [
                          0.4170468758
                        ],
                        "passed_time": 56.0075441,
                        "iteration": 669,
                        "remaining_time": 27.5858053,
                        "learn": [
                          0.3967672791
                        ]
                      },
                      {
                        "test": [
                          0.4170505301
                        ],
                        "passed_time": 56.06384656,
                        "iteration": 670,
                        "remaining_time": 27.48883087,
                        "learn": [
                          0.3967517897
                        ]
                      },
                      {
                        "test": [
                          0.4170332022
                        ],
                        "passed_time": 56.15430667,
                        "iteration": 671,
                        "remaining_time": 27.40864968,
                        "learn": [
                          0.3967092693
                        ]
                      },
                      {
                        "test": [
                          0.416993556
                        ],
                        "passed_time": 56.24335688,
                        "iteration": 672,
                        "remaining_time": 27.3277529,
                        "learn": [
                          0.3966204513
                        ]
                      },
                      {
                        "test": [
                          0.4169424791
                        ],
                        "passed_time": 56.33368847,
                        "iteration": 673,
                        "remaining_time": 27.24745169,
                        "learn": [
                          0.3965448918
                        ]
                      },
                      {
                        "test": [
                          0.4168710791
                        ],
                        "passed_time": 56.40997577,
                        "iteration": 674,
                        "remaining_time": 27.16035871,
                        "learn": [
                          0.3964319534
                        ]
                      },
                      {
                        "test": [
                          0.4167535309
                        ],
                        "passed_time": 56.52851941,
                        "iteration": 675,
                        "remaining_time": 27.09355072,
                        "learn": [
                          0.3962500996
                        ]
                      },
                      {
                        "test": [
                          0.4167443893
                        ],
                        "passed_time": 56.61284889,
                        "iteration": 676,
                        "remaining_time": 27.01026616,
                        "learn": [
                          0.3962150271
                        ]
                      },
                      {
                        "test": [
                          0.4167418992
                        ],
                        "passed_time": 56.68454119,
                        "iteration": 677,
                        "remaining_time": 26.92097679,
                        "learn": [
                          0.3961824897
                        ]
                      },
                      {
                        "test": [
                          0.4162869938
                        ],
                        "passed_time": 56.77733321,
                        "iteration": 678,
                        "remaining_time": 26.84171423,
                        "learn": [
                          0.3959066059
                        ]
                      },
                      {
                        "test": [
                          0.4162808737
                        ],
                        "passed_time": 56.85703735,
                        "iteration": 679,
                        "remaining_time": 26.75625287,
                        "learn": [
                          0.3958361331
                        ]
                      },
                      {
                        "test": [
                          0.416238707
                        ],
                        "passed_time": 56.94173235,
                        "iteration": 680,
                        "remaining_time": 26.67314629,
                        "learn": [
                          0.3957579724
                        ]
                      },
                      {
                        "test": [
                          0.4161892244
                        ],
                        "passed_time": 57.04118533,
                        "iteration": 681,
                        "remaining_time": 26.59691633,
                        "learn": [
                          0.3956441415
                        ]
                      },
                      {
                        "test": [
                          0.4161071564
                        ],
                        "passed_time": 57.13008652,
                        "iteration": 682,
                        "remaining_time": 26.51572097,
                        "learn": [
                          0.3955315702
                        ]
                      },
                      {
                        "test": [
                          0.416042751
                        ],
                        "passed_time": 57.22745799,
                        "iteration": 683,
                        "remaining_time": 26.43841626,
                        "learn": [
                          0.3954200684
                        ]
                      },
                      {
                        "test": [
                          0.4159704841
                        ],
                        "passed_time": 57.31452603,
                        "iteration": 684,
                        "remaining_time": 26.35631489,
                        "learn": [
                          0.3953156645
                        ]
                      },
                      {
                        "test": [
                          0.4157540801
                        ],
                        "passed_time": 57.4046984,
                        "iteration": 685,
                        "remaining_time": 26.27561997,
                        "learn": [
                          0.3951529368
                        ]
                      },
                      {
                        "test": [
                          0.4155277688
                        ],
                        "passed_time": 57.49355987,
                        "iteration": 686,
                        "remaining_time": 26.1943002,
                        "learn": [
                          0.3949659717
                        ]
                      },
                      {
                        "test": [
                          0.4155569155
                        ],
                        "passed_time": 57.60762611,
                        "iteration": 687,
                        "remaining_time": 26.12438858,
                        "learn": [
                          0.3949210891
                        ]
                      },
                      {
                        "test": [
                          0.4155174574
                        ],
                        "passed_time": 57.69473157,
                        "iteration": 688,
                        "remaining_time": 26.04217927,
                        "learn": [
                          0.3948672646
                        ]
                      },
                      {
                        "test": [
                          0.4154998497
                        ],
                        "passed_time": 57.77919497,
                        "iteration": 689,
                        "remaining_time": 25.95876876,
                        "learn": [
                          0.3948090293
                        ]
                      },
                      {
                        "test": [
                          0.4153936868
                        ],
                        "passed_time": 57.86123585,
                        "iteration": 690,
                        "remaining_time": 25.87427189,
                        "learn": [
                          0.3946415453
                        ]
                      },
                      {
                        "test": [
                          0.4153827112
                        ],
                        "passed_time": 57.93331671,
                        "iteration": 691,
                        "remaining_time": 25.78534906,
                        "learn": [
                          0.3945943162
                        ]
                      },
                      {
                        "test": [
                          0.4153380615
                        ],
                        "passed_time": 58.01862808,
                        "iteration": 692,
                        "remaining_time": 25.70233596,
                        "learn": [
                          0.3943915869
                        ]
                      },
                      {
                        "test": [
                          0.4153214237
                        ],
                        "passed_time": 58.08745442,
                        "iteration": 693,
                        "remaining_time": 25.61204763,
                        "learn": [
                          0.3943137324
                        ]
                      },
                      {
                        "test": [
                          0.4153209165
                        ],
                        "passed_time": 58.1655635,
                        "iteration": 694,
                        "remaining_time": 25.52589477,
                        "learn": [
                          0.3942574313
                        ]
                      },
                      {
                        "test": [
                          0.4153263686
                        ],
                        "passed_time": 58.24410254,
                        "iteration": 695,
                        "remaining_time": 25.43995284,
                        "learn": [
                          0.3942265776
                        ]
                      },
                      {
                        "test": [
                          0.4149895162
                        ],
                        "passed_time": 58.34062967,
                        "iteration": 696,
                        "remaining_time": 25.36185192,
                        "learn": [
                          0.3939261354
                        ]
                      },
                      {
                        "test": [
                          0.4149903048
                        ],
                        "passed_time": 58.41984181,
                        "iteration": 697,
                        "remaining_time": 25.27620663,
                        "learn": [
                          0.3937676922
                        ]
                      },
                      {
                        "test": [
                          0.4149393023
                        ],
                        "passed_time": 58.51185869,
                        "iteration": 698,
                        "remaining_time": 25.19609366,
                        "learn": [
                          0.3936521776
                        ]
                      },
                      {
                        "test": [
                          0.4149410542
                        ],
                        "passed_time": 58.63948469,
                        "iteration": 699,
                        "remaining_time": 25.13120773,
                        "learn": [
                          0.3935989563
                        ]
                      },
                      {
                        "test": [
                          0.4147180346
                        ],
                        "passed_time": 58.74251036,
                        "iteration": 700,
                        "remaining_time": 25.05564992,
                        "learn": [
                          0.3934166543
                        ]
                      },
                      {
                        "test": [
                          0.4146815066
                        ],
                        "passed_time": 58.83059085,
                        "iteration": 701,
                        "remaining_time": 24.97366962,
                        "learn": [
                          0.3933540297
                        ]
                      },
                      {
                        "test": [
                          0.4147048246
                        ],
                        "passed_time": 58.90285078,
                        "iteration": 702,
                        "remaining_time": 24.88498817,
                        "learn": [
                          0.3933054653
                        ]
                      },
                      {
                        "test": [
                          0.4145595972
                        ],
                        "passed_time": 58.99903763,
                        "iteration": 703,
                        "remaining_time": 24.80641355,
                        "learn": [
                          0.3931209265
                        ]
                      },
                      {
                        "test": [
                          0.414488443
                        ],
                        "passed_time": 59.07915671,
                        "iteration": 704,
                        "remaining_time": 24.72106558,
                        "learn": [
                          0.3929724573
                        ]
                      },
                      {
                        "test": [
                          0.4144314916
                        ],
                        "passed_time": 59.17920453,
                        "iteration": 705,
                        "remaining_time": 24.64403135,
                        "learn": [
                          0.3928409092
                        ]
                      },
                      {
                        "test": [
                          0.4143857803
                        ],
                        "passed_time": 59.27265912,
                        "iteration": 706,
                        "remaining_time": 24.56419961,
                        "learn": [
                          0.3927959008
                        ]
                      },
                      {
                        "test": [
                          0.4143611357
                        ],
                        "passed_time": 59.34056124,
                        "iteration": 707,
                        "remaining_time": 24.47379079,
                        "learn": [
                          0.392742704
                        ]
                      },
                      {
                        "test": [
                          0.4143461068
                        ],
                        "passed_time": 59.40733655,
                        "iteration": 708,
                        "remaining_time": 24.38298299,
                        "learn": [
                          0.3927168074
                        ]
                      },
                      {
                        "test": [
                          0.4143548954
                        ],
                        "passed_time": 59.49449647,
                        "iteration": 709,
                        "remaining_time": 24.30056898,
                        "learn": [
                          0.3926433245
                        ]
                      },
                      {
                        "test": [
                          0.4142982332
                        ],
                        "passed_time": 59.5807729,
                        "iteration": 710,
                        "remaining_time": 24.21778252,
                        "learn": [
                          0.3925582838
                        ]
                      },
                      {
                        "test": [
                          0.4142641217
                        ],
                        "passed_time": 59.69012665,
                        "iteration": 711,
                        "remaining_time": 24.14432089,
                        "learn": [
                          0.3924652252
                        ]
                      },
                      {
                        "test": [
                          0.4142429576
                        ],
                        "passed_time": 59.78068472,
                        "iteration": 712,
                        "remaining_time": 24.06319287,
                        "learn": [
                          0.3923682144
                        ]
                      },
                      {
                        "test": [
                          0.4142412364
                        ],
                        "passed_time": 59.85596923,
                        "iteration": 713,
                        "remaining_time": 23.97592045,
                        "learn": [
                          0.3923200342
                        ]
                      },
                      {
                        "test": [
                          0.4142269869
                        ],
                        "passed_time": 59.94039578,
                        "iteration": 714,
                        "remaining_time": 23.89232559,
                        "learn": [
                          0.3922842605
                        ]
                      },
                      {
                        "test": [
                          0.4141700575
                        ],
                        "passed_time": 60.02126747,
                        "iteration": 715,
                        "remaining_time": 23.80731838,
                        "learn": [
                          0.3921968399
                        ]
                      },
                      {
                        "test": [
                          0.4141551029
                        ],
                        "passed_time": 60.08953599,
                        "iteration": 716,
                        "remaining_time": 23.71734824,
                        "learn": [
                          0.3921760521
                        ]
                      },
                      {
                        "test": [
                          0.4140201905
                        ],
                        "passed_time": 60.17493789,
                        "iteration": 717,
                        "remaining_time": 23.63416781,
                        "learn": [
                          0.3920095581
                        ]
                      },
                      {
                        "test": [
                          0.4139906346
                        ],
                        "passed_time": 60.27372336,
                        "iteration": 718,
                        "remaining_time": 23.55621177,
                        "learn": [
                          0.3919658526
                        ]
                      },
                      {
                        "test": [
                          0.4139720494
                        ],
                        "passed_time": 60.36370918,
                        "iteration": 719,
                        "remaining_time": 23.47477579,
                        "learn": [
                          0.3919132736
                        ]
                      },
                      {
                        "test": [
                          0.4140008774
                        ],
                        "passed_time": 60.45193004,
                        "iteration": 720,
                        "remaining_time": 23.39263312,
                        "learn": [
                          0.3918755878
                        ]
                      },
                      {
                        "test": [
                          0.4140108928
                        ],
                        "passed_time": 60.52631472,
                        "iteration": 721,
                        "remaining_time": 23.30514611,
                        "learn": [
                          0.3918370476
                        ]
                      },
                      {
                        "test": [
                          0.4139991092
                        ],
                        "passed_time": 60.6217969,
                        "iteration": 722,
                        "remaining_time": 23.22577834,
                        "learn": [
                          0.391755384
                        ]
                      },
                      {
                        "test": [
                          0.4139337861
                        ],
                        "passed_time": 60.73349564,
                        "iteration": 723,
                        "remaining_time": 23.15254806,
                        "learn": [
                          0.3916596764
                        ]
                      },
                      {
                        "test": [
                          0.413933153
                        ],
                        "passed_time": 60.81235927,
                        "iteration": 724,
                        "remaining_time": 23.06675696,
                        "learn": [
                          0.3916264127
                        ]
                      },
                      {
                        "test": [
                          0.4139239777
                        ],
                        "passed_time": 60.89495391,
                        "iteration": 725,
                        "remaining_time": 22.98239307,
                        "learn": [
                          0.391556058
                        ]
                      },
                      {
                        "test": [
                          0.4138832293
                        ],
                        "passed_time": 60.97115013,
                        "iteration": 726,
                        "remaining_time": 22.89563134,
                        "learn": [
                          0.3914505722
                        ]
                      },
                      {
                        "test": [
                          0.4139034942
                        ],
                        "passed_time": 61.05148943,
                        "iteration": 727,
                        "remaining_time": 22.8104466,
                        "learn": [
                          0.3913767663
                        ]
                      },
                      {
                        "test": [
                          0.4139363002
                        ],
                        "passed_time": 61.15072682,
                        "iteration": 728,
                        "remaining_time": 22.73230037,
                        "learn": [
                          0.3912837292
                        ]
                      },
                      {
                        "test": [
                          0.4138995491
                        ],
                        "passed_time": 61.22371253,
                        "iteration": 729,
                        "remaining_time": 22.64438683,
                        "learn": [
                          0.3912249079
                        ]
                      },
                      {
                        "test": [
                          0.4138767107
                        ],
                        "passed_time": 61.30219497,
                        "iteration": 730,
                        "remaining_time": 22.55853686,
                        "learn": [
                          0.3911769212
                        ]
                      },
                      {
                        "test": [
                          0.4137412023
                        ],
                        "passed_time": 61.38557318,
                        "iteration": 731,
                        "remaining_time": 22.47449947,
                        "learn": [
                          0.3910397141
                        ]
                      },
                      {
                        "test": [
                          0.4136758929
                        ],
                        "passed_time": 61.45896172,
                        "iteration": 732,
                        "remaining_time": 22.38682507,
                        "learn": [
                          0.3909946004
                        ]
                      },
                      {
                        "test": [
                          0.4136508211
                        ],
                        "passed_time": 61.54576562,
                        "iteration": 733,
                        "remaining_time": 22.3040513,
                        "learn": [
                          0.3909408637
                        ]
                      },
                      {
                        "test": [
                          0.4135447162
                        ],
                        "passed_time": 61.63582963,
                        "iteration": 734,
                        "remaining_time": 22.22244197,
                        "learn": [
                          0.3908119289
                        ]
                      },
                      {
                        "test": [
                          0.4135549745
                        ],
                        "passed_time": 61.70757588,
                        "iteration": 735,
                        "remaining_time": 22.13423917,
                        "learn": [
                          0.3907535257
                        ]
                      },
                      {
                        "test": [
                          0.413565364
                        ],
                        "passed_time": 61.82521043,
                        "iteration": 736,
                        "remaining_time": 22.06245637,
                        "learn": [
                          0.3907119777
                        ]
                      },
                      {
                        "test": [
                          0.4135154021
                        ],
                        "passed_time": 61.89445314,
                        "iteration": 737,
                        "remaining_time": 21.97336954,
                        "learn": [
                          0.3906372806
                        ]
                      },
                      {
                        "test": [
                          0.4135135695
                        ],
                        "passed_time": 61.98020785,
                        "iteration": 738,
                        "remaining_time": 21.89016813,
                        "learn": [
                          0.3906148618
                        ]
                      },
                      {
                        "test": [
                          0.4135040408
                        ],
                        "passed_time": 62.03486212,
                        "iteration": 739,
                        "remaining_time": 21.79603264,
                        "learn": [
                          0.3905801347
                        ]
                      },
                      {
                        "test": [
                          0.4134963336
                        ],
                        "passed_time": 62.12162216,
                        "iteration": 740,
                        "remaining_time": 21.71322556,
                        "learn": [
                          0.39055855
                        ]
                      },
                      {
                        "test": [
                          0.4134974333
                        ],
                        "passed_time": 62.2018088,
                        "iteration": 741,
                        "remaining_time": 21.6281222,
                        "learn": [
                          0.3905287484
                        ]
                      },
                      {
                        "test": [
                          0.4135386404
                        ],
                        "passed_time": 62.28629251,
                        "iteration": 742,
                        "remaining_time": 21.54451841,
                        "learn": [
                          0.3904733941
                        ]
                      },
                      {
                        "test": [
                          0.4134090565
                        ],
                        "passed_time": 62.37156794,
                        "iteration": 743,
                        "remaining_time": 21.46118467,
                        "learn": [
                          0.3903247708
                        ]
                      },
                      {
                        "test": [
                          0.4134075201
                        ],
                        "passed_time": 62.45539071,
                        "iteration": 744,
                        "remaining_time": 21.3773485,
                        "learn": [
                          0.3903086388
                        ]
                      },
                      {
                        "test": [
                          0.4133878965
                        ],
                        "passed_time": 62.53654117,
                        "iteration": 745,
                        "remaining_time": 21.29260249,
                        "learn": [
                          0.3902430294
                        ]
                      },
                      {
                        "test": [
                          0.4133697221
                        ],
                        "passed_time": 62.62787089,
                        "iteration": 746,
                        "remaining_time": 21.2113137,
                        "learn": [
                          0.3900839894
                        ]
                      },
                      {
                        "test": [
                          0.4133732919
                        ],
                        "passed_time": 62.70716293,
                        "iteration": 747,
                        "remaining_time": 21.12594259,
                        "learn": [
                          0.39002193
                        ]
                      },
                      {
                        "test": [
                          0.4133974034
                        ],
                        "passed_time": 62.81930807,
                        "iteration": 748,
                        "remaining_time": 21.05159723,
                        "learn": [
                          0.3899624856
                        ]
                      },
                      {
                        "test": [
                          0.4129411629
                        ],
                        "passed_time": 62.92444542,
                        "iteration": 749,
                        "remaining_time": 20.97481514,
                        "learn": [
                          0.3896636463
                        ]
                      },
                      {
                        "test": [
                          0.4129485652
                        ],
                        "passed_time": 62.98720251,
                        "iteration": 750,
                        "remaining_time": 20.88390603,
                        "learn": [
                          0.3896422906
                        ]
                      },
                      {
                        "test": [
                          0.4129204378
                        ],
                        "passed_time": 63.07624574,
                        "iteration": 751,
                        "remaining_time": 20.80174062,
                        "learn": [
                          0.3895847595
                        ]
                      },
                      {
                        "test": [
                          0.4128128191
                        ],
                        "passed_time": 63.15735982,
                        "iteration": 752,
                        "remaining_time": 20.71695601,
                        "learn": [
                          0.389383766
                        ]
                      },
                      {
                        "test": [
                          0.412752524
                        ],
                        "passed_time": 63.24429413,
                        "iteration": 753,
                        "remaining_time": 20.63408005,
                        "learn": [
                          0.3892292096
                        ]
                      },
                      {
                        "test": [
                          0.4127324377
                        ],
                        "passed_time": 63.32529526,
                        "iteration": 754,
                        "remaining_time": 20.549268,
                        "learn": [
                          0.389154358
                        ]
                      },
                      {
                        "test": [
                          0.4127167974
                        ],
                        "passed_time": 63.39914467,
                        "iteration": 755,
                        "remaining_time": 20.4621578,
                        "learn": [
                          0.3891031722
                        ]
                      },
                      {
                        "test": [
                          0.4126456062
                        ],
                        "passed_time": 63.47868016,
                        "iteration": 756,
                        "remaining_time": 20.3769079,
                        "learn": [
                          0.3890379055
                        ]
                      },
                      {
                        "test": [
                          0.4125766634
                        ],
                        "passed_time": 63.55608281,
                        "iteration": 757,
                        "remaining_time": 20.29099214,
                        "learn": [
                          0.3889341202
                        ]
                      },
                      {
                        "test": [
                          0.4125775203
                        ],
                        "passed_time": 63.64166799,
                        "iteration": 758,
                        "remaining_time": 20.20769695,
                        "learn": [
                          0.3888939126
                        ]
                      },
                      {
                        "test": [
                          0.4125329072
                        ],
                        "passed_time": 63.7364578,
                        "iteration": 759,
                        "remaining_time": 20.12730246,
                        "learn": [
                          0.3888190993
                        ]
                      },
                      {
                        "test": [
                          0.4125311775
                        ],
                        "passed_time": 63.85282352,
                        "iteration": 760,
                        "remaining_time": 20.05364628,
                        "learn": [
                          0.3887733297
                        ]
                      },
                      {
                        "test": [
                          0.4125417685
                        ],
                        "passed_time": 63.95418354,
                        "iteration": 761,
                        "remaining_time": 19.97519118,
                        "learn": [
                          0.3887512791
                        ]
                      },
                      {
                        "test": [
                          0.4124760319
                        ],
                        "passed_time": 64.04060488,
                        "iteration": 762,
                        "remaining_time": 19.89203585,
                        "learn": [
                          0.3885905809
                        ]
                      },
                      {
                        "test": [
                          0.4124381156
                        ],
                        "passed_time": 64.12242202,
                        "iteration": 763,
                        "remaining_time": 19.80744973,
                        "learn": [
                          0.3885124474
                        ]
                      },
                      {
                        "test": [
                          0.4123677984
                        ],
                        "passed_time": 64.19158355,
                        "iteration": 764,
                        "remaining_time": 19.71898318,
                        "learn": [
                          0.3884036278
                        ]
                      },
                      {
                        "test": [
                          0.4123906932
                        ],
                        "passed_time": 64.26828211,
                        "iteration": 765,
                        "remaining_time": 19.63286947,
                        "learn": [
                          0.3883567277
                        ]
                      },
                      {
                        "test": [
                          0.4123876219
                        ],
                        "passed_time": 64.35672679,
                        "iteration": 766,
                        "remaining_time": 19.55034856,
                        "learn": [
                          0.3883278283
                        ]
                      },
                      {
                        "test": [
                          0.4123899598
                        ],
                        "passed_time": 64.42739128,
                        "iteration": 767,
                        "remaining_time": 19.46244112,
                        "learn": [
                          0.3882717572
                        ]
                      },
                      {
                        "test": [
                          0.4123458075
                        ],
                        "passed_time": 64.50529142,
                        "iteration": 768,
                        "remaining_time": 19.37675204,
                        "learn": [
                          0.3882329945
                        ]
                      },
                      {
                        "test": [
                          0.4123627686
                        ],
                        "passed_time": 64.58610531,
                        "iteration": 769,
                        "remaining_time": 19.29195354,
                        "learn": [
                          0.3881766163
                        ]
                      },
                      {
                        "test": [
                          0.4123046926
                        ],
                        "passed_time": 64.69453977,
                        "iteration": 770,
                        "remaining_time": 19.21536914,
                        "learn": [
                          0.3880524313
                        ]
                      },
                      {
                        "test": [
                          0.4120480169
                        ],
                        "passed_time": 64.78699031,
                        "iteration": 771,
                        "remaining_time": 19.13398159,
                        "learn": [
                          0.3878809547
                        ]
                      },
                      {
                        "test": [
                          0.4119696011
                        ],
                        "passed_time": 64.8954493,
                        "iteration": 772,
                        "remaining_time": 19.05726648,
                        "learn": [
                          0.3877569464
                        ]
                      },
                      {
                        "test": [
                          0.4119499237
                        ],
                        "passed_time": 64.99865573,
                        "iteration": 773,
                        "remaining_time": 18.97893565,
                        "learn": [
                          0.3876575617
                        ]
                      },
                      {
                        "test": [
                          0.4119038095
                        ],
                        "passed_time": 65.08377397,
                        "iteration": 774,
                        "remaining_time": 18.89528922,
                        "learn": [
                          0.3875936934
                        ]
                      },
                      {
                        "test": [
                          0.4118906247
                        ],
                        "passed_time": 65.17575456,
                        "iteration": 775,
                        "remaining_time": 18.81361987,
                        "learn": [
                          0.3875585464
                        ]
                      },
                      {
                        "test": [
                          0.4117783971
                        ],
                        "passed_time": 65.26013755,
                        "iteration": 776,
                        "remaining_time": 18.72974347,
                        "learn": [
                          0.387334725
                        ]
                      },
                      {
                        "test": [
                          0.4117454287
                        ],
                        "passed_time": 65.35417736,
                        "iteration": 777,
                        "remaining_time": 18.6486213,
                        "learn": [
                          0.3872542256
                        ]
                      },
                      {
                        "test": [
                          0.4116565511
                        ],
                        "passed_time": 65.44632925,
                        "iteration": 778,
                        "remaining_time": 18.56693038,
                        "learn": [
                          0.3871039313
                        ]
                      },
                      {
                        "test": [
                          0.4116386792
                        ],
                        "passed_time": 65.52282533,
                        "iteration": 779,
                        "remaining_time": 18.48079689,
                        "learn": [
                          0.3870435332
                        ]
                      },
                      {
                        "test": [
                          0.4116400716
                        ],
                        "passed_time": 65.58492442,
                        "iteration": 780,
                        "remaining_time": 18.39065102,
                        "learn": [
                          0.3870193094
                        ]
                      },
                      {
                        "test": [
                          0.4115979814
                        ],
                        "passed_time": 65.67067461,
                        "iteration": 781,
                        "remaining_time": 18.30717016,
                        "learn": [
                          0.3869640171
                        ]
                      },
                      {
                        "test": [
                          0.4115533608
                        ],
                        "passed_time": 65.75622678,
                        "iteration": 782,
                        "remaining_time": 18.22362862,
                        "learn": [
                          0.3869051436
                        ]
                      },
                      {
                        "test": [
                          0.4115078671
                        ],
                        "passed_time": 65.8432112,
                        "iteration": 783,
                        "remaining_time": 18.14047656,
                        "learn": [
                          0.3867914733
                        ]
                      },
                      {
                        "test": [
                          0.4114606228
                        ],
                        "passed_time": 66.00198035,
                        "iteration": 784,
                        "remaining_time": 18.07697551,
                        "learn": [
                          0.3867199865
                        ]
                      },
                      {
                        "test": [
                          0.4114591716
                        ],
                        "passed_time": 66.10145411,
                        "iteration": 785,
                        "remaining_time": 17.99708801,
                        "learn": [
                          0.386651741
                        ]
                      },
                      {
                        "test": [
                          0.4113943331
                        ],
                        "passed_time": 66.18192623,
                        "iteration": 786,
                        "remaining_time": 17.91200799,
                        "learn": [
                          0.3864937434
                        ]
                      },
                      {
                        "test": [
                          0.4113102067
                        ],
                        "passed_time": 66.27365873,
                        "iteration": 787,
                        "remaining_time": 17.8299691,
                        "learn": [
                          0.3863611441
                        ]
                      },
                      {
                        "test": [
                          0.4111480583
                        ],
                        "passed_time": 66.36323115,
                        "iteration": 788,
                        "remaining_time": 17.74732797,
                        "learn": [
                          0.3862241993
                        ]
                      },
                      {
                        "test": [
                          0.4111057139
                        ],
                        "passed_time": 66.44214743,
                        "iteration": 789,
                        "remaining_time": 17.66183666,
                        "learn": [
                          0.3861469638
                        ]
                      },
                      {
                        "test": [
                          0.4110870117
                        ],
                        "passed_time": 66.50987622,
                        "iteration": 790,
                        "remaining_time": 17.57340598,
                        "learn": [
                          0.3860589456
                        ]
                      },
                      {
                        "test": [
                          0.4110624858
                        ],
                        "passed_time": 66.58417624,
                        "iteration": 791,
                        "remaining_time": 17.48675336,
                        "learn": [
                          0.3859746439
                        ]
                      },
                      {
                        "test": [
                          0.4110565151
                        ],
                        "passed_time": 66.6744798,
                        "iteration": 792,
                        "remaining_time": 17.40430935,
                        "learn": [
                          0.3858851867
                        ]
                      },
                      {
                        "test": [
                          0.4110366971
                        ],
                        "passed_time": 66.75967289,
                        "iteration": 793,
                        "remaining_time": 17.32051967,
                        "learn": [
                          0.3858167073
                        ]
                      },
                      {
                        "test": [
                          0.4110226571
                        ],
                        "passed_time": 66.8413771,
                        "iteration": 794,
                        "remaining_time": 17.2358268,
                        "learn": [
                          0.3857943139
                        ]
                      },
                      {
                        "test": [
                          0.4109906324
                        ],
                        "passed_time": 66.91551732,
                        "iteration": 795,
                        "remaining_time": 17.14920293,
                        "learn": [
                          0.3857495422
                        ]
                      },
                      {
                        "test": [
                          0.4109958904
                        ],
                        "passed_time": 66.98902413,
                        "iteration": 796,
                        "remaining_time": 17.06244906,
                        "learn": [
                          0.3857131822
                        ]
                      },
                      {
                        "test": [
                          0.4109957669
                        ],
                        "passed_time": 67.12482655,
                        "iteration": 797,
                        "remaining_time": 16.99149745,
                        "learn": [
                          0.3857063884
                        ]
                      },
                      {
                        "test": [
                          0.4109216002
                        ],
                        "passed_time": 67.20907572,
                        "iteration": 798,
                        "remaining_time": 16.90741454,
                        "learn": [
                          0.3856222749
                        ]
                      },
                      {
                        "test": [
                          0.410902769
                        ],
                        "passed_time": 67.29312453,
                        "iteration": 799,
                        "remaining_time": 16.82328113,
                        "learn": [
                          0.3855310026
                        ]
                      },
                      {
                        "test": [
                          0.4108971613
                        ],
                        "passed_time": 67.35634975,
                        "iteration": 800,
                        "remaining_time": 16.73397453,
                        "learn": [
                          0.3854879672
                        ]
                      },
                      {
                        "test": [
                          0.4108968292
                        ],
                        "passed_time": 67.43876104,
                        "iteration": 801,
                        "remaining_time": 16.64946968,
                        "learn": [
                          0.3854507252
                        ]
                      },
                      {
                        "test": [
                          0.4108889162
                        ],
                        "passed_time": 67.52143315,
                        "iteration": 802,
                        "remaining_time": 16.56503404,
                        "learn": [
                          0.385319107
                        ]
                      },
                      {
                        "test": [
                          0.4108792137
                        ],
                        "passed_time": 67.61221025,
                        "iteration": 803,
                        "remaining_time": 16.48257862,
                        "learn": [
                          0.3852530282
                        ]
                      },
                      {
                        "test": [
                          0.4108135451
                        ],
                        "passed_time": 67.69629005,
                        "iteration": 804,
                        "remaining_time": 16.3984802,
                        "learn": [
                          0.3852017394
                        ]
                      },
                      {
                        "test": [
                          0.4107918847
                        ],
                        "passed_time": 67.77648894,
                        "iteration": 805,
                        "remaining_time": 16.31344771,
                        "learn": [
                          0.3851789245
                        ]
                      },
                      {
                        "test": [
                          0.4108021999
                        ],
                        "passed_time": 67.8572387,
                        "iteration": 806,
                        "remaining_time": 16.22855895,
                        "learn": [
                          0.3851281402
                        ]
                      },
                      {
                        "test": [
                          0.4107864453
                        ],
                        "passed_time": 67.93031906,
                        "iteration": 807,
                        "remaining_time": 16.14185799,
                        "learn": [
                          0.385083546
                        ]
                      },
                      {
                        "test": [
                          0.4108187773
                        ],
                        "passed_time": 68.01682542,
                        "iteration": 808,
                        "remaining_time": 16.05836051,
                        "learn": [
                          0.3850523977
                        ]
                      },
                      {
                        "test": [
                          0.4107606321
                        ],
                        "passed_time": 68.16433959,
                        "iteration": 809,
                        "remaining_time": 15.98916608,
                        "learn": [
                          0.3849556873
                        ]
                      },
                      {
                        "test": [
                          0.4107831363
                        ],
                        "passed_time": 68.23425838,
                        "iteration": 810,
                        "remaining_time": 15.90169523,
                        "learn": [
                          0.3848930759
                        ]
                      },
                      {
                        "test": [
                          0.4107935718
                        ],
                        "passed_time": 68.31965588,
                        "iteration": 811,
                        "remaining_time": 15.81785136,
                        "learn": [
                          0.3848449606
                        ]
                      },
                      {
                        "test": [
                          0.410772627
                        ],
                        "passed_time": 68.3993266,
                        "iteration": 812,
                        "remaining_time": 15.73268644,
                        "learn": [
                          0.3847907397
                        ]
                      },
                      {
                        "test": [
                          0.4107607272
                        ],
                        "passed_time": 68.48016144,
                        "iteration": 813,
                        "remaining_time": 15.64780102,
                        "learn": [
                          0.3847463767
                        ]
                      },
                      {
                        "test": [
                          0.4107087231
                        ],
                        "passed_time": 68.55841865,
                        "iteration": 814,
                        "remaining_time": 15.56234043,
                        "learn": [
                          0.3846449671
                        ]
                      },
                      {
                        "test": [
                          0.4105472436
                        ],
                        "passed_time": 68.63723026,
                        "iteration": 815,
                        "remaining_time": 15.47702251,
                        "learn": [
                          0.3845127082
                        ]
                      },
                      {
                        "test": [
                          0.4105531422
                        ],
                        "passed_time": 68.71851917,
                        "iteration": 816,
                        "remaining_time": 15.39227541,
                        "learn": [
                          0.3845014328
                        ]
                      },
                      {
                        "test": [
                          0.4105494817
                        ],
                        "passed_time": 68.78921566,
                        "iteration": 817,
                        "remaining_time": 15.30518001,
                        "learn": [
                          0.3844638686
                        ]
                      },
                      {
                        "test": [
                          0.4103836697
                        ],
                        "passed_time": 68.87385227,
                        "iteration": 818,
                        "remaining_time": 15.22120545,
                        "learn": [
                          0.3843426301
                        ]
                      },
                      {
                        "test": [
                          0.4103036877
                        ],
                        "passed_time": 68.95501963,
                        "iteration": 819,
                        "remaining_time": 15.13646772,
                        "learn": [
                          0.3842097737
                        ]
                      },
                      {
                        "test": [
                          0.4102696626
                        ],
                        "passed_time": 69.03381374,
                        "iteration": 820,
                        "remaining_time": 15.05122127,
                        "learn": [
                          0.3841519701
                        ]
                      },
                      {
                        "test": [
                          0.4102652738
                        ],
                        "passed_time": 69.18328944,
                        "iteration": 821,
                        "remaining_time": 14.98129625,
                        "learn": [
                          0.3840653564
                        ]
                      },
                      {
                        "test": [
                          0.4102275857
                        ],
                        "passed_time": 69.26960351,
                        "iteration": 822,
                        "remaining_time": 14.89759395,
                        "learn": [
                          0.383958123
                        ]
                      },
                      {
                        "test": [
                          0.4102100064
                        ],
                        "passed_time": 69.34716287,
                        "iteration": 823,
                        "remaining_time": 14.81201537,
                        "learn": [
                          0.3839128019
                        ]
                      },
                      {
                        "test": [
                          0.4099653272
                        ],
                        "passed_time": 69.4359646,
                        "iteration": 824,
                        "remaining_time": 14.72884097,
                        "learn": [
                          0.3837000655
                        ]
                      },
                      {
                        "test": [
                          0.4096032765
                        ],
                        "passed_time": 69.53582558,
                        "iteration": 825,
                        "remaining_time": 14.64798263,
                        "learn": [
                          0.3834525035
                        ]
                      },
                      {
                        "test": [
                          0.409536603
                        ],
                        "passed_time": 69.64273828,
                        "iteration": 826,
                        "remaining_time": 14.56855347,
                        "learn": [
                          0.3833026434
                        ]
                      },
                      {
                        "test": [
                          0.4094972699
                        ],
                        "passed_time": 69.74807832,
                        "iteration": 827,
                        "remaining_time": 14.48873125,
                        "learn": [
                          0.3832323436
                        ]
                      },
                      {
                        "test": [
                          0.4094543611
                        ],
                        "passed_time": 69.83094588,
                        "iteration": 828,
                        "remaining_time": 14.404212,
                        "learn": [
                          0.3832170185
                        ]
                      },
                      {
                        "test": [
                          0.4094353078
                        ],
                        "passed_time": 69.90153865,
                        "iteration": 829,
                        "remaining_time": 14.31718262,
                        "learn": [
                          0.3831795286
                        ]
                      },
                      {
                        "test": [
                          0.409455617
                        ],
                        "passed_time": 69.96744007,
                        "iteration": 830,
                        "remaining_time": 14.22923872,
                        "learn": [
                          0.3831390296
                        ]
                      },
                      {
                        "test": [
                          0.4094436008
                        ],
                        "passed_time": 70.0436235,
                        "iteration": 831,
                        "remaining_time": 14.14342398,
                        "learn": [
                          0.3831264724
                        ]
                      },
                      {
                        "test": [
                          0.4092791201
                        ],
                        "passed_time": 70.1305928,
                        "iteration": 832,
                        "remaining_time": 14.05979472,
                        "learn": [
                          0.3829710523
                        ]
                      },
                      {
                        "test": [
                          0.4092059186
                        ],
                        "passed_time": 70.27318272,
                        "iteration": 833,
                        "remaining_time": 13.98722821,
                        "learn": [
                          0.3828761387
                        ]
                      },
                      {
                        "test": [
                          0.4092250589
                        ],
                        "passed_time": 70.35324944,
                        "iteration": 834,
                        "remaining_time": 13.90213911,
                        "learn": [
                          0.3828311454
                        ]
                      },
                      {
                        "test": [
                          0.4092275227
                        ],
                        "passed_time": 70.43693608,
                        "iteration": 835,
                        "remaining_time": 13.81777215,
                        "learn": [
                          0.3827871411
                        ]
                      },
                      {
                        "test": [
                          0.4092188519
                        ],
                        "passed_time": 70.52082652,
                        "iteration": 836,
                        "remaining_time": 13.7334465,
                        "learn": [
                          0.3826969027
                        ]
                      },
                      {
                        "test": [
                          0.409228799
                        ],
                        "passed_time": 70.61163258,
                        "iteration": 837,
                        "remaining_time": 13.6504588,
                        "learn": [
                          0.3826394306
                        ]
                      },
                      {
                        "test": [
                          0.409190344
                        ],
                        "passed_time": 70.71629076,
                        "iteration": 838,
                        "remaining_time": 13.57011062,
                        "learn": [
                          0.3825541658
                        ]
                      },
                      {
                        "test": [
                          0.4091518353
                        ],
                        "passed_time": 70.78875673,
                        "iteration": 839,
                        "remaining_time": 13.48357271,
                        "learn": [
                          0.382394611
                        ]
                      },
                      {
                        "test": [
                          0.4091517249
                        ],
                        "passed_time": 70.86336223,
                        "iteration": 840,
                        "remaining_time": 13.39747276,
                        "learn": [
                          0.3823796128
                        ]
                      },
                      {
                        "test": [
                          0.4091149435
                        ],
                        "passed_time": 70.94703762,
                        "iteration": 841,
                        "remaining_time": 13.31310207,
                        "learn": [
                          0.3823116271
                        ]
                      },
                      {
                        "test": [
                          0.4091176414
                        ],
                        "passed_time": 71.00461926,
                        "iteration": 842,
                        "remaining_time": 13.22387334,
                        "learn": [
                          0.3822959219
                        ]
                      },
                      {
                        "test": [
                          0.4090968804
                        ],
                        "passed_time": 71.09114382,
                        "iteration": 843,
                        "remaining_time": 13.14006924,
                        "learn": [
                          0.3822354667
                        ]
                      },
                      {
                        "test": [
                          0.4090591685
                        ],
                        "passed_time": 71.17321111,
                        "iteration": 844,
                        "remaining_time": 13.05544109,
                        "learn": [
                          0.3821907977
                        ]
                      },
                      {
                        "test": [
                          0.4089855743
                        ],
                        "passed_time": 71.31238197,
                        "iteration": 845,
                        "remaining_time": 12.98121374,
                        "learn": [
                          0.3820989235
                        ]
                      },
                      {
                        "test": [
                          0.4089249812
                        ],
                        "passed_time": 71.39181402,
                        "iteration": 846,
                        "remaining_time": 12.89604197,
                        "learn": [
                          0.3820089642
                        ]
                      },
                      {
                        "test": [
                          0.4089147326
                        ],
                        "passed_time": 71.46278202,
                        "iteration": 847,
                        "remaining_time": 12.80936659,
                        "learn": [
                          0.3819711934
                        ]
                      },
                      {
                        "test": [
                          0.4089001441
                        ],
                        "passed_time": 71.5551522,
                        "iteration": 848,
                        "remaining_time": 12.72653473,
                        "learn": [
                          0.3819353666
                        ]
                      },
                      {
                        "test": [
                          0.408843249
                        ],
                        "passed_time": 71.63080572,
                        "iteration": 849,
                        "remaining_time": 12.64073042,
                        "learn": [
                          0.3818686549
                        ]
                      },
                      {
                        "test": [
                          0.4088576323
                        ],
                        "passed_time": 71.72127066,
                        "iteration": 850,
                        "remaining_time": 12.55754328,
                        "learn": [
                          0.3818443864
                        ]
                      },
                      {
                        "test": [
                          0.408867726
                        ],
                        "passed_time": 71.81736713,
                        "iteration": 851,
                        "remaining_time": 12.4753173,
                        "learn": [
                          0.3817871128
                        ]
                      },
                      {
                        "test": [
                          0.4084843483
                        ],
                        "passed_time": 71.90580445,
                        "iteration": 852,
                        "remaining_time": 12.39173887,
                        "learn": [
                          0.3815489605
                        ]
                      },
                      {
                        "test": [
                          0.4084589991
                        ],
                        "passed_time": 72.00615748,
                        "iteration": 853,
                        "remaining_time": 12.31018617,
                        "learn": [
                          0.3815356543
                        ]
                      },
                      {
                        "test": [
                          0.4084432179
                        ],
                        "passed_time": 72.06931883,
                        "iteration": 854,
                        "remaining_time": 12.22228214,
                        "learn": [
                          0.3815179089
                        ]
                      },
                      {
                        "test": [
                          0.4084433478
                        ],
                        "passed_time": 72.15402761,
                        "iteration": 855,
                        "remaining_time": 12.13806072,
                        "learn": [
                          0.381467735
                        ]
                      },
                      {
                        "test": [
                          0.408425258
                        ],
                        "passed_time": 72.23707032,
                        "iteration": 856,
                        "remaining_time": 12.05356016,
                        "learn": [
                          0.3814516487
                        ]
                      },
                      {
                        "test": [
                          0.4084200833
                        ],
                        "passed_time": 72.38553281,
                        "iteration": 857,
                        "remaining_time": 11.97989005,
                        "learn": [
                          0.38136124
                        ]
                      },
                      {
                        "test": [
                          0.4084291269
                        ],
                        "passed_time": 72.47426094,
                        "iteration": 858,
                        "remaining_time": 11.89624074,
                        "learn": [
                          0.3812806752
                        ]
                      },
                      {
                        "test": [
                          0.4084080002
                        ],
                        "passed_time": 72.55175864,
                        "iteration": 859,
                        "remaining_time": 11.81075141,
                        "learn": [
                          0.3812227205
                        ]
                      },
                      {
                        "test": [
                          0.4083120423
                        ],
                        "passed_time": 72.6363787,
                        "iteration": 860,
                        "remaining_time": 11.72643048,
                        "learn": [
                          0.3811395439
                        ]
                      },
                      {
                        "test": [
                          0.4082875404
                        ],
                        "passed_time": 72.72910881,
                        "iteration": 861,
                        "remaining_time": 11.64340721,
                        "learn": [
                          0.381079794
                        ]
                      },
                      {
                        "test": [
                          0.4082866079
                        ],
                        "passed_time": 72.81491368,
                        "iteration": 862,
                        "remaining_time": 11.55926208,
                        "learn": [
                          0.3810419496
                        ]
                      },
                      {
                        "test": [
                          0.4082822876
                        ],
                        "passed_time": 72.89335905,
                        "iteration": 863,
                        "remaining_time": 11.47395466,
                        "learn": [
                          0.3810323899
                        ]
                      },
                      {
                        "test": [
                          0.4082468447
                        ],
                        "passed_time": 72.96290402,
                        "iteration": 864,
                        "remaining_time": 11.38727404,
                        "learn": [
                          0.381003402
                        ]
                      },
                      {
                        "test": [
                          0.4081726988
                        ],
                        "passed_time": 73.05285841,
                        "iteration": 865,
                        "remaining_time": 11.30379102,
                        "learn": [
                          0.3808382725
                        ]
                      },
                      {
                        "test": [
                          0.4081662255
                        ],
                        "passed_time": 73.14260296,
                        "iteration": 866,
                        "remaining_time": 11.22026089,
                        "learn": [
                          0.3808189035
                        ]
                      },
                      {
                        "test": [
                          0.40810999
                        ],
                        "passed_time": 73.22058937,
                        "iteration": 867,
                        "remaining_time": 11.13492834,
                        "learn": [
                          0.3807213119
                        ]
                      },
                      {
                        "test": [
                          0.4081210814
                        ],
                        "passed_time": 73.29870891,
                        "iteration": 868,
                        "remaining_time": 11.04963276,
                        "learn": [
                          0.3806299515
                        ]
                      },
                      {
                        "test": [
                          0.4081062554
                        ],
                        "passed_time": 73.44537404,
                        "iteration": 869,
                        "remaining_time": 10.97459612,
                        "learn": [
                          0.3805865466
                        ]
                      },
                      {
                        "test": [
                          0.408101343
                        ],
                        "passed_time": 73.51788463,
                        "iteration": 870,
                        "remaining_time": 10.88841231,
                        "learn": [
                          0.3805563981
                        ]
                      },
                      {
                        "test": [
                          0.4080218564
                        ],
                        "passed_time": 73.58898764,
                        "iteration": 871,
                        "remaining_time": 10.80205323,
                        "learn": [
                          0.3804770543
                        ]
                      },
                      {
                        "test": [
                          0.407888339
                        ],
                        "passed_time": 73.68078898,
                        "iteration": 872,
                        "remaining_time": 10.71874021,
                        "learn": [
                          0.3802836588
                        ]
                      },
                      {
                        "test": [
                          0.4078862129
                        ],
                        "passed_time": 73.77448027,
                        "iteration": 873,
                        "remaining_time": 10.63568022,
                        "learn": [
                          0.3802221881
                        ]
                      },
                      {
                        "test": [
                          0.4077998066
                        ],
                        "passed_time": 73.8665807,
                        "iteration": 874,
                        "remaining_time": 10.55236867,
                        "learn": [
                          0.3801043045
                        ]
                      },
                      {
                        "test": [
                          0.4077866668
                        ],
                        "passed_time": 73.95686939,
                        "iteration": 875,
                        "remaining_time": 10.4687806,
                        "learn": [
                          0.3800600096
                        ]
                      },
                      {
                        "test": [
                          0.4076923939
                        ],
                        "passed_time": 74.03335499,
                        "iteration": 876,
                        "remaining_time": 10.38324135,
                        "learn": [
                          0.3799504823
                        ]
                      },
                      {
                        "test": [
                          0.4076732902
                        ],
                        "passed_time": 74.1272798,
                        "iteration": 877,
                        "remaining_time": 10.30014594,
                        "learn": [
                          0.3798505307
                        ]
                      },
                      {
                        "test": [
                          0.4076740807
                        ],
                        "passed_time": 74.21122679,
                        "iteration": 878,
                        "remaining_time": 10.21565238,
                        "learn": [
                          0.3798101178
                        ]
                      },
                      {
                        "test": [
                          0.4076605943
                        ],
                        "passed_time": 74.2991688,
                        "iteration": 879,
                        "remaining_time": 10.13170484,
                        "learn": [
                          0.379759205
                        ]
                      },
                      {
                        "test": [
                          0.4076581262
                        ],
                        "passed_time": 74.41002998,
                        "iteration": 880,
                        "remaining_time": 10.050844,
                        "learn": [
                          0.379732135
                        ]
                      },
                      {
                        "test": [
                          0.4076625218
                        ],
                        "passed_time": 74.51003241,
                        "iteration": 881,
                        "remaining_time": 9.968462386,
                        "learn": [
                          0.379706199
                        ]
                      },
                      {
                        "test": [
                          0.4076498841
                        ],
                        "passed_time": 74.58900946,
                        "iteration": 882,
                        "remaining_time": 9.883254935,
                        "learn": [
                          0.3796704363
                        ]
                      },
                      {
                        "test": [
                          0.4075062913
                        ],
                        "passed_time": 74.67411914,
                        "iteration": 883,
                        "remaining_time": 9.798866313,
                        "learn": [
                          0.3795248943
                        ]
                      },
                      {
                        "test": [
                          0.4075109113
                        ],
                        "passed_time": 74.7506563,
                        "iteration": 884,
                        "remaining_time": 9.713362118,
                        "learn": [
                          0.379491832
                        ]
                      },
                      {
                        "test": [
                          0.4074506558
                        ],
                        "passed_time": 74.83681413,
                        "iteration": 885,
                        "remaining_time": 9.629116039,
                        "learn": [
                          0.3794098625
                        ]
                      },
                      {
                        "test": [
                          0.4074107789
                        ],
                        "passed_time": 74.91861993,
                        "iteration": 886,
                        "remaining_time": 9.54431122,
                        "learn": [
                          0.3792837546
                        ]
                      },
                      {
                        "test": [
                          0.4073517781
                        ],
                        "passed_time": 75.00483035,
                        "iteration": 887,
                        "remaining_time": 9.460068693,
                        "learn": [
                          0.3791772099
                        ]
                      },
                      {
                        "test": [
                          0.4072924082
                        ],
                        "passed_time": 75.0813187,
                        "iteration": 888,
                        "remaining_time": 9.374607847,
                        "learn": [
                          0.3790880919
                        ]
                      },
                      {
                        "test": [
                          0.407236093
                        ],
                        "passed_time": 75.15990218,
                        "iteration": 889,
                        "remaining_time": 9.289426112,
                        "learn": [
                          0.3790026726
                        ]
                      },
                      {
                        "test": [
                          0.4071780606
                        ],
                        "passed_time": 75.23928661,
                        "iteration": 890,
                        "remaining_time": 9.204357172,
                        "learn": [
                          0.3789399274
                        ]
                      },
                      {
                        "test": [
                          0.4071881867
                        ],
                        "passed_time": 75.32401245,
                        "iteration": 891,
                        "remaining_time": 9.119947695,
                        "learn": [
                          0.37885714
                        ]
                      },
                      {
                        "test": [
                          0.4071384666
                        ],
                        "passed_time": 75.40848093,
                        "iteration": 892,
                        "remaining_time": 9.035506674,
                        "learn": [
                          0.3787910951
                        ]
                      },
                      {
                        "test": [
                          0.4071348962
                        ],
                        "passed_time": 75.54707412,
                        "iteration": 893,
                        "remaining_time": 8.957483061,
                        "learn": [
                          0.3787601285
                        ]
                      },
                      {
                        "test": [
                          0.4071200859
                        ],
                        "passed_time": 75.62953653,
                        "iteration": 894,
                        "remaining_time": 8.872738923,
                        "learn": [
                          0.3787163414
                        ]
                      },
                      {
                        "test": [
                          0.4071060895
                        ],
                        "passed_time": 75.72620974,
                        "iteration": 895,
                        "remaining_time": 8.789649344,
                        "learn": [
                          0.3786538884
                        ]
                      },
                      {
                        "test": [
                          0.4071045506
                        ],
                        "passed_time": 75.81134298,
                        "iteration": 896,
                        "remaining_time": 8.705204378,
                        "learn": [
                          0.3785978693
                        ]
                      },
                      {
                        "test": [
                          0.4070747418
                        ],
                        "passed_time": 75.89790723,
                        "iteration": 897,
                        "remaining_time": 8.62092042,
                        "learn": [
                          0.3784901944
                        ]
                      },
                      {
                        "test": [
                          0.4070265076
                        ],
                        "passed_time": 75.99588028,
                        "iteration": 898,
                        "remaining_time": 8.537913135,
                        "learn": [
                          0.3783943657
                        ]
                      },
                      {
                        "test": [
                          0.4068968632
                        ],
                        "passed_time": 76.0791842,
                        "iteration": 899,
                        "remaining_time": 8.453242689,
                        "learn": [
                          0.3783023085
                        ]
                      },
                      {
                        "test": [
                          0.406835059
                        ],
                        "passed_time": 76.16875934,
                        "iteration": 900,
                        "remaining_time": 8.369264344,
                        "learn": [
                          0.3782163995
                        ]
                      },
                      {
                        "test": [
                          0.4068317153
                        ],
                        "passed_time": 76.25733553,
                        "iteration": 901,
                        "remaining_time": 8.285165058,
                        "learn": [
                          0.3781513195
                        ]
                      },
                      {
                        "test": [
                          0.4067979084
                        ],
                        "passed_time": 76.33979604,
                        "iteration": 902,
                        "remaining_time": 8.20039891,
                        "learn": [
                          0.378114992
                        ]
                      },
                      {
                        "test": [
                          0.406802842
                        ],
                        "passed_time": 76.41974284,
                        "iteration": 903,
                        "remaining_time": 8.115370921,
                        "learn": [
                          0.3780812079
                        ]
                      },
                      {
                        "test": [
                          0.4067621226
                        ],
                        "passed_time": 76.50536978,
                        "iteration": 904,
                        "remaining_time": 8.030950419,
                        "learn": [
                          0.3780240762
                        ]
                      },
                      {
                        "test": [
                          0.4067606686
                        ],
                        "passed_time": 76.65286659,
                        "iteration": 905,
                        "remaining_time": 7.952946423,
                        "learn": [
                          0.3779711601
                        ]
                      },
                      {
                        "test": [
                          0.4067388465
                        ],
                        "passed_time": 76.74322554,
                        "iteration": 906,
                        "remaining_time": 7.868930513,
                        "learn": [
                          0.3778306295
                        ]
                      },
                      {
                        "test": [
                          0.4067277971
                        ],
                        "passed_time": 76.82647686,
                        "iteration": 907,
                        "remaining_time": 7.784180475,
                        "learn": [
                          0.3777485108
                        ]
                      },
                      {
                        "test": [
                          0.406704959
                        ],
                        "passed_time": 76.90787246,
                        "iteration": 908,
                        "remaining_time": 7.699247958,
                        "learn": [
                          0.3776771229
                        ]
                      },
                      {
                        "test": [
                          0.4066212926
                        ],
                        "passed_time": 76.99396146,
                        "iteration": 909,
                        "remaining_time": 7.614787398,
                        "learn": [
                          0.3775918606
                        ]
                      },
                      {
                        "test": [
                          0.4066052948
                        ],
                        "passed_time": 77.06853248,
                        "iteration": 910,
                        "remaining_time": 7.529198014,
                        "learn": [
                          0.3775609247
                        ]
                      },
                      {
                        "test": [
                          0.4065805923
                        ],
                        "passed_time": 77.15367545,
                        "iteration": 911,
                        "remaining_time": 7.444652894,
                        "learn": [
                          0.3774850899
                        ]
                      },
                      {
                        "test": [
                          0.4065875706
                        ],
                        "passed_time": 77.22235126,
                        "iteration": 912,
                        "remaining_time": 7.358537305,
                        "learn": [
                          0.3774558876
                        ]
                      },
                      {
                        "test": [
                          0.4065625913
                        ],
                        "passed_time": 77.29253683,
                        "iteration": 913,
                        "remaining_time": 7.272601934,
                        "learn": [
                          0.3774041411
                        ]
                      },
                      {
                        "test": [
                          0.4064060868
                        ],
                        "passed_time": 77.37950918,
                        "iteration": 914,
                        "remaining_time": 7.188260415,
                        "learn": [
                          0.3772916917
                        ]
                      },
                      {
                        "test": [
                          0.4063941976
                        ],
                        "passed_time": 77.44387867,
                        "iteration": 915,
                        "remaining_time": 7.101840402,
                        "learn": [
                          0.377273614
                        ]
                      },
                      {
                        "test": [
                          0.406396614
                        ],
                        "passed_time": 77.52543711,
                        "iteration": 916,
                        "remaining_time": 7.017024296,
                        "learn": [
                          0.3772525617
                        ]
                      },
                      {
                        "test": [
                          0.4062169949
                        ],
                        "passed_time": 77.68471602,
                        "iteration": 917,
                        "remaining_time": 6.93915764,
                        "learn": [
                          0.3771053009
                        ]
                      },
                      {
                        "test": [
                          0.4061989943
                        ],
                        "passed_time": 77.77881114,
                        "iteration": 918,
                        "remaining_time": 6.855368555,
                        "learn": [
                          0.3770346325
                        ]
                      },
                      {
                        "test": [
                          0.4060951064
                        ],
                        "passed_time": 77.87962015,
                        "iteration": 919,
                        "remaining_time": 6.772140882,
                        "learn": [
                          0.3769183686
                        ]
                      },
                      {
                        "test": [
                          0.406084382
                        ],
                        "passed_time": 77.96337773,
                        "iteration": 920,
                        "remaining_time": 6.687412422,
                        "learn": [
                          0.3768940028
                        ]
                      },
                      {
                        "test": [
                          0.40607599
                        ],
                        "passed_time": 78.04821661,
                        "iteration": 921,
                        "remaining_time": 6.602777544,
                        "learn": [
                          0.3768507054
                        ]
                      },
                      {
                        "test": [
                          0.4060804329
                        ],
                        "passed_time": 78.12544612,
                        "iteration": 922,
                        "remaining_time": 6.517507423,
                        "learn": [
                          0.3768113905
                        ]
                      },
                      {
                        "test": [
                          0.4060609111
                        ],
                        "passed_time": 78.20972499,
                        "iteration": 923,
                        "remaining_time": 6.432834523,
                        "learn": [
                          0.3766789824
                        ]
                      },
                      {
                        "test": [
                          0.4060524956
                        ],
                        "passed_time": 78.30308081,
                        "iteration": 924,
                        "remaining_time": 6.348898444,
                        "learn": [
                          0.3766593757
                        ]
                      },
                      {
                        "test": [
                          0.4060426464
                        ],
                        "passed_time": 78.38047096,
                        "iteration": 925,
                        "remaining_time": 6.263666146,
                        "learn": [
                          0.3766449784
                        ]
                      },
                      {
                        "test": [
                          0.4059572339
                        ],
                        "passed_time": 78.4631866,
                        "iteration": 926,
                        "remaining_time": 6.178870142,
                        "learn": [
                          0.3765088818
                        ]
                      },
                      {
                        "test": [
                          0.4058530788
                        ],
                        "passed_time": 78.5485003,
                        "iteration": 927,
                        "remaining_time": 6.094280195,
                        "learn": [
                          0.3763787755
                        ]
                      },
                      {
                        "test": [
                          0.4058096482
                        ],
                        "passed_time": 78.71137691,
                        "iteration": 928,
                        "remaining_time": 6.015616534,
                        "learn": [
                          0.376346301
                        ]
                      },
                      {
                        "test": [
                          0.4058046507
                        ],
                        "passed_time": 78.78776043,
                        "iteration": 929,
                        "remaining_time": 5.930261538,
                        "learn": [
                          0.3763100838
                        ]
                      },
                      {
                        "test": [
                          0.4054170232
                        ],
                        "passed_time": 78.90450412,
                        "iteration": 930,
                        "remaining_time": 5.847917062,
                        "learn": [
                          0.3759984359
                        ]
                      },
                      {
                        "test": [
                          0.405381194
                        ],
                        "passed_time": 78.98936857,
                        "iteration": 931,
                        "remaining_time": 5.763172814,
                        "learn": [
                          0.375925972
                        ]
                      },
                      {
                        "test": [
                          0.4053547897
                        ],
                        "passed_time": 79.06653073,
                        "iteration": 932,
                        "remaining_time": 5.677875197,
                        "learn": [
                          0.3758606068
                        ]
                      },
                      {
                        "test": [
                          0.4053370725
                        ],
                        "passed_time": 79.14021899,
                        "iteration": 933,
                        "remaining_time": 5.592349521,
                        "learn": [
                          0.3757816907
                        ]
                      },
                      {
                        "test": [
                          0.4052430823
                        ],
                        "passed_time": 79.23537009,
                        "iteration": 934,
                        "remaining_time": 5.508341236,
                        "learn": [
                          0.3756811122
                        ]
                      },
                      {
                        "test": [
                          0.4052642916
                        ],
                        "passed_time": 79.29975264,
                        "iteration": 935,
                        "remaining_time": 5.422205309,
                        "learn": [
                          0.3756482579
                        ]
                      },
                      {
                        "test": [
                          0.405253992
                        ],
                        "passed_time": 79.36513533,
                        "iteration": 936,
                        "remaining_time": 5.336183059,
                        "learn": [
                          0.3756183219
                        ]
                      },
                      {
                        "test": [
                          0.4052355134
                        ],
                        "passed_time": 79.46191977,
                        "iteration": 937,
                        "remaining_time": 5.252280411,
                        "learn": [
                          0.3755237848
                        ]
                      },
                      {
                        "test": [
                          0.4052296905
                        ],
                        "passed_time": 79.54112772,
                        "iteration": 938,
                        "remaining_time": 5.16720851,
                        "learn": [
                          0.3754549764
                        ]
                      },
                      {
                        "test": [
                          0.4051710455
                        ],
                        "passed_time": 79.70894927,
                        "iteration": 939,
                        "remaining_time": 5.087805272,
                        "learn": [
                          0.3753459488
                        ]
                      },
                      {
                        "test": [
                          0.4051609119
                        ],
                        "passed_time": 79.85218827,
                        "iteration": 940,
                        "remaining_time": 5.006672803,
                        "learn": [
                          0.3753154685
                        ]
                      },
                      {
                        "test": [
                          0.4051382168
                        ],
                        "passed_time": 79.9285808,
                        "iteration": 941,
                        "remaining_time": 4.921292661,
                        "learn": [
                          0.3752783333
                        ]
                      },
                      {
                        "test": [
                          0.4051175725
                        ],
                        "passed_time": 80.01727479,
                        "iteration": 942,
                        "remaining_time": 4.836675146,
                        "learn": [
                          0.3752065163
                        ]
                      },
                      {
                        "test": [
                          0.4051085889
                        ],
                        "passed_time": 80.12427936,
                        "iteration": 943,
                        "remaining_time": 4.753135216,
                        "learn": [
                          0.3751431001
                        ]
                      },
                      {
                        "test": [
                          0.4049866222
                        ],
                        "passed_time": 80.21158762,
                        "iteration": 944,
                        "remaining_time": 4.66839928,
                        "learn": [
                          0.3750284684
                        ]
                      },
                      {
                        "test": [
                          0.4050130737
                        ],
                        "passed_time": 80.2734304,
                        "iteration": 945,
                        "remaining_time": 4.582204272,
                        "learn": [
                          0.3749898254
                        ]
                      },
                      {
                        "test": [
                          0.4050125787
                        ],
                        "passed_time": 80.33610939,
                        "iteration": 946,
                        "remaining_time": 4.496107495,
                        "learn": [
                          0.3749780949
                        ]
                      },
                      {
                        "test": [
                          0.4049936041
                        ],
                        "passed_time": 80.41906169,
                        "iteration": 947,
                        "remaining_time": 4.41117216,
                        "learn": [
                          0.3749490502
                        ]
                      },
                      {
                        "test": [
                          0.4049309643
                        ],
                        "passed_time": 80.49958929,
                        "iteration": 948,
                        "remaining_time": 4.326110699,
                        "learn": [
                          0.3747978054
                        ]
                      },
                      {
                        "test": [
                          0.404928806
                        ],
                        "passed_time": 80.55564947,
                        "iteration": 949,
                        "remaining_time": 4.239771024,
                        "learn": [
                          0.3747657259
                        ]
                      },
                      {
                        "test": [
                          0.4049208536
                        ],
                        "passed_time": 80.62406232,
                        "iteration": 950,
                        "remaining_time": 4.154131497,
                        "learn": [
                          0.374749718
                        ]
                      },
                      {
                        "test": [
                          0.4049192371
                        ],
                        "passed_time": 80.71470413,
                        "iteration": 951,
                        "remaining_time": 4.069648948,
                        "learn": [
                          0.3746821106
                        ]
                      },
                      {
                        "test": [
                          0.4049241517
                        ],
                        "passed_time": 80.84257786,
                        "iteration": 952,
                        "remaining_time": 3.986989674,
                        "learn": [
                          0.3746498295
                        ]
                      },
                      {
                        "test": [
                          0.4049147428
                        ],
                        "passed_time": 80.94313519,
                        "iteration": 953,
                        "remaining_time": 3.902918468,
                        "learn": [
                          0.3745984385
                        ]
                      },
                      {
                        "test": [
                          0.4046873267
                        ],
                        "passed_time": 81.0427696,
                        "iteration": 954,
                        "remaining_time": 3.818769248,
                        "learn": [
                          0.3743924167
                        ]
                      },
                      {
                        "test": [
                          0.4046860833
                        ],
                        "passed_time": 81.0955704,
                        "iteration": 955,
                        "remaining_time": 3.732432111,
                        "learn": [
                          0.3743776796
                        ]
                      },
                      {
                        "test": [
                          0.4046879658
                        ],
                        "passed_time": 81.16170525,
                        "iteration": 956,
                        "remaining_time": 3.646764186,
                        "learn": [
                          0.3743227061
                        ]
                      },
                      {
                        "test": [
                          0.4046607147
                        ],
                        "passed_time": 81.24972537,
                        "iteration": 957,
                        "remaining_time": 3.562096519,
                        "learn": [
                          0.374245204
                        ]
                      },
                      {
                        "test": [
                          0.4046216115
                        ],
                        "passed_time": 81.33003847,
                        "iteration": 958,
                        "remaining_time": 3.477092364,
                        "learn": [
                          0.3741898881
                        ]
                      },
                      {
                        "test": [
                          0.4046208079
                        ],
                        "passed_time": 81.42328491,
                        "iteration": 959,
                        "remaining_time": 3.392636871,
                        "learn": [
                          0.3741603185
                        ]
                      },
                      {
                        "test": [
                          0.4045329419
                        ],
                        "passed_time": 81.50962448,
                        "iteration": 960,
                        "remaining_time": 3.307882783,
                        "learn": [
                          0.3740047605
                        ]
                      },
                      {
                        "test": [
                          0.4042446749
                        ],
                        "passed_time": 81.59927921,
                        "iteration": 961,
                        "remaining_time": 3.223256351,
                        "learn": [
                          0.3738014461
                        ]
                      },
                      {
                        "test": [
                          0.4042211804
                        ],
                        "passed_time": 81.68727626,
                        "iteration": 962,
                        "remaining_time": 3.138555786,
                        "learn": [
                          0.3737197718
                        ]
                      },
                      {
                        "test": [
                          0.404235282
                        ],
                        "passed_time": 81.77610175,
                        "iteration": 963,
                        "remaining_time": 3.053879319,
                        "learn": [
                          0.3736672819
                        ]
                      },
                      {
                        "test": [
                          0.4042227585
                        ],
                        "passed_time": 81.90641387,
                        "iteration": 964,
                        "remaining_time": 2.970698949,
                        "learn": [
                          0.373646436
                        ]
                      },
                      {
                        "test": [
                          0.4042009782
                        ],
                        "passed_time": 82.02312283,
                        "iteration": 965,
                        "remaining_time": 2.886942211,
                        "learn": [
                          0.3735656027
                        ]
                      },
                      {
                        "test": [
                          0.4042036108
                        ],
                        "passed_time": 82.09571197,
                        "iteration": 966,
                        "remaining_time": 2.80161168,
                        "learn": [
                          0.3735364294
                        ]
                      },
                      {
                        "test": [
                          0.4041894343
                        ],
                        "passed_time": 82.17026825,
                        "iteration": 967,
                        "remaining_time": 2.716372504,
                        "learn": [
                          0.3735126832
                        ]
                      },
                      {
                        "test": [
                          0.4041065802
                        ],
                        "passed_time": 82.25483775,
                        "iteration": 968,
                        "remaining_time": 2.631475718,
                        "learn": [
                          0.3734297404
                        ]
                      },
                      {
                        "test": [
                          0.4041216669
                        ],
                        "passed_time": 82.34023823,
                        "iteration": 969,
                        "remaining_time": 2.546605306,
                        "learn": [
                          0.3733585172
                        ]
                      },
                      {
                        "test": [
                          0.4040398351
                        ],
                        "passed_time": 82.41629988,
                        "iteration": 970,
                        "remaining_time": 2.461454888,
                        "learn": [
                          0.3732360077
                        ]
                      },
                      {
                        "test": [
                          0.4040156086
                        ],
                        "passed_time": 82.49578856,
                        "iteration": 971,
                        "remaining_time": 2.376421893,
                        "learn": [
                          0.3731810242
                        ]
                      },
                      {
                        "test": [
                          0.4039961723
                        ],
                        "passed_time": 82.58444327,
                        "iteration": 972,
                        "remaining_time": 2.291654644,
                        "learn": [
                          0.373146001
                        ]
                      },
                      {
                        "test": [
                          0.4039898274
                        ],
                        "passed_time": 82.67217631,
                        "iteration": 973,
                        "remaining_time": 2.206854809,
                        "learn": [
                          0.3730725861
                        ]
                      },
                      {
                        "test": [
                          0.4039480044
                        ],
                        "passed_time": 82.75451291,
                        "iteration": 974,
                        "remaining_time": 2.121910587,
                        "learn": [
                          0.3730209681
                        ]
                      },
                      {
                        "test": [
                          0.4038308895
                        ],
                        "passed_time": 82.83050084,
                        "iteration": 975,
                        "remaining_time": 2.036815594,
                        "learn": [
                          0.3729203078
                        ]
                      },
                      {
                        "test": [
                          0.403827926
                        ],
                        "passed_time": 82.95374188,
                        "iteration": 976,
                        "remaining_time": 1.952851651,
                        "learn": [
                          0.372866786
                        ]
                      },
                      {
                        "test": [
                          0.4038166136
                        ],
                        "passed_time": 83.05691446,
                        "iteration": 977,
                        "remaining_time": 1.868355949,
                        "learn": [
                          0.3728140069
                        ]
                      },
                      {
                        "test": [
                          0.4038122043
                        ],
                        "passed_time": 83.11346023,
                        "iteration": 978,
                        "remaining_time": 1.782821925,
                        "learn": [
                          0.372778876
                        ]
                      },
                      {
                        "test": [
                          0.4038229836
                        ],
                        "passed_time": 83.17766229,
                        "iteration": 979,
                        "remaining_time": 1.697503312,
                        "learn": [
                          0.3727514234
                        ]
                      },
                      {
                        "test": [
                          0.4038344676
                        ],
                        "passed_time": 83.2505563,
                        "iteration": 980,
                        "remaining_time": 1.612396095,
                        "learn": [
                          0.3726983866
                        ]
                      },
                      {
                        "test": [
                          0.4036994384
                        ],
                        "passed_time": 83.34534429,
                        "iteration": 981,
                        "remaining_time": 1.527715068,
                        "learn": [
                          0.3725454576
                        ]
                      },
                      {
                        "test": [
                          0.4037044105
                        ],
                        "passed_time": 83.42640917,
                        "iteration": 982,
                        "remaining_time": 1.44277615,
                        "learn": [
                          0.3725035766
                        ]
                      },
                      {
                        "test": [
                          0.4035539208
                        ],
                        "passed_time": 83.52314254,
                        "iteration": 983,
                        "remaining_time": 1.358099879,
                        "learn": [
                          0.3723458025
                        ]
                      },
                      {
                        "test": [
                          0.4035272645
                        ],
                        "passed_time": 83.59082506,
                        "iteration": 984,
                        "remaining_time": 1.272956727,
                        "learn": [
                          0.3723156826
                        ]
                      },
                      {
                        "test": [
                          0.4035319689
                        ],
                        "passed_time": 83.67608999,
                        "iteration": 985,
                        "remaining_time": 1.188098641,
                        "learn": [
                          0.3722049224
                        ]
                      },
                      {
                        "test": [
                          0.4035022972
                        ],
                        "passed_time": 83.75665045,
                        "iteration": 986,
                        "remaining_time": 1.103177767,
                        "learn": [
                          0.3721758137
                        ]
                      },
                      {
                        "test": [
                          0.4034888713
                        ],
                        "passed_time": 83.82760876,
                        "iteration": 987,
                        "remaining_time": 1.018149094,
                        "learn": [
                          0.3721473555
                        ]
                      },
                      {
                        "test": [
                          0.4035034587
                        ],
                        "passed_time": 83.91098864,
                        "iteration": 988,
                        "remaining_time": 0.9332870324,
                        "learn": [
                          0.3720191826
                        ]
                      },
                      {
                        "test": [
                          0.4035152857
                        ],
                        "passed_time": 84.06167992,
                        "iteration": 989,
                        "remaining_time": 0.8491078779,
                        "learn": [
                          0.3719655886
                        ]
                      },
                      {
                        "test": [
                          0.403500748
                        ],
                        "passed_time": 84.13594281,
                        "iteration": 990,
                        "remaining_time": 0.7641003888,
                        "learn": [
                          0.3718978063
                        ]
                      },
                      {
                        "test": [
                          0.4034882206
                        ],
                        "passed_time": 84.22601269,
                        "iteration": 991,
                        "remaining_time": 0.6792420378,
                        "learn": [
                          0.3718408801
                        ]
                      },
                      {
                        "test": [
                          0.4035107537
                        ],
                        "passed_time": 84.28389266,
                        "iteration": 992,
                        "remaining_time": 0.5941462725,
                        "learn": [
                          0.3718037363
                        ]
                      },
                      {
                        "test": [
                          0.4035164333
                        ],
                        "passed_time": 84.36079799,
                        "iteration": 993,
                        "remaining_time": 0.5092201086,
                        "learn": [
                          0.3717798839
                        ]
                      },
                      {
                        "test": [
                          0.4034734334
                        ],
                        "passed_time": 84.46630624,
                        "iteration": 994,
                        "remaining_time": 0.4244538002,
                        "learn": [
                          0.3717100529
                        ]
                      },
                      {
                        "test": [
                          0.4034567414
                        ],
                        "passed_time": 84.55109336,
                        "iteration": 995,
                        "remaining_time": 0.3395626239,
                        "learn": [
                          0.3716729136
                        ]
                      },
                      {
                        "test": [
                          0.4034354135
                        ],
                        "passed_time": 84.6325313,
                        "iteration": 996,
                        "remaining_time": 0.2546615786,
                        "learn": [
                          0.3716414675
                        ]
                      },
                      {
                        "test": [
                          0.4033211713
                        ],
                        "passed_time": 84.72143544,
                        "iteration": 997,
                        "remaining_time": 0.1697824358,
                        "learn": [
                          0.3715395458
                        ]
                      },
                      {
                        "test": [
                          0.4032897608
                        ],
                        "passed_time": 84.80762562,
                        "iteration": 998,
                        "remaining_time": 0.08489251814,
                        "learn": [
                          0.3714529672
                        ]
                      },
                      {
                        "test": [
                          0.4032753665
                        ],
                        "passed_time": 84.8773427,
                        "iteration": 999,
                        "remaining_time": 0,
                        "learn": [
                          0.3714295729
                        ]
                      }
                    ]
                  },
                  "total_iterations": 1000,
                  "passed_iterations": 999
                },
                "path": "catboost_info",
                "name": "catboost_info"
              }
            },
            "_view_module": "catboost-widget",
            "_model_module_version": "^1.0.0",
            "_view_count": null,
            "_view_module_version": "^1.0.0",
            "layout": "IPY_MODEL_b87cb8919e544475a91fa704d0b86f34",
            "_model_module": "catboost-widget"
          },
          "model_module_version": "^1.0.0"
        }
      }
    }
  },
  "cells": [
    {
      "cell_type": "code",
      "metadata": {
        "colab": {
          "base_uri": "https://localhost:8080/"
        },
        "id": "KZ8xAvB5CvNX",
        "outputId": "6df3f6a4-c181-4b55-f9bb-a504ccb09ec6"
      },
      "source": [
        "!pip install --user --upgrade catboost\n",
        "!pip install flask-ngrok\n",
        "import catboost\n",
        "print(catboost.__version__)"
      ],
      "execution_count": null,
      "outputs": [
        {
          "output_type": "stream",
          "text": [
            "Requirement already up-to-date: catboost in /root/.local/lib/python3.7/site-packages (0.26)\n",
            "Requirement already satisfied, skipping upgrade: plotly in /usr/local/lib/python3.7/dist-packages (from catboost) (4.4.1)\n",
            "Requirement already satisfied, skipping upgrade: six in /usr/local/lib/python3.7/dist-packages (from catboost) (1.15.0)\n",
            "Requirement already satisfied, skipping upgrade: numpy>=1.16.0 in /usr/local/lib/python3.7/dist-packages (from catboost) (1.19.5)\n",
            "Requirement already satisfied, skipping upgrade: pandas>=0.24.0 in /usr/local/lib/python3.7/dist-packages (from catboost) (1.1.5)\n",
            "Requirement already satisfied, skipping upgrade: graphviz in /usr/local/lib/python3.7/dist-packages (from catboost) (0.10.1)\n",
            "Requirement already satisfied, skipping upgrade: scipy in /usr/local/lib/python3.7/dist-packages (from catboost) (1.4.1)\n",
            "Requirement already satisfied, skipping upgrade: matplotlib in /usr/local/lib/python3.7/dist-packages (from catboost) (3.2.2)\n",
            "Requirement already satisfied, skipping upgrade: retrying>=1.3.3 in /usr/local/lib/python3.7/dist-packages (from plotly->catboost) (1.3.3)\n",
            "Requirement already satisfied, skipping upgrade: python-dateutil>=2.7.3 in /usr/local/lib/python3.7/dist-packages (from pandas>=0.24.0->catboost) (2.8.1)\n",
            "Requirement already satisfied, skipping upgrade: pytz>=2017.2 in /usr/local/lib/python3.7/dist-packages (from pandas>=0.24.0->catboost) (2018.9)\n",
            "Requirement already satisfied, skipping upgrade: kiwisolver>=1.0.1 in /usr/local/lib/python3.7/dist-packages (from matplotlib->catboost) (1.3.1)\n",
            "Requirement already satisfied, skipping upgrade: pyparsing!=2.0.4,!=2.1.2,!=2.1.6,>=2.0.1 in /usr/local/lib/python3.7/dist-packages (from matplotlib->catboost) (2.4.7)\n",
            "Requirement already satisfied, skipping upgrade: cycler>=0.10 in /usr/local/lib/python3.7/dist-packages (from matplotlib->catboost) (0.10.0)\n",
            "Requirement already satisfied: flask-ngrok in /usr/local/lib/python3.7/dist-packages (0.0.25)\n",
            "Requirement already satisfied: requests in /usr/local/lib/python3.7/dist-packages (from flask-ngrok) (2.23.0)\n",
            "Requirement already satisfied: Flask>=0.8 in /usr/local/lib/python3.7/dist-packages (from flask-ngrok) (1.1.4)\n",
            "Requirement already satisfied: urllib3!=1.25.0,!=1.25.1,<1.26,>=1.21.1 in /usr/local/lib/python3.7/dist-packages (from requests->flask-ngrok) (1.24.3)\n",
            "Requirement already satisfied: chardet<4,>=3.0.2 in /usr/local/lib/python3.7/dist-packages (from requests->flask-ngrok) (3.0.4)\n",
            "Requirement already satisfied: certifi>=2017.4.17 in /usr/local/lib/python3.7/dist-packages (from requests->flask-ngrok) (2021.5.30)\n",
            "Requirement already satisfied: idna<3,>=2.5 in /usr/local/lib/python3.7/dist-packages (from requests->flask-ngrok) (2.10)\n",
            "Requirement already satisfied: click<8.0,>=5.1 in /usr/local/lib/python3.7/dist-packages (from Flask>=0.8->flask-ngrok) (7.1.2)\n",
            "Requirement already satisfied: Jinja2<3.0,>=2.10.1 in /usr/local/lib/python3.7/dist-packages (from Flask>=0.8->flask-ngrok) (2.11.3)\n",
            "Requirement already satisfied: itsdangerous<2.0,>=0.24 in /usr/local/lib/python3.7/dist-packages (from Flask>=0.8->flask-ngrok) (1.1.0)\n",
            "Requirement already satisfied: Werkzeug<2.0,>=0.15 in /usr/local/lib/python3.7/dist-packages (from Flask>=0.8->flask-ngrok) (1.0.1)\n",
            "Requirement already satisfied: MarkupSafe>=0.23 in /usr/local/lib/python3.7/dist-packages (from Jinja2<3.0,>=2.10.1->Flask>=0.8->flask-ngrok) (2.0.1)\n",
            "0.26\n"
          ],
          "name": "stdout"
        }
      ]
    },
    {
      "cell_type": "code",
      "metadata": {
        "id": "d99enpmlDIK8",
        "colab": {
          "base_uri": "https://localhost:8080/"
        },
        "outputId": "d242aec8-5cf7-48e1-d223-bb7a39892651"
      },
      "source": [
        "from google.colab import drive\n",
        "drive.mount('/content/drive')"
      ],
      "execution_count": null,
      "outputs": [
        {
          "output_type": "stream",
          "text": [
            "Mounted at /content/drive\n"
          ],
          "name": "stdout"
        }
      ]
    },
    {
      "cell_type": "code",
      "metadata": {
        "colab": {
          "base_uri": "https://localhost:8080/",
          "height": 513
        },
        "id": "rsJg1Ax8DAml",
        "outputId": "6d0bc796-a661-4d4c-d077-e7508694cf68"
      },
      "source": [
        "import sqlite3\n",
        "import pandas as pd\n",
        "import datetime \n",
        " \n",
        "path = f'drive/MyDrive/odds/{\"{:02d}\".format(datetime.datetime.today().day)}.{\"{:02d}\".format(datetime.datetime.today().month)}/'\n",
        "print(path)\n",
        "cnx = sqlite3.connect(path+\"data.sqlite3\")\n",
        "df = pd.read_sql_query(\"select * from results where good is not null and good!='error' and next is not null\", cnx)\n",
        "# 41778\n",
        "print(len(df))\n",
        "df.head(5)"
      ],
      "execution_count": null,
      "outputs": [
        {
          "output_type": "stream",
          "text": [
            "drive/MyDrive/odds/11.07/\n",
            "73346\n"
          ],
          "name": "stdout"
        },
        {
          "output_type": "execute_result",
          "data": {
            "text/html": [
              "<div>\n",
              "<style scoped>\n",
              "    .dataframe tbody tr th:only-of-type {\n",
              "        vertical-align: middle;\n",
              "    }\n",
              "\n",
              "    .dataframe tbody tr th {\n",
              "        vertical-align: top;\n",
              "    }\n",
              "\n",
              "    .dataframe thead th {\n",
              "        text-align: right;\n",
              "    }\n",
              "</style>\n",
              "<table border=\"1\" class=\"dataframe\">\n",
              "  <thead>\n",
              "    <tr style=\"text-align: right;\">\n",
              "      <th></th>\n",
              "      <th>id</th>\n",
              "      <th>next</th>\n",
              "      <th>time</th>\n",
              "      <th>unix</th>\n",
              "      <th>timeleft</th>\n",
              "      <th>sport</th>\n",
              "      <th>championat</th>\n",
              "      <th>league</th>\n",
              "      <th>match</th>\n",
              "      <th>event</th>\n",
              "      <th>status</th>\n",
              "      <th>coefficient</th>\n",
              "      <th>percent</th>\n",
              "      <th>result</th>\n",
              "      <th>good</th>\n",
              "      <th>url</th>\n",
              "      <th>marathon</th>\n",
              "      <th>bet1x</th>\n",
              "      <th>leonbets</th>\n",
              "      <th>winline</th>\n",
              "      <th>pred</th>\n",
              "      <th>prob</th>\n",
              "      <th>logloss</th>\n",
              "      <th>pred_next</th>\n",
              "      <th>prob_next</th>\n",
              "      <th>logloss_next</th>\n",
              "      <th>pred_auc</th>\n",
              "      <th>prob_auc</th>\n",
              "      <th>logloss_auc</th>\n",
              "      <th>pred_prec</th>\n",
              "      <th>prob_prec</th>\n",
              "      <th>logloss_prec</th>\n",
              "      <th>day</th>\n",
              "    </tr>\n",
              "  </thead>\n",
              "  <tbody>\n",
              "    <tr>\n",
              "      <th>0</th>\n",
              "      <td>SPnBjSBCHAytyP7ALzsH9ONNYoc=</td>\n",
              "      <td>94XoYtVZJF3LtIC1KWaMPGbymsE=</td>\n",
              "      <td>17 Jan 2021 20:00</td>\n",
              "      <td>1610913600</td>\n",
              "      <td>9414.643</td>\n",
              "      <td>Soccer</td>\n",
              "      <td>Brazil</td>\n",
              "      <td>Serie B</td>\n",
              "      <td>Vitoria - Chapecoense-SC</td>\n",
              "      <td>EH +2</td>\n",
              "      <td>2</td>\n",
              "      <td>11.46</td>\n",
              "      <td>38</td>\n",
              "      <td>0:0</td>\n",
              "      <td>0</td>\n",
              "      <td>https://www.oddsportal.com/soccer/brazil/serie...</td>\n",
              "      <td>11.00</td>\n",
              "      <td>11.00</td>\n",
              "      <td>16.25</td>\n",
              "      <td>0.0</td>\n",
              "      <td>None</td>\n",
              "      <td>NaN</td>\n",
              "      <td>NaN</td>\n",
              "      <td>None</td>\n",
              "      <td>NaN</td>\n",
              "      <td>NaN</td>\n",
              "      <td>None</td>\n",
              "      <td>NaN</td>\n",
              "      <td>NaN</td>\n",
              "      <td>None</td>\n",
              "      <td>NaN</td>\n",
              "      <td>NaN</td>\n",
              "      <td>None</td>\n",
              "    </tr>\n",
              "    <tr>\n",
              "      <th>1</th>\n",
              "      <td>XPKq1mxiL8km83tvX8wf1jG-M_w=</td>\n",
              "      <td>rLMPf0DYELthOqG-M_e9U28DStI=</td>\n",
              "      <td>17 Jan 2021 21:10</td>\n",
              "      <td>1610917800</td>\n",
              "      <td>13614.643</td>\n",
              "      <td>Soccer</td>\n",
              "      <td>Argentina</td>\n",
              "      <td>Primera Nacional</td>\n",
              "      <td>Deportivo Moron - Villa Dalmine</td>\n",
              "      <td>O/U 3</td>\n",
              "      <td>Over</td>\n",
              "      <td>3.99</td>\n",
              "      <td>36</td>\n",
              "      <td>2:1</td>\n",
              "      <td>0</td>\n",
              "      <td>https://www.oddsportal.com/soccer/argentina/pr...</td>\n",
              "      <td>4.05</td>\n",
              "      <td>4.04</td>\n",
              "      <td>0.00</td>\n",
              "      <td>0.0</td>\n",
              "      <td>None</td>\n",
              "      <td>NaN</td>\n",
              "      <td>NaN</td>\n",
              "      <td>None</td>\n",
              "      <td>NaN</td>\n",
              "      <td>NaN</td>\n",
              "      <td>None</td>\n",
              "      <td>NaN</td>\n",
              "      <td>NaN</td>\n",
              "      <td>None</td>\n",
              "      <td>NaN</td>\n",
              "      <td>NaN</td>\n",
              "      <td>None</td>\n",
              "    </tr>\n",
              "    <tr>\n",
              "      <th>2</th>\n",
              "      <td>ly2sLzTv9FTKGiyK7EiW0msvP9Y=</td>\n",
              "      <td>94XoYtVZJF3LtIC1KWaMPGbymsE=</td>\n",
              "      <td>17 Jan 2021 20:00</td>\n",
              "      <td>1610913600</td>\n",
              "      <td>9414.643</td>\n",
              "      <td>Soccer</td>\n",
              "      <td>Brazil</td>\n",
              "      <td>Serie B</td>\n",
              "      <td>Vitoria - Chapecoense-SC</td>\n",
              "      <td>EH +1</td>\n",
              "      <td>2</td>\n",
              "      <td>4.99</td>\n",
              "      <td>35</td>\n",
              "      <td>0:0</td>\n",
              "      <td>0</td>\n",
              "      <td>https://www.oddsportal.com/soccer/brazil/serie...</td>\n",
              "      <td>5.10</td>\n",
              "      <td>5.10</td>\n",
              "      <td>5.80</td>\n",
              "      <td>0.0</td>\n",
              "      <td>None</td>\n",
              "      <td>NaN</td>\n",
              "      <td>NaN</td>\n",
              "      <td>None</td>\n",
              "      <td>NaN</td>\n",
              "      <td>NaN</td>\n",
              "      <td>None</td>\n",
              "      <td>NaN</td>\n",
              "      <td>NaN</td>\n",
              "      <td>None</td>\n",
              "      <td>NaN</td>\n",
              "      <td>NaN</td>\n",
              "      <td>None</td>\n",
              "    </tr>\n",
              "    <tr>\n",
              "      <th>3</th>\n",
              "      <td>YD1ikWg99OtFmVdjzfKXI-dLxhs=</td>\n",
              "      <td>rLMPf0DYELthOqG-M_e9U28DStI=</td>\n",
              "      <td>17 Jan 2021 21:10</td>\n",
              "      <td>1610917800</td>\n",
              "      <td>13614.642</td>\n",
              "      <td>Soccer</td>\n",
              "      <td>Argentina</td>\n",
              "      <td>Primera Nacional</td>\n",
              "      <td>Deportivo Moron - Villa Dalmine</td>\n",
              "      <td>AH +1</td>\n",
              "      <td>2</td>\n",
              "      <td>5.00</td>\n",
              "      <td>33</td>\n",
              "      <td>2:1</td>\n",
              "      <td>0</td>\n",
              "      <td>https://www.oddsportal.com/soccer/argentina/pr...</td>\n",
              "      <td>5.10</td>\n",
              "      <td>5.10</td>\n",
              "      <td>0.00</td>\n",
              "      <td>0.0</td>\n",
              "      <td>None</td>\n",
              "      <td>NaN</td>\n",
              "      <td>NaN</td>\n",
              "      <td>None</td>\n",
              "      <td>NaN</td>\n",
              "      <td>NaN</td>\n",
              "      <td>None</td>\n",
              "      <td>NaN</td>\n",
              "      <td>NaN</td>\n",
              "      <td>None</td>\n",
              "      <td>NaN</td>\n",
              "      <td>NaN</td>\n",
              "      <td>None</td>\n",
              "    </tr>\n",
              "    <tr>\n",
              "      <th>4</th>\n",
              "      <td>djkuJQL11W1W4s_qWg1XctxVnCw=</td>\n",
              "      <td>rLMPf0DYELthOqG-M_e9U28DStI=</td>\n",
              "      <td>17 Jan 2021 21:10</td>\n",
              "      <td>1610917800</td>\n",
              "      <td>13614.642</td>\n",
              "      <td>Soccer</td>\n",
              "      <td>Argentina</td>\n",
              "      <td>Primera Nacional</td>\n",
              "      <td>Deportivo Moron - Villa Dalmine</td>\n",
              "      <td>EH +1</td>\n",
              "      <td>2</td>\n",
              "      <td>6.35</td>\n",
              "      <td>32</td>\n",
              "      <td>2:1</td>\n",
              "      <td>0</td>\n",
              "      <td>https://www.oddsportal.com/soccer/argentina/pr...</td>\n",
              "      <td>6.00</td>\n",
              "      <td>6.00</td>\n",
              "      <td>7.20</td>\n",
              "      <td>0.0</td>\n",
              "      <td>None</td>\n",
              "      <td>NaN</td>\n",
              "      <td>NaN</td>\n",
              "      <td>None</td>\n",
              "      <td>NaN</td>\n",
              "      <td>NaN</td>\n",
              "      <td>None</td>\n",
              "      <td>NaN</td>\n",
              "      <td>NaN</td>\n",
              "      <td>None</td>\n",
              "      <td>NaN</td>\n",
              "      <td>NaN</td>\n",
              "      <td>None</td>\n",
              "    </tr>\n",
              "  </tbody>\n",
              "</table>\n",
              "</div>"
            ],
            "text/plain": [
              "                             id  ...   day\n",
              "0  SPnBjSBCHAytyP7ALzsH9ONNYoc=  ...  None\n",
              "1  XPKq1mxiL8km83tvX8wf1jG-M_w=  ...  None\n",
              "2  ly2sLzTv9FTKGiyK7EiW0msvP9Y=  ...  None\n",
              "3  YD1ikWg99OtFmVdjzfKXI-dLxhs=  ...  None\n",
              "4  djkuJQL11W1W4s_qWg1XctxVnCw=  ...  None\n",
              "\n",
              "[5 rows x 33 columns]"
            ]
          },
          "metadata": {
            "tags": []
          },
          "execution_count": 3
        }
      ]
    },
    {
      "cell_type": "code",
      "metadata": {
        "colab": {
          "base_uri": "https://localhost:8080/",
          "height": 215
        },
        "id": "reF-S4lJBj_L",
        "outputId": "a6789923-2b41-473e-f763-1d080633a9be"
      },
      "source": [
        "cnx = sqlite3.connect(path+\"next.sqlite3\")\n",
        "nexts = pd.read_sql_query(\"select id, odd1, oddX, odd2 from next\", cnx)\n",
        "print(len(nexts))\n",
        "nexts.head(5)"
      ],
      "execution_count": null,
      "outputs": [
        {
          "output_type": "stream",
          "text": [
            "122457\n"
          ],
          "name": "stdout"
        },
        {
          "output_type": "execute_result",
          "data": {
            "text/html": [
              "<div>\n",
              "<style scoped>\n",
              "    .dataframe tbody tr th:only-of-type {\n",
              "        vertical-align: middle;\n",
              "    }\n",
              "\n",
              "    .dataframe tbody tr th {\n",
              "        vertical-align: top;\n",
              "    }\n",
              "\n",
              "    .dataframe thead th {\n",
              "        text-align: right;\n",
              "    }\n",
              "</style>\n",
              "<table border=\"1\" class=\"dataframe\">\n",
              "  <thead>\n",
              "    <tr style=\"text-align: right;\">\n",
              "      <th></th>\n",
              "      <th>id</th>\n",
              "      <th>odd1</th>\n",
              "      <th>oddX</th>\n",
              "      <th>odd2</th>\n",
              "    </tr>\n",
              "  </thead>\n",
              "  <tbody>\n",
              "    <tr>\n",
              "      <th>0</th>\n",
              "      <td>alGLmMgYw-Hp3gQnEVMMJF0JM7A=</td>\n",
              "      <td>2.55</td>\n",
              "      <td>2.98</td>\n",
              "      <td>2.94</td>\n",
              "    </tr>\n",
              "    <tr>\n",
              "      <th>1</th>\n",
              "      <td>Ui8s2L_xObIrJMt2tsgtgKwdzLY=</td>\n",
              "      <td>2.11</td>\n",
              "      <td>2.85</td>\n",
              "      <td>4.14</td>\n",
              "    </tr>\n",
              "    <tr>\n",
              "      <th>2</th>\n",
              "      <td>rLMPf0DYELthOqG-M_e9U28DStI=</td>\n",
              "      <td>2.67</td>\n",
              "      <td>2.94</td>\n",
              "      <td>2.83</td>\n",
              "    </tr>\n",
              "    <tr>\n",
              "      <th>3</th>\n",
              "      <td>n6QWccMa5ZYJ0GIX9SzaJ85c_wA=</td>\n",
              "      <td>2.27</td>\n",
              "      <td>3.21</td>\n",
              "      <td>3.17</td>\n",
              "    </tr>\n",
              "    <tr>\n",
              "      <th>4</th>\n",
              "      <td>tqRmfzLztjyZamWYu1uKn_wwm4k=</td>\n",
              "      <td>2.13</td>\n",
              "      <td>3.14</td>\n",
              "      <td>3.59</td>\n",
              "    </tr>\n",
              "  </tbody>\n",
              "</table>\n",
              "</div>"
            ],
            "text/plain": [
              "                             id  odd1  oddX  odd2\n",
              "0  alGLmMgYw-Hp3gQnEVMMJF0JM7A=  2.55  2.98  2.94\n",
              "1  Ui8s2L_xObIrJMt2tsgtgKwdzLY=  2.11  2.85  4.14\n",
              "2  rLMPf0DYELthOqG-M_e9U28DStI=  2.67  2.94  2.83\n",
              "3  n6QWccMa5ZYJ0GIX9SzaJ85c_wA=  2.27  3.21  3.17\n",
              "4  tqRmfzLztjyZamWYu1uKn_wwm4k=  2.13  3.14  3.59"
            ]
          },
          "metadata": {
            "tags": []
          },
          "execution_count": 4
        }
      ]
    },
    {
      "cell_type": "code",
      "metadata": {
        "colab": {
          "base_uri": "https://localhost:8080/"
        },
        "id": "vUAr3w-bDjqK",
        "outputId": "8ce136eb-0c63-4b2f-deec-f7c17d1b26b7"
      },
      "source": [
        "def join_df(left, right, left_on, right_on=None, suffix='_y'):\n",
        "    if right_on is None: right_on = left_on\n",
        "    return left.merge(right, how='left', left_on=left_on, right_on=right_on, suffixes=(\"\", suffix))\n",
        " \n",
        "data = join_df(df, nexts, \"next\", \"id\")\n",
        "data = data[data.odd1.notnull()]\n",
        " \n",
        "import numpy as np\n",
        "data = data.replace('', np.nan)\n",
        "column_names = [\"id\",\"next\", \"unix\", \"sport\", \"championat\", \"league\", \"match\", \"event\", \"status\", \"coefficient\", \"percent\", \"result\", \"good\", \"odd1\",\"oddX\",\"odd2\"]\n",
        " \n",
        " \n",
        "data.sport = data.sport.str.strip().str.lower()\n",
        "data.championat = data.championat.str.strip().str.lower()\n",
        "data.league = data.league.str.strip().str.lower()\n",
        "data.match = data.match.str.strip().str.lower()\n",
        "data.event = data.event.str.strip().str.lower()\n",
        " \n",
        " \n",
        " \n",
        "df = data.copy()\n",
        "df = df[column_names]\n",
        "df['coefficient'] = df['coefficient'].astype(float)\n",
        "df['percent'] = df['percent'].astype(float)\n",
        "df['unix'] = df['unix'].astype(float)\n",
        "df['good'] = df['good'].astype(float)\n",
        "df['odd1'] = df['odd1'].astype(float)\n",
        "df['oddX'] = df['oddX'].astype(float)\n",
        "df['odd2'] = df['odd2'].astype(float)\n",
        "df['won'] =[\"won\" if g>=1.0 else \"lost\" for g in df.good]\n",
        " \n",
        "df[\"ev\"] = df['event'].str.split(r'\\s+', expand=True)[0]\n",
        "df[\"ent\"] = df['event'].str.split(r'\\s+', expand=True)[1].astype(float)\n",
        " \n",
        "w = len(df[df['won'] == 'won'])\n",
        "l = len(df[df['won'] == 'lost'])\n",
        " \n",
        "print(f'Note: initialy data has {w} - won and {l} {w*100/(w+l)}% ({w}) won and {l*100/(w+l)}% ({l}) lost')\n",
        " \n",
        "df  =  df[['sport','championat','league','ev', 'ent', 'status','coefficient','percent','odd1','oddX','odd2','won']]\n",
        "df.ent = df.ent.fillna(value=0.0)\n",
        " \n",
        "X = df.copy()\n",
        " \n",
        "y = X.pop('won')\n",
        "cat_features = np.where(X.dtypes != np.float)[0]\n",
        "cat_features"
      ],
      "execution_count": null,
      "outputs": [
        {
          "output_type": "stream",
          "text": [
            "Note: initialy data has 20310 - won and 51118 28.434227473819792% (20310) won and 71.56577252618021% (51118) lost\n"
          ],
          "name": "stdout"
        },
        {
          "output_type": "execute_result",
          "data": {
            "text/plain": [
              "array([0, 1, 2, 3, 5])"
            ]
          },
          "metadata": {
            "tags": []
          },
          "execution_count": 5
        }
      ]
    },
    {
      "cell_type": "code",
      "metadata": {
        "id": "RBKwFJw1Djsc"
      },
      "source": [
        "from sklearn.model_selection import train_test_split\n",
        "from catboost import Pool\n",
        " \n",
        "data = train_test_split(X, y, test_size=0.2, random_state=0)\n",
        "X_train, X_validation, y_train, y_validation = data\n",
        " \n",
        "train_pool = Pool(\n",
        "    data=X_train, \n",
        "    label=y_train, \n",
        "    cat_features=cat_features\n",
        ")\n",
        " \n",
        "validation_pool = Pool(\n",
        "    data=X_validation, \n",
        "    label=y_validation, \n",
        "    cat_features=cat_features\n",
        ")"
      ],
      "execution_count": null,
      "outputs": []
    },
    {
      "cell_type": "code",
      "metadata": {
        "colab": {
          "base_uri": "https://localhost:8080/",
          "height": 1000,
          "referenced_widgets": [
            "a03c4b5debac4d61b3490560f1aa7e3d"
          ]
        },
        "id": "AfqudnooDjvD",
        "outputId": "9c1fd05c-60a9-4290-c6a0-8f699468264b"
      },
      "source": [
        "from catboost import CatBoostClassifier\n",
        " \n",
        "model = CatBoostClassifier()\n",
        " \n",
        "model.fit(\n",
        "    train_pool,\n",
        "    eval_set=validation_pool,\n",
        "    verbose=10,\n",
        "    plot=True\n",
        ")"
      ],
      "execution_count": null,
      "outputs": [
        {
          "output_type": "display_data",
          "data": {
            "application/vnd.jupyter.widget-view+json": {
              "model_id": "a03c4b5debac4d61b3490560f1aa7e3d",
              "version_minor": 0,
              "version_major": 2
            },
            "text/plain": [
              "MetricVisualizer(layout=Layout(align_self='stretch', height='500px'))"
            ]
          },
          "metadata": {
            "tags": []
          }
        },
        {
          "output_type": "stream",
          "text": [
            "Learning rate set to 0.086075\n",
            "0:\tlearn: 0.6556989\ttest: 0.6554477\tbest: 0.6554477 (0)\ttotal: 162ms\tremaining: 2m 42s\n",
            "10:\tlearn: 0.5176547\ttest: 0.5158778\tbest: 0.5158778 (10)\ttotal: 961ms\tremaining: 1m 26s\n",
            "20:\tlearn: 0.4954697\ttest: 0.4928561\tbest: 0.4928561 (20)\ttotal: 1.68s\tremaining: 1m 18s\n",
            "30:\tlearn: 0.4864876\ttest: 0.4832630\tbest: 0.4832630 (30)\ttotal: 2.4s\tremaining: 1m 15s\n",
            "40:\tlearn: 0.4812257\ttest: 0.4776337\tbest: 0.4776337 (40)\ttotal: 3.2s\tremaining: 1m 14s\n",
            "50:\tlearn: 0.4774981\ttest: 0.4738345\tbest: 0.4738345 (50)\ttotal: 3.97s\tremaining: 1m 13s\n",
            "60:\tlearn: 0.4749753\ttest: 0.4715010\tbest: 0.4715010 (60)\ttotal: 4.78s\tremaining: 1m 13s\n",
            "70:\tlearn: 0.4731154\ttest: 0.4700379\tbest: 0.4700379 (70)\ttotal: 5.53s\tremaining: 1m 12s\n",
            "80:\tlearn: 0.4718950\ttest: 0.4692760\tbest: 0.4692760 (80)\ttotal: 6.28s\tremaining: 1m 11s\n",
            "90:\tlearn: 0.4701595\ttest: 0.4677445\tbest: 0.4677445 (90)\ttotal: 7.1s\tremaining: 1m 10s\n",
            "100:\tlearn: 0.4684887\ttest: 0.4664628\tbest: 0.4664628 (100)\ttotal: 7.84s\tremaining: 1m 9s\n",
            "110:\tlearn: 0.4662336\ttest: 0.4646222\tbest: 0.4646222 (110)\ttotal: 8.69s\tremaining: 1m 9s\n",
            "120:\tlearn: 0.4642668\ttest: 0.4630957\tbest: 0.4630957 (120)\ttotal: 9.47s\tremaining: 1m 8s\n",
            "130:\tlearn: 0.4617385\ttest: 0.4607409\tbest: 0.4607409 (130)\ttotal: 10.3s\tremaining: 1m 8s\n",
            "140:\tlearn: 0.4593358\ttest: 0.4585017\tbest: 0.4585017 (140)\ttotal: 11.1s\tremaining: 1m 7s\n",
            "150:\tlearn: 0.4571114\ttest: 0.4568847\tbest: 0.4568847 (150)\ttotal: 11.9s\tremaining: 1m 7s\n",
            "160:\tlearn: 0.4551011\ttest: 0.4556893\tbest: 0.4556893 (160)\ttotal: 12.8s\tremaining: 1m 6s\n",
            "170:\tlearn: 0.4529977\ttest: 0.4542870\tbest: 0.4542870 (170)\ttotal: 13.6s\tremaining: 1m 6s\n",
            "180:\tlearn: 0.4512667\ttest: 0.4529743\tbest: 0.4529743 (180)\ttotal: 14.5s\tremaining: 1m 5s\n",
            "190:\tlearn: 0.4498024\ttest: 0.4519511\tbest: 0.4519511 (190)\ttotal: 15.3s\tremaining: 1m 4s\n",
            "200:\tlearn: 0.4479349\ttest: 0.4503128\tbest: 0.4503128 (200)\ttotal: 16.2s\tremaining: 1m 4s\n",
            "210:\tlearn: 0.4462381\ttest: 0.4492066\tbest: 0.4492066 (210)\ttotal: 16.9s\tremaining: 1m 3s\n",
            "220:\tlearn: 0.4448418\ttest: 0.4484826\tbest: 0.4484826 (220)\ttotal: 17.9s\tremaining: 1m 2s\n",
            "230:\tlearn: 0.4432955\ttest: 0.4473003\tbest: 0.4473003 (230)\ttotal: 18.7s\tremaining: 1m 2s\n",
            "240:\tlearn: 0.4410194\ttest: 0.4451240\tbest: 0.4451240 (240)\ttotal: 19.6s\tremaining: 1m 1s\n",
            "250:\tlearn: 0.4398447\ttest: 0.4445239\tbest: 0.4445239 (250)\ttotal: 20.4s\tremaining: 1m\n",
            "260:\tlearn: 0.4381341\ttest: 0.4429369\tbest: 0.4429369 (260)\ttotal: 21.2s\tremaining: 59.9s\n",
            "270:\tlearn: 0.4369485\ttest: 0.4423504\tbest: 0.4423504 (270)\ttotal: 21.9s\tremaining: 59s\n",
            "280:\tlearn: 0.4356209\ttest: 0.4415926\tbest: 0.4415890 (279)\ttotal: 22.7s\tremaining: 58.2s\n",
            "290:\tlearn: 0.4344477\ttest: 0.4409413\tbest: 0.4409413 (290)\ttotal: 23.6s\tremaining: 57.5s\n",
            "300:\tlearn: 0.4327956\ttest: 0.4393164\tbest: 0.4393164 (300)\ttotal: 24.4s\tremaining: 56.8s\n",
            "310:\tlearn: 0.4314906\ttest: 0.4383472\tbest: 0.4383472 (310)\ttotal: 25.3s\tremaining: 56s\n",
            "320:\tlearn: 0.4306840\ttest: 0.4378893\tbest: 0.4378893 (320)\ttotal: 26.1s\tremaining: 55.1s\n",
            "330:\tlearn: 0.4296430\ttest: 0.4372562\tbest: 0.4372562 (330)\ttotal: 26.9s\tremaining: 54.4s\n",
            "340:\tlearn: 0.4282180\ttest: 0.4362437\tbest: 0.4362437 (340)\ttotal: 27.8s\tremaining: 53.7s\n",
            "350:\tlearn: 0.4275088\ttest: 0.4358813\tbest: 0.4358813 (350)\ttotal: 28.7s\tremaining: 53s\n",
            "360:\tlearn: 0.4263891\ttest: 0.4351297\tbest: 0.4351297 (360)\ttotal: 29.5s\tremaining: 52.2s\n",
            "370:\tlearn: 0.4252129\ttest: 0.4343279\tbest: 0.4343279 (370)\ttotal: 30.3s\tremaining: 51.4s\n",
            "380:\tlearn: 0.4243380\ttest: 0.4338443\tbest: 0.4338403 (379)\ttotal: 31.2s\tremaining: 50.6s\n",
            "390:\tlearn: 0.4234303\ttest: 0.4332691\tbest: 0.4332691 (390)\ttotal: 32s\tremaining: 49.8s\n",
            "400:\tlearn: 0.4222657\ttest: 0.4325247\tbest: 0.4325247 (400)\ttotal: 32.8s\tremaining: 49.1s\n",
            "410:\tlearn: 0.4212464\ttest: 0.4318421\tbest: 0.4318421 (410)\ttotal: 33.7s\tremaining: 48.3s\n",
            "420:\tlearn: 0.4204429\ttest: 0.4314040\tbest: 0.4314040 (420)\ttotal: 34.5s\tremaining: 47.4s\n",
            "430:\tlearn: 0.4193362\ttest: 0.4308177\tbest: 0.4308177 (430)\ttotal: 35.3s\tremaining: 46.6s\n",
            "440:\tlearn: 0.4182047\ttest: 0.4299311\tbest: 0.4299311 (440)\ttotal: 36.2s\tremaining: 45.8s\n",
            "450:\tlearn: 0.4170453\ttest: 0.4293572\tbest: 0.4293572 (450)\ttotal: 37.1s\tremaining: 45.1s\n",
            "460:\tlearn: 0.4161540\ttest: 0.4288825\tbest: 0.4288825 (460)\ttotal: 37.9s\tremaining: 44.3s\n",
            "470:\tlearn: 0.4153023\ttest: 0.4284068\tbest: 0.4284056 (469)\ttotal: 38.7s\tremaining: 43.5s\n",
            "480:\tlearn: 0.4141765\ttest: 0.4275842\tbest: 0.4275842 (480)\ttotal: 39.6s\tremaining: 42.7s\n",
            "490:\tlearn: 0.4132926\ttest: 0.4270992\tbest: 0.4270796 (489)\ttotal: 40.5s\tremaining: 42s\n",
            "500:\tlearn: 0.4123957\ttest: 0.4266116\tbest: 0.4266116 (500)\ttotal: 41.3s\tremaining: 41.2s\n",
            "510:\tlearn: 0.4109661\ttest: 0.4254201\tbest: 0.4254201 (510)\ttotal: 42.3s\tremaining: 40.5s\n",
            "520:\tlearn: 0.4099215\ttest: 0.4246863\tbest: 0.4246863 (520)\ttotal: 43.2s\tremaining: 39.7s\n",
            "530:\tlearn: 0.4090645\ttest: 0.4243941\tbest: 0.4243825 (529)\ttotal: 44s\tremaining: 38.9s\n",
            "540:\tlearn: 0.4085198\ttest: 0.4240384\tbest: 0.4240384 (540)\ttotal: 44.8s\tremaining: 38s\n",
            "550:\tlearn: 0.4078504\ttest: 0.4237754\tbest: 0.4237731 (548)\ttotal: 45.7s\tremaining: 37.2s\n",
            "560:\tlearn: 0.4068228\ttest: 0.4229653\tbest: 0.4229653 (560)\ttotal: 46.5s\tremaining: 36.4s\n",
            "570:\tlearn: 0.4059379\ttest: 0.4224886\tbest: 0.4224803 (569)\ttotal: 47.4s\tremaining: 35.6s\n",
            "580:\tlearn: 0.4052839\ttest: 0.4222653\tbest: 0.4222630 (579)\ttotal: 48.2s\tremaining: 34.8s\n",
            "590:\tlearn: 0.4040416\ttest: 0.4213963\tbest: 0.4213963 (590)\ttotal: 49.1s\tremaining: 34s\n",
            "600:\tlearn: 0.4032121\ttest: 0.4209393\tbest: 0.4209393 (600)\ttotal: 50s\tremaining: 33.2s\n",
            "610:\tlearn: 0.4019550\ttest: 0.4197607\tbest: 0.4197607 (610)\ttotal: 50.9s\tremaining: 32.4s\n",
            "620:\tlearn: 0.4011945\ttest: 0.4193728\tbest: 0.4193728 (620)\ttotal: 51.8s\tremaining: 31.6s\n",
            "630:\tlearn: 0.4002469\ttest: 0.4187314\tbest: 0.4187314 (630)\ttotal: 52.7s\tremaining: 30.8s\n",
            "640:\tlearn: 0.3992940\ttest: 0.4182392\tbest: 0.4182392 (640)\ttotal: 53.5s\tremaining: 30s\n",
            "650:\tlearn: 0.3982832\ttest: 0.4177043\tbest: 0.4176976 (649)\ttotal: 54.3s\tremaining: 29.1s\n",
            "660:\tlearn: 0.3974439\ttest: 0.4172842\tbest: 0.4172842 (660)\ttotal: 55.2s\tremaining: 28.3s\n",
            "670:\tlearn: 0.3967518\ttest: 0.4170505\tbest: 0.4170469 (669)\ttotal: 56.1s\tremaining: 27.5s\n",
            "680:\tlearn: 0.3957580\ttest: 0.4162387\tbest: 0.4162387 (680)\ttotal: 56.9s\tremaining: 26.7s\n",
            "690:\tlearn: 0.3946415\ttest: 0.4153937\tbest: 0.4153937 (690)\ttotal: 57.9s\tremaining: 25.9s\n",
            "700:\tlearn: 0.3934167\ttest: 0.4147180\tbest: 0.4147180 (700)\ttotal: 58.7s\tremaining: 25.1s\n",
            "710:\tlearn: 0.3925583\ttest: 0.4142982\tbest: 0.4142982 (710)\ttotal: 59.6s\tremaining: 24.2s\n",
            "720:\tlearn: 0.3918756\ttest: 0.4140009\tbest: 0.4139720 (719)\ttotal: 1m\tremaining: 23.4s\n",
            "730:\tlearn: 0.3911769\ttest: 0.4138767\tbest: 0.4138767 (730)\ttotal: 1m 1s\tremaining: 22.6s\n",
            "740:\tlearn: 0.3905586\ttest: 0.4134963\tbest: 0.4134963 (740)\ttotal: 1m 2s\tremaining: 21.7s\n",
            "750:\tlearn: 0.3896423\ttest: 0.4129486\tbest: 0.4129412 (749)\ttotal: 1m 2s\tremaining: 20.9s\n",
            "760:\tlearn: 0.3887733\ttest: 0.4125312\tbest: 0.4125312 (760)\ttotal: 1m 3s\tremaining: 20.1s\n",
            "770:\tlearn: 0.3880524\ttest: 0.4123047\tbest: 0.4123047 (770)\ttotal: 1m 4s\tremaining: 19.2s\n",
            "780:\tlearn: 0.3870193\ttest: 0.4116401\tbest: 0.4116387 (779)\ttotal: 1m 5s\tremaining: 18.4s\n",
            "790:\tlearn: 0.3860589\ttest: 0.4110870\tbest: 0.4110870 (790)\ttotal: 1m 6s\tremaining: 17.6s\n",
            "800:\tlearn: 0.3854880\ttest: 0.4108972\tbest: 0.4108972 (800)\ttotal: 1m 7s\tremaining: 16.7s\n",
            "810:\tlearn: 0.3848931\ttest: 0.4107831\tbest: 0.4107606 (809)\ttotal: 1m 8s\tremaining: 15.9s\n",
            "820:\tlearn: 0.3841520\ttest: 0.4102697\tbest: 0.4102697 (820)\ttotal: 1m 9s\tremaining: 15.1s\n",
            "830:\tlearn: 0.3831390\ttest: 0.4094556\tbest: 0.4094353 (829)\ttotal: 1m 9s\tremaining: 14.2s\n",
            "840:\tlearn: 0.3823796\ttest: 0.4091517\tbest: 0.4091517 (840)\ttotal: 1m 10s\tremaining: 13.4s\n",
            "850:\tlearn: 0.3818444\ttest: 0.4088576\tbest: 0.4088432 (849)\ttotal: 1m 11s\tremaining: 12.6s\n",
            "860:\tlearn: 0.3811395\ttest: 0.4083120\tbest: 0.4083120 (860)\ttotal: 1m 12s\tremaining: 11.7s\n",
            "870:\tlearn: 0.3805564\ttest: 0.4081013\tbest: 0.4081013 (870)\ttotal: 1m 13s\tremaining: 10.9s\n",
            "880:\tlearn: 0.3797321\ttest: 0.4076581\tbest: 0.4076581 (880)\ttotal: 1m 14s\tremaining: 10.1s\n",
            "890:\tlearn: 0.3789399\ttest: 0.4071781\tbest: 0.4071781 (890)\ttotal: 1m 15s\tremaining: 9.2s\n",
            "900:\tlearn: 0.3782164\ttest: 0.4068351\tbest: 0.4068351 (900)\ttotal: 1m 16s\tremaining: 8.37s\n",
            "910:\tlearn: 0.3775609\ttest: 0.4066053\tbest: 0.4066053 (910)\ttotal: 1m 17s\tremaining: 7.53s\n",
            "920:\tlearn: 0.3768940\ttest: 0.4060844\tbest: 0.4060844 (920)\ttotal: 1m 17s\tremaining: 6.69s\n",
            "930:\tlearn: 0.3759984\ttest: 0.4054170\tbest: 0.4054170 (930)\ttotal: 1m 18s\tremaining: 5.85s\n",
            "940:\tlearn: 0.3753155\ttest: 0.4051609\tbest: 0.4051609 (940)\ttotal: 1m 19s\tremaining: 5.01s\n",
            "950:\tlearn: 0.3747497\ttest: 0.4049209\tbest: 0.4049209 (950)\ttotal: 1m 20s\tremaining: 4.15s\n",
            "960:\tlearn: 0.3740048\ttest: 0.4045329\tbest: 0.4045329 (960)\ttotal: 1m 21s\tremaining: 3.31s\n",
            "970:\tlearn: 0.3732360\ttest: 0.4040398\tbest: 0.4040398 (970)\ttotal: 1m 22s\tremaining: 2.46s\n",
            "980:\tlearn: 0.3726984\ttest: 0.4038345\tbest: 0.4038122 (978)\ttotal: 1m 23s\tremaining: 1.61s\n",
            "990:\tlearn: 0.3718978\ttest: 0.4035007\tbest: 0.4034889 (987)\ttotal: 1m 24s\tremaining: 764ms\n",
            "999:\tlearn: 0.3714296\ttest: 0.4032754\tbest: 0.4032754 (999)\ttotal: 1m 24s\tremaining: 0us\n",
            "\n",
            "bestTest = 0.4032753665\n",
            "bestIteration = 999\n",
            "\n"
          ],
          "name": "stdout"
        },
        {
          "output_type": "execute_result",
          "data": {
            "text/plain": [
              "<catboost.core.CatBoostClassifier at 0x7ff195ea62d0>"
            ]
          },
          "metadata": {
            "tags": []
          },
          "execution_count": 7
        }
      ]
    },
    {
      "cell_type": "code",
      "metadata": {
        "id": "DjdnA3B9Djxc"
      },
      "source": [
        "import numpy as np\n",
        "\n",
        "def get_df(id, sport, championat, league, event, status, coefficient, percent, odd1,oddX,odd2):\n",
        "    d = {'id': [id],'sport': [sport], 'championat': [championat], 'league': [league], 'event': [event], 'status': [status], 'coefficient': [coefficient], 'percent': [percent], 'odd1': [odd1], 'oddX': [oddX], 'odd2': [odd2]}\n",
        "    df = pd.DataFrame(data=d)\n",
        "    df = df.replace('', np.nan)\n",
        "    df.sport = df.sport.str.strip().str.lower()\n",
        "    df.championat = df.championat.str.strip().str.lower()\n",
        "    df.league = df.league.str.strip().str.lower()\n",
        "    df.event = df.event.str.strip().str.lower()\n",
        "    df['coefficient'] = df['coefficient'].astype(float)\n",
        "    df['percent'] = df['percent'].astype(float)\n",
        "    df['odd1'] = df['odd1'].astype(float)\n",
        "    df['oddX'] = df['oddX'].astype(float)\n",
        "    df['odd2'] = df['odd2'].astype(float)\n",
        "    if event == \"1X2\" or event == \"DNB\" or event == \"DC\" or event == \"BTS\" or event == \"DC\":\n",
        "        df[\"ev\"] = event\n",
        "        df[\"ent\"] = 0.0    \n",
        "    else:\n",
        "        df[\"ev\"] = df['event'].str.split(r'\\s+', expand=True)[0]\n",
        "        df[\"ent\"] = df['event'].str.split(r'\\s+', expand=True)[1].astype(float)\n",
        "  \n",
        "    df  =  df[['sport','championat','league','ev', 'ent', 'status','coefficient','percent','odd1','oddX','odd2']]\n",
        "    df.ent = df.ent.fillna(value=0.0)\n",
        " \n",
        "    return df"
      ],
      "execution_count": null,
      "outputs": []
    },
    {
      "cell_type": "code",
      "metadata": {
        "colab": {
          "base_uri": "https://localhost:8080/"
        },
        "id": "D5FR_m0-DtQm",
        "outputId": "1b6d3ffe-07cc-4521-8722-e9456b3aaf97"
      },
      "source": [
        "!wget https://bin.equinox.io/c/4VmDzA7iaHb/ngrok-stable-linux-amd64.zip\n",
        "!unzip ngrok-stable-linux-amd64.zip\n",
        "!./ngrok authtoken 1o4kaWmDPuTPn9ttACi20sykhni_21xtSpkXK2o8G6ZHJBXji"
      ],
      "execution_count": null,
      "outputs": [
        {
          "output_type": "stream",
          "text": [
            "--2021-06-07 06:30:25--  https://bin.equinox.io/c/4VmDzA7iaHb/ngrok-stable-linux-amd64.zip\n",
            "Resolving bin.equinox.io (bin.equinox.io)... 3.230.235.205, 52.55.225.227, 34.197.154.58, ...\n",
            "Connecting to bin.equinox.io (bin.equinox.io)|3.230.235.205|:443... connected.\n",
            "HTTP request sent, awaiting response... 200 OK\n",
            "Length: 13832437 (13M) [application/octet-stream]\n",
            "Saving to: ‘ngrok-stable-linux-amd64.zip’\n",
            "\n",
            "ngrok-stable-linux- 100%[===================>]  13.19M  17.6MB/s    in 0.8s    \n",
            "\n",
            "2021-06-07 06:30:26 (17.6 MB/s) - ‘ngrok-stable-linux-amd64.zip’ saved [13832437/13832437]\n",
            "\n",
            "Archive:  ngrok-stable-linux-amd64.zip\n",
            "  inflating: ngrok                   \n",
            "Authtoken saved to configuration file: /root/.ngrok2/ngrok.yml\n"
          ],
          "name": "stdout"
        }
      ]
    },
    {
      "cell_type": "code",
      "metadata": {
        "colab": {
          "base_uri": "https://localhost:8080/"
        },
        "id": "Jy80nM1SDtS3",
        "outputId": "89d0d1e7-7d65-4c3b-d558-b269b1b33978"
      },
      "source": [
        "from flask_ngrok import run_with_ngrok\n",
        "from flask import Flask, request, jsonify\n",
        "import pandas as pd\n",
        "import time\n",
        " \n",
        "app = Flask(__name__)\n",
        "run_with_ngrok(app)   #starts ngrok when the app is run\n",
        " \n",
        "@app.route('/', methods=['GET', 'POST'])\n",
        "def add_message():\n",
        "    id = request.args.get('id')\n",
        "    sport = request.args.get('sport')\n",
        "    championat = request.args.get('championat')\n",
        "    league = request.args.get('league')\n",
        "    event = request.args.get('event')\n",
        "    status = request.args.get('status')\n",
        "    coefficient = request.args.get('coefficient')\n",
        "    percent = request.args.get('percent')\n",
        "    odd1 = request.args.get('odd1')\n",
        "    oddX = request.args.get('oddX')\n",
        "    odd2 = request.args.get('odd2')\n",
        "    \n",
        "    df = get_df(id, sport, championat, league, event, status, coefficient, percent,odd1,oddX,odd2)\n",
        "    prediction = model.predict(df)\n",
        "    prob = model.predict_proba(df)\n",
        "    response = id + \"<===>\" + prediction[0] + \"<===>\" + str(prob[0][1]) + \"<===>\" + str(model.best_score_[\"validation\"][\"Logloss\"])\n",
        "    print(f'{time.strftime(\"%d %m %Y, %H:%M\", time.localtime())}   id:{id},sport:{sport},championat:{championat},league:{league},event:{event},status:{status},coefficient:{coefficient},percent:{percent}, odd1: {odd1},oddX: {oddX},odd2: {odd2}; ---> {prediction[0]}')\n",
        "    print(response)\n",
        "    return response\n",
        " \n",
        "@app.route('/test', methods=['GET', 'POST'])\n",
        "def test():\n",
        "    print(f'Connected!')\n",
        "    return \"default\"\n",
        "  \n",
        "app.run()"
      ],
      "execution_count": null,
      "outputs": [
        {
          "output_type": "stream",
          "text": [
            " * Serving Flask app \"__main__\" (lazy loading)\n",
            " * Environment: production\n",
            "\u001b[31m   WARNING: This is a development server. Do not use it in a production deployment.\u001b[0m\n",
            "\u001b[2m   Use a production WSGI server instead.\u001b[0m\n",
            " * Debug mode: off\n"
          ],
          "name": "stdout"
        },
        {
          "output_type": "stream",
          "text": [
            " * Running on http://127.0.0.1:5000/ (Press CTRL+C to quit)\n"
          ],
          "name": "stderr"
        },
        {
          "output_type": "stream",
          "text": [
            " * Running on http://885fceb31432.ngrok.io\n",
            " * Traffic stats available on http://127.0.0.1:4040\n"
          ],
          "name": "stdout"
        },
        {
          "output_type": "stream",
          "text": [
            "127.0.0.1 - - [07/Jun/2021 06:32:32] \"\u001b[37mGET /test HTTP/1.1\u001b[0m\" 200 -\n"
          ],
          "name": "stderr"
        },
        {
          "output_type": "stream",
          "text": [
            "Connected!\n"
          ],
          "name": "stdout"
        },
        {
          "output_type": "stream",
          "text": [
            "127.0.0.1 - - [07/Jun/2021 06:34:25] \"\u001b[37mGET /?championat=World&coefficient=5.53&event=EH+-6&id=r-X2venw8nMdiMi90P4DvXJveqY%3D&league=World+Cup+2022&odd1=1.02&odd2=44.36&oddX=16.58&percent=40&sport=Soccer&status=1 HTTP/1.1\u001b[0m\" 200 -\n"
          ],
          "name": "stderr"
        },
        {
          "output_type": "stream",
          "text": [
            "07 06 2021, 06:34   id:r-X2venw8nMdiMi90P4DvXJveqY=,sport:Soccer,championat:World,league:World Cup 2022,event:EH -6,status:1,coefficient:5.53,percent:40, odd1: 1.02,oddX: 16.58,odd2: 44.36; ---> lost\n",
            "r-X2venw8nMdiMi90P4DvXJveqY=<===>lost<===>0.05793841451646247<===>0.4032753665215197\n"
          ],
          "name": "stdout"
        },
        {
          "output_type": "stream",
          "text": [
            "127.0.0.1 - - [07/Jun/2021 06:34:29] \"\u001b[37mGET /?championat=World&coefficient=1.94&event=AH+-7.25&id=m8b84tO-tGuKcZJOa5TSHyklR4o%3D&league=World+Cup+2022&odd1=1.03&odd2=45.78&oddX=16&percent=38&sport=Soccer&status=1 HTTP/1.1\u001b[0m\" 200 -\n"
          ],
          "name": "stderr"
        },
        {
          "output_type": "stream",
          "text": [
            "07 06 2021, 06:34   id:m8b84tO-tGuKcZJOa5TSHyklR4o=,sport:Soccer,championat:World,league:World Cup 2022,event:AH -7.25,status:1,coefficient:1.94,percent:38, odd1: 1.03,oddX: 16,odd2: 45.78; ---> won\n",
            "m8b84tO-tGuKcZJOa5TSHyklR4o=<===>won<===>0.5445717930518902<===>0.4032753665215197\n"
          ],
          "name": "stdout"
        },
        {
          "output_type": "stream",
          "text": [
            "127.0.0.1 - - [07/Jun/2021 06:34:34] \"\u001b[37mGET /?championat=World&coefficient=5.15&event=EH+-5&id=wO7degs_a5KtTn4nXjK7rn_QOyQ%3D&league=World+Cup+2022&odd1=1.05&odd2=25.77&oddX=11.57&percent=36&sport=Soccer&status=1 HTTP/1.1\u001b[0m\" 200 -\n"
          ],
          "name": "stderr"
        },
        {
          "output_type": "stream",
          "text": [
            "07 06 2021, 06:34   id:wO7degs_a5KtTn4nXjK7rn_QOyQ=,sport:Soccer,championat:World,league:World Cup 2022,event:EH -5,status:1,coefficient:5.15,percent:36, odd1: 1.05,oddX: 11.57,odd2: 25.77; ---> lost\n",
            "wO7degs_a5KtTn4nXjK7rn_QOyQ=<===>lost<===>0.09529156741888264<===>0.4032753665215197\n"
          ],
          "name": "stdout"
        },
        {
          "output_type": "stream",
          "text": [
            "127.0.0.1 - - [07/Jun/2021 06:34:39] \"\u001b[37mGET /?championat=World&coefficient=3.52&event=O%2FU+2&id=oxPAty9OAuurge6LJBW0fEEacmE%3D&league=World+Cup+2022&odd1=1.43&odd2=6.16&oddX=4.45&percent=36&sport=Soccer&status=Under HTTP/1.1\u001b[0m\" 200 -\n"
          ],
          "name": "stderr"
        },
        {
          "output_type": "stream",
          "text": [
            "07 06 2021, 06:34   id:oxPAty9OAuurge6LJBW0fEEacmE=,sport:Soccer,championat:World,league:World Cup 2022,event:O/U 2,status:Under,coefficient:3.52,percent:36, odd1: 1.43,oddX: 4.45,odd2: 6.16; ---> lost\n",
            "oxPAty9OAuurge6LJBW0fEEacmE=<===>lost<===>0.09814692761778146<===>0.4032753665215197\n"
          ],
          "name": "stdout"
        },
        {
          "output_type": "stream",
          "text": [
            "127.0.0.1 - - [07/Jun/2021 06:34:44] \"\u001b[37mGET /?championat=World&coefficient=47.38&event=1X2&id=1WV6KXGcbiz4DaSDNL0mGJCK7Fs%3D&league=World+Cup+2022&odd1=1.03&odd2=45.78&oddX=16&percent=35&sport=Soccer&status=2 HTTP/1.1\u001b[0m\" 200 -\n"
          ],
          "name": "stderr"
        },
        {
          "output_type": "stream",
          "text": [
            "07 06 2021, 06:34   id:1WV6KXGcbiz4DaSDNL0mGJCK7Fs=,sport:Soccer,championat:World,league:World Cup 2022,event:1X2,status:2,coefficient:47.38,percent:35, odd1: 1.03,oddX: 16,odd2: 45.78; ---> lost\n",
            "1WV6KXGcbiz4DaSDNL0mGJCK7Fs=<===>lost<===>0.1721252973914696<===>0.4032753665215197\n"
          ],
          "name": "stdout"
        },
        {
          "output_type": "stream",
          "text": [
            "127.0.0.1 - - [07/Jun/2021 06:34:48] \"\u001b[37mGET /?championat=World&coefficient=4.46&event=AH+-5&id=k7Fu3vWyVMjm5gqefL1mcVFQchs%3D&league=World+Cup+2022&odd1=1.05&odd2=25.77&oddX=11.57&percent=35&sport=Soccer&status=1 HTTP/1.1\u001b[0m\" 200 -\n"
          ],
          "name": "stderr"
        },
        {
          "output_type": "stream",
          "text": [
            "07 06 2021, 06:34   id:k7Fu3vWyVMjm5gqefL1mcVFQchs=,sport:Soccer,championat:World,league:World Cup 2022,event:AH -5,status:1,coefficient:4.46,percent:35, odd1: 1.05,oddX: 11.57,odd2: 25.77; ---> lost\n",
            "k7Fu3vWyVMjm5gqefL1mcVFQchs=<===>lost<===>0.17553103228948522<===>0.4032753665215197\n"
          ],
          "name": "stdout"
        },
        {
          "output_type": "stream",
          "text": [
            "127.0.0.1 - - [07/Jun/2021 06:34:56] \"\u001b[37mGET /?championat=World&coefficient=23.76&event=1X2&id=u-wMMmrGVBgwGfFWPlAwOhAnk6g%3D&league=World+Cup+2022&odd1=1.06&odd2=24.83&oddX=10.64&percent=33&sport=Soccer&status=2 HTTP/1.1\u001b[0m\" 200 -\n"
          ],
          "name": "stderr"
        },
        {
          "output_type": "stream",
          "text": [
            "07 06 2021, 06:34   id:u-wMMmrGVBgwGfFWPlAwOhAnk6g=,sport:Soccer,championat:World,league:World Cup 2022,event:1X2,status:2,coefficient:23.76,percent:33, odd1: 1.06,oddX: 10.64,odd2: 24.83; ---> lost\n",
            "u-wMMmrGVBgwGfFWPlAwOhAnk6g=<===>lost<===>0.2924180340190827<===>0.4032753665215197\n"
          ],
          "name": "stdout"
        },
        {
          "output_type": "stream",
          "text": [
            "127.0.0.1 - - [07/Jun/2021 06:35:00] \"\u001b[37mGET /?championat=World&coefficient=5.23&event=AH+-5.5&id=ULbF8x0MN80SV2YLBmZdFU6BHMA%3D&league=World+Cup+2022&odd1=1.05&odd2=25.77&oddX=11.57&percent=32&sport=Soccer&status=1 HTTP/1.1\u001b[0m\" 200 -\n"
          ],
          "name": "stderr"
        },
        {
          "output_type": "stream",
          "text": [
            "07 06 2021, 06:35   id:ULbF8x0MN80SV2YLBmZdFU6BHMA=,sport:Soccer,championat:World,league:World Cup 2022,event:AH -5.5,status:1,coefficient:5.23,percent:32, odd1: 1.05,oddX: 11.57,odd2: 25.77; ---> lost\n",
            "ULbF8x0MN80SV2YLBmZdFU6BHMA=<===>lost<===>0.10206675434853722<===>0.4032753665215197\n"
          ],
          "name": "stdout"
        },
        {
          "output_type": "stream",
          "text": [
            "127.0.0.1 - - [07/Jun/2021 06:35:04] \"\u001b[37mGET /?championat=World&coefficient=3.04&event=EH+-4&id=fS2F79sE1JUvL3AyjF1SeDa_NhI%3D&league=World+Cup+2022&odd1=1.05&odd2=25.77&oddX=11.57&percent=32&sport=Soccer&status=1 HTTP/1.1\u001b[0m\" 200 -\n"
          ],
          "name": "stderr"
        },
        {
          "output_type": "stream",
          "text": [
            "07 06 2021, 06:35   id:fS2F79sE1JUvL3AyjF1SeDa_NhI=,sport:Soccer,championat:World,league:World Cup 2022,event:EH -4,status:1,coefficient:3.04,percent:32, odd1: 1.05,oddX: 11.57,odd2: 25.77; ---> lost\n",
            "fS2F79sE1JUvL3AyjF1SeDa_NhI=<===>lost<===>0.22897060575398387<===>0.4032753665215197\n"
          ],
          "name": "stdout"
        },
        {
          "output_type": "stream",
          "text": [
            "127.0.0.1 - - [07/Jun/2021 06:35:13] \"\u001b[37mGET /?championat=World&coefficient=3.53&event=AH+-4.75&id=_27pzmnjuadjDm1aiCJtiZnXNv0%3D&league=World+Cup+2022&odd1=1.05&odd2=25.77&oddX=11.57&percent=30&sport=Soccer&status=1 HTTP/1.1\u001b[0m\" 200 -\n"
          ],
          "name": "stderr"
        },
        {
          "output_type": "stream",
          "text": [
            "07 06 2021, 06:35   id:_27pzmnjuadjDm1aiCJtiZnXNv0=,sport:Soccer,championat:World,league:World Cup 2022,event:AH -4.75,status:1,coefficient:3.53,percent:30, odd1: 1.05,oddX: 11.57,odd2: 25.77; ---> lost\n",
            "_27pzmnjuadjDm1aiCJtiZnXNv0=<===>lost<===>0.2421022419726081<===>0.4032753665215197\n"
          ],
          "name": "stdout"
        },
        {
          "output_type": "stream",
          "text": [
            "127.0.0.1 - - [07/Jun/2021 06:35:18] \"\u001b[37mGET /?championat=World&coefficient=2.76&event=AH+-4.25&id=0aRB6YWII0V54y4eukndjojUDcQ%3D&league=World+Cup+2022&odd1=1.05&odd2=25.77&oddX=11.57&percent=30&sport=Soccer&status=1 HTTP/1.1\u001b[0m\" 200 -\n"
          ],
          "name": "stderr"
        },
        {
          "output_type": "stream",
          "text": [
            "07 06 2021, 06:35   id:0aRB6YWII0V54y4eukndjojUDcQ=,sport:Soccer,championat:World,league:World Cup 2022,event:AH -4.25,status:1,coefficient:2.76,percent:30, odd1: 1.05,oddX: 11.57,odd2: 25.77; ---> lost\n",
            "0aRB6YWII0V54y4eukndjojUDcQ=<===>lost<===>0.2628734253783476<===>0.4032753665215197\n"
          ],
          "name": "stdout"
        },
        {
          "output_type": "stream",
          "text": [
            "127.0.0.1 - - [07/Jun/2021 06:35:23] \"\u001b[37mGET /?championat=World&coefficient=3.04&event=AH+-4.5&id=vT47I-UDMtTMUi-u82q4v-c-xF4%3D&league=World+Cup+2022&odd1=1.05&odd2=25.77&oddX=11.57&percent=29&sport=Soccer&status=1 HTTP/1.1\u001b[0m\" 200 -\n"
          ],
          "name": "stderr"
        },
        {
          "output_type": "stream",
          "text": [
            "07 06 2021, 06:35   id:vT47I-UDMtTMUi-u82q4v-c-xF4=,sport:Soccer,championat:World,league:World Cup 2022,event:AH -4.5,status:1,coefficient:3.04,percent:29, odd1: 1.05,oddX: 11.57,odd2: 25.77; ---> lost\n",
            "vT47I-UDMtTMUi-u82q4v-c-xF4=<===>lost<===>0.24984062717574718<===>0.4032753665215197\n"
          ],
          "name": "stdout"
        },
        {
          "output_type": "stream",
          "text": [
            "127.0.0.1 - - [07/Jun/2021 06:35:27] \"\u001b[37mGET /?championat=World&coefficient=1.79&event=AH+-7.75&id=nvCkAJpYvBL2rZOEfe9aiQRoChA%3D&league=World+Cup+2022&odd1=0&odd2=45.38&oddX=24.75&percent=29&sport=Soccer&status=1 HTTP/1.1\u001b[0m\" 200 -\n"
          ],
          "name": "stderr"
        },
        {
          "output_type": "stream",
          "text": [
            "07 06 2021, 06:35   id:nvCkAJpYvBL2rZOEfe9aiQRoChA=,sport:Soccer,championat:World,league:World Cup 2022,event:AH -7.75,status:1,coefficient:1.79,percent:29, odd1: 0,oddX: 24.75,odd2: 45.38; ---> won\n",
            "nvCkAJpYvBL2rZOEfe9aiQRoChA=<===>won<===>0.5794703343018518<===>0.4032753665215197\n"
          ],
          "name": "stdout"
        },
        {
          "output_type": "stream",
          "text": [
            "127.0.0.1 - - [07/Jun/2021 06:35:31] \"\u001b[37mGET /?championat=World&coefficient=1.77&event=O%2FU+3&id=E8IhL0Cq0X6aY7MkJ63Qzm2DiBY%3D&league=World+Cup+2022&odd1=1.43&odd2=6.16&oddX=4.45&percent=28&sport=Soccer&status=Under HTTP/1.1\u001b[0m\" 200 -\n"
          ],
          "name": "stderr"
        },
        {
          "output_type": "stream",
          "text": [
            "07 06 2021, 06:35   id:E8IhL0Cq0X6aY7MkJ63Qzm2DiBY=,sport:Soccer,championat:World,league:World Cup 2022,event:O/U 3,status:Under,coefficient:1.77,percent:28, odd1: 1.43,oddX: 4.45,odd2: 6.16; ---> lost\n",
            "E8IhL0Cq0X6aY7MkJ63Qzm2DiBY=<===>lost<===>0.27962516701751966<===>0.4032753665215197\n"
          ],
          "name": "stdout"
        },
        {
          "output_type": "stream",
          "text": [
            "127.0.0.1 - - [07/Jun/2021 06:35:35] \"\u001b[37mGET /?championat=World&coefficient=6.55&event=EH+-6&id=p_NLudwfJe16zEYHFqxvLNJ9mF8%3D&league=World+Cup+2022&odd1=1.02&odd2=44.36&oddX=16.58&percent=27&sport=Soccer&status=X HTTP/1.1\u001b[0m\" 200 -\n"
          ],
          "name": "stderr"
        },
        {
          "output_type": "stream",
          "text": [
            "07 06 2021, 06:35   id:p_NLudwfJe16zEYHFqxvLNJ9mF8=,sport:Soccer,championat:World,league:World Cup 2022,event:EH -6,status:X,coefficient:6.55,percent:27, odd1: 1.02,oddX: 16.58,odd2: 44.36; ---> lost\n",
            "p_NLudwfJe16zEYHFqxvLNJ9mF8=<===>lost<===>0.0337333219894488<===>0.4032753665215197\n"
          ],
          "name": "stdout"
        },
        {
          "output_type": "stream",
          "text": [
            "127.0.0.1 - - [07/Jun/2021 06:35:40] \"\u001b[37mGET /?championat=World&coefficient=8.06&event=AH+-6&id=1cIHg5uydgQPLZsJ3Tt_vfDRv94%3D&league=World+Cup+2022&odd1=1.05&odd2=25.77&oddX=11.57&percent=26&sport=Soccer&status=1 HTTP/1.1\u001b[0m\" 200 -\n"
          ],
          "name": "stderr"
        },
        {
          "output_type": "stream",
          "text": [
            "07 06 2021, 06:35   id:1cIHg5uydgQPLZsJ3Tt_vfDRv94=,sport:Soccer,championat:World,league:World Cup 2022,event:AH -6,status:1,coefficient:8.06,percent:26, odd1: 1.05,oddX: 11.57,odd2: 25.77; ---> lost\n",
            "1cIHg5uydgQPLZsJ3Tt_vfDRv94=<===>lost<===>0.07615573444683499<===>0.4032753665215197\n"
          ],
          "name": "stdout"
        },
        {
          "output_type": "stream",
          "text": [
            "127.0.0.1 - - [07/Jun/2021 06:35:44] \"\u001b[37mGET /?championat=World&coefficient=1.54&event=AH+-3.5&id=_Kl11wu7oP4nEUVSiEtP4pvwuZk%3D&league=World+Cup+2022&odd1=1.02&odd2=44.36&oddX=16.58&percent=26&sport=Soccer&status=1 HTTP/1.1\u001b[0m\" 200 -\n"
          ],
          "name": "stderr"
        },
        {
          "output_type": "stream",
          "text": [
            "07 06 2021, 06:35   id:_Kl11wu7oP4nEUVSiEtP4pvwuZk=,sport:Soccer,championat:World,league:World Cup 2022,event:AH -3.5,status:1,coefficient:1.54,percent:26, odd1: 1.02,oddX: 16.58,odd2: 44.36; ---> won\n",
            "_Kl11wu7oP4nEUVSiEtP4pvwuZk=<===>won<===>0.6838981500106693<===>0.4032753665215197\n"
          ],
          "name": "stdout"
        },
        {
          "output_type": "stream",
          "text": [
            "127.0.0.1 - - [07/Jun/2021 06:35:52] \"\u001b[37mGET /?championat=World&coefficient=1.47&event=AH+-3.25&id=hbNhJtvk_WYdocd5bA825er9JPU%3D&league=World+Cup+2022&odd1=1.02&odd2=44.36&oddX=16.58&percent=25&sport=Soccer&status=1 HTTP/1.1\u001b[0m\" 200 -\n"
          ],
          "name": "stderr"
        },
        {
          "output_type": "stream",
          "text": [
            "07 06 2021, 06:35   id:hbNhJtvk_WYdocd5bA825er9JPU=,sport:Soccer,championat:World,league:World Cup 2022,event:AH -3.25,status:1,coefficient:1.47,percent:25, odd1: 1.02,oddX: 16.58,odd2: 44.36; ---> won\n",
            "hbNhJtvk_WYdocd5bA825er9JPU=<===>won<===>0.7073550048958612<===>0.4032753665215197\n"
          ],
          "name": "stdout"
        },
        {
          "output_type": "stream",
          "text": [
            "127.0.0.1 - - [07/Jun/2021 06:35:57] \"\u001b[37mGET /?championat=World&coefficient=1.6&event=O%2FU+3.25&id=ddmXcnqOaeOiEcvr-oMpXJ_QZzc%3D&league=World+Cup+2022&odd1=1.43&odd2=6.16&oddX=4.45&percent=25&sport=Soccer&status=Under HTTP/1.1\u001b[0m\" 200 -\n"
          ],
          "name": "stderr"
        },
        {
          "output_type": "stream",
          "text": [
            "07 06 2021, 06:35   id:ddmXcnqOaeOiEcvr-oMpXJ_QZzc=,sport:Soccer,championat:World,league:World Cup 2022,event:O/U 3.25,status:Under,coefficient:1.6,percent:25, odd1: 1.43,oddX: 4.45,odd2: 6.16; ---> lost\n",
            "ddmXcnqOaeOiEcvr-oMpXJ_QZzc=<===>lost<===>0.3718358262479001<===>0.4032753665215197\n"
          ],
          "name": "stdout"
        },
        {
          "output_type": "stream",
          "text": [
            "127.0.0.1 - - [07/Jun/2021 06:36:04] \"\u001b[37mGET /?championat=World&coefficient=2.57&event=AH+-4&id=Ot3JayEmMyf9TgvjlnBbqO92kb8%3D&league=World+Cup+2022&odd1=1.05&odd2=25.77&oddX=11.57&percent=25&sport=Soccer&status=1 HTTP/1.1\u001b[0m\" 200 -\n"
          ],
          "name": "stderr"
        },
        {
          "output_type": "stream",
          "text": [
            "07 06 2021, 06:36   id:Ot3JayEmMyf9TgvjlnBbqO92kb8=,sport:Soccer,championat:World,league:World Cup 2022,event:AH -4,status:1,coefficient:2.57,percent:25, odd1: 1.05,oddX: 11.57,odd2: 25.77; ---> lost\n",
            "Ot3JayEmMyf9TgvjlnBbqO92kb8=<===>lost<===>0.2705289182699923<===>0.4032753665215197\n"
          ],
          "name": "stdout"
        },
        {
          "output_type": "stream",
          "text": [
            "127.0.0.1 - - [07/Jun/2021 06:36:08] \"\u001b[37mGET /?championat=World&coefficient=1.63&event=AH+-3&id=9sMlEg1ji7tbdk8e9IxHV4mvwGU%3D&league=World+Cup+2022&odd1=1.05&odd2=25.77&oddX=11.57&percent=24&sport=Soccer&status=1 HTTP/1.1\u001b[0m\" 200 -\n"
          ],
          "name": "stderr"
        },
        {
          "output_type": "stream",
          "text": [
            "07 06 2021, 06:36   id:9sMlEg1ji7tbdk8e9IxHV4mvwGU=,sport:Soccer,championat:World,league:World Cup 2022,event:AH -3,status:1,coefficient:1.63,percent:24, odd1: 1.05,oddX: 11.57,odd2: 25.77; ---> won\n",
            "9sMlEg1ji7tbdk8e9IxHV4mvwGU=<===>won<===>0.5175971861370703<===>0.4032753665215197\n"
          ],
          "name": "stdout"
        },
        {
          "output_type": "stream",
          "text": [
            "127.0.0.1 - - [07/Jun/2021 06:36:13] \"\u001b[37mGET /?championat=World&coefficient=2.26&event=O%2FU+2.5&id=WrUQpibcM2j8ReePD-wjzc74oUg%3D&league=World+Cup+2022&odd1=1.43&odd2=6.16&oddX=4.45&percent=24&sport=Soccer&status=Under HTTP/1.1\u001b[0m\" 200 -\n"
          ],
          "name": "stderr"
        },
        {
          "output_type": "stream",
          "text": [
            "07 06 2021, 06:36   id:WrUQpibcM2j8ReePD-wjzc74oUg=,sport:Soccer,championat:World,league:World Cup 2022,event:O/U 2.5,status:Under,coefficient:2.26,percent:24, odd1: 1.43,oddX: 4.45,odd2: 6.16; ---> lost\n",
            "WrUQpibcM2j8ReePD-wjzc74oUg=<===>lost<===>0.34573978602845074<===>0.4032753665215197\n"
          ],
          "name": "stdout"
        },
        {
          "output_type": "stream",
          "text": [
            "127.0.0.1 - - [07/Jun/2021 06:36:17] \"\u001b[37mGET /?championat=Argentina&coefficient=1.95&event=DNB&id=NcleBFhs2n_rsZoRCJ-u04xHONQ%3D&league=Torneo+Federal&odd1=2.06&odd2=3.64&oddX=3.03&percent=24&sport=Soccer&status=2 HTTP/1.1\u001b[0m\" 200 -\n"
          ],
          "name": "stderr"
        },
        {
          "output_type": "stream",
          "text": [
            "07 06 2021, 06:36   id:NcleBFhs2n_rsZoRCJ-u04xHONQ=,sport:Soccer,championat:Argentina,league:Torneo Federal,event:DNB,status:2,coefficient:1.95,percent:24, odd1: 2.06,oddX: 3.03,odd2: 3.64; ---> won\n",
            "NcleBFhs2n_rsZoRCJ-u04xHONQ=<===>won<===>0.6351953445963356<===>0.4032753665215197\n"
          ],
          "name": "stdout"
        },
        {
          "output_type": "stream",
          "text": [
            "127.0.0.1 - - [07/Jun/2021 06:36:21] \"\u001b[37mGET /?championat=World&coefficient=4.56&event=O%2FU+1.5&id=smSSN0fDRFpCUMMQQ4Vmkd8LIMY%3D&league=World+Cup+2022&odd1=1.43&odd2=6.16&oddX=4.45&percent=24&sport=Soccer&status=Under HTTP/1.1\u001b[0m\" 200 -\n"
          ],
          "name": "stderr"
        },
        {
          "output_type": "stream",
          "text": [
            "07 06 2021, 06:36   id:smSSN0fDRFpCUMMQQ4Vmkd8LIMY=,sport:Soccer,championat:World,league:World Cup 2022,event:O/U 1.5,status:Under,coefficient:4.56,percent:24, odd1: 1.43,oddX: 4.45,odd2: 6.16; ---> lost\n",
            "smSSN0fDRFpCUMMQQ4Vmkd8LIMY=<===>lost<===>0.12342069825361478<===>0.4032753665215197\n"
          ],
          "name": "stdout"
        },
        {
          "output_type": "stream",
          "text": [
            "127.0.0.1 - - [07/Jun/2021 06:36:25] \"\u001b[37mGET /?championat=World&coefficient=4.17&event=O%2FU+5.5&id=sElo2FF-Bvhbyx-k0HfawfRMnzM%3D&league=Club+Friendly&odd1=1.21&odd2=9.3&oddX=6&percent=23&sport=Soccer&status=Over HTTP/1.1\u001b[0m\" 200 -\n"
          ],
          "name": "stderr"
        },
        {
          "output_type": "stream",
          "text": [
            "07 06 2021, 06:36   id:sElo2FF-Bvhbyx-k0HfawfRMnzM=,sport:Soccer,championat:World,league:Club Friendly,event:O/U 5.5,status:Over,coefficient:4.17,percent:23, odd1: 1.21,oddX: 6,odd2: 9.3; ---> lost\n",
            "sElo2FF-Bvhbyx-k0HfawfRMnzM=<===>lost<===>0.1695361818055192<===>0.4032753665215197\n"
          ],
          "name": "stdout"
        },
        {
          "output_type": "stream",
          "text": [
            "127.0.0.1 - - [07/Jun/2021 06:36:38] \"\u001b[37mGET /?championat=World&coefficient=2.21&event=AH+-3.75&id=wGs8nbUUmvYj1WUC4HCZZNcH3v0%3D&league=World+Cup+2022&odd1=1.05&odd2=25.77&oddX=11.57&percent=23&sport=Soccer&status=1 HTTP/1.1\u001b[0m\" 200 -\n"
          ],
          "name": "stderr"
        },
        {
          "output_type": "stream",
          "text": [
            "07 06 2021, 06:36   id:wGs8nbUUmvYj1WUC4HCZZNcH3v0=,sport:Soccer,championat:World,league:World Cup 2022,event:AH -3.75,status:1,coefficient:2.21,percent:23, odd1: 1.05,oddX: 11.57,odd2: 25.77; ---> lost\n",
            "wGs8nbUUmvYj1WUC4HCZZNcH3v0=<===>lost<===>0.31472079942489617<===>0.4032753665215197\n"
          ],
          "name": "stdout"
        },
        {
          "output_type": "stream",
          "text": [
            "127.0.0.1 - - [07/Jun/2021 06:36:42] \"\u001b[37mGET /?championat=World&coefficient=6.25&event=O%2FU+6.5&id=h2OgAxaEzigr1ttcVQsB6SILBSw%3D&league=World+Cup+2022&odd1=1.05&odd2=25.77&oddX=11.57&percent=22&sport=Soccer&status=Over HTTP/1.1\u001b[0m\" 200 -\n"
          ],
          "name": "stderr"
        },
        {
          "output_type": "stream",
          "text": [
            "07 06 2021, 06:36   id:h2OgAxaEzigr1ttcVQsB6SILBSw=,sport:Soccer,championat:World,league:World Cup 2022,event:O/U 6.5,status:Over,coefficient:6.25,percent:22, odd1: 1.05,oddX: 11.57,odd2: 25.77; ---> lost\n",
            "h2OgAxaEzigr1ttcVQsB6SILBSw=<===>lost<===>0.1000742530440708<===>0.4032753665215197\n"
          ],
          "name": "stdout"
        },
        {
          "output_type": "stream",
          "text": [
            "127.0.0.1 - - [07/Jun/2021 06:36:46] \"\u001b[37mGET /?championat=World&coefficient=1.31&event=AH+-3&id=mVFMX6lIamPUYKJvhtvnQSbD7aM%3D&league=World+Cup+2022&odd1=1.02&odd2=44.36&oddX=16.58&percent=22&sport=Soccer&status=1 HTTP/1.1\u001b[0m\" 200 -\n"
          ],
          "name": "stderr"
        },
        {
          "output_type": "stream",
          "text": [
            "07 06 2021, 06:36   id:mVFMX6lIamPUYKJvhtvnQSbD7aM=,sport:Soccer,championat:World,league:World Cup 2022,event:AH -3,status:1,coefficient:1.31,percent:22, odd1: 1.02,oddX: 16.58,odd2: 44.36; ---> won\n",
            "mVFMX6lIamPUYKJvhtvnQSbD7aM=<===>won<===>0.8254037364480027<===>0.4032753665215197\n"
          ],
          "name": "stdout"
        },
        {
          "output_type": "stream",
          "text": [
            "127.0.0.1 - - [07/Jun/2021 06:36:50] \"\u001b[37mGET /?championat=Argentina&coefficient=2.8&event=1X2&id=4oxgVBzUqu41DpIQhmaK0kbK8_M%3D&league=Torneo+Federal&odd1=2.06&odd2=3.64&oddX=3.03&percent=22&sport=Soccer&status=2 HTTP/1.1\u001b[0m\" 200 -\n"
          ],
          "name": "stderr"
        },
        {
          "output_type": "stream",
          "text": [
            "07 06 2021, 06:36   id:4oxgVBzUqu41DpIQhmaK0kbK8_M=,sport:Soccer,championat:Argentina,league:Torneo Federal,event:1X2,status:2,coefficient:2.8,percent:22, odd1: 2.06,oddX: 3.03,odd2: 3.64; ---> lost\n",
            "4oxgVBzUqu41DpIQhmaK0kbK8_M=<===>lost<===>0.4508096843977503<===>0.4032753665215197\n"
          ],
          "name": "stdout"
        },
        {
          "output_type": "stream",
          "text": [
            "127.0.0.1 - - [07/Jun/2021 06:36:54] \"\u001b[37mGET /?championat=World&coefficient=2&event=O%2FU+2.75&id=tQmONT5en8rylOqbvBLuDh94cQc%3D&league=World+Cup+2022&odd1=1.43&odd2=6.16&oddX=4.45&percent=22&sport=Soccer&status=Under HTTP/1.1\u001b[0m\" 200 -\n"
          ],
          "name": "stderr"
        },
        {
          "output_type": "stream",
          "text": [
            "07 06 2021, 06:36   id:tQmONT5en8rylOqbvBLuDh94cQc=,sport:Soccer,championat:World,league:World Cup 2022,event:O/U 2.75,status:Under,coefficient:2,percent:22, odd1: 1.43,oddX: 4.45,odd2: 6.16; ---> lost\n",
            "tQmONT5en8rylOqbvBLuDh94cQc=<===>lost<===>0.29478404230874383<===>0.4032753665215197\n"
          ],
          "name": "stdout"
        },
        {
          "output_type": "stream",
          "text": [
            "127.0.0.1 - - [07/Jun/2021 06:36:58] \"\u001b[37mGET /?championat=World&coefficient=5.61&event=AH+-0.75&id=KiFKy128mrt12EKLiiC2ehdBrrY%3D&league=World+Cup+2022&odd1=1.1&odd2=16.46&oddX=8.96&percent=22&sport=Soccer&status=2 HTTP/1.1\u001b[0m\" 200 -\n"
          ],
          "name": "stderr"
        },
        {
          "output_type": "stream",
          "text": [
            "07 06 2021, 06:36   id:KiFKy128mrt12EKLiiC2ehdBrrY=,sport:Soccer,championat:World,league:World Cup 2022,event:AH -0.75,status:2,coefficient:5.61,percent:22, odd1: 1.1,oddX: 8.96,odd2: 16.46; ---> lost\n",
            "KiFKy128mrt12EKLiiC2ehdBrrY=<===>lost<===>0.32069152119594746<===>0.4032753665215197\n"
          ],
          "name": "stdout"
        },
        {
          "output_type": "stream",
          "text": [
            "127.0.0.1 - - [07/Jun/2021 06:37:07] \"\u001b[37mGET /?championat=World&coefficient=1.34&event=O%2FU+3.75&id=FATioBZH5sXA6G1bXzmOPXd87xM%3D&league=World+Cup+2022&odd1=1.43&odd2=6.16&oddX=4.45&percent=21&sport=Soccer&status=Under HTTP/1.1\u001b[0m\" 200 -\n"
          ],
          "name": "stderr"
        },
        {
          "output_type": "stream",
          "text": [
            "07 06 2021, 06:37   id:FATioBZH5sXA6G1bXzmOPXd87xM=,sport:Soccer,championat:World,league:World Cup 2022,event:O/U 3.75,status:Under,coefficient:1.34,percent:21, odd1: 1.43,oddX: 4.45,odd2: 6.16; ---> won\n",
            "FATioBZH5sXA6G1bXzmOPXd87xM=<===>won<===>0.5111569640948805<===>0.4032753665215197\n"
          ],
          "name": "stdout"
        },
        {
          "output_type": "stream",
          "text": [
            "127.0.0.1 - - [07/Jun/2021 06:37:11] \"\u001b[37mGET /?championat=World&coefficient=1.26&event=AH+-2.75&id=gMfKa32Xmmf1pkC0rnaM6Tt17tE%3D&league=World+Cup+2022&odd1=1.02&odd2=44.36&oddX=16.58&percent=21&sport=Soccer&status=1 HTTP/1.1\u001b[0m\" 200 -\n"
          ],
          "name": "stderr"
        },
        {
          "output_type": "stream",
          "text": [
            "07 06 2021, 06:37   id:gMfKa32Xmmf1pkC0rnaM6Tt17tE=,sport:Soccer,championat:World,league:World Cup 2022,event:AH -2.75,status:1,coefficient:1.26,percent:21, odd1: 1.02,oddX: 16.58,odd2: 44.36; ---> won\n",
            "gMfKa32Xmmf1pkC0rnaM6Tt17tE=<===>won<===>0.8572671487787583<===>0.4032753665215197\n"
          ],
          "name": "stdout"
        },
        {
          "output_type": "stream",
          "text": [
            "127.0.0.1 - - [07/Jun/2021 06:37:15] \"\u001b[37mGET /?championat=World&coefficient=1.99&event=EH+-3&id=PdUXxeuYCZHKf1wnuVd8K3qTaSA%3D&league=World+Cup+2022&odd1=1.05&odd2=25.77&oddX=11.57&percent=21&sport=Soccer&status=1 HTTP/1.1\u001b[0m\" 200 -\n"
          ],
          "name": "stderr"
        },
        {
          "output_type": "stream",
          "text": [
            "07 06 2021, 06:37   id:PdUXxeuYCZHKf1wnuVd8K3qTaSA=,sport:Soccer,championat:World,league:World Cup 2022,event:EH -3,status:1,coefficient:1.99,percent:21, odd1: 1.05,oddX: 11.57,odd2: 25.77; ---> lost\n",
            "PdUXxeuYCZHKf1wnuVd8K3qTaSA=<===>lost<===>0.39050514098033323<===>0.4032753665215197\n"
          ],
          "name": "stdout"
        },
        {
          "output_type": "stream",
          "text": [
            "127.0.0.1 - - [07/Jun/2021 06:37:23] \"\u001b[37mGET /?championat=World&coefficient=17.17&event=1X2&id=RCTJAkLCCJHqEdr_yeohIU68TfA%3D&league=World+Cup+2022&odd1=1.02&odd2=44.36&oddX=16.58&percent=20&sport=Soccer&status=X HTTP/1.1\u001b[0m\" 200 -\n"
          ],
          "name": "stderr"
        },
        {
          "output_type": "stream",
          "text": [
            "07 06 2021, 06:37   id:RCTJAkLCCJHqEdr_yeohIU68TfA=,sport:Soccer,championat:World,league:World Cup 2022,event:1X2,status:X,coefficient:17.17,percent:20, odd1: 1.02,oddX: 16.58,odd2: 44.36; ---> lost\n",
            "RCTJAkLCCJHqEdr_yeohIU68TfA=<===>lost<===>0.18922922720313998<===>0.4032753665215197\n"
          ],
          "name": "stdout"
        },
        {
          "output_type": "stream",
          "text": [
            "127.0.0.1 - - [07/Jun/2021 06:37:27] \"\u001b[37mGET /?championat=World&coefficient=7.36&event=1X2&id=8nqmMxz4UCShT1-3U8FSsP3WfY4%3D&league=Club+Friendly&odd1=1.21&odd2=9.3&oddX=6&percent=20&sport=Soccer&status=2 HTTP/1.1\u001b[0m\" 200 -\n"
          ],
          "name": "stderr"
        },
        {
          "output_type": "stream",
          "text": [
            "07 06 2021, 06:37   id:8nqmMxz4UCShT1-3U8FSsP3WfY4=,sport:Soccer,championat:World,league:Club Friendly,event:1X2,status:2,coefficient:7.36,percent:20, odd1: 1.21,oddX: 6,odd2: 9.3; ---> lost\n",
            "8nqmMxz4UCShT1-3U8FSsP3WfY4=<===>lost<===>0.22585104285956026<===>0.4032753665215197\n"
          ],
          "name": "stdout"
        },
        {
          "output_type": "stream",
          "text": [
            "127.0.0.1 - - [07/Jun/2021 06:37:31] \"\u001b[37mGET /?championat=World&coefficient=1.49&event=O%2FU+3.5&id=K2mhqgEzrtZbARa-Wf0CM73Vgl0%3D&league=World+Cup+2022&odd1=1.43&odd2=6.16&oddX=4.45&percent=20&sport=Soccer&status=Under HTTP/1.1\u001b[0m\" 200 -\n"
          ],
          "name": "stderr"
        },
        {
          "output_type": "stream",
          "text": [
            "07 06 2021, 06:37   id:K2mhqgEzrtZbARa-Wf0CM73Vgl0=,sport:Soccer,championat:World,league:World Cup 2022,event:O/U 3.5,status:Under,coefficient:1.49,percent:20, odd1: 1.43,oddX: 4.45,odd2: 6.16; ---> lost\n",
            "K2mhqgEzrtZbARa-Wf0CM73Vgl0=<===>lost<===>0.4020513200200098<===>0.4032753665215197\n"
          ],
          "name": "stdout"
        },
        {
          "output_type": "stream",
          "text": [
            "127.0.0.1 - - [07/Jun/2021 06:37:35] \"\u001b[37mGET /?championat=World&coefficient=3.12&event=BTS&id=Mxs-n6vfmWjdhLyp3xtmR7Pm124%3D&league=World+Cup+2022&odd1=1.1&odd2=16.46&oddX=8.96&percent=20&sport=Soccer&status=Yes HTTP/1.1\u001b[0m\" 200 -\n"
          ],
          "name": "stderr"
        },
        {
          "output_type": "stream",
          "text": [
            "07 06 2021, 06:37   id:Mxs-n6vfmWjdhLyp3xtmR7Pm124=,sport:Soccer,championat:World,league:World Cup 2022,event:BTS,status:Yes,coefficient:3.12,percent:20, odd1: 1.1,oddX: 8.96,odd2: 16.46; ---> lost\n",
            "Mxs-n6vfmWjdhLyp3xtmR7Pm124=<===>lost<===>0.3674061781199492<===>0.4032753665215197\n"
          ],
          "name": "stdout"
        },
        {
          "output_type": "stream",
          "text": [
            "127.0.0.1 - - [07/Jun/2021 06:37:39] \"\u001b[37mGET /?championat=World&coefficient=3.71&event=AH+%2B2&id=T4s-9nOCzUzuABTvh3_b3vcTP_U%3D&league=World+Cup+2022&odd1=7.54&odd2=1.5&oddX=3.62&percent=20&sport=Soccer&status=2 HTTP/1.1\u001b[0m\" 200 -\n"
          ],
          "name": "stderr"
        },
        {
          "output_type": "stream",
          "text": [
            "07 06 2021, 06:37   id:T4s-9nOCzUzuABTvh3_b3vcTP_U=,sport:Soccer,championat:World,league:World Cup 2022,event:AH +2,status:2,coefficient:3.71,percent:20, odd1: 7.54,oddX: 3.62,odd2: 1.5; ---> won\n",
            "T4s-9nOCzUzuABTvh3_b3vcTP_U=<===>won<===>0.5199991001073467<===>0.4032753665215197\n"
          ],
          "name": "stdout"
        },
        {
          "output_type": "stream",
          "text": [
            "127.0.0.1 - - [07/Jun/2021 06:37:51] \"\u001b[37mGET /?championat=World&coefficient=1.2&event=DNB&id=f2J4FmO1WMQmEL0XF5WQRSeuDiM%3D&league=World+Cup+2022&odd1=4.04&odd2=1.73&oddX=4.01&percent=19&sport=Soccer&status=2 HTTP/1.1\u001b[0m\" 200 -\n"
          ],
          "name": "stderr"
        },
        {
          "output_type": "stream",
          "text": [
            "07 06 2021, 06:37   id:f2J4FmO1WMQmEL0XF5WQRSeuDiM=,sport:Soccer,championat:World,league:World Cup 2022,event:DNB,status:2,coefficient:1.2,percent:19, odd1: 4.04,oddX: 4.01,odd2: 1.73; ---> won\n",
            "f2J4FmO1WMQmEL0XF5WQRSeuDiM=<===>won<===>0.9178761562348546<===>0.4032753665215197\n"
          ],
          "name": "stdout"
        },
        {
          "output_type": "stream",
          "text": [
            "127.0.0.1 - - [07/Jun/2021 06:37:55] \"\u001b[37mGET /?championat=World&coefficient=2.49&event=O%2FU+4.5&id=A92dMI56FwZAAB3KaMiSowqvGZM%3D&league=Club+Friendly&odd1=1.21&odd2=9.3&oddX=6&percent=19&sport=Soccer&status=Over HTTP/1.1\u001b[0m\" 200 -\n"
          ],
          "name": "stderr"
        },
        {
          "output_type": "stream",
          "text": [
            "07 06 2021, 06:37   id:A92dMI56FwZAAB3KaMiSowqvGZM=,sport:Soccer,championat:World,league:Club Friendly,event:O/U 4.5,status:Over,coefficient:2.49,percent:19, odd1: 1.21,oddX: 6,odd2: 9.3; ---> lost\n",
            "A92dMI56FwZAAB3KaMiSowqvGZM=<===>lost<===>0.2809655075600887<===>0.4032753665215197\n"
          ],
          "name": "stdout"
        },
        {
          "output_type": "stream",
          "text": [
            "127.0.0.1 - - [07/Jun/2021 06:37:59] \"\u001b[37mGET /?championat=World&coefficient=6.03&event=EH+-5&id=I9eX3NXrJKCG051fquEFdW0tiPI%3D&league=World+Cup+2022&odd1=1.05&odd2=25.77&oddX=11.57&percent=18&sport=Soccer&status=X HTTP/1.1\u001b[0m\" 200 -\n"
          ],
          "name": "stderr"
        },
        {
          "output_type": "stream",
          "text": [
            "07 06 2021, 06:37   id:I9eX3NXrJKCG051fquEFdW0tiPI=,sport:Soccer,championat:World,league:World Cup 2022,event:EH -5,status:X,coefficient:6.03,percent:18, odd1: 1.05,oddX: 11.57,odd2: 25.77; ---> lost\n",
            "I9eX3NXrJKCG051fquEFdW0tiPI=<===>lost<===>0.13154692336187476<===>0.4032753665215197\n"
          ],
          "name": "stdout"
        },
        {
          "output_type": "stream",
          "text": [
            "127.0.0.1 - - [07/Jun/2021 06:38:03] \"\u001b[37mGET /?championat=World&coefficient=1.6&event=O%2FU+4.25&id=B9fZxwkKq-fqVVOWGJmlGtI7K4k%3D&league=World+Cup+2022&odd1=1.02&odd2=44.36&oddX=16.58&percent=18&sport=Soccer&status=Over HTTP/1.1\u001b[0m\" 200 -\n"
          ],
          "name": "stderr"
        },
        {
          "output_type": "stream",
          "text": [
            "07 06 2021, 06:38   id:B9fZxwkKq-fqVVOWGJmlGtI7K4k=,sport:Soccer,championat:World,league:World Cup 2022,event:O/U 4.25,status:Over,coefficient:1.6,percent:18, odd1: 1.02,oddX: 16.58,odd2: 44.36; ---> won\n",
            "B9fZxwkKq-fqVVOWGJmlGtI7K4k=<===>won<===>0.7231260366588111<===>0.4032753665215197\n"
          ],
          "name": "stdout"
        },
        {
          "output_type": "stream",
          "text": [
            "127.0.0.1 - - [07/Jun/2021 06:38:07] \"\u001b[37mGET /?championat=World&coefficient=11.27&event=EH+-3&id=41TgAxZTCaYGqikRqmorC7WXo7E%3D&league=Friendly+International&odd1=1.65&odd2=5.58&oddX=3.58&percent=18&sport=Soccer&status=1 HTTP/1.1\u001b[0m\" 200 -\n"
          ],
          "name": "stderr"
        },
        {
          "output_type": "stream",
          "text": [
            "07 06 2021, 06:38   id:41TgAxZTCaYGqikRqmorC7WXo7E=,sport:Soccer,championat:World,league:Friendly International,event:EH -3,status:1,coefficient:11.27,percent:18, odd1: 1.65,oddX: 3.58,odd2: 5.58; ---> lost\n",
            "41TgAxZTCaYGqikRqmorC7WXo7E=<===>lost<===>0.05134801524503539<===>0.4032753665215197\n"
          ],
          "name": "stdout"
        },
        {
          "output_type": "stream",
          "text": [
            "127.0.0.1 - - [07/Jun/2021 06:38:11] \"\u001b[37mGET /?championat=World&coefficient=15.73&event=EH+-3&id=D7HCPXqww84mLoTvFoqBwQAFIkE%3D&league=Friendly+International&odd1=1.47&odd2=6.67&oddX=3.88&percent=18&sport=Soccer&status=1 HTTP/1.1\u001b[0m\" 200 -\n"
          ],
          "name": "stderr"
        },
        {
          "output_type": "stream",
          "text": [
            "07 06 2021, 06:38   id:D7HCPXqww84mLoTvFoqBwQAFIkE=,sport:Soccer,championat:World,league:Friendly International,event:EH -3,status:1,coefficient:15.73,percent:18, odd1: 1.47,oddX: 3.88,odd2: 6.67; ---> lost\n",
            "D7HCPXqww84mLoTvFoqBwQAFIkE=<===>lost<===>0.03590657272361591<===>0.4032753665215197\n"
          ],
          "name": "stdout"
        },
        {
          "output_type": "stream",
          "text": [
            "127.0.0.1 - - [07/Jun/2021 06:38:20] \"\u001b[37mGET /?championat=World&coefficient=4.63&event=EH+%2B2&id=zRLmqF2OpCbgsTjG6cCSS6NhYik%3D&league=World+Cup+2022&odd1=7.54&odd2=1.5&oddX=3.62&percent=18&sport=Soccer&status=2 HTTP/1.1\u001b[0m\" 200 -\n"
          ],
          "name": "stderr"
        },
        {
          "output_type": "stream",
          "text": [
            "07 06 2021, 06:38   id:zRLmqF2OpCbgsTjG6cCSS6NhYik=,sport:Soccer,championat:World,league:World Cup 2022,event:EH +2,status:2,coefficient:4.63,percent:18, odd1: 7.54,oddX: 3.62,odd2: 1.5; ---> lost\n",
            "zRLmqF2OpCbgsTjG6cCSS6NhYik=<===>lost<===>0.27364756786219374<===>0.4032753665215197\n"
          ],
          "name": "stdout"
        },
        {
          "output_type": "stream",
          "text": [
            "127.0.0.1 - - [07/Jun/2021 06:38:28] \"\u001b[37mGET /?championat=World&coefficient=34.62&event=1X2&id=bKqfm8uB6wxhSgVWWaqITfrkTyU%3D&league=World+Cup+2022&odd1=1.05&odd2=25.77&oddX=11.57&percent=18&sport=Soccer&status=2 HTTP/1.1\u001b[0m\" 200 -\n"
          ],
          "name": "stderr"
        },
        {
          "output_type": "stream",
          "text": [
            "07 06 2021, 06:38   id:bKqfm8uB6wxhSgVWWaqITfrkTyU=,sport:Soccer,championat:World,league:World Cup 2022,event:1X2,status:2,coefficient:34.62,percent:18, odd1: 1.05,oddX: 11.57,odd2: 25.77; ---> lost\n",
            "bKqfm8uB6wxhSgVWWaqITfrkTyU=<===>lost<===>0.2792743913123904<===>0.4032753665215197\n"
          ],
          "name": "stdout"
        },
        {
          "output_type": "stream",
          "text": [
            "127.0.0.1 - - [07/Jun/2021 06:38:33] \"\u001b[37mGET /?championat=World&coefficient=1.27&event=O%2FU+4&id=GvDgIRjJYmEu1-msoJ37H_9U0Mc%3D&league=World+Cup+2022&odd1=1.43&odd2=6.16&oddX=4.45&percent=18&sport=Soccer&status=Under HTTP/1.1\u001b[0m\" 200 -\n"
          ],
          "name": "stderr"
        },
        {
          "output_type": "stream",
          "text": [
            "07 06 2021, 06:38   id:GvDgIRjJYmEu1-msoJ37H_9U0Mc=,sport:Soccer,championat:World,league:World Cup 2022,event:O/U 4,status:Under,coefficient:1.27,percent:18, odd1: 1.43,oddX: 4.45,odd2: 6.16; ---> won\n",
            "GvDgIRjJYmEu1-msoJ37H_9U0Mc=<===>won<===>0.5440638133996579<===>0.4032753665215197\n"
          ],
          "name": "stdout"
        },
        {
          "output_type": "stream",
          "text": [
            "127.0.0.1 - - [07/Jun/2021 06:38:37] \"\u001b[37mGET /?championat=World&coefficient=5.16&event=O%2FU+5&id=UOwFZqw0GIH6j2IGttf5rcgL6t8%3D&league=World+Cup+2022&odd1=1.1&odd2=16.46&oddX=8.96&percent=18&sport=Soccer&status=Over HTTP/1.1\u001b[0m\" 200 -\n"
          ],
          "name": "stderr"
        },
        {
          "output_type": "stream",
          "text": [
            "07 06 2021, 06:38   id:UOwFZqw0GIH6j2IGttf5rcgL6t8=,sport:Soccer,championat:World,league:World Cup 2022,event:O/U 5,status:Over,coefficient:5.16,percent:18, odd1: 1.1,oddX: 8.96,odd2: 16.46; ---> lost\n",
            "UOwFZqw0GIH6j2IGttf5rcgL6t8=<===>lost<===>0.09242927836590989<===>0.4032753665215197\n"
          ],
          "name": "stdout"
        },
        {
          "output_type": "stream",
          "text": [
            "127.0.0.1 - - [07/Jun/2021 06:38:41] \"\u001b[37mGET /?championat=Argentina&coefficient=2.57&event=1X2&id=6CrrOkles9WuRLo9eOmUtyxHEEY%3D&league=Torneo+Federal&odd1=2.43&odd2=2.8&oddX=3.08&percent=17&sport=Soccer&status=X HTTP/1.1\u001b[0m\" 200 -\n"
          ],
          "name": "stderr"
        },
        {
          "output_type": "stream",
          "text": [
            "07 06 2021, 06:38   id:6CrrOkles9WuRLo9eOmUtyxHEEY=,sport:Soccer,championat:Argentina,league:Torneo Federal,event:1X2,status:X,coefficient:2.57,percent:17, odd1: 2.43,oddX: 3.08,odd2: 2.8; ---> won\n",
            "6CrrOkles9WuRLo9eOmUtyxHEEY=<===>won<===>0.5030968889747617<===>0.4032753665215197\n"
          ],
          "name": "stdout"
        },
        {
          "output_type": "stream",
          "text": [
            "127.0.0.1 - - [07/Jun/2021 06:38:45] \"\u001b[37mGET /?championat=World&coefficient=1.81&event=BTS&id=QvUwDkCd5uh8u8HES63xYApDHC4%3D&league=World+Cup+2022&odd1=1.43&odd2=6.16&oddX=4.45&percent=17&sport=Soccer&status=No HTTP/1.1\u001b[0m\" 200 -\n"
          ],
          "name": "stderr"
        },
        {
          "output_type": "stream",
          "text": [
            "07 06 2021, 06:38   id:QvUwDkCd5uh8u8HES63xYApDHC4=,sport:Soccer,championat:World,league:World Cup 2022,event:BTS,status:No,coefficient:1.81,percent:17, odd1: 1.43,oddX: 4.45,odd2: 6.16; ---> won\n",
            "QvUwDkCd5uh8u8HES63xYApDHC4=<===>won<===>0.5729643233729277<===>0.4032753665215197\n"
          ],
          "name": "stdout"
        },
        {
          "output_type": "stream",
          "text": [
            "127.0.0.1 - - [07/Jun/2021 06:38:54] \"\u001b[37mGET /?championat=World&coefficient=2.31&event=O%2FU+4.25&id=azo02hcd5VK-NV4HSMB0HzJDQLw%3D&league=World+Cup+2022&odd1=33.95&odd2=1.05&oddX=11.49&percent=17&sport=Soccer&status=Over HTTP/1.1\u001b[0m\" 200 -\n"
          ],
          "name": "stderr"
        },
        {
          "output_type": "stream",
          "text": [
            "07 06 2021, 06:38   id:azo02hcd5VK-NV4HSMB0HzJDQLw=,sport:Soccer,championat:World,league:World Cup 2022,event:O/U 4.25,status:Over,coefficient:2.31,percent:17, odd1: 33.95,oddX: 11.49,odd2: 1.05; ---> won\n",
            "azo02hcd5VK-NV4HSMB0HzJDQLw=<===>won<===>0.8085641438672353<===>0.4032753665215197\n"
          ],
          "name": "stdout"
        },
        {
          "output_type": "stream",
          "text": [
            "127.0.0.1 - - [07/Jun/2021 06:38:58] \"\u001b[37mGET /?championat=World&coefficient=11.92&event=EH+%2B3&id=O4T_GDKnL3pPqi7s5SAsHtsA1MU%3D&league=World+Cup+2022&odd1=4.04&odd2=1.73&oddX=4.01&percent=17&sport=Soccer&status=2 HTTP/1.1\u001b[0m\" 200 -\n"
          ],
          "name": "stderr"
        },
        {
          "output_type": "stream",
          "text": [
            "07 06 2021, 06:38   id:O4T_GDKnL3pPqi7s5SAsHtsA1MU=,sport:Soccer,championat:World,league:World Cup 2022,event:EH +3,status:2,coefficient:11.92,percent:17, odd1: 4.04,oddX: 4.01,odd2: 1.73; ---> lost\n",
            "O4T_GDKnL3pPqi7s5SAsHtsA1MU=<===>lost<===>0.05780390539802924<===>0.4032753665215197\n"
          ],
          "name": "stdout"
        },
        {
          "output_type": "stream",
          "text": [
            "127.0.0.1 - - [07/Jun/2021 06:39:02] \"\u001b[37mGET /?championat=Ukraine&coefficient=6.25&event=1X2&id=Kiw9M1isiREQdpHxUSp9ykXUzvQ%3D&league=Dota+2+WePlay+AniMajor&odd1=1.33&odd2=3.25&oddX=0&percent=17&sport=eSports&status=2 HTTP/1.1\u001b[0m\" 200 -\n"
          ],
          "name": "stderr"
        },
        {
          "output_type": "stream",
          "text": [
            "07 06 2021, 06:39   id:Kiw9M1isiREQdpHxUSp9ykXUzvQ=,sport:eSports,championat:Ukraine,league:Dota 2 WePlay AniMajor,event:1X2,status:2,coefficient:6.25,percent:17, odd1: 1.33,oddX: 0,odd2: 3.25; ---> lost\n",
            "Kiw9M1isiREQdpHxUSp9ykXUzvQ=<===>lost<===>0.11564916712623169<===>0.4032753665215197\n"
          ],
          "name": "stdout"
        },
        {
          "output_type": "stream",
          "text": [
            "127.0.0.1 - - [07/Jun/2021 06:45:23] \"\u001b[37mGET /?championat=World&coefficient=1.29&event=EH+-5&id=Y73akjGZRH0Pl9bEfMNb8XUKWCo%3D&league=World+Cup+2022&odd1=1.03&odd2=45.78&oddX=16&percent=30&sport=Soccer&status=1 HTTP/1.1\u001b[0m\" 200 -\n"
          ],
          "name": "stderr"
        },
        {
          "output_type": "stream",
          "text": [
            "07 06 2021, 06:45   id:Y73akjGZRH0Pl9bEfMNb8XUKWCo=,sport:Soccer,championat:World,league:World Cup 2022,event:EH -5,status:1,coefficient:1.29,percent:30, odd1: 1.03,oddX: 16,odd2: 45.78; ---> won\n",
            "Y73akjGZRH0Pl9bEfMNb8XUKWCo=<===>won<===>0.8415225804883959<===>0.4032753665215197\n"
          ],
          "name": "stdout"
        },
        {
          "output_type": "stream",
          "text": [
            "127.0.0.1 - - [07/Jun/2021 06:45:27] \"\u001b[37mGET /?championat=World&coefficient=1.54&event=AH+%2B0.5&id=6yE0euyWk7W2Ljo_iwYBOreHmpA%3D&league=World+Cup+2022&odd1=4.04&odd2=1.73&oddX=4.01&percent=26&sport=Soccer&status=2 HTTP/1.1\u001b[0m\" 200 -\n"
          ],
          "name": "stderr"
        },
        {
          "output_type": "stream",
          "text": [
            "07 06 2021, 06:45   id:6yE0euyWk7W2Ljo_iwYBOreHmpA=,sport:Soccer,championat:World,league:World Cup 2022,event:AH +0.5,status:2,coefficient:1.54,percent:26, odd1: 4.04,oddX: 4.01,odd2: 1.73; ---> won\n",
            "6yE0euyWk7W2Ljo_iwYBOreHmpA=<===>won<===>0.6203530269946673<===>0.4032753665215197\n"
          ],
          "name": "stdout"
        },
        {
          "output_type": "stream",
          "text": [
            "127.0.0.1 - - [07/Jun/2021 06:45:31] \"\u001b[37mGET /?championat=World&coefficient=1.35&event=AH+%2B0.25&id=6virZ_EQIIADvU8vi7hMCVk-p30%3D&league=World+Cup+2022&odd1=4.04&odd2=1.73&oddX=4.01&percent=25&sport=Soccer&status=2 HTTP/1.1\u001b[0m\" 200 -\n"
          ],
          "name": "stderr"
        },
        {
          "output_type": "stream",
          "text": [
            "07 06 2021, 06:45   id:6virZ_EQIIADvU8vi7hMCVk-p30=,sport:Soccer,championat:World,league:World Cup 2022,event:AH +0.25,status:2,coefficient:1.35,percent:25, odd1: 4.04,oddX: 4.01,odd2: 1.73; ---> won\n",
            "6virZ_EQIIADvU8vi7hMCVk-p30=<===>won<===>0.7620385012898975<===>0.4032753665215197\n"
          ],
          "name": "stdout"
        },
        {
          "output_type": "stream",
          "text": [
            "127.0.0.1 - - [07/Jun/2021 06:45:35] \"\u001b[37mGET /?championat=World&coefficient=5.61&event=AH+-1&id=jua8S8AAQel_8ug7_hOYRLJvAiI%3D&league=World+Cup+2022&odd1=1.1&odd2=16.46&oddX=8.96&percent=22&sport=Soccer&status=2 HTTP/1.1\u001b[0m\" 200 -\n"
          ],
          "name": "stderr"
        },
        {
          "output_type": "stream",
          "text": [
            "07 06 2021, 06:45   id:jua8S8AAQel_8ug7_hOYRLJvAiI=,sport:Soccer,championat:World,league:World Cup 2022,event:AH -1,status:2,coefficient:5.61,percent:22, odd1: 1.1,oddX: 8.96,odd2: 16.46; ---> lost\n",
            "jua8S8AAQel_8ug7_hOYRLJvAiI=<===>lost<===>0.33159059330331214<===>0.4032753665215197\n"
          ],
          "name": "stdout"
        },
        {
          "output_type": "stream",
          "text": [
            "127.0.0.1 - - [07/Jun/2021 06:45:39] \"\u001b[37mGET /?championat=World&coefficient=1.2&event=AH+0&id=GFes0MJ75ePWYblG1Zlxbqvx6RA%3D&league=World+Cup+2022&odd1=4.04&odd2=1.73&oddX=4.01&percent=22&sport=Soccer&status=2 HTTP/1.1\u001b[0m\" 200 -\n"
          ],
          "name": "stderr"
        },
        {
          "output_type": "stream",
          "text": [
            "07 06 2021, 06:45   id:GFes0MJ75ePWYblG1Zlxbqvx6RA=,sport:Soccer,championat:World,league:World Cup 2022,event:AH 0,status:2,coefficient:1.2,percent:22, odd1: 4.04,oddX: 4.01,odd2: 1.73; ---> won\n",
            "GFes0MJ75ePWYblG1Zlxbqvx6RA=<===>won<===>0.9024729706431012<===>0.4032753665215197\n"
          ],
          "name": "stdout"
        },
        {
          "output_type": "stream",
          "text": [
            "127.0.0.1 - - [07/Jun/2021 06:45:43] \"\u001b[37mGET /?championat=World&coefficient=1.67&event=AH+%2B3&id=zcuI4dhSF3E0A5pB-ExVVgXN9vY%3D&league=World+Cup+2022&odd1=33.95&odd2=1.05&oddX=11.49&percent=20&sport=Soccer&status=2 HTTP/1.1\u001b[0m\" 200 -\n"
          ],
          "name": "stderr"
        },
        {
          "output_type": "stream",
          "text": [
            "07 06 2021, 06:45   id:zcuI4dhSF3E0A5pB-ExVVgXN9vY=,sport:Soccer,championat:World,league:World Cup 2022,event:AH +3,status:2,coefficient:1.67,percent:20, odd1: 33.95,oddX: 11.49,odd2: 1.05; ---> won\n",
            "zcuI4dhSF3E0A5pB-ExVVgXN9vY=<===>won<===>0.9196172212199678<===>0.4032753665215197\n"
          ],
          "name": "stdout"
        },
        {
          "output_type": "stream",
          "text": [
            "127.0.0.1 - - [07/Jun/2021 06:45:47] \"\u001b[37mGET /?championat=Argentina&coefficient=1.98&event=AH+0&id=yw-HyXWMPsLtHEwkGuCH3b7m8d4%3D&league=Torneo+Federal&odd1=2.06&odd2=3.64&oddX=3.03&percent=20&sport=Soccer&status=2 HTTP/1.1\u001b[0m\" 200 -\n"
          ],
          "name": "stderr"
        },
        {
          "output_type": "stream",
          "text": [
            "07 06 2021, 06:45   id:yw-HyXWMPsLtHEwkGuCH3b7m8d4=,sport:Soccer,championat:Argentina,league:Torneo Federal,event:AH 0,status:2,coefficient:1.98,percent:20, odd1: 2.06,oddX: 3.03,odd2: 3.64; ---> won\n",
            "yw-HyXWMPsLtHEwkGuCH3b7m8d4=<===>won<===>0.6320389752337978<===>0.4032753665215197\n"
          ],
          "name": "stdout"
        },
        {
          "output_type": "stream",
          "text": [
            "127.0.0.1 - - [07/Jun/2021 06:45:51] \"\u001b[37mGET /?championat=World&coefficient=1.53&event=AH+%2B2.75&id=wMTapW-MULE7NP0dI1QfI1es0n0%3D&league=World+Cup+2022&odd1=33.95&odd2=1.05&oddX=11.49&percent=19&sport=Soccer&status=2 HTTP/1.1\u001b[0m\" 200 -\n"
          ],
          "name": "stderr"
        },
        {
          "output_type": "stream",
          "text": [
            "07 06 2021, 06:45   id:wMTapW-MULE7NP0dI1QfI1es0n0=,sport:Soccer,championat:World,league:World Cup 2022,event:AH +2.75,status:2,coefficient:1.53,percent:19, odd1: 33.95,oddX: 11.49,odd2: 1.05; ---> won\n",
            "wMTapW-MULE7NP0dI1QfI1es0n0=<===>won<===>0.9366422405655108<===>0.4032753665215197\n"
          ],
          "name": "stdout"
        },
        {
          "output_type": "stream",
          "text": [
            "127.0.0.1 - - [07/Jun/2021 06:45:56] \"\u001b[37mGET /?championat=World&coefficient=6.13&event=AH+-0.5&id=hAtP4-LDUQ28lrN1aqlJQC7Jlqo%3D&league=World+Cup+2022&odd1=1.1&odd2=16.46&oddX=8.96&percent=19&sport=Soccer&status=2 HTTP/1.1\u001b[0m\" 200 -\n"
          ],
          "name": "stderr"
        },
        {
          "output_type": "stream",
          "text": [
            "07 06 2021, 06:45   id:hAtP4-LDUQ28lrN1aqlJQC7Jlqo=,sport:Soccer,championat:World,league:World Cup 2022,event:AH -0.5,status:2,coefficient:6.13,percent:19, odd1: 1.1,oddX: 8.96,odd2: 16.46; ---> lost\n",
            "hAtP4-LDUQ28lrN1aqlJQC7Jlqo=<===>lost<===>0.345905974014225<===>0.4032753665215197\n"
          ],
          "name": "stdout"
        },
        {
          "output_type": "stream",
          "text": [
            "127.0.0.1 - - [07/Jun/2021 06:46:00] \"\u001b[37mGET /?championat=World&coefficient=2.02&event=AH+-3.5&id=L2hapYEtnVod4-awWj3CiaOhplU%3D&league=World+Cup+2022&odd1=1.05&odd2=25.77&oddX=11.57&percent=19&sport=Soccer&status=1 HTTP/1.1\u001b[0m\" 200 -\n"
          ],
          "name": "stderr"
        },
        {
          "output_type": "stream",
          "text": [
            "07 06 2021, 06:46   id:L2hapYEtnVod4-awWj3CiaOhplU=,sport:Soccer,championat:World,league:World Cup 2022,event:AH -3.5,status:1,coefficient:2.02,percent:19, odd1: 1.05,oddX: 11.57,odd2: 25.77; ---> lost\n",
            "L2hapYEtnVod4-awWj3CiaOhplU=<===>lost<===>0.48576240217734173<===>0.4032753665215197\n"
          ],
          "name": "stdout"
        },
        {
          "output_type": "stream",
          "text": [
            "127.0.0.1 - - [07/Jun/2021 06:46:04] \"\u001b[37mGET /?championat=World&coefficient=5.44&event=AH+%2B5.25&id=W_uV-jBfkIcUfM1ImjKtA9nsq_o%3D&league=World+Cup+2022&odd1=33.95&odd2=1.05&oddX=11.49&percent=19&sport=Soccer&status=2 HTTP/1.1\u001b[0m\" 200 -\n"
          ],
          "name": "stderr"
        },
        {
          "output_type": "stream",
          "text": [
            "07 06 2021, 06:46   id:W_uV-jBfkIcUfM1ImjKtA9nsq_o=,sport:Soccer,championat:World,league:World Cup 2022,event:AH +5.25,status:2,coefficient:5.44,percent:19, odd1: 33.95,oddX: 11.49,odd2: 1.05; ---> lost\n",
            "W_uV-jBfkIcUfM1ImjKtA9nsq_o=<===>lost<===>0.3649896181769492<===>0.4032753665215197\n"
          ],
          "name": "stdout"
        },
        {
          "output_type": "stream",
          "text": [
            "127.0.0.1 - - [07/Jun/2021 06:46:08] \"\u001b[37mGET /?championat=World&coefficient=2.06&event=EH+%2B3&id=SQu70-iWLiXDyJgoKaTAUCZJGmY%3D&league=World+Cup+2022&odd1=33.95&odd2=1.05&oddX=11.49&percent=18&sport=Soccer&status=2 HTTP/1.1\u001b[0m\" 200 -\n"
          ],
          "name": "stderr"
        },
        {
          "output_type": "stream",
          "text": [
            "07 06 2021, 06:46   id:SQu70-iWLiXDyJgoKaTAUCZJGmY=,sport:Soccer,championat:World,league:World Cup 2022,event:EH +3,status:2,coefficient:2.06,percent:18, odd1: 33.95,oddX: 11.49,odd2: 1.05; ---> won\n",
            "SQu70-iWLiXDyJgoKaTAUCZJGmY=<===>won<===>0.8748993432882546<===>0.4032753665215197\n"
          ],
          "name": "stdout"
        },
        {
          "output_type": "stream",
          "text": [
            "127.0.0.1 - - [07/Jun/2021 06:46:12] \"\u001b[37mGET /?championat=World&coefficient=2.55&event=AH+-1&id=tgT8wDKUefbvGJq0_rMwYopddDM%3D&league=World+Cup+2022&odd1=1.43&odd2=6.16&oddX=4.45&percent=18&sport=Soccer&status=2 HTTP/1.1\u001b[0m\" 200 -\n"
          ],
          "name": "stderr"
        },
        {
          "output_type": "stream",
          "text": [
            "07 06 2021, 06:46   id:tgT8wDKUefbvGJq0_rMwYopddDM=,sport:Soccer,championat:World,league:World Cup 2022,event:AH -1,status:2,coefficient:2.55,percent:18, odd1: 1.43,oddX: 4.45,odd2: 6.16; ---> won\n",
            "tgT8wDKUefbvGJq0_rMwYopddDM=<===>won<===>0.6627494196751285<===>0.4032753665215197\n"
          ],
          "name": "stdout"
        },
        {
          "output_type": "stream",
          "text": [
            "127.0.0.1 - - [07/Jun/2021 06:46:16] \"\u001b[37mGET /?championat=World&coefficient=5.12&event=O%2FU+3.5&id=LKfnY-T4U5dEVLZAuK1xCsyN7js%3D&league=Friendly+International&odd1=1.47&odd2=6.67&oddX=3.88&percent=18&sport=Soccer&status=Over HTTP/1.1\u001b[0m\" 200 -\n"
          ],
          "name": "stderr"
        },
        {
          "output_type": "stream",
          "text": [
            "07 06 2021, 06:46   id:LKfnY-T4U5dEVLZAuK1xCsyN7js=,sport:Soccer,championat:World,league:Friendly International,event:O/U 3.5,status:Over,coefficient:5.12,percent:18, odd1: 1.47,oddX: 3.88,odd2: 6.67; ---> lost\n",
            "LKfnY-T4U5dEVLZAuK1xCsyN7js=<===>lost<===>0.08763611396745875<===>0.4032753665215197\n"
          ],
          "name": "stdout"
        },
        {
          "output_type": "stream",
          "text": [
            "127.0.0.1 - - [07/Jun/2021 06:46:20] \"\u001b[37mGET /?championat=World&coefficient=1.55&event=AH+-2.75&id=oq_ox39hLmY-zLVZY1TyvCDjlVE%3D&league=World+Cup+2022&odd1=1.05&odd2=25.77&oddX=11.57&percent=18&sport=Soccer&status=1 HTTP/1.1\u001b[0m\" 200 -\n"
          ],
          "name": "stderr"
        },
        {
          "output_type": "stream",
          "text": [
            "07 06 2021, 06:46   id:oq_ox39hLmY-zLVZY1TyvCDjlVE=,sport:Soccer,championat:World,league:World Cup 2022,event:AH -2.75,status:1,coefficient:1.55,percent:18, odd1: 1.05,oddX: 11.57,odd2: 25.77; ---> won\n",
            "oq_ox39hLmY-zLVZY1TyvCDjlVE=<===>won<===>0.6519207911796557<===>0.4032753665215197\n"
          ],
          "name": "stdout"
        },
        {
          "output_type": "stream",
          "text": [
            "127.0.0.1 - - [07/Jun/2021 06:46:24] \"\u001b[37mGET /?championat=World&coefficient=1.16&event=AH+-0.25&id=KyMVB-8pPcAGAXcmVdKR_so3T-4%3D&league=World+Cup+2022&odd1=4.04&odd2=1.73&oddX=4.01&percent=18&sport=Soccer&status=2 HTTP/1.1\u001b[0m\" 200 -\n"
          ],
          "name": "stderr"
        },
        {
          "output_type": "stream",
          "text": [
            "07 06 2021, 06:46   id:KyMVB-8pPcAGAXcmVdKR_so3T-4=,sport:Soccer,championat:World,league:World Cup 2022,event:AH -0.25,status:2,coefficient:1.16,percent:18, odd1: 4.04,oddX: 4.01,odd2: 1.73; ---> won\n",
            "KyMVB-8pPcAGAXcmVdKR_so3T-4=<===>won<===>0.8760952554446918<===>0.4032753665215197\n"
          ],
          "name": "stdout"
        },
        {
          "output_type": "stream",
          "text": [
            "127.0.0.1 - - [07/Jun/2021 06:46:29] \"\u001b[37mGET /?championat=World&coefficient=2.94&event=AH+-0.75&id=ZlNjVf1K4r4zATGvJFE2pI87e6s%3D&league=World+Cup+2022&odd1=1.43&odd2=6.16&oddX=4.45&percent=18&sport=Soccer&status=2 HTTP/1.1\u001b[0m\" 200 -\n"
          ],
          "name": "stderr"
        },
        {
          "output_type": "stream",
          "text": [
            "07 06 2021, 06:46   id:ZlNjVf1K4r4zATGvJFE2pI87e6s=,sport:Soccer,championat:World,league:World Cup 2022,event:AH -0.75,status:2,coefficient:2.94,percent:18, odd1: 1.43,oddX: 4.45,odd2: 6.16; ---> won\n",
            "ZlNjVf1K4r4zATGvJFE2pI87e6s=<===>won<===>0.6030904095352492<===>0.4032753665215197\n"
          ],
          "name": "stdout"
        },
        {
          "output_type": "stream",
          "text": [
            "127.0.0.1 - - [07/Jun/2021 06:46:37] \"\u001b[37mGET /?championat=World&coefficient=14.66&event=DNB&id=bmimQhzFRUwiILqJg8vime8g3RE%3D&league=World+Cup+2022&odd1=1.1&odd2=16.46&oddX=8.96&percent=17&sport=Soccer&status=2 HTTP/1.1\u001b[0m\" 200 -\n"
          ],
          "name": "stderr"
        },
        {
          "output_type": "stream",
          "text": [
            "07 06 2021, 06:46   id:bmimQhzFRUwiILqJg8vime8g3RE=,sport:Soccer,championat:World,league:World Cup 2022,event:DNB,status:2,coefficient:14.66,percent:17, odd1: 1.1,oddX: 8.96,odd2: 16.46; ---> lost\n",
            "bmimQhzFRUwiILqJg8vime8g3RE=<===>lost<===>0.36988709075932213<===>0.4032753665215197\n"
          ],
          "name": "stdout"
        },
        {
          "output_type": "stream",
          "text": [
            "127.0.0.1 - - [07/Jun/2021 06:46:41] \"\u001b[37mGET /?championat=Brazil&coefficient=2.5&event=DNB&id=hkcEXCFMduPnMgP_2Rwlfrugy8s%3D&league=Serie+C&odd1=1.91&odd2=4.5&oddX=2.84&percent=17&sport=Soccer&status=2 HTTP/1.1\u001b[0m\" 200 -\n"
          ],
          "name": "stderr"
        },
        {
          "output_type": "stream",
          "text": [
            "07 06 2021, 06:46   id:hkcEXCFMduPnMgP_2Rwlfrugy8s=,sport:Soccer,championat:Brazil,league:Serie C,event:DNB,status:2,coefficient:2.5,percent:17, odd1: 1.91,oddX: 2.84,odd2: 4.5; ---> lost\n",
            "hkcEXCFMduPnMgP_2Rwlfrugy8s=<===>lost<===>0.31887315180797166<===>0.4032753665215197\n"
          ],
          "name": "stdout"
        },
        {
          "output_type": "stream",
          "text": [
            "127.0.0.1 - - [07/Jun/2021 06:46:50] \"\u001b[37mGET /?championat=World&coefficient=2.46&event=BTS&id=FOzTbWzJ2jHQk8YDjPoXVjdO334%3D&league=World+Cup+2022&odd1=1.06&odd2=24.83&oddX=10.64&percent=17&sport=Soccer&status=Yes HTTP/1.1\u001b[0m\" 200 -\n"
          ],
          "name": "stderr"
        },
        {
          "output_type": "stream",
          "text": [
            "07 06 2021, 06:46   id:FOzTbWzJ2jHQk8YDjPoXVjdO334=,sport:Soccer,championat:World,league:World Cup 2022,event:BTS,status:Yes,coefficient:2.46,percent:17, odd1: 1.06,oddX: 10.64,odd2: 24.83; ---> won\n",
            "FOzTbWzJ2jHQk8YDjPoXVjdO334=<===>won<===>0.5751766851175822<===>0.4032753665215197\n"
          ],
          "name": "stdout"
        },
        {
          "output_type": "stream",
          "text": [
            "127.0.0.1 - - [07/Jun/2021 06:46:54] \"\u001b[37mGET /?championat=World&coefficient=49.21&event=1X2&id=_DAstri4rPBsYWGOCyB1g2uOJvA%3D&league=Friendly+International&odd1=1.02&odd2=46.71&oddX=14.14&percent=17&sport=Soccer&status=2 HTTP/1.1\u001b[0m\" 200 -\n"
          ],
          "name": "stderr"
        },
        {
          "output_type": "stream",
          "text": [
            "07 06 2021, 06:46   id:_DAstri4rPBsYWGOCyB1g2uOJvA=,sport:Soccer,championat:World,league:Friendly International,event:1X2,status:2,coefficient:49.21,percent:17, odd1: 1.02,oddX: 14.14,odd2: 46.71; ---> lost\n",
            "_DAstri4rPBsYWGOCyB1g2uOJvA=<===>lost<===>0.06410329112448336<===>0.4032753665215197\n"
          ],
          "name": "stdout"
        },
        {
          "output_type": "stream",
          "text": [
            "127.0.0.1 - - [07/Jun/2021 06:48:00] \"\u001b[37mGET /?championat=World&coefficient=1.68&event=AH+%2B6&id=oBIvpNrShJukgVrh__sH9qK_WM0%3D&league=World+Cup+2022&odd1=41.09&odd2=1.01&oddX=23.27&percent=30&sport=Soccer&status=2 HTTP/1.1\u001b[0m\" 200 -\n"
          ],
          "name": "stderr"
        },
        {
          "output_type": "stream",
          "text": [
            "07 06 2021, 06:48   id:oBIvpNrShJukgVrh__sH9qK_WM0=,sport:Soccer,championat:World,league:World Cup 2022,event:AH +6,status:2,coefficient:1.68,percent:30, odd1: 41.09,oddX: 23.27,odd2: 1.01; ---> won\n",
            "oBIvpNrShJukgVrh__sH9qK_WM0=<===>won<===>0.642763528686192<===>0.4032753665215197\n"
          ],
          "name": "stdout"
        },
        {
          "output_type": "stream",
          "text": [
            "127.0.0.1 - - [07/Jun/2021 06:48:04] \"\u001b[37mGET /?championat=World&coefficient=2.12&event=O%2FU+7&id=w98RWXtkgb1DpUunWMooAYUWufE%3D&league=World+Cup+2022&odd1=41.09&odd2=1.01&oddX=23.27&percent=30&sport=Soccer&status=Over HTTP/1.1\u001b[0m\" 200 -\n"
          ],
          "name": "stderr"
        },
        {
          "output_type": "stream",
          "text": [
            "07 06 2021, 06:48   id:w98RWXtkgb1DpUunWMooAYUWufE=,sport:Soccer,championat:World,league:World Cup 2022,event:O/U 7,status:Over,coefficient:2.12,percent:30, odd1: 41.09,oddX: 23.27,odd2: 1.01; ---> won\n",
            "w98RWXtkgb1DpUunWMooAYUWufE=<===>won<===>0.7310403935460023<===>0.4032753665215197\n"
          ],
          "name": "stdout"
        },
        {
          "output_type": "stream",
          "text": [
            "127.0.0.1 - - [07/Jun/2021 06:48:08] \"\u001b[37mGET /?championat=Argentina&coefficient=2.75&event=DNB&id=RDiDJeI2okW9dOBeLKAapSX8tmU%3D&league=Primera+B&odd1=1.61&odd2=4.84&oddX=3.73&percent=27&sport=Soccer&status=2 HTTP/1.1\u001b[0m\" 200 -\n"
          ],
          "name": "stderr"
        },
        {
          "output_type": "stream",
          "text": [
            "07 06 2021, 06:48   id:RDiDJeI2okW9dOBeLKAapSX8tmU=,sport:Soccer,championat:Argentina,league:Primera B,event:DNB,status:2,coefficient:2.75,percent:27, odd1: 1.61,oddX: 3.73,odd2: 4.84; ---> lost\n",
            "RDiDJeI2okW9dOBeLKAapSX8tmU=<===>lost<===>0.31158267921996624<===>0.4032753665215197\n"
          ],
          "name": "stdout"
        },
        {
          "output_type": "stream",
          "text": [
            "127.0.0.1 - - [07/Jun/2021 06:48:12] \"\u001b[37mGET /?championat=World&coefficient=1.75&event=O%2FU+6.5&id=SIWFQetfzK7R5vzEt5LwTfxAouc%3D&league=World+Cup+2022&odd1=41.09&odd2=1.01&oddX=23.27&percent=25&sport=Soccer&status=Over HTTP/1.1\u001b[0m\" 200 -\n"
          ],
          "name": "stderr"
        },
        {
          "output_type": "stream",
          "text": [
            "07 06 2021, 06:48   id:SIWFQetfzK7R5vzEt5LwTfxAouc=,sport:Soccer,championat:World,league:World Cup 2022,event:O/U 6.5,status:Over,coefficient:1.75,percent:25, odd1: 41.09,oddX: 23.27,odd2: 1.01; ---> won\n",
            "SIWFQetfzK7R5vzEt5LwTfxAouc=<===>won<===>0.8076695480284968<===>0.4032753665215197\n"
          ],
          "name": "stdout"
        },
        {
          "output_type": "stream",
          "text": [
            "127.0.0.1 - - [07/Jun/2021 06:48:18] \"\u001b[37mGET /?championat=World&coefficient=1.56&event=AH+%2B5.75&id=KrGCMVULl5e1BVis8ha1VWoSVwE%3D&league=World+Cup+2022&odd1=41.09&odd2=1.01&oddX=23.27&percent=24&sport=Soccer&status=2 HTTP/1.1\u001b[0m\" 200 -\n"
          ],
          "name": "stderr"
        },
        {
          "output_type": "stream",
          "text": [
            "07 06 2021, 06:48   id:KrGCMVULl5e1BVis8ha1VWoSVwE=,sport:Soccer,championat:World,league:World Cup 2022,event:AH +5.75,status:2,coefficient:1.56,percent:24, odd1: 41.09,oddX: 23.27,odd2: 1.01; ---> won\n",
            "KrGCMVULl5e1BVis8ha1VWoSVwE=<===>won<===>0.6553574652691363<===>0.4032753665215197\n"
          ],
          "name": "stdout"
        },
        {
          "output_type": "stream",
          "text": [
            "127.0.0.1 - - [07/Jun/2021 06:48:27] \"\u001b[37mGET /?championat=Argentina&coefficient=3.69&event=1X2&id=kdIeDvo7_S_dBpfSPYe7zCxUFX0%3D&league=Primera+B&odd1=1.61&odd2=4.84&oddX=3.73&percent=24&sport=Soccer&status=2 HTTP/1.1\u001b[0m\" 200 -\n"
          ],
          "name": "stderr"
        },
        {
          "output_type": "stream",
          "text": [
            "07 06 2021, 06:48   id:kdIeDvo7_S_dBpfSPYe7zCxUFX0=,sport:Soccer,championat:Argentina,league:Primera B,event:1X2,status:2,coefficient:3.69,percent:24, odd1: 1.61,oddX: 3.73,odd2: 4.84; ---> lost\n",
            "kdIeDvo7_S_dBpfSPYe7zCxUFX0=<===>lost<===>0.25925896195153014<===>0.4032753665215197\n"
          ],
          "name": "stdout"
        },
        {
          "output_type": "stream",
          "text": [
            "127.0.0.1 - - [07/Jun/2021 06:48:34] \"\u001b[37mGET /?championat=World&coefficient=1.84&event=AH+%2B6.25&id=Ksi6rQYA7h1jFxM62w0QpyjnLF4%3D&league=World+Cup+2022&odd1=41.09&odd2=1.01&oddX=23.27&percent=23&sport=Soccer&status=2 HTTP/1.1\u001b[0m\" 200 -\n"
          ],
          "name": "stderr"
        },
        {
          "output_type": "stream",
          "text": [
            "07 06 2021, 06:48   id:Ksi6rQYA7h1jFxM62w0QpyjnLF4=,sport:Soccer,championat:World,league:World Cup 2022,event:AH +6.25,status:2,coefficient:1.84,percent:23, odd1: 41.09,oddX: 23.27,odd2: 1.01; ---> won\n",
            "Ksi6rQYA7h1jFxM62w0QpyjnLF4=<===>won<===>0.5488661264205469<===>0.4032753665215197\n"
          ],
          "name": "stdout"
        },
        {
          "output_type": "stream",
          "text": [
            "127.0.0.1 - - [07/Jun/2021 06:48:38] \"\u001b[37mGET /?championat=World&coefficient=5.22&event=EH+-2&id=sDvHifanXzsC-S3fZwZjZAk2Zes%3D&league=World+Cup+2022&odd1=1.54&odd2=6.71&oddX=3.63&percent=23&sport=Soccer&status=1 HTTP/1.1\u001b[0m\" 200 -\n"
          ],
          "name": "stderr"
        },
        {
          "output_type": "stream",
          "text": [
            "07 06 2021, 06:48   id:sDvHifanXzsC-S3fZwZjZAk2Zes=,sport:Soccer,championat:World,league:World Cup 2022,event:EH -2,status:1,coefficient:5.22,percent:23, odd1: 1.54,oddX: 3.63,odd2: 6.71; ---> lost\n",
            "sDvHifanXzsC-S3fZwZjZAk2Zes=<===>lost<===>0.15814612227497013<===>0.4032753665215197\n"
          ],
          "name": "stdout"
        },
        {
          "output_type": "stream",
          "text": [
            "127.0.0.1 - - [07/Jun/2021 06:48:44] \"\u001b[37mGET /?championat=World&coefficient=2&event=AH+%2B6.5&id=tbqKrC6t7gosu7dT4PzeEl4u5dw%3D&league=World+Cup+2022&odd1=41.09&odd2=1.01&oddX=23.27&percent=21&sport=Soccer&status=2 HTTP/1.1\u001b[0m\" 200 -\n"
          ],
          "name": "stderr"
        },
        {
          "output_type": "stream",
          "text": [
            "07 06 2021, 06:48   id:tbqKrC6t7gosu7dT4PzeEl4u5dw=,sport:Soccer,championat:World,league:World Cup 2022,event:AH +6.5,status:2,coefficient:2,percent:21, odd1: 41.09,oddX: 23.27,odd2: 1.01; ---> won\n",
            "tbqKrC6t7gosu7dT4PzeEl4u5dw=<===>won<===>0.5154012997928251<===>0.4032753665215197\n"
          ],
          "name": "stdout"
        },
        {
          "output_type": "stream",
          "text": [
            "127.0.0.1 - - [07/Jun/2021 06:48:51] \"\u001b[37mGET /?championat=World&coefficient=4.97&event=O%2FU+6&id=yZ_hgQJoicSKnyIpD9Ibbs9IlBg%3D&league=World+Cup+2022&odd1=1.05&odd2=25.77&oddX=11.57&percent=21&sport=Soccer&status=Over HTTP/1.1\u001b[0m\" 200 -\n"
          ],
          "name": "stderr"
        },
        {
          "output_type": "stream",
          "text": [
            "07 06 2021, 06:48   id:yZ_hgQJoicSKnyIpD9Ibbs9IlBg=,sport:Soccer,championat:World,league:World Cup 2022,event:O/U 6,status:Over,coefficient:4.97,percent:21, odd1: 1.05,oddX: 11.57,odd2: 25.77; ---> lost\n",
            "yZ_hgQJoicSKnyIpD9Ibbs9IlBg=<===>lost<===>0.10908959058288135<===>0.4032753665215197\n"
          ],
          "name": "stdout"
        },
        {
          "output_type": "stream",
          "text": [
            "127.0.0.1 - - [07/Jun/2021 06:48:55] \"\u001b[37mGET /?championat=World&coefficient=2.86&event=O%2FU+5&id=XFBIEUGer7IhZNP9Hgy4Nyky1OA%3D&league=World+Cup+2022&odd1=1.05&odd2=25.77&oddX=11.57&percent=21&sport=Soccer&status=Over HTTP/1.1\u001b[0m\" 200 -\n"
          ],
          "name": "stderr"
        },
        {
          "output_type": "stream",
          "text": [
            "07 06 2021, 06:48   id:XFBIEUGer7IhZNP9Hgy4Nyky1OA=,sport:Soccer,championat:World,league:World Cup 2022,event:O/U 5,status:Over,coefficient:2.86,percent:21, odd1: 1.05,oddX: 11.57,odd2: 25.77; ---> lost\n",
            "XFBIEUGer7IhZNP9Hgy4Nyky1OA=<===>lost<===>0.2954960812029539<===>0.4032753665215197\n"
          ],
          "name": "stdout"
        },
        {
          "output_type": "stream",
          "text": [
            "127.0.0.1 - - [07/Jun/2021 06:48:59] \"\u001b[37mGET /?championat=World&coefficient=16.81&event=EH+%2B1&id=BJcmrwOqnMBGLjMxBHW0skDVTAA%3D&league=Friendly+International&odd1=1.51&odd2=6.8&oddX=3.92&percent=20&sport=Soccer&status=2 HTTP/1.1\u001b[0m\" 200 -\n"
          ],
          "name": "stderr"
        },
        {
          "output_type": "stream",
          "text": [
            "07 06 2021, 06:48   id:BJcmrwOqnMBGLjMxBHW0skDVTAA=,sport:Soccer,championat:World,league:Friendly International,event:EH +1,status:2,coefficient:16.81,percent:20, odd1: 1.51,oddX: 3.92,odd2: 6.8; ---> lost\n",
            "BJcmrwOqnMBGLjMxBHW0skDVTAA=<===>lost<===>0.019743863016533587<===>0.4032753665215197\n"
          ],
          "name": "stdout"
        },
        {
          "output_type": "stream",
          "text": [
            "127.0.0.1 - - [07/Jun/2021 06:49:03] \"\u001b[37mGET /?championat=World&coefficient=1.58&event=O%2FU+6.25&id=V3IsZL90-JH9EAet_fRcni5W3K4%3D&league=World+Cup+2022&odd1=41.09&odd2=1.01&oddX=23.27&percent=20&sport=Soccer&status=Over HTTP/1.1\u001b[0m\" 200 -\n"
          ],
          "name": "stderr"
        },
        {
          "output_type": "stream",
          "text": [
            "07 06 2021, 06:49   id:V3IsZL90-JH9EAet_fRcni5W3K4=,sport:Soccer,championat:World,league:World Cup 2022,event:O/U 6.25,status:Over,coefficient:1.58,percent:20, odd1: 41.09,oddX: 23.27,odd2: 1.01; ---> won\n",
            "V3IsZL90-JH9EAet_fRcni5W3K4=<===>won<===>0.8703462060810996<===>0.4032753665215197\n"
          ],
          "name": "stdout"
        },
        {
          "output_type": "stream",
          "text": [
            "127.0.0.1 - - [07/Jun/2021 06:49:07] \"\u001b[37mGET /?championat=World&coefficient=1.26&event=BTS&id=lhq1eqYEfzCszq1tDYcyNEEpJSk%3D&league=World+Cup+2022&odd1=1.02&odd2=44.36&oddX=16.58&percent=18&sport=Soccer&status=No HTTP/1.1\u001b[0m\" 200 -\n"
          ],
          "name": "stderr"
        },
        {
          "output_type": "stream",
          "text": [
            "07 06 2021, 06:49   id:lhq1eqYEfzCszq1tDYcyNEEpJSk=,sport:Soccer,championat:World,league:World Cup 2022,event:BTS,status:No,coefficient:1.26,percent:18, odd1: 1.02,oddX: 16.58,odd2: 44.36; ---> won\n",
            "lhq1eqYEfzCszq1tDYcyNEEpJSk=<===>won<===>0.9462435131189925<===>0.4032753665215197\n"
          ],
          "name": "stdout"
        },
        {
          "output_type": "stream",
          "text": [
            "127.0.0.1 - - [07/Jun/2021 06:56:34] \"\u001b[37mGET /?championat=World&coefficient=3.48&event=AH+-5.75&id=Mk4pR5I51TL8aJiEMhtrrGehoO4%3D&league=World+Cup+2022&odd1=1.02&odd2=44.36&oddX=16.58&percent=45&sport=Soccer&status=1 HTTP/1.1\u001b[0m\" 200 -\n"
          ],
          "name": "stderr"
        },
        {
          "output_type": "stream",
          "text": [
            "07 06 2021, 06:56   id:Mk4pR5I51TL8aJiEMhtrrGehoO4=,sport:Soccer,championat:World,league:World Cup 2022,event:AH -5.75,status:1,coefficient:3.48,percent:45, odd1: 1.02,oddX: 16.58,odd2: 44.36; ---> lost\n",
            "Mk4pR5I51TL8aJiEMhtrrGehoO4=<===>lost<===>0.192030549726521<===>0.4032753665215197\n"
          ],
          "name": "stdout"
        },
        {
          "output_type": "stream",
          "text": [
            "127.0.0.1 - - [07/Jun/2021 06:56:38] \"\u001b[37mGET /?championat=World&coefficient=4.61&event=AH+-6.25&id=n5sVXJkOrrH1FpKIhZUZ9zZIxoo%3D&league=World+Cup+2022&odd1=1.02&odd2=44.36&oddX=16.58&percent=44&sport=Soccer&status=1 HTTP/1.1\u001b[0m\" 200 -\n"
          ],
          "name": "stderr"
        },
        {
          "output_type": "stream",
          "text": [
            "07 06 2021, 06:56   id:n5sVXJkOrrH1FpKIhZUZ9zZIxoo=,sport:Soccer,championat:World,league:World Cup 2022,event:AH -6.25,status:1,coefficient:4.61,percent:44, odd1: 1.02,oddX: 16.58,odd2: 44.36; ---> lost\n",
            "n5sVXJkOrrH1FpKIhZUZ9zZIxoo=<===>lost<===>0.11505450407339969<===>0.4032753665215197\n"
          ],
          "name": "stdout"
        },
        {
          "output_type": "stream",
          "text": [
            "127.0.0.1 - - [07/Jun/2021 06:56:43] \"\u001b[37mGET /?championat=World&coefficient=4.23&event=AH+-2.25&id=MQkNkLCKFdnYxrBSiBA14I1xsQk%3D&league=World+Cup+2022&odd1=1.54&odd2=6.71&oddX=3.63&percent=31&sport=Soccer&status=1 HTTP/1.1\u001b[0m\" 200 -\n"
          ],
          "name": "stderr"
        },
        {
          "output_type": "stream",
          "text": [
            "07 06 2021, 06:56   id:MQkNkLCKFdnYxrBSiBA14I1xsQk=,sport:Soccer,championat:World,league:World Cup 2022,event:AH -2.25,status:1,coefficient:4.23,percent:31, odd1: 1.54,oddX: 3.63,odd2: 6.71; ---> lost\n",
            "MQkNkLCKFdnYxrBSiBA14I1xsQk=<===>lost<===>0.17261405195164367<===>0.4032753665215197\n"
          ],
          "name": "stdout"
        },
        {
          "output_type": "stream",
          "text": [
            "127.0.0.1 - - [07/Jun/2021 06:56:49] \"\u001b[37mGET /?championat=World&coefficient=3.8&event=AH+-2&id=LaHALz_-NygOxOUXIdVyA0tgzkk%3D&league=World+Cup+2022&odd1=1.54&odd2=6.71&oddX=3.63&percent=28&sport=Soccer&status=1 HTTP/1.1\u001b[0m\" 200 -\n"
          ],
          "name": "stderr"
        },
        {
          "output_type": "stream",
          "text": [
            "07 06 2021, 06:56   id:LaHALz_-NygOxOUXIdVyA0tgzkk=,sport:Soccer,championat:World,league:World Cup 2022,event:AH -2,status:1,coefficient:3.8,percent:28, odd1: 1.54,oddX: 3.63,odd2: 6.71; ---> lost\n",
            "LaHALz_-NygOxOUXIdVyA0tgzkk=<===>lost<===>0.4231395459158046<===>0.4032753665215197\n"
          ],
          "name": "stdout"
        },
        {
          "output_type": "stream",
          "text": [
            "127.0.0.1 - - [07/Jun/2021 06:56:54] \"\u001b[37mGET /?championat=World&coefficient=2.8&event=AH+-1.75&id=1Lwy8ZJUiuJEQDNIOaAj6rWsjEs%3D&league=World+Cup+2022&odd1=1.54&odd2=6.71&oddX=3.63&percent=27&sport=Soccer&status=1 HTTP/1.1\u001b[0m\" 200 -\n"
          ],
          "name": "stderr"
        },
        {
          "output_type": "stream",
          "text": [
            "07 06 2021, 06:56   id:1Lwy8ZJUiuJEQDNIOaAj6rWsjEs=,sport:Soccer,championat:World,league:World Cup 2022,event:AH -1.75,status:1,coefficient:2.8,percent:27, odd1: 1.54,oddX: 3.63,odd2: 6.71; ---> lost\n",
            "1Lwy8ZJUiuJEQDNIOaAj6rWsjEs=<===>lost<===>0.46100401029812765<===>0.4032753665215197\n"
          ],
          "name": "stdout"
        },
        {
          "output_type": "stream",
          "text": [
            "127.0.0.1 - - [07/Jun/2021 06:56:58] \"\u001b[37mGET /?championat=World&coefficient=2.2&event=O%2FU+5.25&id=elgFo6X4mK_OTiMLsB9K7ke8iyw%3D&league=World+Cup+2022&odd1=1.02&odd2=44.36&oddX=16.58&percent=27&sport=Soccer&status=Over HTTP/1.1\u001b[0m\" 200 -\n"
          ],
          "name": "stderr"
        },
        {
          "output_type": "stream",
          "text": [
            "07 06 2021, 06:56   id:elgFo6X4mK_OTiMLsB9K7ke8iyw=,sport:Soccer,championat:World,league:World Cup 2022,event:O/U 5.25,status:Over,coefficient:2.2,percent:27, odd1: 1.02,oddX: 16.58,odd2: 44.36; ---> lost\n",
            "elgFo6X4mK_OTiMLsB9K7ke8iyw=<===>lost<===>0.4364394721607498<===>0.4032753665215197\n"
          ],
          "name": "stdout"
        },
        {
          "output_type": "stream",
          "text": [
            "127.0.0.1 - - [07/Jun/2021 06:57:02] \"\u001b[37mGET /?championat=World&coefficient=4.86&event=AH+0&id=KEDq_6UP_7KWJxcrU439Au4r57M%3D&league=Friendly+International&odd1=1.51&odd2=6.8&oddX=3.92&percent=27&sport=Soccer&status=2 HTTP/1.1\u001b[0m\" 200 -\n"
          ],
          "name": "stderr"
        },
        {
          "output_type": "stream",
          "text": [
            "07 06 2021, 06:57   id:KEDq_6UP_7KWJxcrU439Au4r57M=,sport:Soccer,championat:World,league:Friendly International,event:AH 0,status:2,coefficient:4.86,percent:27, odd1: 1.51,oddX: 3.92,odd2: 6.8; ---> lost\n",
            "KEDq_6UP_7KWJxcrU439Au4r57M=<===>lost<===>0.15596739362362347<===>0.4032753665215197\n"
          ],
          "name": "stdout"
        },
        {
          "output_type": "stream",
          "text": [
            "127.0.0.1 - - [07/Jun/2021 06:57:06] \"\u001b[37mGET /?championat=World&coefficient=4.62&event=AH+-2.5&id=bYTJNy4O9OVmuITrj_ITKJmMwAY%3D&league=World+Cup+2022&odd1=1.54&odd2=6.71&oddX=3.63&percent=26&sport=Soccer&status=1 HTTP/1.1\u001b[0m\" 200 -\n"
          ],
          "name": "stderr"
        },
        {
          "output_type": "stream",
          "text": [
            "07 06 2021, 06:57   id:bYTJNy4O9OVmuITrj_ITKJmMwAY=,sport:Soccer,championat:World,league:World Cup 2022,event:AH -2.5,status:1,coefficient:4.62,percent:26, odd1: 1.54,oddX: 3.63,odd2: 6.71; ---> lost\n",
            "bYTJNy4O9OVmuITrj_ITKJmMwAY=<===>lost<===>0.18028263124483968<===>0.4032753665215197\n"
          ],
          "name": "stdout"
        },
        {
          "output_type": "stream",
          "text": [
            "127.0.0.1 - - [07/Jun/2021 06:57:10] \"\u001b[37mGET /?championat=World&coefficient=6.02&event=AH+-2.75&id=8QIzU2W0qsslpf2BUeQ3H9Lvdi8%3D&league=World+Cup+2022&odd1=1.54&odd2=6.71&oddX=3.63&percent=25&sport=Soccer&status=1 HTTP/1.1\u001b[0m\" 200 -\n"
          ],
          "name": "stderr"
        },
        {
          "output_type": "stream",
          "text": [
            "07 06 2021, 06:57   id:8QIzU2W0qsslpf2BUeQ3H9Lvdi8=,sport:Soccer,championat:World,league:World Cup 2022,event:AH -2.75,status:1,coefficient:6.02,percent:25, odd1: 1.54,oddX: 3.63,odd2: 6.71; ---> lost\n",
            "8QIzU2W0qsslpf2BUeQ3H9Lvdi8=<===>lost<===>0.1868883004176514<===>0.4032753665215197\n"
          ],
          "name": "stdout"
        },
        {
          "output_type": "stream",
          "text": [
            "127.0.0.1 - - [07/Jun/2021 06:57:14] \"\u001b[37mGET /?championat=World&coefficient=11.32&event=EH+-3&id=0urwcqe9T7COra9-dc4hEnU0LYg%3D&league=World+Cup+2022&odd1=1.54&odd2=6.71&oddX=3.63&percent=23&sport=Soccer&status=1 HTTP/1.1\u001b[0m\" 200 -\n"
          ],
          "name": "stderr"
        },
        {
          "output_type": "stream",
          "text": [
            "07 06 2021, 06:57   id:0urwcqe9T7COra9-dc4hEnU0LYg=,sport:Soccer,championat:World,league:World Cup 2022,event:EH -3,status:1,coefficient:11.32,percent:23, odd1: 1.54,oddX: 3.63,odd2: 6.71; ---> lost\n",
            "0urwcqe9T7COra9-dc4hEnU0LYg=<===>lost<===>0.05971861800219281<===>0.4032753665215197\n"
          ],
          "name": "stdout"
        },
        {
          "output_type": "stream",
          "text": [
            "127.0.0.1 - - [07/Jun/2021 06:57:18] \"\u001b[37mGET /?championat=Argentina&coefficient=8.08&event=O%2FU+0.5&id=dnXnnnOAGHKct9H0Zydl2nwtXgE%3D&league=Primera+B&odd1=1.9&odd2=3.56&oddX=3.48&percent=23&sport=Soccer&status=Under HTTP/1.1\u001b[0m\" 200 -\n"
          ],
          "name": "stderr"
        },
        {
          "output_type": "stream",
          "text": [
            "07 06 2021, 06:57   id:dnXnnnOAGHKct9H0Zydl2nwtXgE=,sport:Soccer,championat:Argentina,league:Primera B,event:O/U 0.5,status:Under,coefficient:8.08,percent:23, odd1: 1.9,oddX: 3.48,odd2: 3.56; ---> lost\n",
            "dnXnnnOAGHKct9H0Zydl2nwtXgE=<===>lost<===>0.09256108993329853<===>0.4032753665215197\n"
          ],
          "name": "stdout"
        },
        {
          "output_type": "stream",
          "text": [
            "127.0.0.1 - - [07/Jun/2021 06:57:22] \"\u001b[37mGET /?championat=Sweden&coefficient=6.67&event=EH+-2&id=XuS-ZZ_iCpWCR_5eOO6A28htAEQ%3D&league=Superettan&odd1=1.9&odd2=3.96&oddX=3.38&percent=21&sport=Soccer&status=1 HTTP/1.1\u001b[0m\" 200 -\n"
          ],
          "name": "stderr"
        },
        {
          "output_type": "stream",
          "text": [
            "07 06 2021, 06:57   id:XuS-ZZ_iCpWCR_5eOO6A28htAEQ=,sport:Soccer,championat:Sweden,league:Superettan,event:EH -2,status:1,coefficient:6.67,percent:21, odd1: 1.9,oddX: 3.38,odd2: 3.96; ---> lost\n",
            "XuS-ZZ_iCpWCR_5eOO6A28htAEQ=<===>lost<===>0.0640611320880912<===>0.4032753665215197\n"
          ],
          "name": "stdout"
        },
        {
          "output_type": "stream",
          "text": [
            "127.0.0.1 - - [07/Jun/2021 06:57:26] \"\u001b[37mGET /?championat=Argentina&coefficient=3.17&event=DNB&id=50JKMyNKrcx8KEIFesi6DmmOXhM%3D&league=Primera+B&odd1=1.59&odd2=5.16&oddX=3.69&percent=21&sport=Soccer&status=2 HTTP/1.1\u001b[0m\" 200 -\n"
          ],
          "name": "stderr"
        },
        {
          "output_type": "stream",
          "text": [
            "07 06 2021, 06:57   id:50JKMyNKrcx8KEIFesi6DmmOXhM=,sport:Soccer,championat:Argentina,league:Primera B,event:DNB,status:2,coefficient:3.17,percent:21, odd1: 1.59,oddX: 3.69,odd2: 5.16; ---> lost\n",
            "50JKMyNKrcx8KEIFesi6DmmOXhM=<===>lost<===>0.35218632860531396<===>0.4032753665215197\n"
          ],
          "name": "stdout"
        },
        {
          "output_type": "stream",
          "text": [
            "127.0.0.1 - - [07/Jun/2021 06:57:30] \"\u001b[37mGET /?championat=Argentina&coefficient=10.75&event=EH+%2B1&id=qGGiG9bOW7YTHDGg33H9s0jkYqk%3D&league=Primera+B&odd1=1.59&odd2=5.16&oddX=3.69&percent=20&sport=Soccer&status=2 HTTP/1.1\u001b[0m\" 200 -\n"
          ],
          "name": "stderr"
        },
        {
          "output_type": "stream",
          "text": [
            "07 06 2021, 06:57   id:qGGiG9bOW7YTHDGg33H9s0jkYqk=,sport:Soccer,championat:Argentina,league:Primera B,event:EH +1,status:2,coefficient:10.75,percent:20, odd1: 1.59,oddX: 3.69,odd2: 5.16; ---> lost\n",
            "qGGiG9bOW7YTHDGg33H9s0jkYqk=<===>lost<===>0.06368406868284208<===>0.4032753665215197\n"
          ],
          "name": "stdout"
        },
        {
          "output_type": "stream",
          "text": [
            "127.0.0.1 - - [07/Jun/2021 06:57:40] \"\u001b[37mGET /?championat=Sweden&coefficient=3.1&event=EH+-1&id=yURdR52xpETUEid5k2YDQfnYmuw%3D&league=Superettan&odd1=1.9&odd2=3.96&oddX=3.38&percent=19&sport=Soccer&status=1 HTTP/1.1\u001b[0m\" 200 -\n"
          ],
          "name": "stderr"
        },
        {
          "output_type": "stream",
          "text": [
            "07 06 2021, 06:57   id:yURdR52xpETUEid5k2YDQfnYmuw=,sport:Soccer,championat:Sweden,league:Superettan,event:EH -1,status:1,coefficient:3.1,percent:19, odd1: 1.9,oddX: 3.38,odd2: 3.96; ---> lost\n",
            "yURdR52xpETUEid5k2YDQfnYmuw=<===>lost<===>0.18265413966008842<===>0.4032753665215197\n"
          ],
          "name": "stdout"
        },
        {
          "output_type": "stream",
          "text": [
            "127.0.0.1 - - [07/Jun/2021 06:57:44] \"\u001b[37mGET /?championat=World&coefficient=2.4&event=EH+-1&id=WN18fDpOWS3GfoA3JNG9gEc8hyA%3D&league=World+Cup+2022&odd1=1.54&odd2=6.71&oddX=3.63&percent=19&sport=Soccer&status=1 HTTP/1.1\u001b[0m\" 200 -\n"
          ],
          "name": "stderr"
        },
        {
          "output_type": "stream",
          "text": [
            "07 06 2021, 06:57   id:WN18fDpOWS3GfoA3JNG9gEc8hyA=,sport:Soccer,championat:World,league:World Cup 2022,event:EH -1,status:1,coefficient:2.4,percent:19, odd1: 1.54,oddX: 3.63,odd2: 6.71; ---> lost\n",
            "WN18fDpOWS3GfoA3JNG9gEc8hyA=<===>lost<===>0.47140680996955947<===>0.4032753665215197\n"
          ],
          "name": "stdout"
        },
        {
          "output_type": "stream",
          "text": [
            "127.0.0.1 - - [07/Jun/2021 06:57:48] \"\u001b[37mGET /?championat=World&coefficient=6.36&event=O%2FU+4&id=l2qjI77BaOnZFpesTMxk9gyQ-Og%3D&league=Friendly+International&odd1=1.65&odd2=5.58&oddX=3.58&percent=18&sport=Soccer&status=Over HTTP/1.1\u001b[0m\" 200 -\n"
          ],
          "name": "stderr"
        },
        {
          "output_type": "stream",
          "text": [
            "07 06 2021, 06:57   id:l2qjI77BaOnZFpesTMxk9gyQ-Og=,sport:Soccer,championat:World,league:Friendly International,event:O/U 4,status:Over,coefficient:6.36,percent:18, odd1: 1.65,oddX: 3.58,odd2: 5.58; ---> lost\n",
            "l2qjI77BaOnZFpesTMxk9gyQ-Og=<===>lost<===>0.15214941892071487<===>0.4032753665215197\n"
          ],
          "name": "stdout"
        },
        {
          "output_type": "stream",
          "text": [
            "127.0.0.1 - - [07/Jun/2021 06:57:52] \"\u001b[37mGET /?championat=Argentina&coefficient=4.55&event=1X2&id=S7RsDHwHKkbb4UGXaWKgMmW6ivo%3D&league=Primera+B&odd1=1.59&odd2=5.16&oddX=3.69&percent=18&sport=Soccer&status=2 HTTP/1.1\u001b[0m\" 200 -\n"
          ],
          "name": "stderr"
        },
        {
          "output_type": "stream",
          "text": [
            "07 06 2021, 06:57   id:S7RsDHwHKkbb4UGXaWKgMmW6ivo=,sport:Soccer,championat:Argentina,league:Primera B,event:1X2,status:2,coefficient:4.55,percent:18, odd1: 1.59,oddX: 3.69,odd2: 5.16; ---> lost\n",
            "S7RsDHwHKkbb4UGXaWKgMmW6ivo=<===>lost<===>0.2298646418573521<===>0.4032753665215197\n"
          ],
          "name": "stdout"
        },
        {
          "output_type": "stream",
          "text": [
            "127.0.0.1 - - [07/Jun/2021 06:59:00] \"\u001b[37mGET /?championat=World&coefficient=1.19&event=EH+-2&id=mfvVP-HaLoQ_OOQ547eN_ZnAjkc%3D&league=World+Cup+2022&odd1=1.02&odd2=44.36&oddX=16.58&percent=18&sport=Soccer&status=1 HTTP/1.1\u001b[0m\" 200 -\n"
          ],
          "name": "stderr"
        },
        {
          "output_type": "stream",
          "text": [
            "07 06 2021, 06:59   id:mfvVP-HaLoQ_OOQ547eN_ZnAjkc=,sport:Soccer,championat:World,league:World Cup 2022,event:EH -2,status:1,coefficient:1.19,percent:18, odd1: 1.02,oddX: 16.58,odd2: 44.36; ---> won\n",
            "mfvVP-HaLoQ_OOQ547eN_ZnAjkc=<===>won<===>0.9072515627774613<===>0.4032753665215197\n"
          ],
          "name": "stdout"
        },
        {
          "output_type": "stream",
          "text": [
            "127.0.0.1 - - [07/Jun/2021 07:05:34] \"\u001b[37mGET /?championat=World&coefficient=4.1&event=AH+-6.5&id=93RMLIc3Rtl2YZ4-kt_YLe3XBa8%3D&league=World+Cup+2022&odd1=1.02&odd2=44.36&oddX=16.58&percent=48&sport=Soccer&status=1 HTTP/1.1\u001b[0m\" 200 -\n"
          ],
          "name": "stderr"
        },
        {
          "output_type": "stream",
          "text": [
            "07 06 2021, 07:05   id:93RMLIc3Rtl2YZ4-kt_YLe3XBa8=,sport:Soccer,championat:World,league:World Cup 2022,event:AH -6.5,status:1,coefficient:4.1,percent:48, odd1: 1.02,oddX: 16.58,odd2: 44.36; ---> lost\n",
            "93RMLIc3Rtl2YZ4-kt_YLe3XBa8=<===>lost<===>0.13784451238173506<===>0.4032753665215197\n"
          ],
          "name": "stdout"
        },
        {
          "output_type": "stream",
          "text": [
            "127.0.0.1 - - [07/Jun/2021 07:05:38] \"\u001b[37mGET /?championat=World&coefficient=56.57&event=1X2&id=hZt7bRBd6Id3gtvk66eNfDigkj4%3D&league=World+Cup+2022&odd1=1.02&odd2=44.36&oddX=16.58&percent=32&sport=Soccer&status=2 HTTP/1.1\u001b[0m\" 200 -\n"
          ],
          "name": "stderr"
        },
        {
          "output_type": "stream",
          "text": [
            "07 06 2021, 07:05   id:hZt7bRBd6Id3gtvk66eNfDigkj4=,sport:Soccer,championat:World,league:World Cup 2022,event:1X2,status:2,coefficient:56.57,percent:32, odd1: 1.02,oddX: 16.58,odd2: 44.36; ---> lost\n",
            "hZt7bRBd6Id3gtvk66eNfDigkj4=<===>lost<===>0.18172898174103205<===>0.4032753665215197\n"
          ],
          "name": "stdout"
        },
        {
          "output_type": "stream",
          "text": [
            "127.0.0.1 - - [07/Jun/2021 07:05:55] \"\u001b[37mGET /?championat=Sweden&coefficient=5.59&event=AH+-2&id=xL7bRtcTYdgS8F4OOeL5gTTpYFI%3D&league=Superettan&odd1=1.9&odd2=3.96&oddX=3.38&percent=30&sport=Soccer&status=1 HTTP/1.1\u001b[0m\" 200 -\n"
          ],
          "name": "stderr"
        },
        {
          "output_type": "stream",
          "text": [
            "07 06 2021, 07:05   id:xL7bRtcTYdgS8F4OOeL5gTTpYFI=,sport:Soccer,championat:Sweden,league:Superettan,event:AH -2,status:1,coefficient:5.59,percent:30, odd1: 1.9,oddX: 3.38,odd2: 3.96; ---> lost\n",
            "xL7bRtcTYdgS8F4OOeL5gTTpYFI=<===>lost<===>0.12956640452952028<===>0.4032753665215197\n"
          ],
          "name": "stdout"
        },
        {
          "output_type": "stream",
          "text": [
            "127.0.0.1 - - [07/Jun/2021 07:05:59] \"\u001b[37mGET /?championat=Sweden&coefficient=6.06&event=AH+-2.25&id=_K_f6SAQO8e-qC_-iW6CZNHCsEE%3D&league=Superettan&odd1=1.9&odd2=3.96&oddX=3.38&percent=28&sport=Soccer&status=1 HTTP/1.1\u001b[0m\" 200 -\n"
          ],
          "name": "stderr"
        },
        {
          "output_type": "stream",
          "text": [
            "07 06 2021, 07:05   id:_K_f6SAQO8e-qC_-iW6CZNHCsEE=,sport:Soccer,championat:Sweden,league:Superettan,event:AH -2.25,status:1,coefficient:6.06,percent:28, odd1: 1.9,oddX: 3.38,odd2: 3.96; ---> lost\n",
            "_K_f6SAQO8e-qC_-iW6CZNHCsEE=<===>lost<===>0.06890936037210016<===>0.4032753665215197\n"
          ],
          "name": "stdout"
        },
        {
          "output_type": "stream",
          "text": [
            "127.0.0.1 - - [07/Jun/2021 07:06:04] \"\u001b[37mGET /?championat=World&coefficient=13.5&event=DNB&id=ovaCT_Y6xWJhLJ9AV71FOJwqq6Q%3D&league=World+Cup+2022&odd1=1.06&odd2=24.83&oddX=10.64&percent=25&sport=Soccer&status=2 HTTP/1.1\u001b[0m\" 200 -\n"
          ],
          "name": "stderr"
        },
        {
          "output_type": "stream",
          "text": [
            "07 06 2021, 07:06   id:ovaCT_Y6xWJhLJ9AV71FOJwqq6Q=,sport:Soccer,championat:World,league:World Cup 2022,event:DNB,status:2,coefficient:13.5,percent:25, odd1: 1.06,oddX: 10.64,odd2: 24.83; ---> lost\n",
            "ovaCT_Y6xWJhLJ9AV71FOJwqq6Q=<===>lost<===>0.4995222296263344<===>0.4032753665215197\n"
          ],
          "name": "stdout"
        },
        {
          "output_type": "stream",
          "text": [
            "127.0.0.1 - - [07/Jun/2021 07:06:14] \"\u001b[37mGET /?championat=Sweden&coefficient=6.6&event=AH+-2.5&id=dweOTsmaNDbogERiZ-51Ipc0-A8%3D&league=Superettan&odd1=1.9&odd2=3.96&oddX=3.38&percent=25&sport=Soccer&status=1 HTTP/1.1\u001b[0m\" 200 -\n"
          ],
          "name": "stderr"
        },
        {
          "output_type": "stream",
          "text": [
            "07 06 2021, 07:06   id:dweOTsmaNDbogERiZ-51Ipc0-A8=,sport:Soccer,championat:Sweden,league:Superettan,event:AH -2.5,status:1,coefficient:6.6,percent:25, odd1: 1.9,oddX: 3.38,odd2: 3.96; ---> lost\n",
            "dweOTsmaNDbogERiZ-51Ipc0-A8=<===>lost<===>0.06259914339012554<===>0.4032753665215197\n"
          ],
          "name": "stdout"
        },
        {
          "output_type": "stream",
          "text": [
            "127.0.0.1 - - [07/Jun/2021 07:06:18] \"\u001b[37mGET /?championat=Sweden&coefficient=15.36&event=EH+-3&id=MPm3WcKQ8V4LwOeXoxKpRKTPwX8%3D&league=Superettan&odd1=1.9&odd2=3.96&oddX=3.38&percent=24&sport=Soccer&status=1 HTTP/1.1\u001b[0m\" 200 -\n"
          ],
          "name": "stderr"
        },
        {
          "output_type": "stream",
          "text": [
            "07 06 2021, 07:06   id:MPm3WcKQ8V4LwOeXoxKpRKTPwX8=,sport:Soccer,championat:Sweden,league:Superettan,event:EH -3,status:1,coefficient:15.36,percent:24, odd1: 1.9,oddX: 3.38,odd2: 3.96; ---> lost\n",
            "MPm3WcKQ8V4LwOeXoxKpRKTPwX8=<===>lost<===>0.014302363812271289<===>0.4032753665215197\n"
          ],
          "name": "stdout"
        },
        {
          "output_type": "stream",
          "text": [
            "127.0.0.1 - - [07/Jun/2021 07:06:23] \"\u001b[37mGET /?championat=World&coefficient=5.94&event=AH+-2.75&id=BPBfR1WbRvLy_6t7cBz7CALWJ_0%3D&league=Friendly+International&odd1=1.65&odd2=5.58&oddX=3.58&percent=23&sport=Soccer&status=1 HTTP/1.1\u001b[0m\" 200 -\n"
          ],
          "name": "stderr"
        },
        {
          "output_type": "stream",
          "text": [
            "07 06 2021, 07:06   id:BPBfR1WbRvLy_6t7cBz7CALWJ_0=,sport:Soccer,championat:World,league:Friendly International,event:AH -2.75,status:1,coefficient:5.94,percent:23, odd1: 1.65,oddX: 3.58,odd2: 5.58; ---> lost\n",
            "BPBfR1WbRvLy_6t7cBz7CALWJ_0=<===>lost<===>0.20465200167095388<===>0.4032753665215197\n"
          ],
          "name": "stdout"
        },
        {
          "output_type": "stream",
          "text": [
            "127.0.0.1 - - [07/Jun/2021 07:06:27] \"\u001b[37mGET /?championat=Argentina&coefficient=3.1&event=AH+0&id=Hasg_wGy1p1WtE7hdjLMMJYFmBA%3D&league=Primera+B&odd1=1.59&odd2=5.16&oddX=3.69&percent=22&sport=Soccer&status=2 HTTP/1.1\u001b[0m\" 200 -\n"
          ],
          "name": "stderr"
        },
        {
          "output_type": "stream",
          "text": [
            "07 06 2021, 07:06   id:Hasg_wGy1p1WtE7hdjLMMJYFmBA=,sport:Soccer,championat:Argentina,league:Primera B,event:AH 0,status:2,coefficient:3.1,percent:22, odd1: 1.59,oddX: 3.69,odd2: 5.16; ---> lost\n",
            "Hasg_wGy1p1WtE7hdjLMMJYFmBA=<===>lost<===>0.42053432496027626<===>0.4032753665215197\n"
          ],
          "name": "stdout"
        },
        {
          "output_type": "stream",
          "text": [
            "127.0.0.1 - - [07/Jun/2021 07:06:32] \"\u001b[37mGET /?championat=World&coefficient=6.74&event=AH+-2&id=7g148gXOCWg81QasQ6ah5slk8ts%3D&league=Friendly+International&odd1=2.13&odd2=3.62&oddX=3.13&percent=22&sport=Soccer&status=1 HTTP/1.1\u001b[0m\" 200 -\n"
          ],
          "name": "stderr"
        },
        {
          "output_type": "stream",
          "text": [
            "07 06 2021, 07:06   id:7g148gXOCWg81QasQ6ah5slk8ts=,sport:Soccer,championat:World,league:Friendly International,event:AH -2,status:1,coefficient:6.74,percent:22, odd1: 2.13,oddX: 3.13,odd2: 3.62; ---> lost\n",
            "7g148gXOCWg81QasQ6ah5slk8ts=<===>lost<===>0.24123745491171025<===>0.4032753665215197\n"
          ],
          "name": "stdout"
        },
        {
          "output_type": "stream",
          "text": [
            "127.0.0.1 - - [07/Jun/2021 07:06:36] \"\u001b[37mGET /?championat=Sweden&coefficient=2.34&event=AH+-1&id=niJ36l8ggKKhGwgs-WHxWOstwZg%3D&league=Superettan&odd1=1.9&odd2=3.96&oddX=3.38&percent=22&sport=Soccer&status=1 HTTP/1.1\u001b[0m\" 200 -\n"
          ],
          "name": "stderr"
        },
        {
          "output_type": "stream",
          "text": [
            "07 06 2021, 07:06   id:niJ36l8ggKKhGwgs-WHxWOstwZg=,sport:Soccer,championat:Sweden,league:Superettan,event:AH -1,status:1,coefficient:2.34,percent:22, odd1: 1.9,oddX: 3.38,odd2: 3.96; ---> lost\n",
            "niJ36l8ggKKhGwgs-WHxWOstwZg=<===>lost<===>0.3244645009147712<===>0.4032753665215197\n"
          ],
          "name": "stdout"
        },
        {
          "output_type": "stream",
          "text": [
            "127.0.0.1 - - [07/Jun/2021 07:06:40] \"\u001b[37mGET /?championat=World&coefficient=8.48&event=AH+-3&id=HLERtoj5UCqpg8r9ifwJ8na3h7s%3D&league=World+Cup+2022&odd1=1.54&odd2=6.71&oddX=3.63&percent=22&sport=Soccer&status=1 HTTP/1.1\u001b[0m\" 200 -\n"
          ],
          "name": "stderr"
        },
        {
          "output_type": "stream",
          "text": [
            "07 06 2021, 07:06   id:HLERtoj5UCqpg8r9ifwJ8na3h7s=,sport:Soccer,championat:World,league:World Cup 2022,event:AH -3,status:1,coefficient:8.48,percent:22, odd1: 1.54,oddX: 3.63,odd2: 6.71; ---> lost\n",
            "HLERtoj5UCqpg8r9ifwJ8na3h7s=<===>lost<===>0.15729275740986995<===>0.4032753665215197\n"
          ],
          "name": "stdout"
        },
        {
          "output_type": "stream",
          "text": [
            "127.0.0.1 - - [07/Jun/2021 07:06:44] \"\u001b[37mGET /?championat=World&coefficient=8.37&event=EH+-2&id=8dMac4iLmF-wyzfkmW-A8cl1mrk%3D&league=Friendly+International&odd1=2.13&odd2=3.62&oddX=3.13&percent=21&sport=Soccer&status=1 HTTP/1.1\u001b[0m\" 200 -\n"
          ],
          "name": "stderr"
        },
        {
          "output_type": "stream",
          "text": [
            "07 06 2021, 07:06   id:8dMac4iLmF-wyzfkmW-A8cl1mrk=,sport:Soccer,championat:World,league:Friendly International,event:EH -2,status:1,coefficient:8.37,percent:21, odd1: 2.13,oddX: 3.13,odd2: 3.62; ---> lost\n",
            "8dMac4iLmF-wyzfkmW-A8cl1mrk=<===>lost<===>0.11021944341166524<===>0.4032753665215197\n"
          ],
          "name": "stdout"
        },
        {
          "output_type": "stream",
          "text": [
            "127.0.0.1 - - [07/Jun/2021 07:06:49] \"\u001b[37mGET /?championat=World&coefficient=1.83&event=O%2FU+8&id=p1ESX82fDdUFNtxgwb9D_4XEhfA%3D&league=World+Cup+2022&odd1=0&odd2=45.38&oddX=24.75&percent=21&sport=Soccer&status=Over HTTP/1.1\u001b[0m\" 200 -\n"
          ],
          "name": "stderr"
        },
        {
          "output_type": "stream",
          "text": [
            "07 06 2021, 07:06   id:p1ESX82fDdUFNtxgwb9D_4XEhfA=,sport:Soccer,championat:World,league:World Cup 2022,event:O/U 8,status:Over,coefficient:1.83,percent:21, odd1: 0,oddX: 24.75,odd2: 45.38; ---> won\n",
            "p1ESX82fDdUFNtxgwb9D_4XEhfA=<===>won<===>0.6484383900505291<===>0.4032753665215197\n"
          ],
          "name": "stdout"
        },
        {
          "output_type": "stream",
          "text": [
            "127.0.0.1 - - [07/Jun/2021 07:06:53] \"\u001b[37mGET /?championat=World&coefficient=1.25&event=O%2FU+5.5&id=9JrcP5Sxwa7oHjDkEOcPZn-rgc8%3D&league=World+Cup+2022&odd1=1.03&odd2=45.78&oddX=16&percent=20&sport=Soccer&status=Over HTTP/1.1\u001b[0m\" 200 -\n"
          ],
          "name": "stderr"
        },
        {
          "output_type": "stream",
          "text": [
            "07 06 2021, 07:06   id:9JrcP5Sxwa7oHjDkEOcPZn-rgc8=,sport:Soccer,championat:World,league:World Cup 2022,event:O/U 5.5,status:Over,coefficient:1.25,percent:20, odd1: 1.03,oddX: 16,odd2: 45.78; ---> won\n",
            "9JrcP5Sxwa7oHjDkEOcPZn-rgc8=<===>won<===>0.9173591012082303<===>0.4032753665215197\n"
          ],
          "name": "stdout"
        },
        {
          "output_type": "stream",
          "text": [
            "127.0.0.1 - - [07/Jun/2021 07:06:57] \"\u001b[37mGET /?championat=World&coefficient=3.29&event=EH+-2&id=3-alDRP300oCa98etsjvZnFHP5g%3D&league=World+Cup+2022&odd1=1.06&odd2=24.83&oddX=10.64&percent=20&sport=Soccer&status=2 HTTP/1.1\u001b[0m\" 200 -\n"
          ],
          "name": "stderr"
        },
        {
          "output_type": "stream",
          "text": [
            "07 06 2021, 07:06   id:3-alDRP300oCa98etsjvZnFHP5g=,sport:Soccer,championat:World,league:World Cup 2022,event:EH -2,status:2,coefficient:3.29,percent:20, odd1: 1.06,oddX: 10.64,odd2: 24.83; ---> lost\n",
            "3-alDRP300oCa98etsjvZnFHP5g=<===>lost<===>0.33274066164612015<===>0.4032753665215197\n"
          ],
          "name": "stdout"
        },
        {
          "output_type": "stream",
          "text": [
            "127.0.0.1 - - [07/Jun/2021 07:07:02] \"\u001b[37mGET /?championat=World&coefficient=5.02&event=EH+-1&id=onI4JBzg5iTREMaBWR56-V7wX8w%3D&league=World+Cup+2022&odd1=1.06&odd2=24.83&oddX=10.64&percent=20&sport=Soccer&status=X HTTP/1.1\u001b[0m\" 200 -\n"
          ],
          "name": "stderr"
        },
        {
          "output_type": "stream",
          "text": [
            "07 06 2021, 07:07   id:onI4JBzg5iTREMaBWR56-V7wX8w=,sport:Soccer,championat:World,league:World Cup 2022,event:EH -1,status:X,coefficient:5.02,percent:20, odd1: 1.06,oddX: 10.64,odd2: 24.83; ---> lost\n",
            "onI4JBzg5iTREMaBWR56-V7wX8w=<===>lost<===>0.20623492714732497<===>0.4032753665215197\n"
          ],
          "name": "stdout"
        },
        {
          "output_type": "stream",
          "text": [
            "127.0.0.1 - - [07/Jun/2021 07:07:06] \"\u001b[37mGET /?championat=World&coefficient=4.61&event=EH+-2&id=EfdjcuZ3eEJdTGkN0MQVQBk6r2g%3D&league=Friendly+International&odd1=1.65&odd2=5.58&oddX=3.58&percent=19&sport=Soccer&status=1 HTTP/1.1\u001b[0m\" 200 -\n"
          ],
          "name": "stderr"
        },
        {
          "output_type": "stream",
          "text": [
            "07 06 2021, 07:07   id:EfdjcuZ3eEJdTGkN0MQVQBk6r2g=,sport:Soccer,championat:World,league:Friendly International,event:EH -2,status:1,coefficient:4.61,percent:19, odd1: 1.65,oddX: 3.58,odd2: 5.58; ---> lost\n",
            "EfdjcuZ3eEJdTGkN0MQVQBk6r2g=<===>lost<===>0.24632487777311743<===>0.4032753665215197\n"
          ],
          "name": "stdout"
        },
        {
          "output_type": "stream",
          "text": [
            "127.0.0.1 - - [07/Jun/2021 07:07:10] \"\u001b[37mGET /?championat=Sweden&coefficient=8.56&event=EH+-3&id=C7NpNw0CQVYcRqUeZXu4HtHonrQ%3D&league=Superettan&odd1=1.9&odd2=3.96&oddX=3.38&percent=19&sport=Soccer&status=X HTTP/1.1\u001b[0m\" 200 -\n"
          ],
          "name": "stderr"
        },
        {
          "output_type": "stream",
          "text": [
            "07 06 2021, 07:07   id:C7NpNw0CQVYcRqUeZXu4HtHonrQ=,sport:Soccer,championat:Sweden,league:Superettan,event:EH -3,status:X,coefficient:8.56,percent:19, odd1: 1.9,oddX: 3.38,odd2: 3.96; ---> lost\n",
            "C7NpNw0CQVYcRqUeZXu4HtHonrQ=<===>lost<===>0.057101273525295426<===>0.4032753665215197\n"
          ],
          "name": "stdout"
        },
        {
          "output_type": "stream",
          "text": [
            "127.0.0.1 - - [07/Jun/2021 07:08:17] \"\u001b[37mGET /?championat=World&coefficient=1.65&event=O%2FU+4.5&id=yiSVuzn9Y7h5qhpgZ2CckrzFHwE%3D&league=World+Cup+2022&odd1=1.02&odd2=44.36&oddX=16.58&percent=19&sport=Soccer&status=Over HTTP/1.1\u001b[0m\" 200 -\n"
          ],
          "name": "stderr"
        },
        {
          "output_type": "stream",
          "text": [
            "07 06 2021, 07:08   id:yiSVuzn9Y7h5qhpgZ2CckrzFHwE=,sport:Soccer,championat:World,league:World Cup 2022,event:O/U 4.5,status:Over,coefficient:1.65,percent:19, odd1: 1.02,oddX: 16.58,odd2: 44.36; ---> won\n",
            "yiSVuzn9Y7h5qhpgZ2CckrzFHwE=<===>won<===>0.7408177551821457<===>0.4032753665215197\n"
          ],
          "name": "stdout"
        },
        {
          "output_type": "stream",
          "text": [
            "127.0.0.1 - - [07/Jun/2021 07:08:22] \"\u001b[37mGET /?championat=Chile&coefficient=1.51&event=1X2&id=SIVAKlKzCBH_G_37njMVgokKzzw%3D&league=Primera+B&odd1=1.97&odd2=3.58&oddX=3.25&percent=19&sport=Soccer&status=1 HTTP/1.1\u001b[0m\" 200 -\n"
          ],
          "name": "stderr"
        },
        {
          "output_type": "stream",
          "text": [
            "07 06 2021, 07:08   id:SIVAKlKzCBH_G_37njMVgokKzzw=,sport:Soccer,championat:Chile,league:Primera B,event:1X2,status:1,coefficient:1.51,percent:19, odd1: 1.97,oddX: 3.25,odd2: 3.58; ---> won\n",
            "SIVAKlKzCBH_G_37njMVgokKzzw=<===>won<===>0.8106322671407182<===>0.4032753665215197\n"
          ],
          "name": "stdout"
        },
        {
          "output_type": "stream",
          "text": [
            "127.0.0.1 - - [07/Jun/2021 07:08:26] \"\u001b[37mGET /?championat=World&coefficient=10.11&event=1X2&id=n7wAxOqXwrMQ7nO9nXrN3UO-WbU%3D&league=World+Cup+2022&odd1=1.06&odd2=24.83&oddX=10.64&percent=18&sport=Soccer&status=X HTTP/1.1\u001b[0m\" 200 -\n"
          ],
          "name": "stderr"
        },
        {
          "output_type": "stream",
          "text": [
            "07 06 2021, 07:08   id:n7wAxOqXwrMQ7nO9nXrN3UO-WbU=,sport:Soccer,championat:World,league:World Cup 2022,event:1X2,status:X,coefficient:10.11,percent:18, odd1: 1.06,oddX: 10.64,odd2: 24.83; ---> lost\n",
            "n7wAxOqXwrMQ7nO9nXrN3UO-WbU=<===>lost<===>0.4194513599926428<===>0.4032753665215197\n"
          ],
          "name": "stdout"
        },
        {
          "output_type": "stream",
          "text": [
            "127.0.0.1 - - [07/Jun/2021 07:16:53] \"\u001b[37mGET /?championat=World&coefficient=4.3&event=AH+-0.25&id=YiWQjiXp_2ukdvi4wql9_h6OEw0%3D&league=World+Cup+2022&odd1=1.43&odd2=6.16&oddX=4.45&percent=22&sport=Soccer&status=2 HTTP/1.1\u001b[0m\" 200 -\n"
          ],
          "name": "stderr"
        },
        {
          "output_type": "stream",
          "text": [
            "07 06 2021, 07:16   id:YiWQjiXp_2ukdvi4wql9_h6OEw0=,sport:Soccer,championat:World,league:World Cup 2022,event:AH -0.25,status:2,coefficient:4.3,percent:22, odd1: 1.43,oddX: 4.45,odd2: 6.16; ---> lost\n",
            "YiWQjiXp_2ukdvi4wql9_h6OEw0=<===>lost<===>0.44841847724165546<===>0.4032753665215197\n"
          ],
          "name": "stdout"
        },
        {
          "output_type": "stream",
          "text": [
            "127.0.0.1 - - [07/Jun/2021 07:16:58] \"\u001b[37mGET /?championat=Brazil&coefficient=3.39&event=1X2&id=GUP2DQgdXv4B1eBVstPSnx_LEuM%3D&league=Serie+C&odd1=1.91&odd2=4.5&oddX=2.84&percent=22&sport=Soccer&status=2 HTTP/1.1\u001b[0m\" 200 -\n"
          ],
          "name": "stderr"
        },
        {
          "output_type": "stream",
          "text": [
            "07 06 2021, 07:16   id:GUP2DQgdXv4B1eBVstPSnx_LEuM=,sport:Soccer,championat:Brazil,league:Serie C,event:1X2,status:2,coefficient:3.39,percent:22, odd1: 1.91,oddX: 2.84,odd2: 4.5; ---> lost\n",
            "GUP2DQgdXv4B1eBVstPSnx_LEuM=<===>lost<===>0.260473793385399<===>0.4032753665215197\n"
          ],
          "name": "stdout"
        },
        {
          "output_type": "stream",
          "text": [
            "127.0.0.1 - - [07/Jun/2021 07:17:04] \"\u001b[37mGET /?championat=Argentina&coefficient=2.23&event=AH+-0.25&id=9PEEfIhCVHPO9YfZSZs77r6Y03E%3D&league=Primera+B&odd1=1.59&odd2=5.16&oddX=3.69&percent=21&sport=Soccer&status=2 HTTP/1.1\u001b[0m\" 200 -\n"
          ],
          "name": "stderr"
        },
        {
          "output_type": "stream",
          "text": [
            "07 06 2021, 07:17   id:9PEEfIhCVHPO9YfZSZs77r6Y03E=,sport:Soccer,championat:Argentina,league:Primera B,event:AH -0.25,status:2,coefficient:2.23,percent:21, odd1: 1.59,oddX: 3.69,odd2: 5.16; ---> lost\n",
            "9PEEfIhCVHPO9YfZSZs77r6Y03E=<===>lost<===>0.3982831344560134<===>0.4032753665215197\n"
          ],
          "name": "stdout"
        },
        {
          "output_type": "stream",
          "text": [
            "127.0.0.1 - - [07/Jun/2021 07:17:08] \"\u001b[37mGET /?championat=World&coefficient=2.91&event=AH+-1.75&id=vuJzeTdsOc_wHVN3s_aAG2OqQHc%3D&league=World+Cup+2022&odd1=1.06&odd2=24.83&oddX=10.64&percent=20&sport=Soccer&status=2 HTTP/1.1\u001b[0m\" 200 -\n"
          ],
          "name": "stderr"
        },
        {
          "output_type": "stream",
          "text": [
            "07 06 2021, 07:17   id:vuJzeTdsOc_wHVN3s_aAG2OqQHc=,sport:Soccer,championat:World,league:World Cup 2022,event:AH -1.75,status:2,coefficient:2.91,percent:20, odd1: 1.06,oddX: 10.64,odd2: 24.83; ---> lost\n",
            "vuJzeTdsOc_wHVN3s_aAG2OqQHc=<===>lost<===>0.3993897207982361<===>0.4032753665215197\n"
          ],
          "name": "stdout"
        },
        {
          "output_type": "stream",
          "text": [
            "127.0.0.1 - - [07/Jun/2021 07:17:12] \"\u001b[37mGET /?championat=Sweden&coefficient=2.71&event=AH+-1.25&id=Qs51dTFiKkSYyLXx_yuNH6N-J-s%3D&league=Superettan&odd1=1.9&odd2=3.96&oddX=3.38&percent=20&sport=Soccer&status=1 HTTP/1.1\u001b[0m\" 200 -\n"
          ],
          "name": "stderr"
        },
        {
          "output_type": "stream",
          "text": [
            "07 06 2021, 07:17   id:Qs51dTFiKkSYyLXx_yuNH6N-J-s=,sport:Soccer,championat:Sweden,league:Superettan,event:AH -1.25,status:1,coefficient:2.71,percent:20, odd1: 1.9,oddX: 3.38,odd2: 3.96; ---> lost\n",
            "Qs51dTFiKkSYyLXx_yuNH6N-J-s=<===>lost<===>0.18363491318941014<===>0.4032753665215197\n"
          ],
          "name": "stdout"
        },
        {
          "output_type": "stream",
          "text": [
            "127.0.0.1 - - [07/Jun/2021 07:17:16] \"\u001b[37mGET /?championat=World&coefficient=2.15&event=AH+-2.25&id=1fNjVs4xtcw4w8PCm8Mk-xFwDDk%3D&league=World+Cup+2022&odd1=1.06&odd2=24.83&oddX=10.64&percent=19&sport=Soccer&status=2 HTTP/1.1\u001b[0m\" 200 -\n"
          ],
          "name": "stderr"
        },
        {
          "output_type": "stream",
          "text": [
            "07 06 2021, 07:17   id:1fNjVs4xtcw4w8PCm8Mk-xFwDDk=,sport:Soccer,championat:World,league:World Cup 2022,event:AH -2.25,status:2,coefficient:2.15,percent:19, odd1: 1.06,oddX: 10.64,odd2: 24.83; ---> lost\n",
            "1fNjVs4xtcw4w8PCm8Mk-xFwDDk=<===>lost<===>0.27803310321032443<===>0.4032753665215197\n"
          ],
          "name": "stdout"
        },
        {
          "output_type": "stream",
          "text": [
            "127.0.0.1 - - [07/Jun/2021 07:17:20] \"\u001b[37mGET /?championat=Sweden&coefficient=3.1&event=AH+-1.5&id=MFsl6yU6DNfJ9eL4ULG_8Ohv2e4%3D&league=Superettan&odd1=1.9&odd2=3.96&oddX=3.38&percent=19&sport=Soccer&status=1 HTTP/1.1\u001b[0m\" 200 -\n"
          ],
          "name": "stderr"
        },
        {
          "output_type": "stream",
          "text": [
            "07 06 2021, 07:17   id:MFsl6yU6DNfJ9eL4ULG_8Ohv2e4=,sport:Soccer,championat:Sweden,league:Superettan,event:AH -1.5,status:1,coefficient:3.1,percent:19, odd1: 1.9,oddX: 3.38,odd2: 3.96; ---> lost\n",
            "MFsl6yU6DNfJ9eL4ULG_8Ohv2e4=<===>lost<===>0.18763539271934276<===>0.4032753665215197\n"
          ],
          "name": "stdout"
        },
        {
          "output_type": "stream",
          "text": [
            "127.0.0.1 - - [07/Jun/2021 07:17:24] \"\u001b[37mGET /?championat=World&coefficient=11.08&event=EH+%2B1&id=p1cSYRcqybjEBRvqtLsdb-NTDjo%3D&league=Friendly+International&odd1=2.13&odd2=3.62&oddX=3.13&percent=18&sport=Soccer&status=2 HTTP/1.1\u001b[0m\" 200 -\n"
          ],
          "name": "stderr"
        },
        {
          "output_type": "stream",
          "text": [
            "07 06 2021, 07:17   id:p1cSYRcqybjEBRvqtLsdb-NTDjo=,sport:Soccer,championat:World,league:Friendly International,event:EH +1,status:2,coefficient:11.08,percent:18, odd1: 2.13,oddX: 3.13,odd2: 3.62; ---> lost\n",
            "p1cSYRcqybjEBRvqtLsdb-NTDjo=<===>lost<===>0.04087484202800032<===>0.4032753665215197\n"
          ],
          "name": "stdout"
        },
        {
          "output_type": "stream",
          "text": [
            "127.0.0.1 - - [07/Jun/2021 07:17:28] \"\u001b[37mGET /?championat=Brazil&coefficient=2.31&event=AH+0&id=B9P2BxYIRwFkFwlus-uenLfAec8%3D&league=Serie+C&odd1=1.91&odd2=4.5&oddX=2.84&percent=18&sport=Soccer&status=2 HTTP/1.1\u001b[0m\" 200 -\n"
          ],
          "name": "stderr"
        },
        {
          "output_type": "stream",
          "text": [
            "07 06 2021, 07:17   id:B9P2BxYIRwFkFwlus-uenLfAec8=,sport:Soccer,championat:Brazil,league:Serie C,event:AH 0,status:2,coefficient:2.31,percent:18, odd1: 1.91,oddX: 2.84,odd2: 4.5; ---> lost\n",
            "B9P2BxYIRwFkFwlus-uenLfAec8=<===>lost<===>0.4137207065510219<===>0.4032753665215197\n"
          ],
          "name": "stdout"
        },
        {
          "output_type": "stream",
          "text": [
            "127.0.0.1 - - [07/Jun/2021 07:32:16] \"\u001b[37mGET /test HTTP/1.1\u001b[0m\" 200 -\n"
          ],
          "name": "stderr"
        },
        {
          "output_type": "stream",
          "text": [
            "Connected!\n"
          ],
          "name": "stdout"
        }
      ]
    },
    {
      "cell_type": "code",
      "metadata": {
        "id": "p7KG7MFD8Kx-"
      },
      "source": [],
      "execution_count": null,
      "outputs": []
    }
  ]
}